{
 "cells": [
  {
   "cell_type": "markdown",
   "id": "a6418743-3dd6-48e4-83ab-b1bb0c0689d0",
   "metadata": {},
   "source": [
    "![Wherobots logo](../assets/img/header-logo.png)\n",
    "\n",
    "# WherobotsAI Map Matching\n",
    "\n",
    "In this notebook we introduce Wherobots Map Matching, a library for creating map applications with large scale geospatial data. Map matching is a crucial step in many transportation analyses, aligning a sequence of observed user positions (usually from GPS) onto a digital map. This identifies the most likely sequence of roads that a vehicle has traversed. \n",
    "\n",
    "We will explore matching noisy GPS trajectory data to road segments using OpenStreetMap (OSM) road network data. [Read more about Wherobots Map Matching in the Wherobots documentation.](https://docs.wherobots.com/latest/tutorials/wherobotsai/map-matching/map_matching/)\n"
   ]
  },
  {
   "cell_type": "markdown",
   "id": "3913aba4",
   "metadata": {},
   "source": [
    "## Define Sedona context"
   ]
  },
  {
   "cell_type": "code",
   "execution_count": null,
   "id": "69163745",
   "metadata": {},
   "outputs": [],
   "source": [
    "import json\n",
    "from shapely.geometry import LineString\n",
    "from pyspark.sql.window import Window\n",
    "from pyspark.sql.functions import col, expr, udf, collect_list, struct, row_number, lit\n",
    "from sedona.spark import *\n",
    "\n",
    "config = SedonaContext.builder().getOrCreate()\n",
    "sedona = SedonaContext.create(config)"
   ]
  },
  {
   "cell_type": "markdown",
   "id": "da17a10b",
   "metadata": {},
   "source": [
    "## Load OpenStreetMap road data\n",
    "\n",
    "We will call `load_osm` for the road network we will match against. Whereobots Map Matcher uses OSM's XML file format to load detailed, open source road network data. We've got a sample dataset for the Ann Arbor, Michigan area that we will use. The `[car]` parameter tells `matcher` to filter anything out of the network that is not big enough for motor vehicle traffic."
   ]
  },
  {
   "cell_type": "code",
   "execution_count": null,
   "id": "3a86a705",
   "metadata": {},
   "outputs": [],
   "source": [
    "from wherobots import matcher\n",
    "\n",
    "roads_df = matcher.load_osm(\"s3://wherobots-examples/data/osm_AnnArbor_large.xml\", \"[car]\")\n",
    "\n",
    "roads_df.show(10)"
   ]
  },
  {
   "cell_type": "markdown",
   "id": "2d293de7",
   "metadata": {},
   "source": [
    "### Load sample GPS tracking data from VED\n",
    "\n",
    "For this analysis, we're leveraging the [Vehicle Energy Dataset (VED)](https://github.com/gsoh/VED). VED is a comprehensive dataset capturing one year of GPS trajectories for 383 vehicles (including gasoline vehicles, HEVs, and PHEV/EVs) in the Ann Arbor area. The data spans about 374,000 miles/600,000 km and includes details on fuel, energy, speed, and auxiliary power usage. Driving scenarios cover diverse conditions, from highways to traffic-dense downtown areas and across four seasons.\n",
    "\n",
    "> Source: \"Vehicle Energy Dataset (VED), A Large-scale Dataset for Vehicle Energy Consumption Research\" by Geunseob (GS) Oh, David J. LeBlanc, Huei Peng. Published in IEEE Transactions on Intelligent Transportation Systems (T-ITS), 2020.\n",
    "\n",
    "Each row in the dataset represents a spatial-temporal point of one vehicle's journey. We are going to use these five columns:\n",
    "\n",
    "- VehId — Vehicle ID\n",
    "- Trip — Trip ID; unique per vehicle\n",
    "- Timestamp(ms)\n",
    "- Latitude[deg]\n",
    "- Longitude[deg]"
   ]
  },
  {
   "cell_type": "code",
   "execution_count": null,
   "id": "a1abe74f-0313-4c7f-888f-136015972920",
   "metadata": {},
   "outputs": [],
   "source": [
    "gps_tracks_df = sedona.read.csv(\"s3://wherobots-examples/data/VED_171101_week.csv\", header=True, inferSchema=True)\n",
    "gps_tracks_df = gps_tracks_df.select(['VehId', 'Trip', 'Timestamp(ms)','Latitude[deg]', 'Longitude[deg]'])\n",
    "\n",
    "gps_tracks_df.show(10)"
   ]
  },
  {
   "cell_type": "markdown",
   "id": "1b515bc7-0a40-4914-a647-b3645718a560",
   "metadata": {},
   "source": [
    "## Aggregate GPS points into LineString geometries\n",
    "\n",
    "The combination of VehId and Trip together form a unique key for our dataset. This combination allows us to isolate individual vehicle trajectories. Every unique pair signifies a specific trajectory of a vehicle. Raw GPS points, while valuable, can be scattered, redundant, and lack context when viewed independently. By organizing these individual points into coherent trajectories represented by LineString geometries, we enhance our ability to interpret, analyze, and apply the data in meaningful ways.\n",
    "\n",
    "A `groupBy` operation on 'VehId' and 'Trip' isolates each trip, a LineString representing the vehicle's course. We sort the rows by timestamps so the LineString follows the correct order of the GPS data points.\n",
    "\n",
    "We'll write a `rows_to_linestring` function for Spark to process Sedona DataFrame rows into LineString geometries, then collect them in a new DataFrame, `trips_df`.\n",
    "\n",
    "Finally, we'll give each trip a unique ID using `row_number`."
   ]
  },
  {
   "cell_type": "code",
   "execution_count": null,
   "id": "881e82dc-08e4-4b37-956f-d8b495d21b93",
   "metadata": {},
   "outputs": [],
   "source": [
    "def rows_to_linestring(rows):\n",
    "    sorted_rows = sorted(rows, key=lambda x: x['Timestamp(ms)'])\n",
    "    coords = [(row['Longitude[deg]'], row['Latitude[deg]']) for row in sorted_rows]\n",
    "    linestring = LineString(coords)\n",
    "    return linestring\n",
    "\n",
    "linestring_udf = udf(rows_to_linestring, GeometryType())\n",
    "\n",
    "trips_df = (gps_tracks_df\n",
    "            .groupBy(\"VehId\", \"Trip\")\n",
    "            .agg(collect_list(struct(\"Timestamp(ms)\", \"Latitude[deg]\", \"Longitude[deg]\")).alias(\"coords\"))\n",
    "            .withColumn(\"geometry\", linestring_udf(\"coords\"))\n",
    "           )\n",
    "\n",
    "window_spec = Window.partitionBy(lit(5)).orderBy(\"VehId\", \"Trip\")\n",
    "trips_df = trips_df.withColumn(\"ids\", row_number().over(window_spec) - 1)\n",
    "trips_df = trips_df.filter(trips_df['ids'] < 100) # Filter to 100 trips because this is an example notebook; no need to be exhaustive\n",
    "trips_df = trips_df.select(\"ids\", \"VehId\", \"Trip\", \"coords\", \"geometry\")\n",
    "\n",
    "trips_df.show()"
   ]
  },
  {
   "cell_type": "markdown",
   "id": "9176442c-3e34-4ca1-97b7-229c95a87b59",
   "metadata": {},
   "source": [
    "## Perform Map Matching\n",
    "\n",
    "Finally, we will pass the road network and the aggregated trips into `matcher`, and tell it the name of the relevant columns (`geometry` in both tables).\n",
    "\n",
    "- **ids**: A unique identifier for each trajectory, representing a distinct vehicle journey.\n",
    "- **observed_points**: Represents the original GPS trajectories. These are the linestrings formed from the raw GPS points collected during each vehicle journey.\n",
    "- **matched_points**: The processed trajectories post map-matching. These linestrings are aligned onto the actual road network, correcting for any GPS inaccuracies.\n",
    "- **matched_nodes**: A list of node identifiers from the road network that the matched trajectory passes through. These nodes correspond to intersections, turns, or other significant points in the road network."
   ]
  },
  {
   "cell_type": "code",
   "execution_count": null,
   "id": "ad223bde-3db2-4710-ae59-42a339c51d95",
   "metadata": {},
   "outputs": [],
   "source": [
    "sedona.conf.set(\"wherobots.tools.mm.maxdist\", \"100\")\n",
    "sedona.conf.set(\"wherobots.tools.mm.maxdistinit\", \"100\")\n",
    "sedona.conf.set(\"wherobots.tools.mm.obsnoise\", \"40\")\n",
    "\n",
    "matched_routes_df = matcher.match(roads_df, trips_df, \"geometry\", \"geometry\")\n",
    "\n",
    "matched_routes_df.show()"
   ]
  },
  {
   "cell_type": "markdown",
   "id": "2f54472c-d309-4e95-ae8a-44a5a61a0e5b",
   "metadata": {},
   "source": [
    "## Visualize the result using SedonaKepler\n",
    "\n",
    "The `map_config.json` file specifies the bounding box and how to draw the road network and the source and matched routes."
   ]
  },
  {
   "cell_type": "code",
   "execution_count": null,
   "id": "edb95cfd-4dcb-4e94-bb8e-b6dfcc198adc",
   "metadata": {},
   "outputs": [],
   "source": [
    "with open('assets/conf/map_config.json', 'r') as file:\n",
    "    map_config = json.load(file)\n",
    "    \n",
    "viz = SedonaKepler.create_map()\n",
    "\n",
    "SedonaKepler.add_df(viz, roads_df.select(\"geometry\"), name=\"Road Network\")\n",
    "SedonaKepler.add_df(viz, matched_routes_df.selectExpr(\"observed_points AS geometry\", \"ids AS trip_id\"), name=\"Observed Points\")\n",
    "SedonaKepler.add_df(viz, matched_routes_df.selectExpr(\"matched_points AS geometry\", \"ids AS trip_id\"), name=\"Matched Points\")\n",
    "viz.config = map_config\n",
    "\n",
    "viz"
   ]
  }
 ],
 "metadata": {
  "kernelspec": {
   "display_name": "Python 3 (ipykernel)",
   "language": "python",
   "name": "python3"
  },
  "language_info": {
   "codemirror_mode": {
    "name": "ipython",
    "version": 3
   },
   "file_extension": ".py",
   "mimetype": "text/x-python",
   "name": "python",
   "nbconvert_exporter": "python",
   "pygments_lexer": "ipython3"
  }
 },
 "nbformat": 4,
 "nbformat_minor": 5
}
