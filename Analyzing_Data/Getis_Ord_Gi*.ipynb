{
 "cells": [
  {
   "cell_type": "markdown",
   "id": "b9c9cad6225b4077",
   "metadata": {},
   "source": [
    "![](https://wherobots.com/wp-content/uploads/2023/12/Inline-Blue_Black_onWhite@3x.png)\n",
    "\n",
    "# Getis Ord Gi* Example\n",
    "Getis  and Ord's Gi and Gi* statistics are popular statistical approaches for finding statistically significant hot and cold spots across space. It compares the value of some numerical variable of a spatial record with those of the neighboring records. The nature of these neighborhoods is controlled by the user. \n",
    "\n",
    "In this example, we will use the Gi* statistic on the Overture places data to identify regions of high and lower \"density\". For this exercises we assume that more places data indicates higher density.\n"
   ]
  },
  {
   "cell_type": "markdown",
   "id": "ecb60c51-4649-4d99-8356-7f17548447a0",
   "metadata": {},
   "source": [
    "## Configuration\n",
    "We configure here the size of the neighborhood, the region in which we want to generate statistics, and the resolution of the grid cells we will generate. Today we will perform this exercise for the region around Seattle and Bellevue, Washington. A good analysis here should reveal the urban core of Seattle and downtowns of Bellevue, Redmond, Kirkland, and Issaquah.\n",
    "\n",
    "With a larger cluster we can set region to None and generate this data for the entire world.\n",
    "\n",
    "For the neighbor radius, we want a value that gives each cell a substantial number of neighbors (maybe at least 10), but does not allow the degree of density in downtown Seattle to obscure Issaquah's downtown. It's about finding a balance between generating an accurate and powerful statistic and achieving sufficiently local results.\n",
    "\n",
    "For the zoom level, we want cells that are small enough to resolve the phenomena we are searching for but large enough such that each cell's statistic is not due to randomness in the spatial distribution of places. Imagine cells that are so small that they are could be contained by the roadway. Each cell might show only 1 or 0 places, which is not going to reveal the trends we are looking for.\n",
    "\n",
    "Selecting these parameters can require some trial and error, and perhaps domain knowledge. We will show some of that selection process in this notebook.\n"
   ]
  },
  {
   "cell_type": "code",
   "execution_count": null,
   "id": "121abd85-9620-42a2-b02b-6bf05f58d7e8",
   "metadata": {},
   "outputs": [],
   "source": [
    "region = \"POLYGON ((-122.380829 47.870302, -122.048492 47.759637, -121.982574 47.531111, -122.408295 47.50978, -122.44812 47.668162, -122.380829 47.870302))\"\n",
    "neighbor_search_radius_degrees = .01\n",
    "h3_zoom_level = 8"
   ]
  },
  {
   "cell_type": "markdown",
   "id": "6ec0772a-10af-46f3-8865-eef698ff1306",
   "metadata": {},
   "source": [
    "## Spark Initialization\n",
    "We will use Spark to run the Gi* algorithm. We initialize a Spark session with Sedona.\n"
   ]
  },
  {
   "cell_type": "code",
   "execution_count": null,
   "id": "8201d8e7-3ce4-4903-875f-36a5e6532e20",
   "metadata": {},
   "outputs": [],
   "source": [
    "from sedona.spark import *\n",
    "\n",
    "config = SedonaContext.builder().getOrCreate()\n",
    "sedona = SedonaContext.create(config)"
   ]
  },
  {
   "cell_type": "markdown",
   "id": "253f72f4-da05-4298-bb4f-880d1a1f11fd",
   "metadata": {},
   "source": [
    "## Filtering and Aggregation\n",
    "In this notebook we assign an H3 cell to each record and filter down to only the region of interest. We aggregate the places data by the cell idenitier and find the number of places in each cell.\n"
   ]
  },
  {
   "cell_type": "code",
   "execution_count": null,
   "id": "5f25b1c0-5b59-49ec-b830-18535294f9fe",
   "metadata": {},
   "outputs": [],
   "source": [
    "import pyspark.sql.functions as f\n",
    "places_df = (\n",
    "    sedona.table(\"wherobots_open_data.overture_2024_07_22.places_place\")\n",
    "        .select(f.col(\"geometry\"), f.col(\"categories\"))\n",
    "        .withColumn(\"h3Cell\", ST_H3CellIDs(f.col(\"geometry\"), h3_zoom_level, False)[0])\n",
    ")\n",
    "\n",
    "if region is not None:\n",
    "    places_df = places_df.filter(ST_Intersects(ST_GeomFromText(f.lit(region)), f.col(\"geometry\"))).repartition(100)\n",
    "\n",
    "\n",
    "hexes_df = (\n",
    "    places_df\n",
    "        .groupBy(f.col(\"h3Cell\"))\n",
    "        .agg(f.count(\"*\").alias(\"num_places\")) # how many places in this cell\n",
    "        .withColumn(\"geometry\", ST_H3ToGeom(f.array(f.col(\"h3Cell\")))[0])\n",
    ")"
   ]
  },
  {
   "cell_type": "markdown",
   "id": "8a2f2683-2c26-428a-8a48-5f80e0b7ea46",
   "metadata": {},
   "source": [
    "## Sanity Check our Variable\n",
    "We want to make sure we have a good distribution of values in our variable that we will analyze. Specifically we are ensuring that our cells are not too small which would be indicated by the places counts all being very low. We generate deciles here to make sure that there is some good range of these values. An extreme negative example would be if these values were all zero and one.\n"
   ]
  },
  {
   "cell_type": "code",
   "execution_count": null,
   "id": "c90fa6af-024f-41f1-a3bf-8663b512cb4c",
   "metadata": {},
   "outputs": [],
   "source": [
    "hexes_df.select(f.percentile_approx(\"num_places\", [x / 10.0 for x in range(11)])).collect()[0][0]"
   ]
  },
  {
   "cell_type": "markdown",
   "id": "6b516f69-9635-4ba2-ad94-5618b223908d",
   "metadata": {},
   "source": [
    "## Generate our Gi* statistic\n",
    "\n",
    "Finally, we generate our statistic. There are a lot of variables to fine tune here; these are explained in the API documentation. Here we use the most typical parameters. The exception is the search radius which is always domain specific.\n",
    "\n",
    "The output here will show us, among other things, a Z score and P value. A Z score shows how many standard deviations from the mean of the neighborhood the value is and the P score tells us the chance that value is from random variation rather than an actual phenomenon.\n",
    "\n"
   ]
  },
  {
   "cell_type": "code",
   "execution_count": null,
   "id": "eccd4e89-719d-4d16-813e-2243d1e63a34",
   "metadata": {},
   "outputs": [],
   "source": [
    "from sedona.stats.hotspot_detection.getis_ord import g_local\n",
    "from sedona.stats.weighting import add_binary_distance_band_column\n",
    "\n",
    "\n",
    "gi_df = g_local(\n",
    "    add_binary_distance_band_column(\n",
    "        hexes_df,\n",
    "        neighbor_search_radius_degrees,\n",
    "        include_self=True,\n",
    "    ),\n",
    "    \"num_places\",\n",
    "    \"weights\",\n",
    "    star=True\n",
    ").cache()\n",
    "\n",
    "gi_df.drop(\"weights\", \"h3Cell\", \"geometry\").orderBy(f.col(\"P\").asc()).show()"
   ]
  },
  {
   "cell_type": "markdown",
   "id": "34f7869c-0928-4827-94b2-27e5e0dec7c1",
   "metadata": {},
   "source": [
    "## Visualize\n",
    "Now we plot our statistics in Kepler. Once Kepler is rendered, you can color the cells by Z score and set the number of bands to 10 with the color palette that goes from blue to red. the bluest are the cold spots and reddest hottest."
   ]
  },
  {
   "cell_type": "code",
   "execution_count": null,
   "id": "f7aa4843-39b1-49b6-b1c5-598ef27e2b15",
   "metadata": {},
   "outputs": [],
   "source": [
    "from sedona.maps.SedonaKepler import SedonaKepler\n",
    "\n",
    "kmap = SedonaKepler.create_map(places_df, \"places\")\n",
    "\n",
    "SedonaKepler.add_df(\n",
    "    kmap,\n",
    "    gi_df.drop(\"weights\"),\n",
    "    \"cells\"\n",
    ")\n",
    "\n",
    "kmap"
   ]
  }
 ],
 "metadata": {
  "kernelspec": {
   "display_name": "Python 3 (ipykernel)",
   "language": "python",
   "name": "python3"
  },
  "language_info": {
   "codemirror_mode": {
    "name": "ipython",
    "version": 3
   },
   "file_extension": ".py",
   "mimetype": "text/x-python",
   "name": "python",
   "nbconvert_exporter": "python",
   "pygments_lexer": "ipython3"
  }
 },
 "nbformat": 4,
 "nbformat_minor": 5
}
