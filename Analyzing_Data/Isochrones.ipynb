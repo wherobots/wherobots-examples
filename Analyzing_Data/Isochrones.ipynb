{
 "cells": [
  {
   "cell_type": "markdown",
   "id": "b4301c7c-8c75-4b65-b193-f5599e01e6b0",
   "metadata": {},
   "source": [
    "![](https://wherobots.com/wp-content/uploads/2023/12/Inline-Blue_Black_onWhite.png)\n",
    "# Isochrone Generation Example\n",
    "Isochrones are a type of _iso line_—a contour that connects points sharing the same value. While contour lines link points of equal elevation and isotherms connect equal temperatures, isochrones outline regions that are reachable within a specific amount of travel time. They're commonly used to answer questions like: How far can I drive from here in 15 minutes? or Which neighborhoods are within a 10-minute walk of a school?\n",
    "\n",
    "In this example we will generate `10`, `20`, and `30` minute isochrones for all the fire stations in California. Then we will left join the California places overture table to those isochrones to label them as being within 10/20/30/>30 minutes from a fire station. Finally we will generate clusters with DBSCAN to determine if there are regions where a firestation might be useful"
   ]
  },
  {
   "cell_type": "markdown",
   "id": "4b51b6e0-e199-4242-a3ca-0cdd3a636588",
   "metadata": {},
   "source": [
    "## Define Sedona Context"
   ]
  },
  {
   "cell_type": "code",
   "execution_count": 2,
   "id": "0442e196-7204-4f28-8d31-1324dba0afb6",
   "metadata": {
    "execution": {
     "iopub.execute_input": "2025-03-25T20:18:27.172926Z",
     "iopub.status.busy": "2025-03-25T20:18:27.172695Z",
     "iopub.status.idle": "2025-03-25T20:21:46.441717Z",
     "shell.execute_reply": "2025-03-25T20:21:46.440765Z",
     "shell.execute_reply.started": "2025-03-25T20:18:27.172911Z"
    }
   },
   "outputs": [
    {
     "name": "stderr",
     "output_type": "stream",
     "text": [
      "Setting default log level to \"WARN\".\n",
      "To adjust logging level use sc.setLogLevel(newLevel). For SparkR, use setLogLevel(newLevel).\n",
      "                                                                                \r"
     ]
    }
   ],
   "source": [
    "from sedona.spark import *\n",
    "from  wherobots.sql.st_functions import ST_Isochrones\n",
    "import pyspark.sql.functions as f\n",
    "import os\n",
    "\n",
    "config = SedonaContext.builder().getOrCreate()\n",
    "sedona = SedonaContext.create(config)\n"
   ]
  },
  {
   "cell_type": "markdown",
   "id": "ba5ffc7a-6827-47a5-93f0-10d4c29e6ba0",
   "metadata": {},
   "source": [
    "## Initialize Data\n",
    "\n",
    "Lets get all the places from Overture in California. Then we will also filter down to just those that are fire departments."
   ]
  },
  {
   "cell_type": "code",
   "execution_count": 6,
   "id": "b4066718-d002-43cb-bc78-e277c0acfead",
   "metadata": {
    "execution": {
     "iopub.execute_input": "2025-03-25T20:35:49.418045Z",
     "iopub.status.busy": "2025-03-25T20:35:49.417920Z",
     "iopub.status.idle": "2025-03-25T20:35:51.699065Z",
     "shell.execute_reply": "2025-03-25T20:35:51.698468Z",
     "shell.execute_reply.started": "2025-03-25T20:35:49.418031Z"
    }
   },
   "outputs": [
    {
     "name": "stderr",
     "output_type": "stream",
     "text": [
      "                                                                                \r"
     ]
    },
    {
     "data": {
      "text/plain": [
       "1857"
      ]
     },
     "execution_count": 6,
     "metadata": {},
     "output_type": "execute_result"
    }
   ],
   "source": [
    "ca_polygon = \"POLYGON((-124.4009 41.9983,-123.6237 42.0024,-123.1526 42.0126,-122.0073 42.0075,-121.2369 41.9962,-119.9982 41.9983,-120.0037 39.0021,-117.9575 37.5555,-116.3699 36.3594,-114.6368 35.0075,-114.6382 34.9659,-114.6286 34.9107,-114.6382 34.8758,-114.5970 34.8454,-114.5682 34.7890,-114.4968 34.7269,-114.4501 34.6648,-114.4597 34.6581,-114.4322 34.5869,-114.3787 34.5235,-114.3869 34.4601,-114.3361 34.4500,-114.3031 34.4375,-114.2674 34.4024,-114.1864 34.3559,-114.1383 34.3049,-114.1315 34.2561,-114.1651 34.2595,-114.2249 34.2044,-114.2221 34.1914,-114.2908 34.1720,-114.3237 34.1368,-114.3622 34.1186,-114.4089 34.1118,-114.4363 34.0856,-114.4336 34.0276,-114.4652 34.0117,-114.5119 33.9582,-114.5366 33.9308,-114.5091 33.9058,-114.5256 33.8613,-114.5215 33.8248,-114.5050 33.7597,-114.4940 33.7083,-114.5284 33.6832,-114.5242 33.6363,-114.5393 33.5895,-114.5242 33.5528,-114.5586 33.5311,-114.5778 33.5070,-114.6245 33.4418,-114.6506 33.4142,-114.7055 33.4039,-114.6973 33.3546,-114.7302 33.3041,-114.7206 33.2858,-114.6808 33.2754,-114.6698 33.2582,-114.6904 33.2467,-114.6794 33.1720,-114.7083 33.0904,-114.6918 33.0858,-114.6629 33.0328,-114.6451 33.0501,-114.6286 33.0305,-114.5888 33.0282,-114.5750 33.0351,-114.5174 33.0328,-114.4913 32.9718,-114.4775 32.9764,-114.4844 32.9372,-114.4679 32.8427,-114.5091 32.8161,-114.5311 32.7850,-114.5284 32.7573,-114.5641 32.7503,-114.6162 32.7353,-114.6986 32.7480,-114.7220 32.7191,-115.1944 32.6868,-117.3395 32.5121,-117.4823 32.7838,-117.5977 33.0501,-117.6814 33.2341,-118.0591 33.4578,-118.6290 33.5403,-118.7073 33.7928,-119.3706 33.9582,-120.0050 34.1925,-120.7164 34.2561,-120.9128 34.5360,-120.8427 34.9749,-121.1325 35.2131,-121.3220 35.5255,-121.8013 35.9691,-122.1446 36.2808,-122.1721 36.7268,-122.6871 37.2227,-122.8903 37.7783,-123.2378 37.8965,-123.3202 38.3449,-123.8338 38.7423,-123.9793 38.9946,-124.0329 39.3088,-124.0823 39.7642,-124.5314 40.1663,-124.6509 40.4658,-124.3144 41.0110,-124.3419 41.2386,-124.4545 41.7170,-124.4009 41.9983,-124.4009 41.9983))\"\n",
    "ca_places_df = sedona.table(\"wherobots_open_data.overture_2025_01_22_0.places_place\").where(f\"ST_Intersects(geometry, ST_GeomFromText('{ca_polygon}'))\")\\\n",
    "    .repartition(144 * 2) # Havasu will only hit a few files; lets make sure our dataframe has enough partitions to utilize our cluster well.\n",
    "fires_df = ca_places_df.where(f\"categories.primary = 'fire_department'\")\n",
    "fires_df.count()"
   ]
  },
  {
   "cell_type": "markdown",
   "id": "c37e2819-ebac-4e61-92a0-4f2aed8217c9",
   "metadata": {},
   "source": [
    "## Generate the isochrones\n",
    "\n",
    "Here we generate isochrones for `10`, `20`, and `30` minutes for all 1,857 fire stations in out dataframe.\n",
    "\n",
    "There are 4 arguments for the `ST_Isochrones()` funcion:\n",
    "\n",
    "1. `geometry`: The starting point from which we will generate the isochrone.\n",
    "2. `time_limits`: An array of travel times in minutes; In our case `10`, `20`, and `30`.\n",
    "3. `mobility_type`: Transportation; In our case, `car`.\n",
    "4. `inbound`: Indicates if the geometry is a destination (true) or origin (false); in our case the points represent the `origin`.\n",
    "5. `isolate_contours`: If true, creates concentric rings; if false, creates overlapping isochrones; we are creating overlapping isochrones.\n",
    "\n",
    "\n",
    "You'll notice this dataframe is marked for caching. Caching allows the database to plan the join efficiently without calculating the isochrones twice.\n",
    "\n",
    "In the result below, you can see that the isochrones are returned as a list of polygons with the order matching the time limits. "
   ]
  },
  {
   "cell_type": "code",
   "execution_count": 9,
   "id": "c764cb1b-57cd-4062-8835-d974a3f0dd73",
   "metadata": {
    "execution": {
     "iopub.execute_input": "2025-03-25T20:38:55.996597Z",
     "iopub.status.busy": "2025-03-25T20:38:55.996377Z",
     "iopub.status.idle": "2025-03-25T20:38:56.241052Z",
     "shell.execute_reply": "2025-03-25T20:38:56.240464Z",
     "shell.execute_reply.started": "2025-03-25T20:38:55.996582Z"
    }
   },
   "outputs": [
    {
     "name": "stderr",
     "output_type": "stream",
     "text": [
      "25/03/25 20:38:56 WARN CacheManager: Asked to cache already cached data.\n"
     ]
    },
    {
     "name": "stdout",
     "output_type": "stream",
     "text": [
      "+--------------------+--------------------+--------------------+\n",
      "|                  id|               names|          isochrones|\n",
      "+--------------------+--------------------+--------------------+\n",
      "|08f29ad13190b9660...|{CAL FIRE/South B...|[POLYGON ((-120.8...|\n",
      "|08f29add4b4e86de0...|{CAL FIRE San Lui...|[POLYGON ((-120.7...|\n",
      "|08f29ad024d23d600...|{CAL FIRE San Lui...|[POLYGON ((-120.9...|\n",
      "|08f29add5d8589250...|{CAL FIRE/Pismo B...|[POLYGON ((-120.7...|\n",
      "|08f29adc461a1b200...|{San Luis Obispo ...|[POLYGON ((-120.7...|\n",
      "|08f29adc43ced0000...|{The California D...|[POLYGON ((-120.7...|\n",
      "|08f29adc701416c60...|{Airport Fire Sta...|[POLYGON ((-120.6...|\n",
      "|08f29ad1989a93b10...|{Atascadero Fire ...|[POLYGON ((-120.7...|\n",
      "|08f29adc461127540...|{Station 1, NULL,...|[POLYGON ((-120.7...|\n",
      "|08f29ad06e0133850...|{Cambria Fire Dep...|[POLYGON ((-121.1...|\n",
      "|08f29ad70c4d04440...|{Camp Roberts Fir...|[POLYGON ((-120.8...|\n",
      "|08f29ad0840e1b800...|{CAL FIRE San Lui...|[POLYGON ((-120.7...|\n",
      "|08f29ad083574b6a0...|{Paso Robles Fire...|[POLYGON ((-120.7...|\n",
      "|08f29ad0a04f63ae0...|{Templeton Fire D...|[POLYGON ((-120.7...|\n",
      "|08f29134586849640...|{Lompoc Fire Dept...|[POLYGON ((-120.5...|\n",
      "|08f29137aa7aec5d0...|{Vandenberg Fire ...|[POLYGON ((-120.5...|\n",
      "|08f29acb498107120...|{Fire Station 26,...|[POLYGON ((-120.4...|\n",
      "|08f291345b4f2a680...|{Lompoc Fire Stat...|[POLYGON ((-120.4...|\n",
      "|08f29aca6805044c0...|{Santa Maria Fire...|[POLYGON ((-120.5...|\n",
      "|08f29aca6db5e42a0...|{Santa Maria Fire...|[POLYGON ((-120.4...|\n",
      "+--------------------+--------------------+--------------------+\n",
      "only showing top 20 rows\n",
      "\n"
     ]
    }
   ],
   "source": [
    "%%time\n",
    "isochrones_df = fires_df.withColumn(\n",
    "    \"isochrones\",\n",
    "    ST_Isochrones(f.col(\"geometry\"), \n",
    "                  f.array(f.lit(10), f.lit(20), f.lit(30)),\n",
    "                  f.lit(\"car\"), \n",
    "                  f.lit(False), \n",
    "                  f.lit(False))\n",
    ").cache()\n",
    "\n",
    "isochrones_df.select(\"id\",\"names\",\"isochrones\").show()"
   ]
  },
  {
   "cell_type": "markdown",
   "id": "812eeacd-36dd-486d-a59a-3881a4940a91",
   "metadata": {},
   "source": [
    "#### Map the Results with Sedona Kepler"
   ]
  },
  {
   "cell_type": "code",
   "execution_count": null,
   "id": "8cf38ee6-86b2-454c-b5ce-9d5925ef8888",
   "metadata": {},
   "outputs": [],
   "source": [
    "SedonaKepler.create_map(isochrones_df.withColumn(\"geometry\", f.col(\"isochrones\")[0]),name=\"Isochrones\")"
   ]
  },
  {
   "cell_type": "markdown",
   "id": "f732d900-385b-4b9d-98bd-163c0e9d036e",
   "metadata": {},
   "source": [
    "## How far away is the closest Fire Station to each Overture Maps Fondation _Places_ record?\n",
    "Here we label each of the locations in the Overture Maps Foundation `Places` data set with the fire station isochrone bucket that it falls within. THis is donw by performing a left join the places table to the isochrones and then determining the smallest isochrone they intersect."
   ]
  },
  {
   "cell_type": "code",
   "execution_count": 15,
   "id": "84ceb498-1891-45d6-bff9-2e6670339309",
   "metadata": {
    "execution": {
     "iopub.execute_input": "2025-03-25T20:52:57.323543Z",
     "iopub.status.busy": "2025-03-25T20:52:57.323320Z",
     "iopub.status.idle": "2025-03-25T20:53:04.437343Z",
     "shell.execute_reply": "2025-03-25T20:53:04.436364Z",
     "shell.execute_reply.started": "2025-03-25T20:52:57.323529Z"
    },
    "scrolled": true
   },
   "outputs": [
    {
     "name": "stderr",
     "output_type": "stream",
     "text": [
      "25/03/25 20:52:57 WARN CacheManager: Asked to cache already cached data.\n",
      "                                                                                \r"
     ]
    },
    {
     "name": "stdout",
     "output_type": "stream",
     "text": [
      "+--------------------+--------------------+------+\n",
      "|               names|            geometry|bucket|\n",
      "+--------------------+--------------------+------+\n",
      "|{Six Rivers Natio...|POINT (-123.62568...|    20|\n",
      "|{Top Of Trinidad ...|POINT (-124.15022...|    10|\n",
      "|{Pearson's Grocer...|POINT (-123.70507...|    20|\n",
      "|{B&B Portable Toi...|POINT (-123.99352...|    10|\n",
      "|{Mad River Hammon...|POINT (-124.12040...|    10|\n",
      "|{Lane Grove, NULL...|POINT (-123.78989...|    10|\n",
      "|{Auto Expo, NULL,...|POINT (-124.14636...|    10|\n",
      "|{Fernbridge, NULL...|POINT (-124.20247...|    10|\n",
      "|{County of Humbol...|POINT (-124.14532...|    10|\n",
      "|{Eureka Massage a...|POINT (-124.13651...|    10|\n",
      "|{Manila Park, NUL...|POINT (-124.16153...|    10|\n",
      "|{Pauli-Shaw Insur...|POINT (-124.08545...|    10|\n",
      "|{Providence Medic...|POINT (-124.13719...|    10|\n",
      "|{Starbucks, NULL,...|POINT (-124.13841...|    10|\n",
      "|{Central Transpor...|POINT (-124.183 4...|    10|\n",
      "|{I Am Limitless L...|POINT (-124.17808...|    10|\n",
      "|{Gaining Ground, ...|POINT (-124.18589...|    10|\n",
      "|{Zumbido Gifts, N...|POINT (-124.16729...|    10|\n",
      "|{Halvorsen Park, ...|POINT (-124.15789...|    10|\n",
      "|{Melanie Tash Rea...|POINT (-124.16113...|    10|\n",
      "+--------------------+--------------------+------+\n",
      "only showing top 20 rows\n",
      "\n",
      "CPU times: user 23.6 ms, sys: 1.91 ms, total: 25.5 ms\n",
      "Wall time: 7.11 s\n"
     ]
    }
   ],
   "source": [
    "%%time\n",
    "\n",
    "risk_df = (\n",
    "    ca_places_df.alias(\"ca\")\n",
    "    .join(isochrones_df.alias(\"isochrones\"), ST_Intersects(isochrones_df.isochrones[2], \"ca.geometry\"), \"left\")\n",
    "    .withColumn(\n",
    "        \"bucket\",\n",
    "        f.when(isochrones_df.isochrones.isNull(), f.lit(None))\n",
    "        .when(ST_Intersects(isochrones_df.isochrones[0], \"ca.geometry\"), 10)\n",
    "        .when(ST_Intersects(isochrones_df.isochrones[1], \"ca.geometry\"), 20)\n",
    "        .when(ST_Intersects(isochrones_df.isochrones[2], \"ca.geometry\"), 30)\n",
    "    )\n",
    "    .groupBy(f.col(\"ca.id\")) \n",
    "    .agg(*[f.first(\"ca.\" + field).alias(field) for field in ca_places_df.columns if field != \"id\"], f.min(f.col(\"bucket\")).alias(\"bucket\"))\n",
    "    .cache()\n",
    ")\n",
    "\n",
    "risk_df.write.format(\"geoparquet\").mode(\"overwrite\").save(os.getenv(\"USER_S3_PATH\") + \"fireRiskExampleIsochrones\")\n",
    "isochrones_df.unpersist()\n",
    "\n",
    "risk_df.select(\"names\",\"geometry\",\"bucket\").show()"
   ]
  },
  {
   "cell_type": "markdown",
   "id": "7ebb0421-dee4-46d8-824e-ea22d3246568",
   "metadata": {},
   "source": [
    "## Find Clusters of OMF Place *not* near Fire Stations\n",
    "Finally, we use WherobotsDB's DBSCAN to find clsuters of places that are not close to a fire station."
   ]
  },
  {
   "cell_type": "code",
   "execution_count": null,
   "id": "2792ef65-516e-4aaf-b51e-1f0564cd58a2",
   "metadata": {
    "execution": {
     "iopub.execute_input": "2025-03-25T20:50:30.464700Z",
     "iopub.status.busy": "2025-03-25T20:50:30.463882Z"
    },
    "scrolled": true
   },
   "outputs": [],
   "source": [
    "%%time\n",
    "from math import pi\n",
    "\n",
    "R = 6371000\n",
    "C = 2 * pi * R\n",
    "METERS_PER_DEGREE = C / 360.0\n",
    "\n",
    "def degreesFromMeters(distanceInMeters):\n",
    "    return distanceInMeters / METERS_PER_DEGREE\n",
    "\n",
    "\n",
    "clustered_high_risk_df = (\n",
    "    risk_df\n",
    "    .where(risk_df.bucket > 10)\n",
    "    .withColumn(\"dbscan_result\", ST_DBSCAN(risk_df.geometry, degreesFromMeters(1000), 50, False))\n",
    "    .groupBy(\"dbscan_result.cluster\")\n",
    "    .agg(ST_ConvexHull(ST_Union_Aggr(\"geometry\")).alias(\"geometry\"))\n",
    "    .where(\"cluster != -1\") # dont show outliers\n",
    ").cache()"
   ]
  },
  {
   "cell_type": "markdown",
   "id": "a7f360ef-bcf4-46e7-9cc4-6aca3c2ea6c6",
   "metadata": {},
   "source": [
    "#### Map the Results with Sedona Kepler"
   ]
  },
  {
   "cell_type": "code",
   "execution_count": 16,
   "id": "d7258cfd-8a2b-4b5c-9d24-33cbc00dc0d7",
   "metadata": {
    "execution": {
     "iopub.execute_input": "2025-03-25T20:54:30.447601Z",
     "iopub.status.busy": "2025-03-25T20:54:30.447242Z",
     "iopub.status.idle": "2025-03-25T20:54:30.634589Z",
     "shell.execute_reply": "2025-03-25T20:54:30.633850Z",
     "shell.execute_reply.started": "2025-03-25T20:54:30.447579Z"
    },
    "scrolled": true
   },
   "outputs": [
    {
     "name": "stdout",
     "output_type": "stream",
     "text": [
      "User Guide: https://docs.kepler.gl/docs/keplergl-jupyter\n"
     ]
    },
    {
     "data": {
      "application/vnd.jupyter.widget-view+json": {
       "model_id": "79149645c72b473aa55326fe1fe81817",
       "version_major": 2,
       "version_minor": 0
      },
      "text/plain": [
       "KeplerGl(data={'Clusters': {'index': [0, 1, 2, 3, 4, 5, 6, 7, 8, 9, 10, 11, 12, 13, 14, 15, 16, 17, 18, 19, 20…"
      ]
     },
     "execution_count": 16,
     "metadata": {},
     "output_type": "execute_result"
    }
   ],
   "source": [
    "SedonaKepler.create_map(clustered_high_risk_df, name=\"Clusters\")"
   ]
  },
  {
   "cell_type": "code",
   "execution_count": null,
   "id": "e2732edc-9865-4837-b637-d43d39093197",
   "metadata": {},
   "outputs": [],
   "source": []
  }
 ],
 "metadata": {
  "kernelspec": {
   "display_name": "Python 3 (ipykernel)",
   "language": "python",
   "name": "python3"
  },
  "language_info": {
   "codemirror_mode": {
    "name": "ipython",
    "version": 3
   },
   "file_extension": ".py",
   "mimetype": "text/x-python",
   "name": "python",
   "nbconvert_exporter": "python",
   "pygments_lexer": "ipython3",
   "version": "3.11.11"
  }
 },
 "nbformat": 4,
 "nbformat_minor": 5
}
