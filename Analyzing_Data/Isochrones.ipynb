{
 "cells": [
  {
   "cell_type": "markdown",
   "id": "b4301c7c-8c75-4b65-b193-f5599e01e6b0",
   "metadata": {},
   "source": [
    "![](https://wherobots.com/wp-content/uploads/2023/12/Inline-Blue_Black_onWhite.png)\n",
    "# Isochrone Generation Example\n",
    "Isochrones are a type of _iso line_—a contour that connects points sharing the same value. While contour lines link points of equal elevation and isotherms connect equal temperatures, isochrones outline regions that are reachable within a specific amount of travel time. They're commonly used to answer questions like: 'How far can I drive from here in 15 minutes?' or 'Which neighborhoods are within a 10-minute walk of a school?'\n",
    "\n",
    "In this example we will generate `10`, `20`, and `30` minute isochrones for all the fire stations in California in the bounding box between Bakersfield and Merced. Then we will left join the places Overture table to those isochrones in order to label them as being within 10/20/30/>30 minutes from a fire station. Finally, we will generate clusters with DBSCAN to determine if there are regions where a fire station might be useful"
   ]
  },
  {
   "cell_type": "markdown",
   "id": "4b51b6e0-e199-4242-a3ca-0cdd3a636588",
   "metadata": {},
   "source": [
    "## Define Sedona Context"
   ]
  },
  {
   "cell_type": "code",
   "execution_count": null,
   "id": "0442e196-7204-4f28-8d31-1324dba0afb6",
   "metadata": {},
   "outputs": [],
   "source": [
    "from sedona.spark import *\n",
    "from  wherobots.sql.st_functions import ST_Isochrones\n",
    "import pyspark.sql.functions as f\n",
    "import os\n",
    "\n",
    "config = SedonaContext.builder().getOrCreate()\n",
    "sedona = SedonaContext.create(config)\n"
   ]
  },
  {
   "cell_type": "markdown",
   "id": "ba5ffc7a-6827-47a5-93f0-10d4c29e6ba0",
   "metadata": {},
   "source": [
    "## Initialize Data\n",
    "\n",
    "Preparing the data involves creating two dataframes:\n",
    "* All the Overture places within a region of California. These are the locations for which we want to determine fire station proximity\n",
    "* The fire departments from the above dataset. These are the locations from which we will generate isochrones"
   ]
  },
  {
   "cell_type": "code",
   "execution_count": null,
   "id": "b4066718-d002-43cb-bc78-e277c0acfead",
   "metadata": {},
   "outputs": [],
   "source": [
    "polygon = \"POLYGON ((-120.805664 35.32633, -118.861084 35.32633, -118.861084 37.378888, -120.805664 37.378888, -120.805664 35.32633))\"\n",
    "ca_places_df = sedona.table(\"wherobots_open_data.overture_2025_01_22_0.places_place\").where(f\"ST_Intersects(geometry, ST_GeomFromText('{polygon}'))\")\\\n",
    "    .repartition(sedona.sparkContext.defaultParallelism * 2) # Havasu will only hit a few files; lets make sure our dataframe has enough partitions to utilize our cluster well.\n",
    "fires_df = ca_places_df.where(f\"categories.primary = 'fire_department'\")\n",
    "fires_df.count()"
   ]
  },
  {
   "cell_type": "markdown",
   "id": "c37e2819-ebac-4e61-92a0-4f2aed8217c9",
   "metadata": {},
   "source": [
    "## Generate the isochrones\n",
    "\n",
    "Here we generate isochrones for `10`, `20`, and `30` minutes for all 1,857 fire stations in our dataframe.\n",
    "\n",
    "There are 4 arguments for the `ST_Isochrones()` function:\n",
    "\n",
    "1. `geometry`: The starting point from which we will generate the isochrones.\n",
    "2. `time_limits`: An array of travel times in minutes; In our case `10`, `20`, and `30`.\n",
    "3. `mobility_type`: Transportation; In our case, `car`.\n",
    "4. `inbound`: Indicates if the geometry is a destination (true) or origin (false); in our case the points represent the `origin`.\n",
    "5. `isolate_contours`: If true, creates concentric rings; if false, creates overlapping isochrones; we are creating overlapping isochrones.\n",
    "\n",
    "\n",
    "You'll notice this dataframe is marked for caching. Caching allows the database to plan the join efficiently without calculating the isochrones twice.\n",
    "\n",
    "In the result below, you can see that the isochrones are returned as a list of polygons with the order matching the time limits. "
   ]
  },
  {
   "cell_type": "code",
   "execution_count": null,
   "id": "c764cb1b-57cd-4062-8835-d974a3f0dd73",
   "metadata": {},
   "outputs": [],
   "source": [
    "%%time\n",
    "isochrones_df = fires_df.withColumn(\n",
    "    \"isochrones\",\n",
    "    ST_Isochrones(f.col(\"geometry\"), \n",
    "                  f.array(f.lit(10), f.lit(20), f.lit(30)),\n",
    "                  f.lit(\"car\"), \n",
    "                  f.lit(False), \n",
    "                  f.lit(False))\n",
    ").cache()\n",
    "\n",
    "isochrones_df.select(\"id\",\"names\",\"isochrones\").show()"
   ]
  },
  {
   "cell_type": "markdown",
   "id": "812eeacd-36dd-486d-a59a-3881a4940a91",
   "metadata": {},
   "source": [
    "#### Map the Results with Sedona Kepler"
   ]
  },
  {
   "cell_type": "code",
   "execution_count": null,
   "id": "8cf38ee6-86b2-454c-b5ce-9d5925ef8888",
   "metadata": {},
   "outputs": [],
   "source": [
    "SedonaKepler.create_map(isochrones_df.withColumn(\"geometry\", f.col(\"isochrones\")[0]),name=\"Isochrones\")"
   ]
  },
  {
   "cell_type": "markdown",
   "id": "f732d900-385b-4b9d-98bd-163c0e9d036e",
   "metadata": {},
   "source": [
    "## How far away is the closest Fire Station to each Overture Maps Foundation _Places_ record?\n",
    "Here, we assign each location in the Overture Maps Places dataset to its corresponding fire station isochrone bucket by performing a left spatial join and identifying the smallest bucket value from the intersecting isochrones."
   ]
  },
  {
   "cell_type": "code",
   "execution_count": null,
   "id": "84ceb498-1891-45d6-bff9-2e6670339309",
   "metadata": {},
   "outputs": [],
   "source": [
    "%%time\n",
    "\n",
    "risk_df = (\n",
    "    ca_places_df.alias(\"ca\")\n",
    "    .join(isochrones_df.alias(\"isochrones\"), ST_Intersects(isochrones_df.isochrones[2], \"ca.geometry\"), \"left\")\n",
    "    .withColumn(\n",
    "        \"bucket\",\n",
    "        f.when(isochrones_df.isochrones.isNull(), f.lit(None))\n",
    "        .when(ST_Intersects(isochrones_df.isochrones[0], \"ca.geometry\"), 10)\n",
    "        .when(ST_Intersects(isochrones_df.isochrones[1], \"ca.geometry\"), 20)\n",
    "        .when(ST_Intersects(isochrones_df.isochrones[2], \"ca.geometry\"), 30)\n",
    "    )\n",
    "    .groupBy(f.col(\"ca.id\")) \n",
    "    .agg(*[f.first(\"ca.\" + field).alias(field) for field in ca_places_df.columns if field != \"id\"], f.min(f.col(\"bucket\")).alias(\"bucket\"))\n",
    "    .cache()\n",
    ")\n",
    "\n",
    "risk_df.write.format(\"geoparquet\").mode(\"overwrite\").save(os.getenv(\"USER_S3_PATH\") + \"fireRiskExampleIsochrones\")\n",
    "isochrones_df.unpersist()\n",
    "\n",
    "risk_df.select(\"names\",\"geometry\",\"bucket\").show()"
   ]
  },
  {
   "cell_type": "markdown",
   "id": "7ebb0421-dee4-46d8-824e-ea22d3246568",
   "metadata": {},
   "source": [
    "## Find Clusters of OMF Place *not* near Fire Stations\n",
    "Finally, we use WherobotsDB's DBSCAN to find clusters of places that are not close to a fire station."
   ]
  },
  {
   "cell_type": "code",
   "execution_count": null,
   "id": "2792ef65-516e-4aaf-b51e-1f0564cd58a2",
   "metadata": {},
   "outputs": [],
   "source": [
    "%%time\n",
    "from math import pi\n",
    "\n",
    "R = 6371000\n",
    "C = 2 * pi * R\n",
    "METERS_PER_DEGREE = C / 360.0\n",
    "\n",
    "def degreesFromMeters(distanceInMeters):\n",
    "    return distanceInMeters / METERS_PER_DEGREE\n",
    "\n",
    "\n",
    "clustered_high_risk_df = (\n",
    "    risk_df\n",
    "    .where(risk_df.bucket > 10)\n",
    "    .withColumn(\"dbscan_result\", ST_DBSCAN(risk_df.geometry, degreesFromMeters(1000), 50, False))\n",
    "    .groupBy(\"dbscan_result.cluster\")\n",
    "    .agg(ST_ConvexHull(ST_Union_Aggr(\"geometry\")).alias(\"geometry\"))\n",
    "    .where(\"cluster != -1\") # dont show outliers\n",
    ").cache()\n",
    "\n",
    "clustered_high_risk_df.count()"
   ]
  },
  {
   "cell_type": "markdown",
   "id": "a7f360ef-bcf4-46e7-9cc4-6aca3c2ea6c6",
   "metadata": {},
   "source": [
    "#### Map the Results with Sedona Kepler"
   ]
  },
  {
   "cell_type": "code",
   "execution_count": null,
   "id": "d7258cfd-8a2b-4b5c-9d24-33cbc00dc0d7",
   "metadata": {},
   "outputs": [],
   "source": [
    "SedonaKepler.create_map(clustered_high_risk_df, name=\"Clusters\")"
   ]
  },
  {
   "cell_type": "markdown",
   "id": "5c99218d-30f6-4693-badb-d116612c5bd0",
   "metadata": {},
   "source": [
    "## ST_Isochrones Function Documentation\n",
    "\n",
    "For detailed information on the `ST_Isochrones` function, refer to the official Wherobots documentation: [ST_Isochrones](https://docs.wherobots.com/latest/references/wherobotsdb/vector-data/Function/#st_isochrones)"
   ]
  }
 ],
 "metadata": {
  "kernelspec": {
   "display_name": "Python 3 (ipykernel)",
   "language": "python",
   "name": "python3"
  },
  "language_info": {
   "codemirror_mode": {
    "name": "ipython",
    "version": 3
   },
   "file_extension": ".py",
   "mimetype": "text/x-python",
   "name": "python",
   "nbconvert_exporter": "python",
   "pygments_lexer": "ipython3"
  }
 },
 "nbformat": 4,
 "nbformat_minor": 5
}
