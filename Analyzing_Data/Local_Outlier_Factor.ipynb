{
 "cells": [
  {
   "cell_type": "markdown",
   "id": "700d8667b7cb899c",
   "metadata": {},
   "source": [
    "![](https://wherobots.com/wp-content/uploads/2023/12/Inline-Blue_Black_onWhite@3x.png)\n",
    "# Local Outlier Factor Example\n",
    "Local Outlier Factor (LOF) is a common algorithm for identifying data points that are inliers/outliers relative to their neighbors. The algorithm works by comparing how close an element is to its neighbors vs how close they are to their neighbors. The number of neighbors to use, k, is set by the user.\n",
    "Scores much less than one are inliers, scores much greater are outliers, and those near one are neither.\n",
    "This demo is derived from the [scikit-learn Local Outlier Detection demo](https://scikit-learn.org/stable/auto_examples/neighbors/plot_lof_outlier_detection.html)."
   ]
  },
  {
   "cell_type": "markdown",
   "id": "32ec30f6e1885b75",
   "metadata": {},
   "source": [
    "# Define Sedona Context"
   ]
  },
  {
   "cell_type": "code",
   "execution_count": null,
   "id": "3a51adb8-f89f-4cb3-9a41-24a36d8f1fcf",
   "metadata": {},
   "outputs": [],
   "source": [
    "from sedona.spark import SedonaContext\n",
    "\n",
    "config = SedonaContext.builder().getOrCreate()\n",
    "sedona = SedonaContext.create(config)"
   ]
  },
  {
   "cell_type": "markdown",
   "id": "cff198142e2ebced",
   "metadata": {},
   "source": [
    "# Data Generation\n",
    "We generate some data. Most of it is random, but some data is explicitly designed to be outliers"
   ]
  },
  {
   "cell_type": "code",
   "execution_count": null,
   "id": "99f8c27a-9c0b-4f8f-a388-54a781d892e3",
   "metadata": {},
   "outputs": [],
   "source": [
    "import numpy as np\n",
    "import pyspark.sql.functions as f\n",
    "\n",
    "from sedona.stats.outlier_detection.local_outlier_factor import local_outlier_factor\n",
    "from sedona.sql import ST_MakePoint\n",
    "\n",
    "np.random.seed(42)\n",
    "\n",
    "X_inliers = 0.3 * np.random.randn(100, 2)\n",
    "X_inliers = np.r_[X_inliers + 2, X_inliers - 2]\n",
    "X_outliers = np.random.uniform(low=-4, high=4, size=(20, 2))\n",
    "X = np.r_[X_inliers, X_outliers]\n"
   ]
  },
  {
   "cell_type": "markdown",
   "id": "372ae8aee6714c8c",
   "metadata": {},
   "source": [
    "## Generation LOF\n",
    "We use the LOF implementation in Wherobots to generate this statistic on the data. We set k to 20.\n"
   ]
  },
  {
   "cell_type": "code",
   "execution_count": null,
   "id": "fe5af921-957c-48cc-942a-e6c744c72bc5",
   "metadata": {},
   "outputs": [],
   "source": [
    "df = sedona.createDataFrame(X).select(ST_MakePoint(f.col(\"_1\"), f.col(\"_2\")).alias(\"geometry\"))\n",
    "outliers_df = local_outlier_factor(df, 20)\n"
   ]
  },
  {
   "cell_type": "code",
   "execution_count": null,
   "id": "d060243f-c00b-436d-99d4-e0fbaba89930",
   "metadata": {},
   "outputs": [],
   "source": [
    "outliers_df.show()"
   ]
  },
  {
   "cell_type": "markdown",
   "id": "5a475ce35250afea",
   "metadata": {},
   "source": [
    "## Visualization\n",
    "We visualize the results using geopandas. Some manipulations are made to the data to improve the clarity of the visualization."
   ]
  },
  {
   "cell_type": "code",
   "execution_count": null,
   "id": "244c8d55-0c69-4922-b769-666c056098c4",
   "metadata": {},
   "outputs": [],
   "source": [
    "import geopandas as gpd\n",
    "\n",
    "pdf = (outliers_df\n",
    "       .withColumn(\"lof\", f.col(\"lof\") * 50)\n",
    "       .toPandas()\n",
    "      )\n",
    "gdf = gpd.GeoDataFrame(pdf, geometry=\"geometry\")\n",
    "\n",
    "ax = gdf.plot(\n",
    "    figsize=(10, 8),\n",
    "    markersize=gdf['lof'],\n",
    "    edgecolor='r',\n",
    "    facecolors=\"none\",\n",
    ")\n",
    "\n",
    "gdf.plot(ax=ax, figsize=(10, 8), color=\"k\", markersize=1, legend=True)\n",
    "\n",
    "ax.set_title('LOF Scores')\n",
    "ax.legend(['Outlier Scores', 'Data points'])"
   ]
  }
 ],
 "metadata": {
  "kernelspec": {
   "display_name": "Python 3 (ipykernel)",
   "language": "python",
   "name": "python3"
  },
  "language_info": {
   "codemirror_mode": {
    "name": "ipython",
    "version": 3
   },
   "file_extension": ".py",
   "mimetype": "text/x-python",
   "name": "python",
   "nbconvert_exporter": "python",
   "pygments_lexer": "ipython3"
  }
 },
 "nbformat": 4,
 "nbformat_minor": 5
}
