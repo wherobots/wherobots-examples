{
 "cells": [
  {
   "cell_type": "markdown",
   "id": "a37fe0da",
   "metadata": {},
   "source": [
    "![](https://wherobots.com/wp-content/uploads/2023/12/Inline-Blue_Black_onWhite@3x.png)\n",
    "\n",
    "## WherobotsAI Raster Inference - Segmentation \n",
    "\n",
    "This example demonstrates query inference using a segmentation model with Raster Inference to identify solar farms in satellite imagery. We will use a machine learning model from [Satlas](https://satlas.allen.ai/ai) <sup>1</sup> which was trained using imagery from the European Space Agency’s Sentinel-2 satellites.\n",
    "\n",
    "**Note: This notebook requires the Wherobots Inference functionality to be enabled and a GPU runtime selected in Wherobots Cloud. Please [contact us](https://wherobots.com/contact/) to enable these features.**\n"
   ]
  },
  {
   "cell_type": "markdown",
   "id": "74fec939-6e1a-486a-93ec-d6ac7a7b9aaa",
   "metadata": {},
   "source": [
    "### Step 1: Set Up The WherobotsDB Context "
   ]
  },
  {
   "cell_type": "code",
   "execution_count": null,
   "id": "b62b5997",
   "metadata": {},
   "outputs": [],
   "source": [
    "import warnings\n",
    "warnings.filterwarnings('ignore')\n",
    "\n",
    "from sedona.spark import SedonaContext\n",
    "\n",
    "config = SedonaContext.builder().appName('segmentation-batch-inference')\\\n",
    "    .getOrCreate()\n",
    "\n",
    "sedona = SedonaContext.create(config)"
   ]
  },
  {
   "cell_type": "markdown",
   "id": "c654ce00-87ec-4200-88ac-feac99575490",
   "metadata": {},
   "source": [
    "### 2: Load Satellite Imagery\n",
    "\n",
    "Next, we load the satellite imagery that we will be running inference over. These GeoTiff images are loaded as *out-db* rasters from the Wherobots Open Data Catalog, where each row represents a different scene.\n",
    "\n",
    "If your inference rasters are not in a Wherobots catalog, you can load them using the following code:\n",
    "```python\n",
    "tif_folder_path = 's3a://wherobots-benchmark-prod/data/ml/satlas/'\n",
    "df_raster_input = sedona.read.format(\"raster\").load(f\"{tif_folder_path}/*.tiff\").sample(.05)\n",
    "df_raster_input.createOrReplaceTempView(\"df_raster_input\")\n",
    "df_raster_input.show(truncate=False)\n",
    "```\n"
   ]
  },
  {
   "cell_type": "code",
   "execution_count": 19,
   "id": "6ac10af4-5ccf-43bb-8aaf-947d01c3fb55",
   "metadata": {
    "execution": {
     "iopub.execute_input": "2025-03-26T23:09:03.973881Z",
     "iopub.status.busy": "2025-03-26T23:09:03.973559Z",
     "iopub.status.idle": "2025-03-26T23:09:04.167832Z",
     "shell.execute_reply": "2025-03-26T23:09:04.167258Z",
     "shell.execute_reply.started": "2025-03-26T23:09:03.973864Z"
    }
   },
   "outputs": [
    {
     "name": "stdout",
     "output_type": "stream",
     "text": [
      "root\n",
      " |-- outdb_raster: raster (nullable = true)\n",
      " |-- path: string (nullable = true)\n",
      " |-- name: string (nullable = true)\n",
      " |-- footprint: geometry (nullable = true)\n",
      "\n"
     ]
    }
   ],
   "source": [
    "df_raster_input = sedona.table(f\"wherobots_pro_data.satlas.solar_satlas\").sample(.05)\n",
    "df_raster_input.createOrReplaceTempView(\"df_raster_input\")\n",
    "df_raster_input.printSchema()"
   ]
  },
  {
   "cell_type": "markdown",
   "id": "37e55013-053f-4de6-b88f-1ca0b31a0ada",
   "metadata": {},
   "source": [
    "### 3: Run Predictions And Visualize Results\n",
    "\n",
    "To run predictions we will specify the model we wish to use. Some models are pre-loaded and made available in Wherobots Cloud. We can also load our own models. Predictions can be run with the Raster Inference SQL function [`RS_Segment`](https://docs.wherobots.com/latest/api/wherobots-inference/pythondoc/inference/sql_functions/) or the Python API.\n",
    "\n",
    "Here we generate 400 raster predictions using `RS_Segment`."
   ]
  },
  {
   "cell_type": "code",
   "execution_count": 20,
   "id": "e4399933-2da4-4254-bfb3-aea354c3443f",
   "metadata": {
    "execution": {
     "iopub.execute_input": "2025-03-26T23:09:06.443098Z",
     "iopub.status.busy": "2025-03-26T23:09:06.442634Z",
     "iopub.status.idle": "2025-03-26T23:11:13.173023Z",
     "shell.execute_reply": "2025-03-26T23:11:13.172487Z",
     "shell.execute_reply.started": "2025-03-26T23:09:06.443081Z"
    }
   },
   "outputs": [
    {
     "name": "stderr",
     "output_type": "stream",
     "text": [
      "                                                                                \r"
     ]
    },
    {
     "name": "stdout",
     "output_type": "stream",
     "text": [
      "+--------------------+--------------------+-----------------+\n",
      "|        outdb_raster|    confidence_array|        class_map|\n",
      "+--------------------+--------------------+-----------------+\n",
      "|OutDbGridCoverage...|[0.5000003, 0.5, ...|{Solar Farm -> 1}|\n",
      "|OutDbGridCoverage...|[0.5000029, 0.500...|{Solar Farm -> 1}|\n",
      "|OutDbGridCoverage...|[0.50016445, 0.50...|{Solar Farm -> 1}|\n",
      "|OutDbGridCoverage...|[0.5000015, 0.500...|{Solar Farm -> 1}|\n",
      "|OutDbGridCoverage...|[0.5000041, 0.500...|{Solar Farm -> 1}|\n",
      "|OutDbGridCoverage...|[0.5000116, 0.500...|{Solar Farm -> 1}|\n",
      "|OutDbGridCoverage...|[0.5000152, 0.500...|{Solar Farm -> 1}|\n",
      "|OutDbGridCoverage...|[0.5000245, 0.500...|{Solar Farm -> 1}|\n",
      "|OutDbGridCoverage...|[0.50000167, 0.50...|{Solar Farm -> 1}|\n",
      "|OutDbGridCoverage...|[0.5000005, 0.5, ...|{Solar Farm -> 1}|\n",
      "|OutDbGridCoverage...|[0.5000024, 0.500...|{Solar Farm -> 1}|\n",
      "|OutDbGridCoverage...|[0.50000083, 0.5,...|{Solar Farm -> 1}|\n",
      "|OutDbGridCoverage...|[0.5000102, 0.500...|{Solar Farm -> 1}|\n",
      "|OutDbGridCoverage...|[0.50000054, 0.5,...|{Solar Farm -> 1}|\n",
      "|OutDbGridCoverage...|[0.50000995, 0.50...|{Solar Farm -> 1}|\n",
      "|OutDbGridCoverage...|[0.5000029, 0.500...|{Solar Farm -> 1}|\n",
      "|OutDbGridCoverage...|[0.50000036, 0.5,...|{Solar Farm -> 1}|\n",
      "|OutDbGridCoverage...|[0.5000015, 0.500...|{Solar Farm -> 1}|\n",
      "|OutDbGridCoverage...|[0.5000002, 0.5, ...|{Solar Farm -> 1}|\n",
      "|OutDbGridCoverage...|[0.5000197, 0.500...|{Solar Farm -> 1}|\n",
      "+--------------------+--------------------+-----------------+\n",
      "only showing top 20 rows\n",
      "\n"
     ]
    }
   ],
   "source": [
    "model_id = 'solar-satlas-sentinel2'\n",
    "\n",
    "predictions_df = sedona.sql(f\"\"\"\n",
    "SELECT\n",
    "  outdb_raster,\n",
    "  segment_result.*\n",
    "FROM (\n",
    "  SELECT\n",
    "    outdb_raster,\n",
    "    RS_SEGMENT('{model_id}', outdb_raster) AS segment_result\n",
    "  FROM\n",
    "    df_raster_input\n",
    ") AS segment_fields\n",
    "\"\"\")\n",
    "\n",
    "predictions_df.cache().count()\n",
    "predictions_df.show()\n",
    "predictions_df.createOrReplaceTempView(\"predictions\")"
   ]
  },
  {
   "cell_type": "markdown",
   "id": "977a2bf5-ea20-400b-8b3a-cc3ea0b7ad88",
   "metadata": {},
   "source": [
    "Now that we've generated predictions using our model over our satellite imagery, we can use the `RS_Segment_To_Geoms` function to extract the geometries indicating the model has identified as possible solar farms. we'll specify the following:\n",
    "\n",
    "* a raster column to use for georeferencing our results\n",
    "* the prediction result from the previous step\n",
    "* our category label \"1\" returned by the model representing Solar Farms and the class map to use for assigning labels to the prediction\n",
    "* a confidence threshold between 0 and 1."
   ]
  },
  {
   "cell_type": "code",
   "execution_count": 28,
   "id": "8fad63ec-3f82-42de-835e-b16601de1405",
   "metadata": {
    "execution": {
     "iopub.execute_input": "2025-03-26T23:18:14.482967Z",
     "iopub.status.busy": "2025-03-26T23:18:14.482474Z",
     "iopub.status.idle": "2025-03-26T23:18:17.728225Z",
     "shell.execute_reply": "2025-03-26T23:18:17.723532Z",
     "shell.execute_reply.started": "2025-03-26T23:18:14.482949Z"
    }
   },
   "outputs": [
    {
     "name": "stderr",
     "output_type": "stream",
     "text": [
      "[Stage 75:=====================================================>  (92 + 4) / 96]\r"
     ]
    },
    {
     "name": "stdout",
     "output_type": "stream",
     "text": [
      "+--------------------+------------------------------+-----+------------+\n",
      "|            geometry|average_pixel_confidence_score|label|  class_name|\n",
      "+--------------------+------------------------------+-----+------------+\n",
      "|                  []|                            []|   []|          []|\n",
      "|                  []|                            []|   []|          []|\n",
      "|                  []|                            []|   []|          []|\n",
      "|                  []|                            []|   []|          []|\n",
      "|                  []|                            []|   []|          []|\n",
      "|                  []|                            []|   []|          []|\n",
      "|                  []|                            []|   []|          []|\n",
      "|                  []|                            []|   []|          []|\n",
      "|                  []|                            []|   []|          []|\n",
      "|                  []|                            []|   []|          []|\n",
      "|                  []|                            []|   []|          []|\n",
      "|                  []|                            []|   []|          []|\n",
      "|[MULTIPOLYGON (((...|          [0.7286568330485138]|  [1]|[Solar Farm]|\n",
      "|                  []|                            []|   []|          []|\n",
      "|                  []|                            []|   []|          []|\n",
      "|                  []|                            []|   []|          []|\n",
      "|                  []|                            []|   []|          []|\n",
      "|                  []|                            []|   []|          []|\n",
      "|                  []|                            []|   []|          []|\n",
      "|                  []|                            []|   []|          []|\n",
      "+--------------------+------------------------------+-----+------------+\n",
      "only showing top 20 rows\n",
      "\n"
     ]
    },
    {
     "name": "stderr",
     "output_type": "stream",
     "text": [
      "                                                                                \r"
     ]
    }
   ],
   "source": [
    "df_multipolys = sedona.sql(\"\"\"\n",
    "    WITH t AS (\n",
    "        SELECT RS_SEGMENT_TO_GEOMS(outdb_raster, confidence_array, array(1), class_map, 0.65) result\n",
    "        FROM predictions\n",
    "    )\n",
    "    SELECT result.* FROM t\n",
    "\"\"\")\n",
    "\n",
    "df_multipolys.cache().count()\n",
    "df_multipolys.show()\n",
    "df_multipolys.createOrReplaceTempView(\"multipolygon_predictions\")"
   ]
  },
  {
   "cell_type": "markdown",
   "id": "fd554156",
   "metadata": {},
   "source": [
    "Since we ran inference across the state of Arizona, many scenes don't contain solar farms and don't have positive detections. Let's filter out scenes without segmentation detections so that we can plot the results."
   ]
  },
  {
   "cell_type": "code",
   "execution_count": 29,
   "id": "8c4936d2-723b-4613-bf4e-d1fe3f1f8aed",
   "metadata": {
    "execution": {
     "iopub.execute_input": "2025-03-26T23:18:23.419100Z",
     "iopub.status.busy": "2025-03-26T23:18:23.418628Z",
     "iopub.status.idle": "2025-03-26T23:18:23.429858Z",
     "shell.execute_reply": "2025-03-26T23:18:23.429276Z",
     "shell.execute_reply.started": "2025-03-26T23:18:23.419083Z"
    }
   },
   "outputs": [],
   "source": [
    "df_merged_predictions = sedona.sql(\"\"\"\n",
    "    SELECT\n",
    "        element_at(class_name, 1) AS class_name,\n",
    "        cast(element_at(average_pixel_confidence_score, 1) AS double) AS average_pixel_confidence_score,\n",
    "        ST_Collect(geometry) AS merged_geom\n",
    "    FROM\n",
    "        multipolygon_predictions\n",
    "\"\"\")"
   ]
  },
  {
   "cell_type": "markdown",
   "id": "338f5143-d6ac-49db-9d44-ad60eaafefb8",
   "metadata": {},
   "source": [
    "This leaves us with a few predicted solar farm polygons for our 300 satellite image samples."
   ]
  },
  {
   "cell_type": "code",
   "execution_count": 30,
   "id": "00ab528c-51e8-43ee-ba5f-981d50c20f84",
   "metadata": {
    "execution": {
     "iopub.execute_input": "2025-03-26T23:18:31.486786Z",
     "iopub.status.busy": "2025-03-26T23:18:31.486418Z",
     "iopub.status.idle": "2025-03-26T23:18:32.659634Z",
     "shell.execute_reply": "2025-03-26T23:18:32.658976Z",
     "shell.execute_reply.started": "2025-03-26T23:18:31.486769Z"
    }
   },
   "outputs": [
    {
     "name": "stderr",
     "output_type": "stream",
     "text": [
      "                                                                                \r"
     ]
    },
    {
     "data": {
      "text/plain": [
       "54"
      ]
     },
     "execution_count": 30,
     "metadata": {},
     "output_type": "execute_result"
    }
   ],
   "source": [
    "df_filtered_predictions = df_merged_predictions.filter(\"ST_IsEmpty(merged_geom) = False\")\n",
    "df_filtered_predictions.cache().count()"
   ]
  },
  {
   "cell_type": "code",
   "execution_count": 31,
   "id": "b45731d3-eed9-436b-b2cc-095a73882827",
   "metadata": {
    "execution": {
     "iopub.execute_input": "2025-03-26T23:18:34.280202Z",
     "iopub.status.busy": "2025-03-26T23:18:34.279868Z",
     "iopub.status.idle": "2025-03-26T23:18:34.537460Z",
     "shell.execute_reply": "2025-03-26T23:18:34.536917Z",
     "shell.execute_reply.started": "2025-03-26T23:18:34.280185Z"
    }
   },
   "outputs": [
    {
     "name": "stdout",
     "output_type": "stream",
     "text": [
      "+----------+------------------------------+--------------------+\n",
      "|class_name|average_pixel_confidence_score|         merged_geom|\n",
      "+----------+------------------------------+--------------------+\n",
      "|Solar Farm|            0.7286568330485138|MULTIPOLYGON (((-...|\n",
      "|Solar Farm|            0.7294218450770167|MULTIPOLYGON (((-...|\n",
      "|Solar Farm|            0.7188649818161937|MULTIPOLYGON (((-...|\n",
      "|Solar Farm|            0.6820009731013199|MULTIPOLYGON (((-...|\n",
      "|Solar Farm|            0.6695923854907354|MULTIPOLYGON (((-...|\n",
      "|Solar Farm|            0.6552104502916336|MULTIPOLYGON (((-...|\n",
      "|Solar Farm|             0.685034977197647|MULTIPOLYGON (((-...|\n",
      "|Solar Farm|            0.7190956801927391|MULTIPOLYGON (((-...|\n",
      "|Solar Farm|            0.7005984794009815|MULTIPOLYGON (((-...|\n",
      "|Solar Farm|            0.7210535692758772|MULTIPOLYGON (((-...|\n",
      "|Solar Farm|            0.7114970471961367|MULTIPOLYGON (((-...|\n",
      "|Solar Farm|            0.7299215634466856|MULTIPOLYGON (((-...|\n",
      "|Solar Farm|            0.6640074610710144|MULTIPOLYGON (((-...|\n",
      "|Solar Farm|            0.6859045033653577|MULTIPOLYGON (((-...|\n",
      "|Solar Farm|            0.6734482944011688|MULTIPOLYGON (((-...|\n",
      "|Solar Farm|            0.7245995342398489|MULTIPOLYGON (((-...|\n",
      "|Solar Farm|            0.7095007328281081|MULTIPOLYGON (((-...|\n",
      "|Solar Farm|            0.7260445551266745|MULTIPOLYGON (((-...|\n",
      "|Solar Farm|              0.72249259273694|MULTIPOLYGON (((-...|\n",
      "|Solar Farm|            0.7264569880693433|MULTIPOLYGON (((-...|\n",
      "+----------+------------------------------+--------------------+\n",
      "only showing top 20 rows\n",
      "\n"
     ]
    }
   ],
   "source": [
    "df_filtered_predictions.show()"
   ]
  },
  {
   "cell_type": "markdown",
   "id": "b8269f80",
   "metadata": {},
   "source": [
    "We'll plot these with SedonaKepler. Compare the satellite basemap with the predictions and see if there's a match!"
   ]
  },
  {
   "cell_type": "code",
   "execution_count": 32,
   "id": "a153615b-83e8-4a7b-8f21-efea59a93808",
   "metadata": {
    "execution": {
     "iopub.execute_input": "2025-03-26T23:18:37.651556Z",
     "iopub.status.busy": "2025-03-26T23:18:37.651287Z",
     "iopub.status.idle": "2025-03-26T23:18:38.239791Z",
     "shell.execute_reply": "2025-03-26T23:18:38.239289Z",
     "shell.execute_reply.started": "2025-03-26T23:18:37.651540Z"
    }
   },
   "outputs": [
    {
     "name": "stdout",
     "output_type": "stream",
     "text": [
      "User Guide: https://docs.kepler.gl/docs/keplergl-jupyter\n"
     ]
    },
    {
     "data": {
      "application/vnd.jupyter.widget-view+json": {
       "model_id": "3437387a26684b7a9f77fa16012ffea3",
       "version_major": 2,
       "version_minor": 0
      },
      "text/plain": [
       "KeplerGl(data={'Solar Farm Detections': {'index': [0, 1, 2, 3, 4, 5, 6, 7, 8, 9, 10, 11, 12, 13, 14, 15, 16, 1…"
      ]
     },
     "execution_count": 32,
     "metadata": {},
     "output_type": "execute_result"
    }
   ],
   "source": [
    "from sedona.maps.SedonaKepler import SedonaKepler\n",
    "\n",
    "map = SedonaKepler.create_map()\n",
    "\n",
    "SedonaKepler.add_df(map, df=df_filtered_predictions, name=\"Solar Farm Detections\")\n",
    "map"
   ]
  },
  {
   "cell_type": "markdown",
   "id": "2952aaa1-9479-4bc5-98bc-461bc604bf48",
   "metadata": {},
   "source": [
    "### wherobots.inference Python API\n",
    "\n",
    "If you prefer python, wherobots.inference offers a module for registering the SQL inference functions as python functions. Below we run the same inference as before with RS_SEGMENT."
   ]
  },
  {
   "cell_type": "code",
   "execution_count": null,
   "id": "3e631a91-6837-4bfe-a50f-6968eaac6933",
   "metadata": {},
   "outputs": [],
   "source": [
    "from wherobots.inference.engine.register import create_semantic_segmentation_udfs\n",
    "from pyspark.sql.functions import col\n",
    "rs_segment =  create_semantic_segmentation_udfs(batch_size = 9, sedona=sedona)\n",
    "df = df_raster_input.withColumn(\"segment_result\", rs_segment(model_id, col(\"rast\"))).select(\n",
    "                               \"rast\",\n",
    "                               col(\"segment_result.confidence_array\").alias(\"confidence_array\"),\n",
    "                               col(\"segment_result.class_map\").alias(\"class_map\")\n",
    "                           )\n",
    "df.show(3)"
   ]
  },
  {
   "cell_type": "markdown",
   "id": "0f379e56-6fdf-4825-9bb7-024781dea77d",
   "metadata": {},
   "source": [
    "### References\n",
    "\n",
    "1. Bastani, Favyen, Wolters, Piper, Gupta, Ritwik, Ferdinando, Joe, and Kembhavi, Aniruddha. \"SatlasPretrain: A Large-Scale Dataset for Remote Sensing Image Understanding.\" *arXiv preprint arXiv:2211.15660* (2023). [https://doi.org/10.48550/arXiv.2211.15660](https://doi.org/10.48550/arXiv.2211.15660)"
   ]
  }
 ],
 "metadata": {
  "kernelspec": {
   "display_name": "Python 3 (ipykernel)",
   "language": "python",
   "name": "python3"
  },
  "language_info": {
   "codemirror_mode": {
    "name": "ipython",
    "version": 3
   },
   "file_extension": ".py",
   "mimetype": "text/x-python",
   "name": "python",
   "nbconvert_exporter": "python",
   "pygments_lexer": "ipython3",
   "version": "3.11.11"
  }
 },
 "nbformat": 4,
 "nbformat_minor": 5
}
