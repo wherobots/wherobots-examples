{
 "cells": [
  {
   "cell_type": "markdown",
   "id": "886afed2",
   "metadata": {},
   "source": [
    "# Zonal Statistics: BigQuery + Earth Engine Comparison\n",
    "\n",
    "Welcome! In this notebook, we'll walk through how to perform **zonal statistics**:\n",
    "- A **ESA World Cover** raster dataset loaded from AWS Open Data\n",
    "- Overture Maps Building footprints with a **30 meter** buffer in Dallas and the entire state of Texas\n",
    "\n",
    "This notebook goes along with a blog post showing the performance comparison for the same process with BigQuery and Google Earth Engine"
   ]
  },
  {
   "cell_type": "code",
   "execution_count": 1,
   "id": "af622814",
   "metadata": {},
   "outputs": [
    {
     "name": "stderr",
     "output_type": "stream",
     "text": [
      "Setting default log level to \"WARN\".\n",
      "To adjust logging level use sc.setLogLevel(newLevel). For SparkR, use setLogLevel(newLevel).\n",
      "                                                                                \r"
     ]
    }
   ],
   "source": [
    "from sedona.spark import SedonaContext\n",
    "\n",
    "# Create or get a Wherobots session\n",
    "config = SedonaContext.builder().getOrCreate()\n",
    "\n",
    "# Initialize the Sedona context which powers spatial processing\n",
    "sedona = SedonaContext.create(config)\n",
    "\n",
    "# ✅ Sedona session ready!"
   ]
  },
  {
   "cell_type": "code",
   "execution_count": 2,
   "id": "a8f558a7",
   "metadata": {
    "execution": {
     "iopub.execute_input": "2025-06-02T15:52:13.304537Z",
     "iopub.status.busy": "2025-06-02T15:52:13.304246Z",
     "iopub.status.idle": "2025-06-02T15:52:14.451658Z",
     "shell.execute_reply": "2025-06-02T15:52:14.450908Z",
     "shell.execute_reply.started": "2025-06-02T15:52:13.304521Z"
    }
   },
   "outputs": [
    {
     "name": "stdout",
     "output_type": "stream",
     "text": [
      "root\n",
      " |-- stac_version: string (nullable = false)\n",
      " |-- stac_extensions: array (nullable = true)\n",
      " |    |-- element: string (containsNull = true)\n",
      " |-- type: string (nullable = false)\n",
      " |-- id: string (nullable = false)\n",
      " |-- bbox: array (nullable = true)\n",
      " |    |-- element: double (containsNull = true)\n",
      " |-- geometry: geometry (nullable = true)\n",
      " |-- title: string (nullable = true)\n",
      " |-- description: string (nullable = true)\n",
      " |-- datetime: timestamp (nullable = true)\n",
      " |-- start_datetime: timestamp (nullable = true)\n",
      " |-- end_datetime: timestamp (nullable = true)\n",
      " |-- created: timestamp (nullable = true)\n",
      " |-- updated: timestamp (nullable = true)\n",
      " |-- platform: string (nullable = true)\n",
      " |-- instruments: array (nullable = true)\n",
      " |    |-- element: string (containsNull = true)\n",
      " |-- constellation: string (nullable = true)\n",
      " |-- mission: string (nullable = true)\n",
      " |-- gsd: double (nullable = true)\n",
      " |-- grid:code: string (nullable = true)\n",
      " |-- eo:cloud_cover: double (nullable = true)\n",
      " |-- eo:snow_cover: double (nullable = true)\n",
      " |-- collection: string (nullable = true)\n",
      " |-- links: array (nullable = true)\n",
      " |    |-- element: struct (containsNull = true)\n",
      " |    |    |-- rel: string (nullable = true)\n",
      " |    |    |-- href: string (nullable = true)\n",
      " |    |    |-- type: string (nullable = true)\n",
      " |    |    |-- title: string (nullable = true)\n",
      " |-- assets: map (nullable = true)\n",
      " |    |-- key: string\n",
      " |    |-- value: struct (valueContainsNull = true)\n",
      " |    |    |-- href: string (nullable = true)\n",
      " |    |    |-- type: string (nullable = true)\n",
      " |    |    |-- title: string (nullable = true)\n",
      " |    |    |-- roles: array (nullable = true)\n",
      " |    |    |    |-- element: string (containsNull = true)\n",
      " |    |    |-- rast: raster (nullable = true)\n",
      "\n"
     ]
    }
   ],
   "source": [
    "# Let's ingest the ESA WorldCover collection. This DataFrame includes metadata and URLs for each raster band.\n",
    "\n",
    "stac_df = sedona.read.format(\"stac\").load(\n",
    "    \"https://services.terrascope.be/stac/collections/urn:eop:VITO:ESA_WorldCover_10m_2021_AWS_V2\"\n",
    ")\n",
    "\n",
    "stac_df.printSchema()\n",
    "\n",
    "# ✅ STAC items loaded!"
   ]
  },
  {
   "cell_type": "markdown",
   "id": "03613096",
   "metadata": {},
   "source": [
    "### 🔑 Key Fields in `stac_df`:\n",
    "- `id`: Unique STAC item identifier 🆔\n",
    "- `properties`: Scene metadata (acquisition date, cloud cover, etc.) 📅☁️\n",
    "- `assets`: Map of band names to asset objects (including URLs) 🎞️"
   ]
  },
  {
   "cell_type": "code",
   "execution_count": 2,
   "id": "ef22759a-53c3-4b4c-8f07-068c762c69c5",
   "metadata": {
    "execution": {
     "iopub.execute_input": "2025-06-18T15:59:22.798681Z",
     "iopub.status.busy": "2025-06-18T15:59:22.798157Z",
     "iopub.status.idle": "2025-06-18T15:59:34.313974Z",
     "shell.execute_reply": "2025-06-18T15:59:34.313363Z",
     "shell.execute_reply.started": "2025-06-18T15:59:22.798647Z"
    }
   },
   "outputs": [
    {
     "name": "stderr",
     "output_type": "stream",
     "text": [
      "                                                                                \r"
     ]
    }
   ],
   "source": [
    "# Load the ESA WorldCover data directly from S3\n",
    "\n",
    "esa = sedona.read.format(\"raster\")\\\n",
    "    .option(\"retile\", \"true\")\\\n",
    "    .load(\"s3://esa-worldcover/v200/2021/map/*.tif*\")"
   ]
  },
  {
   "cell_type": "code",
   "execution_count": 3,
   "id": "0b220955-9906-448b-83bd-4e5f0220b16d",
   "metadata": {
    "execution": {
     "iopub.execute_input": "2025-06-18T15:59:34.315318Z",
     "iopub.status.busy": "2025-06-18T15:59:34.315003Z",
     "iopub.status.idle": "2025-06-18T15:59:53.572014Z",
     "shell.execute_reply": "2025-06-18T15:59:53.571326Z",
     "shell.execute_reply.started": "2025-06-18T15:59:34.315295Z"
    }
   },
   "outputs": [
    {
     "name": "stderr",
     "output_type": "stream",
     "text": [
      "[Stage 4:>                                                          (0 + 1) / 1]\r"
     ]
    },
    {
     "name": "stdout",
     "output_type": "stream",
     "text": [
      "+--------------------+---+---+--------------------+\n",
      "|                rast|  x|  y|                name|\n",
      "+--------------------+---+---+--------------------+\n",
      "|OutDbGridCoverage...| 18| 10|ESA_WorldCover_10...|\n",
      "|OutDbGridCoverage...| 23| 27|ESA_WorldCover_10...|\n",
      "|OutDbGridCoverage...| 10| 21|ESA_WorldCover_10...|\n",
      "|OutDbGridCoverage...|  8| 30|ESA_WorldCover_10...|\n",
      "|OutDbGridCoverage...| 16| 31|ESA_WorldCover_10...|\n",
      "|OutDbGridCoverage...| 21| 33|ESA_WorldCover_10...|\n",
      "|OutDbGridCoverage...| 12|  0|ESA_WorldCover_10...|\n",
      "|OutDbGridCoverage...| 13| 14|ESA_WorldCover_10...|\n",
      "|OutDbGridCoverage...| 32| 33|ESA_WorldCover_10...|\n",
      "|OutDbGridCoverage...| 18| 16|ESA_WorldCover_10...|\n",
      "|OutDbGridCoverage...| 13| 25|ESA_WorldCover_10...|\n",
      "|OutDbGridCoverage...| 28|  7|ESA_WorldCover_10...|\n",
      "|OutDbGridCoverage...|  1| 24|ESA_WorldCover_10...|\n",
      "|OutDbGridCoverage...|  4|  0|ESA_WorldCover_10...|\n",
      "|OutDbGridCoverage...|  1|  8|ESA_WorldCover_10...|\n",
      "|OutDbGridCoverage...|  0|  8|ESA_WorldCover_10...|\n",
      "|OutDbGridCoverage...|  6| 26|ESA_WorldCover_10...|\n",
      "|OutDbGridCoverage...| 34| 23|ESA_WorldCover_10...|\n",
      "|OutDbGridCoverage...|  4|  0|ESA_WorldCover_10...|\n",
      "|OutDbGridCoverage...| 35| 31|ESA_WorldCover_10...|\n",
      "+--------------------+---+---+--------------------+\n",
      "only showing top 20 rows\n",
      "\n"
     ]
    },
    {
     "name": "stderr",
     "output_type": "stream",
     "text": [
      "                                                                                \r"
     ]
    }
   ],
   "source": [
    "esa.show()"
   ]
  },
  {
   "cell_type": "code",
   "execution_count": 4,
   "id": "5a7b251a-a44a-4068-b7c9-c198797ce27a",
   "metadata": {
    "execution": {
     "iopub.execute_input": "2025-06-18T15:59:53.572985Z",
     "iopub.status.busy": "2025-06-18T15:59:53.572789Z",
     "iopub.status.idle": "2025-06-18T15:59:53.596229Z",
     "shell.execute_reply": "2025-06-18T15:59:53.595588Z",
     "shell.execute_reply.started": "2025-06-18T15:59:53.572965Z"
    }
   },
   "outputs": [],
   "source": [
    "# Create a new catalog in Wherobots\n",
    "esa.createOrReplaceTempView(\"esa_outdb_rasters\")"
   ]
  },
  {
   "cell_type": "code",
   "execution_count": 5,
   "id": "7185c638-7c55-4118-8eff-c2a0b7759c68",
   "metadata": {
    "execution": {
     "iopub.execute_input": "2025-06-18T15:59:53.597759Z",
     "iopub.status.busy": "2025-06-18T15:59:53.597275Z",
     "iopub.status.idle": "2025-06-18T15:59:53.661228Z",
     "shell.execute_reply": "2025-06-18T15:59:53.660734Z",
     "shell.execute_reply.started": "2025-06-18T15:59:53.597736Z"
    }
   },
   "outputs": [],
   "source": [
    "YOUR_CATALOG_NAME = 'esa'"
   ]
  },
  {
   "cell_type": "code",
   "execution_count": 12,
   "id": "f9388208-9849-4c34-ad6c-53a140ff5b3a",
   "metadata": {
    "execution": {
     "iopub.execute_input": "2025-06-18T16:03:41.740009Z",
     "iopub.status.busy": "2025-06-18T16:03:41.739518Z",
     "iopub.status.idle": "2025-06-18T16:03:41.787952Z",
     "shell.execute_reply": "2025-06-18T16:03:41.786843Z",
     "shell.execute_reply.started": "2025-06-18T16:03:41.739985Z"
    }
   },
   "outputs": [
    {
     "data": {
      "text/plain": [
       "DataFrame[]"
      ]
     },
     "execution_count": 12,
     "metadata": {},
     "output_type": "execute_result"
    }
   ],
   "source": [
    "sedona.sql(f\"\"\"CREATE DATABASE IF NOT EXISTS wherobots.{YOUR_CATALOG_NAME}\"\"\")"
   ]
  },
  {
   "cell_type": "code",
   "execution_count": 13,
   "id": "b49458cf-fad4-4085-8131-1e3923746119",
   "metadata": {
    "execution": {
     "iopub.execute_input": "2025-06-18T16:03:42.488821Z",
     "iopub.status.busy": "2025-06-18T16:03:42.487646Z",
     "iopub.status.idle": "2025-06-18T16:04:26.636712Z",
     "shell.execute_reply": "2025-06-18T16:04:26.636219Z",
     "shell.execute_reply.started": "2025-06-18T16:03:42.488796Z"
    }
   },
   "outputs": [
    {
     "name": "stderr",
     "output_type": "stream",
     "text": [
      "                                                                                \r"
     ]
    },
    {
     "data": {
      "text/plain": [
       "DataFrame[]"
      ]
     },
     "execution_count": 13,
     "metadata": {},
     "output_type": "execute_result"
    }
   ],
   "source": [
    "# Persist as a raster table in Iceberg\n",
    "sedona.sql(f\"\"\"\n",
    "CREATE OR REPLACE TABLE wherobots.{YOUR_CATALOG_NAME}.esa_world_cover\n",
    "AS\n",
    "SELECT * FROM esa_outdb_rasters\n",
    "\"\"\")\n",
    "\n",
    "# ✅ Out‑DB raster table created!"
   ]
  },
  {
   "cell_type": "markdown",
   "id": "1f40d01f-8fd1-4885-9cec-d584f2b7d44a",
   "metadata": {},
   "source": [
    "# Filter your data\n",
    "\n",
    "Select the boudning box you want to use. The top box is for the entire state of Texas, the second one (uncommented) is for a smaller sample area around Dallas."
   ]
  },
  {
   "cell_type": "code",
   "execution_count": 14,
   "id": "658283d4-36c7-484b-bb46-43a05324a258",
   "metadata": {
    "execution": {
     "iopub.execute_input": "2025-06-18T16:04:26.637724Z",
     "iopub.status.busy": "2025-06-18T16:04:26.637534Z",
     "iopub.status.idle": "2025-06-18T16:04:26.640258Z",
     "shell.execute_reply": "2025-06-18T16:04:26.639855Z",
     "shell.execute_reply.started": "2025-06-18T16:04:26.637711Z"
    }
   },
   "outputs": [],
   "source": [
    "# tx = 'POLYGON((-106.5715 31.8659,-106.5042 31.7504,-106.3092 31.6242,-106.2103 31.4638,-106.0181 31.3912,-105.7874 31.1846,-105.5663 31.0012,-105.4015 30.8456,-105.0032 30.6462,-104.8521 30.3847,-104.7437 30.2591,-104.6915 30.0738,-104.6777 29.9169,-104.5679 29.7644,-104.5280 29.6475,-104.4044 29.5603,-104.2067 29.4719,-104.1559 29.3834,-103.9774 29.2948,-103.9128 29.2804,-103.8208 29.2481,-103.5640 29.1378,-103.4692 29.0682,-103.3154 29.0105,-103.1616 28.9601,-103.0957 29.0177,-103.0298 29.1330,-102.8677 29.2157,-102.8979 29.2565,-102.8375 29.3570,-102.8004 29.4898,-102.7002 29.6881,-102.5134 29.7691,-102.3843 29.7596,-102.3047 29.8788,-102.1509 29.7834,-101.7004 29.7572,-101.4917 29.7644,-101.2939 29.6308,-101.2582 29.5269,-101.0056 29.3642,-100.9204 29.3056,-100.7707 29.1642,-100.7007 29.0946,-100.6306 28.9012,-100.4974 28.6593,-100.3601 28.4675,-100.2969 28.2778,-100.1733 28.1882,-100.0195 28.0526,-99.9344 27.9435,-99.8438 27.7638,-99.7119 27.6641,-99.4812 27.4839,-99.5375 27.3059,-99.4290 27.1948,-99.4455 27.0175,-99.3164 26.8829,-99.2065 26.6867,-99.0967 26.4116,-98.8138 26.3574,-98.6668 26.2257,-98.5474 26.2343,-98.3276 26.1357,-98.1697 26.0457,-97.9143 26.0518,-97.6643 26.0050,-97.4020 25.8419,-97.3526 25.9074,-97.0148 25.9679,-97.0697 26.1789,-97.2249 26.8253,-97.0752 27.4230,-96.6096 28.0599,-95.9285 28.4228,-95.3036 28.7568,-94.7296 29.0742,-94.3355 29.3810,-93.8205 29.6021,-93.9317 29.8013,-93.8136 29.9157,-93.7230 30.0489,-93.6996 30.1214,-93.7216 30.2021,-93.7038 30.2792,-93.7628 30.3278,-93.7587 30.3835,-93.7010 30.4380,-93.7024 30.5079,-93.7299 30.5362,-93.6694 30.6296,-93.6090 30.7466,-93.5527 30.8114,-93.5747 30.8834,-93.5307 30.9376,-93.5074 31.0318,-93.5266 31.0812,-93.5335 31.1787,-93.5980 31.1670,-93.6832 31.3055,-93.6708 31.3830,-93.6887 31.4369,-93.7202 31.5107,-93.8315 31.5820,-93.8123 31.6440,-93.8232 31.7188,-93.8342 31.7936,-93.8782 31.8309,-93.9221 31.8869,-93.9661 31.9335,-94.0430 32.0081,-94.0430 33.4681,-94.0430 33.5414,-94.1528 33.5689,-94.1968 33.5872,-94.2627 33.5872,-94.3176 33.5689,-94.3945 33.5597,-94.4275 33.5780,-94.4275 33.6055,-94.4495 33.6421,-94.4879 33.6329,-94.5236 33.6421,-94.6637 33.6695,-94.7461 33.7061,-94.8999 33.7791,-95.0757 33.8818,-95.1526 33.9251,-95.2254 33.9604,-95.2858 33.8750,-95.5399 33.8841,-95.7568 33.8887,-95.8420 33.8408,-96.0274 33.8556,-96.3528 33.6901,-96.6179 33.8442,-96.5836 33.8898,-96.6673 33.8955,-96.7538 33.8179,-96.8335 33.8613,-96.8774 33.8613,-96.9159 33.9388,-97.0917 33.7392,-97.1645 33.7449,-97.2180 33.8978,-97.3746 33.8225,-97.4611 33.8305,-97.4460 33.8761,-97.6945 33.9798,-97.8648 33.8476,-97.9651 33.8978,-98.0983 34.0299,-98.1752 34.1141,-98.3743 34.1425,-98.4773 34.0640,-98.5529 34.1209,-98.7520 34.1232,-98.9539 34.2095,-99.0637 34.2073,-99.1832 34.2141,-99.2505 34.3593,-99.3823 34.4613,-99.4318 34.3774,-99.5718 34.4160,-99.6158 34.3706,-99.8094 34.4726,-99.9934 34.5631,-100.0017 36.4975,-103.0408 36.5008,-103.0655 32.0011,-106.6168 32.0023,-106.5715 31.8659))'\n",
    "\n",
    "# Dallas Only\n",
    "\n",
    "tx = 'POLYGON((-97.000482 33.023937, -96.463632 33.023937, -96.463632 32.613222, -97.000482 32.613222, -97.000482 33.023937))'"
   ]
  },
  {
   "cell_type": "code",
   "execution_count": 15,
   "id": "5882b274",
   "metadata": {
    "execution": {
     "iopub.execute_input": "2025-06-18T16:04:26.641050Z",
     "iopub.status.busy": "2025-06-18T16:04:26.640785Z",
     "iopub.status.idle": "2025-06-18T16:04:30.923745Z",
     "shell.execute_reply": "2025-06-18T16:04:30.922779Z",
     "shell.execute_reply.started": "2025-06-18T16:04:26.641037Z"
    }
   },
   "outputs": [
    {
     "name": "stderr",
     "output_type": "stream",
     "text": [
      "                                                                                \r"
     ]
    },
    {
     "data": {
      "text/plain": [
       "718480"
      ]
     },
     "execution_count": 15,
     "metadata": {},
     "output_type": "execute_result"
    }
   ],
   "source": [
    "buildings = sedona.read.format(\"iceberg\").load(\n",
    "    \"wherobots_open_data.overture.buildings_building\")\n",
    "\n",
    "buildings.createOrReplaceTempView('buildings')\n",
    "\n",
    "buildings_filtered = sedona.sql(f'''select *, \n",
    "    st_buffer(st_transform(geometry, 'epsg:4326', 'epsg:3857'), 30) as buffer \n",
    "    from buildings \n",
    "    where st_intersects(geometry, st_geomfromtext('{tx}'))''')\n",
    "\n",
    "buildings_filtered = buildings_filtered.repartition(200)\n",
    "\n",
    "buildings_filtered.createOrReplaceTempView('buildings_filtered')\n",
    "\n",
    "buildings_filtered.count()\n",
    "\n",
    "# ✅ Isochrone table loaded!"
   ]
  },
  {
   "cell_type": "code",
   "execution_count": 16,
   "id": "b18597d8-e2bf-4133-9613-3500a15fcd86",
   "metadata": {
    "execution": {
     "iopub.execute_input": "2025-06-18T16:04:30.925123Z",
     "iopub.status.busy": "2025-06-18T16:04:30.924847Z",
     "iopub.status.idle": "2025-06-18T16:04:39.741222Z",
     "shell.execute_reply": "2025-06-18T16:04:39.740517Z",
     "shell.execute_reply.started": "2025-06-18T16:04:30.925103Z"
    }
   },
   "outputs": [
    {
     "name": "stderr",
     "output_type": "stream",
     "text": [
      "                                                                                \r"
     ]
    },
    {
     "data": {
      "text/plain": [
       "DataFrame[]"
      ]
     },
     "execution_count": 16,
     "metadata": {},
     "output_type": "execute_result"
    }
   ],
   "source": [
    "# Persist buildings as a raster table in Iceberg\n",
    "\n",
    "sedona.sql(f\"\"\"\n",
    "CREATE OR REPLACE TABLE wherobots.{YOUR_CATALOG_NAME}.texas_buildings\n",
    "AS\n",
    "SELECT * FROM buildings_filtered\n",
    "\"\"\")"
   ]
  },
  {
   "cell_type": "markdown",
   "id": "7d958d52-b356-4de1-9ca7-caffb4d27458",
   "metadata": {},
   "source": [
    "# Run zonal stats"
   ]
  },
  {
   "cell_type": "code",
   "execution_count": 17,
   "id": "a1828987",
   "metadata": {
    "execution": {
     "iopub.execute_input": "2025-06-18T16:04:39.741962Z",
     "iopub.status.busy": "2025-06-18T16:04:39.741840Z",
     "iopub.status.idle": "2025-06-18T16:04:40.009313Z",
     "shell.execute_reply": "2025-06-18T16:04:40.008697Z",
     "shell.execute_reply.started": "2025-06-18T16:04:39.741950Z"
    },
    "scrolled": true
   },
   "outputs": [],
   "source": [
    "zonal_stats_df = sedona.sql(f\"\"\"\n",
    "SELECT /*+  BROADCAST(p) */ \n",
    "  p.id,\n",
    "  RS_ZonalStatsAll(r.rast, p.buffer, 1) AS stats\n",
    "FROM\n",
    "  wherobots.{YOUR_CATALOG_NAME}.texas_buildings p\n",
    "JOIN\n",
    "  wherobots.{YOUR_CATALOG_NAME}.esa_world_cover r\n",
    "  ON RS_Intersects(r.rast, p.buffer)\n",
    "\"\"\")\n",
    "\n",
    "# ✅ Zonal stats computed!"
   ]
  },
  {
   "cell_type": "code",
   "execution_count": 18,
   "id": "90410396-6985-4f42-b469-34ca6c9bbb93",
   "metadata": {
    "execution": {
     "iopub.execute_input": "2025-06-18T16:04:40.010301Z",
     "iopub.status.busy": "2025-06-18T16:04:40.010068Z",
     "iopub.status.idle": "2025-06-18T16:04:40.013381Z",
     "shell.execute_reply": "2025-06-18T16:04:40.012884Z",
     "shell.execute_reply.started": "2025-06-18T16:04:40.010284Z"
    }
   },
   "outputs": [],
   "source": [
    "import os\n",
    "user_uri = os.getenv(\"USER_S3_PATH\")"
   ]
  },
  {
   "cell_type": "code",
   "execution_count": 19,
   "id": "144d9845-2312-4da7-b424-67d5b03cbb75",
   "metadata": {
    "execution": {
     "iopub.execute_input": "2025-06-18T16:04:40.014144Z",
     "iopub.status.busy": "2025-06-18T16:04:40.013973Z",
     "iopub.status.idle": "2025-06-18T16:09:48.407108Z",
     "shell.execute_reply": "2025-06-18T16:09:48.406731Z",
     "shell.execute_reply.started": "2025-06-18T16:04:40.014126Z"
    }
   },
   "outputs": [
    {
     "name": "stderr",
     "output_type": "stream",
     "text": [
      "[Stage 53:=====================================================>(575 + 1) / 576]\r"
     ]
    },
    {
     "name": "stdout",
     "output_type": "stream",
     "text": [
      "37.7 s ± 2.06 s per loop (mean ± std. dev. of 7 runs, 1 loop each)\n"
     ]
    },
    {
     "name": "stderr",
     "output_type": "stream",
     "text": [
      "25/06/18 16:10:05 WARN ExecutorPodsWatchSnapshotSource: Kubernetes client has been closed.\n"
     ]
    }
   ],
   "source": [
    "%%timeit\n",
    "\n",
    "# Creates a loop to test the performance using a fake file writer to showthe output of the entire dataset\n",
    "\n",
    "zonal_stats_df.write.format(\"noop\").mode(\"overwrite\").save(user_uri + \"/fakeOutput\")"
   ]
  },
  {
   "cell_type": "code",
   "execution_count": null,
   "id": "98e1b838-00bf-483a-944c-e31c2a5ea0cd",
   "metadata": {},
   "outputs": [],
   "source": []
  }
 ],
 "metadata": {
  "kernelspec": {
   "display_name": "Python 3 (ipykernel)",
   "language": "python",
   "name": "python3"
  },
  "language_info": {
   "codemirror_mode": {
    "name": "ipython",
    "version": 3
   },
   "file_extension": ".py",
   "mimetype": "text/x-python",
   "name": "python",
   "nbconvert_exporter": "python",
   "pygments_lexer": "ipython3",
   "version": "3.11.13"
  }
 },
 "nbformat": 4,
 "nbformat_minor": 5
}
