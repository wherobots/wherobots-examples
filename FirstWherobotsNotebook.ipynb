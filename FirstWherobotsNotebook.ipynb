{
 "cells": [
  {
   "cell_type": "markdown",
   "id": "9b94b2f1-7f05-4ceb-86b9-50755df240a6",
   "metadata": {},
   "source": [
    "![](https://wherobots.com/wp-content/uploads/2023/12/Inline-Blue_Black_onWhite@3x.png)\n",
    "\n",
    "# Your First Wherobots Cloud Notebook\n",
    "\n",
    "Welcome to Wherobots Cloud! This notebook will introduce some basic concepts of working with spatial data in WherobotsDB including:\n",
    "\n",
    "* Introducing the Wherobots Open Data Catalog\n",
    "* Querying data with Spatial SQL\n",
    "* Creating geospatial visualizations in the Wherobots Cloud notebook environment\n",
    "\n",
    "Along the way we'll introduce some important concepts for working with WherobotsDB like the Spatial DataFrame data structure and querying WherobotsDB databases and tables using Spatial SQL.\n",
    "\n",
    "Let's get started!"
   ]
  },
  {
   "cell_type": "markdown",
   "id": "e46ec2af-33de-42ca-aec0-2ab0e19e40cc",
   "metadata": {},
   "source": [
    "This video provides a short overview of the Wherobots Cloud platform"
   ]
  },
  {
   "cell_type": "code",
   "execution_count": null,
   "id": "c960808f-d52b-4754-93a0-c54fb7fbbb5f",
   "metadata": {},
   "outputs": [],
   "source": [
    "from IPython.display import YouTubeVideo\n",
    "YouTubeVideo('ErkhBuUz-LM', width=560, height=315)"
   ]
  },
  {
   "cell_type": "markdown",
   "id": "18b9f4de-a28c-49e3-b0be-f255790516fa",
   "metadata": {},
   "source": [
    "# The Wherobots Notebook Experience\n",
    "\n",
    "The Wherobots notebook experience is the main developer interface for working with WherobotsDB. This Jupyter environment allows for running existing notebooks in Python or Scala, creating new notebooks, and loading external notebooks including via git version control. You can run each cell individually or select Run >> Run All Cells from the menu to execute the entire notebook."
   ]
  },
  {
   "cell_type": "markdown",
   "id": "24c235de-96e5-46c2-a227-d79140858501",
   "metadata": {},
   "source": [
    "# Configuring Sedona and Spark\n",
    "\n",
    "WherobotsDB is a distributed geospatial analytics database engine powered by Apache Sedona and that runs on top of Apache Spark. Wherobots Cloud takes care of managing the Spark cluster so you don't need to think about Spark and can instead focus on your data analysis.\n",
    "\n",
    "To get started with WherobotsDB we first need to create a `SedonaContext` object. The `SedonaContext` can contain optional configuration for defining what cloud object stores or other data sources our environment is able to access. Your organization's catalogs and the [Wherobots Open Data catalogs](https://docs.wherobots.com/latest/tutorials/opendata/introduction/) are always automatically configured so they're readily available in your notebooks and jobs."
   ]
  },
  {
   "cell_type": "code",
   "execution_count": null,
   "id": "8ff66e4b-cbf9-4a0f-9fc1-7872984d8f19",
   "metadata": {},
   "outputs": [],
   "source": [
    "from sedona.spark import *\n",
    "\n",
    "config = SedonaContext.builder().getOrCreate()\n",
    "sedona = SedonaContext.create(config)"
   ]
  },
  {
   "cell_type": "markdown",
   "id": "87c4acf2-2c74-49eb-a47f-e8db4a3365ce",
   "metadata": {},
   "source": [
    "# Working With Data - The Wherobots Open Data Catalog\n",
    "\n",
    "Wherobots Cloud includes access to the [Wherobots Open Data Catalog](https://docs.wherobots.com/latest/tutorials/opendata/introduction/), a collection of open datasets that have been curated and transformed into the [Havasu spatial table format](https://docs.wherobots.com/latest/references/havasu/introduction/) for fast efficient geospatial processing.\n",
    "\n",
    "Community (free tier) users have access to data from the Overture Maps dataset through the `wherobots_open_data` catalog. Upgrading to the Professional Edition includes access to the `wherobots_pro_data` catalog with many additional datasets including weather, wildfire, and surface temperature, US Census, transportation data, and more.\n",
    "\n",
    "To access the open data tables we can first list all databases in the `wherobots_open_data` catalog:"
   ]
  },
  {
   "cell_type": "code",
   "execution_count": null,
   "id": "8a0d787c-7bf3-4825-8ed9-5e5423d88a22",
   "metadata": {},
   "outputs": [],
   "source": [
    "sedona.sql(\"SHOW SCHEMAS IN wherobots_open_data\").show()"
   ]
  },
  {
   "cell_type": "markdown",
   "id": "e9b087a7-a432-464d-b182-c79c55e15b5b",
   "metadata": {},
   "source": [
    "Next, we can view each table available in the `overture` database:"
   ]
  },
  {
   "cell_type": "code",
   "execution_count": null,
   "id": "a7ec80f9-105b-4e20-a5d1-8d0456a8d83a",
   "metadata": {},
   "outputs": [],
   "source": [
    "sedona.sql(\"SHOW tables IN wherobots_open_data.overture\").show(truncate=False)"
   ]
  },
  {
   "cell_type": "markdown",
   "id": "3859dc3d-7ae8-45f4-8a2f-60dcb0382ff2",
   "metadata": {},
   "source": [
    "Each table has a rich schema as described in the [Overture Maps documentation](https://docs.overturemaps.org/). Here we view the schema of the `places_place` table:"
   ]
  },
  {
   "cell_type": "code",
   "execution_count": null,
   "id": "94d47328-d30c-4cec-8b6a-4297248479b4",
   "metadata": {},
   "outputs": [],
   "source": [
    "sedona.table(\"wherobots_open_data.overture.places_place\").printSchema()"
   ]
  },
  {
   "cell_type": "markdown",
   "id": "c3030634-8cf5-4244-a45b-a9565b60df69",
   "metadata": {},
   "source": [
    "# Spatial SQL\n",
    "\n",
    "We can use Spatial SQL to query data with WherobotsDB. Spatial SQL extends SQL by adding many functions for working with spatial data. These SQL functions begin with either `ST_` for working with vector data or `RS_` for working with raster data. You can find more information about these spatial SQL functions in the [reference documentation.](https://docs.wherobots.com/latest/references/wherobotsdb/vector-data/Overview/)\n",
    "\n",
    "Let's look at some examples using Spatial SQL to query the Overture data, using the following Spatial SQL functions:\n",
    "\n",
    "* [`ST_GeomFromWKT`](https://docs.wherobots.com/latest/references/wherobotsdb/vector-data/Constructor/?h=st_geomfromwkt#st_geomfromwkt) - create a geometry from Well Known Text (WKT) format \n",
    "* [`ST_DistanceSphere`](https://docs.wherobots.com/latest/references/wherobotsdb/vector-data/Function/?h=st_distancesph#st_distancesphere) - compute the distance between two geometries\n",
    "\n",
    "Along the way we'll work with different geometry types including points, lines, and polygons.\n",
    "\n",
    "First we'll create a view called `places` which will essentially create an alias for our `wherobots_open_data.overture.places_place` table."
   ]
  },
  {
   "cell_type": "code",
   "execution_count": null,
   "id": "cc536d5e-4cb4-497f-aef0-c4140bf8945f",
   "metadata": {},
   "outputs": [],
   "source": [
    "sedona.table(\"wherobots_open_data.overture.places_place\").createOrReplaceTempView(\"places\")"
   ]
  },
  {
   "cell_type": "markdown",
   "id": "e0624c8a-f537-4dbf-bb2d-562b91b1c304",
   "metadata": {},
   "source": [
    "Let's start with a simple query to retrieve some example points of interest, including their name, category, and geometry (in this case a point location):"
   ]
  },
  {
   "cell_type": "code",
   "execution_count": null,
   "id": "4225e715-5d85-441e-a334-329866762cd0",
   "metadata": {},
   "outputs": [],
   "source": [
    "sedona.sql(\"SELECT categories.main AS category, names.common[0].value AS name, geometry FROM places LIMIT 10\").show(truncate=False)"
   ]
  },
  {
   "cell_type": "markdown",
   "id": "71e0dba7-aa22-4971-94b4-2023dfb90028",
   "metadata": {},
   "source": [
    "Let's imagine we're in San Francisco and we want to find all hiking trails nearby. First, we'll use the `ST_GeomFromWKT` SQL function to create a point geometry that represents our current location in San Francisco from longitude, latitude coordinates that we looked up using a GPS device (-122.46552, 37.77196). Then we'll use the `ST_DistanceSphere` function to find all points of interest within a given distance."
   ]
  },
  {
   "cell_type": "code",
   "execution_count": null,
   "id": "3ebf9b69-4547-4305-8565-98d28c0ba5fb",
   "metadata": {},
   "outputs": [],
   "source": [
    "sedona.sql(\"\"\"\n",
    "SELECT names.common[0].value AS name, categories.main AS category, geometry\n",
    "FROM places\n",
    "WHERE ST_DistanceSphere(ST_GeomFromWKT('POINT (-122.46552 37.77196)'), geometry) < 10000\n",
    "AND categories.main = 'hiking_trail'\n",
    "LIMIT 10\n",
    "\"\"\").show(truncate=False)"
   ]
  },
  {
   "cell_type": "markdown",
   "id": "37b58702-1c8c-41c9-a979-f4815192e0a8",
   "metadata": {},
   "source": [
    "So far we've just been printing the results of our queries, but we can also save the results to a variable that represents a spatial DataFrame:"
   ]
  },
  {
   "cell_type": "code",
   "execution_count": null,
   "id": "518f56ba-d419-4d82-aebe-8dd588a1da90",
   "metadata": {},
   "outputs": [],
   "source": [
    "trails_df = sedona.sql(\"\"\"\n",
    "SELECT names.common[0].value AS name, categories.main AS category, geometry\n",
    "FROM places\n",
    "WHERE ST_DistanceSphere(ST_GeomFromWKT('POINT (-122.46552 37.77196)'), geometry) < 10000\n",
    "AND categories.main = 'hiking_trail'\n",
    "\"\"\")"
   ]
  },
  {
   "cell_type": "markdown",
   "id": "35bcbca0-3ca6-4a53-8cff-8112b7625e15",
   "metadata": {},
   "source": [
    "# Visualizing Data\n",
    "\n",
    "There are many options for visualizing geospatial data in Wherobots notebooks, including:\n",
    "\n",
    "* [SedonaKepler](https://docs.wherobots.com/latest/tutorials/wherobotsdb/vector-data/vector-visualize/?h=sedonakepler#sedonakepler) - an integration with Kepler.gl that allows for visualizing Sedona DataFrames, exploring interactively and configuring styling\n",
    "* [SedonaPyDeck](https://docs.wherobots.com/latest/tutorials/wherobotsdb/vector-data/vector-visualize/?h=sedonakepler#sedonapydeck) - an integration with Deck.gl that allows for creating geometry visualizations, choropleths, scatterplots, and heatmaps\n",
    "* Other Python packages can be installed in the notebook environment, allowing you to leverage any tools from the PyData ecosystem\n",
    "\n",
    "\n",
    "Here we visualize our hiking trails using `SedonaKepler`:"
   ]
  },
  {
   "cell_type": "code",
   "execution_count": null,
   "id": "118ab695-3962-4555-ac4e-65f6da53ddc9",
   "metadata": {},
   "outputs": [],
   "source": [
    "SedonaKepler.create_map(trails_df, \"Hiking Trails\")"
   ]
  },
  {
   "cell_type": "markdown",
   "id": "0710f743-a12f-4d21-a2db-1dc0320af193",
   "metadata": {},
   "source": [
    "# Resources\n",
    "\n",
    "Where to go from here? The following resources will help you as you continue your spatial analytics journey with WherobotsDB and Wherobots Cloud:\n",
    "\n",
    "## Example Notebooks\n",
    "\n",
    "* You can find many more example notebooks available in this Jupyter environment in the `notebook_example` directory via the file explorer in the left tab. Specifically:\n",
    "    * The `wherobots-db` directory includes further examples for working with WherobotsDB with Python, Spatial SQL and the Overture Maps dataset\n",
    "        - [wherobots-db-example-python.ipynb](./python/wherobots-db/wherobots-db-example-python.ipynb) - loading data from Shapefiles, performing spatial joins, and writing as GeoParquet\n",
    "        - [wherobots-db-overture-maps.ipynb](./python/wherobots-db/wherobots-db-overture-maps.ipynb) - explore the Overture Maps dataset including points of interest, administrative boundaries, and road networks \n",
    "        - [tile-generation-example.ipynb](./python/wherobots-db/tile-generation-example.ipynb) - generate PMTiles vector map tiles for rendering maps using WherobotsDB's scalable vector tiles generator\n",
    "    * The `havasu` directory contains examples on working with the Havasu spatial table to perform ETL and data analysis using vector and raster data\n",
    "        - [havasu-iceberg-geometry-etl.ipynb](./python/havasu/havasu-iceberg-geometry-etl.ipynb) - creating Havasu tables, performing spatial opertions, working with spatial indexes to optimize performance\n",
    "        - [havasu-iceberg-raster-etl.ipynb](./python/havasu/havasu-iceberg-raster-etl.ipynb) - working with the EuroSAT raster dataset as Havasu tables, raster opertions, handling CRS transforms, and benchmarking raster geometry operations\n",
    "        - [havasu-iceberg-outdb-raster-etl.ipynb](./python/havasu/havasu-iceberg-outdb-raster-etl.ipynb) - demonstrates the out-db method of working with large rasters in WherobotsDB, loading a large GeoTiff and splitting into tiles, joining vector data with rasters\n",
    "    * The notebooks in the `wherobots-ai` directory show how to make use of WherobotsAI features like raster inference and map matching\n",
    "        - [gpu/segmentation.ipynb](./python/wherobots-ai/gpu/segmentation.ipynb) - demonstrates Wherobots Query Inference to identify solar farms from satellite imagery\n",
    "        - [gpu/classification.ipynb](./python/wherobots-ai/gpu/classification.ipynb) - demonstrates Wherobots Query Inference to identify offshore wind farms from satellite imagery\n",
    "        - [gpu/object_detection.ipynb](./python/wherobots-ai/gpu/object_detection.ipynb) - demonstrates Wherobots Query Inference to classify land cover from satellite imagery\n",
    "        - [mapmatching_example.ipynb](./python/wherobots-ai/mapmatching_example.ipynb) - matching noisy GPS trajectory data to OpenStreetMap road segments and visualizing the results\n",
    "\n",
    "*Note: Only 1 notebook can be run at a time. If you want to run another notebook, please shut down the kernel of the current notebook first (See instructions [here](https://jupyterlab.readthedocs.io/en/stable/user/running.html)).*\n",
    "\n",
    "## Online Resources\n",
    "\n",
    "* [Wherobots Online Community](https://community.wherobots.com/) - Ask questions, share your projects, explore what others are working on in the community, and connect with other members of the community\n",
    "* [Wherobots YouTube Channel](https://www.youtube.com/@wherobotsinc.5352) - Find technical tutorials, example videos, and presentations from spatial data experts on the Wherebots YouTube Channel\n",
    "* [Wherobots Documentation](https://docs.wherobots.com/) - The documentation includes information about how to manage your Wherobots Cloud account, how to work with data using WherobotsDB, as well as reference documentation\n",
    "* [Wherobots Blog](https://wherobots.com/blogs/) - Keep up to date with the Wherobots and Apache Sedona community including new product announcements, technical tutorials, and highlighting spatial analytics projects"
   ]
  },
  {
   "cell_type": "markdown",
   "id": "74f138e8",
   "metadata": {},
   "source": []
  }
 ],
 "metadata": {
  "kernelspec": {
   "display_name": "Python 3 (ipykernel)",
   "language": "python",
   "name": "python3"
  },
  "language_info": {
   "codemirror_mode": {
    "name": "ipython",
    "version": 3
   },
   "file_extension": ".py",
   "mimetype": "text/x-python",
   "name": "python",
   "nbconvert_exporter": "python",
   "pygments_lexer": "ipython3",
   "version": "3.10.11"
  }
 },
 "nbformat": 4,
 "nbformat_minor": 5
}
