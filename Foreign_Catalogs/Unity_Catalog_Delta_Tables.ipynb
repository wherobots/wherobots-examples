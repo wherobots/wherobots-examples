{
 "cells": [
  {
   "cell_type": "markdown",
   "id": "818f0db7",
   "metadata": {},
   "source": [
    "![](https://wherobots.com/wp-content/uploads/2023/12/Inline-Blue_Black_onWhite.png)\n",
    "# Unity Catalog Delta Tables Example\n",
    "In this example, we will:\n",
    "- Load data from a Delta table from a foreign catalog backed by Databricks Unity Catalog\n",
    "- Transform the data using Spatial SQL\n",
    "- Write the transformed data to a new Iceberg table, which can either be in Databricks Unity Catalog or in a Wherobots-managed catalog"
   ]
  },
  {
   "cell_type": "markdown",
   "id": "b63c073c",
   "metadata": {},
   "source": [
    "# Before You Begin\n",
    "This example assumes you have already created a Delta-format foreign catalog connection to Databricks Unity Catalog, which contains a Delta table to operate on. This Delta table must contain a geometry column with values encoded in WKT format.\n",
    "\n",
    "If you plan to write the data to an Iceberg table in Unity Catalog, you will need another Iceberg-format foreign catalog connection.\n",
    "\n",
    "Fill in the values in the cell below with the details of the table to operate on."
   ]
  },
  {
   "cell_type": "code",
   "execution_count": null,
   "id": "b71a78ec",
   "metadata": {},
   "outputs": [],
   "source": [
    "catalog = \"<your_catalog>\"\n",
    "namespace = \"<your_namespace>\"\n",
    "table = \"<your_table>\"\n",
    "geometry_column = \"<your_geometry_column>\""
   ]
  },
  {
   "cell_type": "markdown",
   "id": "a0b52e9a",
   "metadata": {},
   "source": [
    "# Define Sedona Context"
   ]
  },
  {
   "cell_type": "code",
   "execution_count": null,
   "id": "3dc21100",
   "metadata": {},
   "outputs": [],
   "source": [
    "from sedona.spark import *\n",
    "\n",
    "config = SedonaContext.builder().getOrCreate()\n",
    "sedona = SedonaContext.create(config)"
   ]
  },
  {
   "cell_type": "markdown",
   "id": "890e5681",
   "metadata": {},
   "source": [
    "# Load and Process the Data\n",
    "\n",
    "1. Define an area of interest that we will use to filter the results\n",
    "2. Load the data from the Unity Catalog table and create a new `havasu_geometry` column where the WKT value of the original geometry column has been converted to a Havasu geometry type.\n",
    "3. Create a new filtered data set that contains only the rows from the original table where the geometry intersects the area of interest"
   ]
  },
  {
   "cell_type": "code",
   "execution_count": null,
   "id": "102b7fc2",
   "metadata": {},
   "outputs": [],
   "source": [
    "from pyspark.sql import functions as f\n",
    "import json\n",
    "\n",
    "aoi = json.dumps({\n",
    "  \"type\": \"Feature\", \n",
    "  \"properties\": {},\n",
    "  \"geometry\": {\n",
    "    \"type\": \"Polygon\", \n",
    "    \"coordinates\": [\n",
    "      [\n",
    "        [-87.69953273369673,41.96159824365796],\n",
    "        [-87.69953273369673,41.94631973053055],\n",
    "        [-87.6741283563407,41.94631973053055],\n",
    "        [-87.6741283563407,41.96159824365796],\n",
    "        [-87.69953273369673,41.96159824365796],\n",
    "      ]\n",
    "    ]\n",
    "  }\n",
    "})\n",
    "\n",
    "all_results_df = sedona.sql(f\"SELECT * FROM `{catalog}`.`{namespace}`.`{table}`\").withColumn(\"havasu_geometry\", f.expr(f\"ST_GEOMFROMTEXT({geometry_column})\"))\n",
    "filtered_results_df = all_results_df.where(f\"ST_INTERSECTS(havasu_geometry, ST_GeomFromGeoJSON('{aoi}'))\")\n",
    "filtered_results_df.show(10)"
   ]
  },
  {
   "cell_type": "markdown",
   "id": "73223a0a",
   "metadata": {},
   "source": [
    "# Write the Data to a Unity Catalog Table\n",
    "\n",
    "Because Databricks does not support writing to Delta tables from external workloads, we will write the transformed data to an Iceberg table.\n",
    "\n",
    "Fill in the value of `iceberg_catalog` before running this cell.\n",
    "\n",
    "1. Call `cache()` and `count()` on the Delta table results dataframe, so that we have a pinned copy of the data that cannot be modified by a concurrent write to the underlying table.\n",
    "2. Drop the `havasu_geometry` column because the Havasu geometry type will not be recognized by Unity Catalog\n",
    "3. Write the filtered data to a new table"
   ]
  },
  {
   "cell_type": "code",
   "execution_count": null,
   "id": "a6d86635",
   "metadata": {},
   "outputs": [],
   "source": [
    "iceberg_catalog = \"<your_iceberg_catalog>\"\n",
    "\n",
    "filtered_results_df.cache()\n",
    "filtered_results_df.count()\n",
    "\n",
    "filtered_results_df \\\n",
    "  .drop(\"havasu_geometry\") \\\n",
    "  .writeTo(f\"`{iceberg_catalog}`.`{namespace}`.`{table}_filtered_from_delta`\") \\\n",
    "  .createOrReplace()"
   ]
  },
  {
   "cell_type": "markdown",
   "id": "db12f74d",
   "metadata": {},
   "source": [
    "# Write the Data to a Wherobots-managed Catalog Table\n",
    "\n",
    "1. Create a database in the default `org_catalog` for the new table\n",
    "2. Call `cache()` and `count()` on the Delta table results dataframe, so that we have a pinned copy of the data that cannot be modified by a concurrent write to the underlying table.\n",
    "3. Replace the original WKT column with the new Havasu geometry type column. Storing the data in Havasu format makes further processing more efficient\n",
    "4. Write the filtered data to a new table"
   ]
  },
  {
   "cell_type": "code",
   "execution_count": null,
   "id": "edc65e50",
   "metadata": {},
   "outputs": [],
   "source": [
    "sedona.sql(\"CREATE DATABASE IF NOT EXISTS org_catalog.unity_catalog_examples\")\n",
    "\n",
    "filtered_results_df.cache()\n",
    "filtered_results_df.count()\n",
    "\n",
    "filtered_results_df \\\n",
    "  .drop(geometry_column) \\\n",
    "  .withColumnRenamed(\"havasu_geometry\", geometry_column) \\\n",
    "  .writeTo(f\"org_catalog.unity_catalog_examples.`{table}_filtered_from_delta`\") \\\n",
    "  .createOrReplace()"
   ]
  }
 ],
 "metadata": {
  "language_info": {
   "name": "python"
  }
 },
 "nbformat": 4,
 "nbformat_minor": 5
}
