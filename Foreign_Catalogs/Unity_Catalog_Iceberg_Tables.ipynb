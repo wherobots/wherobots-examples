{
 "cells": [
  {
   "cell_type": "markdown",
   "id": "c5828ea9",
   "metadata": {},
   "source": [
    "![](https://wherobots.com/wp-content/uploads/2023/12/Inline-Blue_Black_onWhite.png)\n",
    "# Transform Spatial Data from an Iceberg Table in Unity Catalog\n",
    "In this example, we will:\n",
    "- Load data from an Iceberg table from a foreign catalog backed by Databricks Unity Catalog\n",
    "- Transform the data using Spatial SQL\n",
    "- Write the transformed data to a new table, which can either be in Databricks Unity Catalog or in a Wherobots-managed catalog"
   ]
  },
  {
   "cell_type": "markdown",
   "id": "e46df501",
   "metadata": {},
   "source": [
    "# Before You Begin\n",
    "This example assumes that you have already created an Iceberg-format foreign catalog connection to Databricks Unity Catalog within Wherobots Cloud. This Iceberg table must contain a `geometry` column with values encoded in WKT format.\n",
    "\n",
    "Fill in the values in the cell below with the details of the table to operate on."
   ]
  },
  {
   "cell_type": "code",
   "execution_count": null,
   "id": "0a6844c5",
   "metadata": {},
   "outputs": [],
   "source": [
    "catalog = \"<your_catalog>\"\n",
    "schema = \\"<your_schema>\\"\n",
    "table = \"<your_table>\"\n",
    "geometry_column = \"<your_geometry_column>\""
   ]
  },
  {
   "cell_type": "markdown",
   "id": "cec3ca51",
   "metadata": {},
   "source": [
    "# Define Sedona Context"
   ]
  },
  {
   "cell_type": "code",
   "execution_count": null,
   "id": "9f58979c",
   "metadata": {},
   "outputs": [],
   "source": [
    "from sedona.spark import *\n",
    "\n",
    "config = SedonaContext.builder().getOrCreate()\n",
    "sedona = SedonaContext.create(config)"
   ]
  },
  {
   "cell_type": "markdown",
   "id": "e02c0faa",
   "metadata": {},
   "source": [
    "# Load and Process the Data\n",
    "\n",
    "1. Define an area of interest that we will use to filter the results\n",
    "2. Load the data from the Unity Catalog table and create a new `havasu_geometry` column where the WKT value of the original geometry column has been converted to a Havasu geometry type.\n",
    "3. Create a new filtered data set that contains only the rows from the original table where the geometry intersects the area of interest.\n"
   ]
  },
  {
   "cell_type": "code",
   "execution_count": null,
   "id": "d935aace",
   "metadata": {},
   "outputs": [],
   "source": [
    "from pyspark.sql import functions as f\n",
    "import json\n",
    "\n",
    "aoi = json.dumps({\n",
    "  \"type\": \"Feature\", \n",
    "  \"properties\": {},\n",
    "  \"geometry\": {\n",
    "    \"type\": \"Polygon\", \n",
    "    \"coordinates\": [\n",
    "      [\n",
    "        [-87.69953273369673,41.96159824365796],\n",
    "        [-87.69953273369673,41.94631973053055],\n",
    "        [-87.6741283563407,41.94631973053055],\n",
    "        [-87.6741283563407,41.96159824365796],\n",
    "        [-87.69953273369673,41.96159824365796],\n",
    "      ]\n",
    "    ]\n",
    "  }\n",
    "})\n",
    "\n",
    "all_results_df = sedona.sql(f\\"SELECT * FROM `{catalog}`.`{schema}`.`{table}`\\").withColumn(\\"havasu_geometry\\", f.expr(f\\"ST_GEOMFROMTEXT({geometry_column})\\"))\n",
    "filtered_results_df = all_results_df.where(f\"ST_INTERSECTS(havasu_geometry, ST_GeomFromGeoJSON('{aoi}'))\")\n",
    "filtered_results_df.show(10)"
   ]
  },
  {
   "cell_type": "markdown",
   "id": "446dbb2c",
   "metadata": {},
   "source": [
    "# Write the Data to a Unity Catalog Table\n",
    "\n",
    "1. Drop the `havasu_geometry` column because the Havasu geometry type will not be recognized by Unity Catalog.\n",
    "2. Write the filtered data to a new table.\n"
   ]
  },
  {
   "cell_type": "code",
   "execution_count": null,
   "id": "d68c8b48",
   "metadata": {},
   "outputs": [],
   "source": [
    "filtered_results_df \\\n",
    "  .drop(\"havasu_geometry\") \\\n",
    "  .writeTo(f\\"`{catalog}`.`{schema}`.`{table}_filtered`\\") \\\n",
    "  .createOrReplace()"
   ]
  },
  {
   "cell_type": "markdown",
   "id": "817949cd",
   "metadata": {},
   "source": [
    "# Write the Data to a Wherobots-managed Catalog Table\n",
    "\n",
    "1. Create a database in the default `org_catalog` for the new table.\n",
    "2. Replace the original WKT column with the new Havasu geometry type column. Storing the data in Havasu format makes further processing more efficient.\n",
    "3. Write the filtered data to a new table.\n"
   ]
  },
  {
   "cell_type": "code",
   "execution_count": null,
   "id": "730f93b1",
   "metadata": {},
   "outputs": [],
   "source": [
    "sedona.sql(\"CREATE DATABASE IF NOT EXISTS org_catalog.unity_catalog_examples\")\n",
    "\n",
    "filtered_results_df \\\n",
    "  .drop(geometry_column) \\\n",
    "  .withColumnRenamed(\"havasu_geometry\", geometry_column) \\\n",
    "  .writeTo(f\"org_catalog.unity_catalog_examples.`{table}_filtered`\") \\\n",
    "  .createOrReplace()"
   ]
  }
 ],
 "metadata": {
  "kernelspec": {
   "display_name": "Python 3",
   "language": "python",
   "name": "python3"
  },
  "language_info": {
   "name": "python"
  }
 },
 "nbformat": 4,
 "nbformat_minor": 5
}
