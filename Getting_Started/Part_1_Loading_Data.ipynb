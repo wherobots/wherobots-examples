{
 "cells": [
  {
   "cell_type": "markdown",
   "id": "47fdb871-c5a8-4588-8a22-aad4207e058d",
   "metadata": {},
   "source": [
    "![Wherobots logo](../assets/img/header-logo.png)\n",
    "\n",
    "# Introducing Wherobots\n",
    "\n",
    "This notebook will get you hands-on with geospatial analysis — combining SQL, Python, and cloud-native data integration to unlock actionable insights from spatial datasets.\n",
    "\n",
    "## What you will learn\n",
    "\n",
    "This notebook will teach you to:\n",
    "\n",
    "- Create a WherobotsDB context\n",
    "- Load raster and vector geospatial data from AWS S3 buckets into DataFrames\n",
    "- Streamline geospatial workflows using temporary views\n",
    "- Filter, query, and manipulate geospatial data using Spatial SQL\n",
    "- Calculate zonal statistics — like mean temperature over spatial geometries — using `RS_ZonalStats`\n",
    "- Visualize data and explore insights using SedonaKepler\n",
    "\n",
    "![3D map of buildings in New York City](./assets/img/part1_preview.jpg)"
   ]
  },
  {
   "cell_type": "markdown",
   "id": "677df1c0-8c78-4fac-a3a8-59203a9ce0f5",
   "metadata": {},
   "source": [
    "# Set up your Sedona context\n",
    "\n",
    "A `SedonaContext` connects your code to the Wherobots Cloud compute environment where your queries can run fast and efficiently.\n",
    "\n",
    "First, you set up the `config` for your compute environment, then use that configuration to launch the `sedona` context. We’ll use the default configuration in this notebook, but you can learn about configuring the context in our [documentation](https://docs.wherobots.com/latest/develop/notebook-management/notebook-instance-management/). "
   ]
  },
  {
   "cell_type": "code",
   "execution_count": null,
   "id": "43735554-a11f-40b5-ae9b-b165121b7b06",
   "metadata": {},
   "outputs": [],
   "source": [
    "from sedona.spark import SedonaContext\n",
    "\n",
    "config = SedonaContext.builder().getOrCreate()\n",
    "sedona = SedonaContext.create(config)"
   ]
  },
  {
   "cell_type": "markdown",
   "id": "4043b66a-0013-4026-b4b5-3ffbe4734d5c",
   "metadata": {},
   "source": [
    "# Using vector data\n",
    "\n",
    "Wherobots is a cloud-native tool and works best with data in cloud storage. In this notebook, we will an example dataset, but when you want to work with your own data, you have two options:\n",
    "\n",
    "- Load your data into Wherobots Cloud managed storage, our managed solution\n",
    "- Connect to AWS S3 buckets and integrate with existing data workflows\n",
    "\n",
    "For now, let’s get started with sample vector data about buildings in New York City. \n",
    "\n",
    "> **Vector data** is spatial data that includes geometry like points, lines, and shapes.\n",
    "\n",
    "We will use the following code snippet to load a GeoParquet file from S3 into a Sedona DataFrame.\n",
    "\n",
    "> **GeoParquet** is an open, efficient format for storing geospatial data, perfect for large-scale geospatial workflows. ([Docs: Loading GeoParquet](https://docs.wherobots.com/latest/tutorials/wherobotsdb/vector-data/vector-load/?h=read+geopar#load-geoparquet))"
   ]
  },
  {
   "cell_type": "code",
   "execution_count": null,
   "id": "91712fe8-253d-4f10-b37d-777fdb3417fe",
   "metadata": {},
   "outputs": [],
   "source": [
    "# URI of sample data in an S3 bucket\n",
    "geoparquet_uri = 's3://wherobots-examples/data/onboarding_1/nyc_buildings.parquet'\n",
    "\n",
    "# Then we can load that into a Sedona DataFrame\n",
    "buildings = sedona.read.format(\"geoparquet\").load(geoparquet_uri)\n",
    "\n",
    "buildings.printSchema()"
   ]
  },
  {
   "cell_type": "markdown",
   "id": "5e4d6708-cc64-4924-bdbb-32be45623c1d",
   "metadata": {},
   "source": [
    "# Using raster data\n",
    "\n",
    "Wherobots lets you write queries that combine vector and raster data.\n",
    "\n",
    "> **Raster data** is spatial data that has one or more values stored in a grid. Satellite photography is one kind of raster data, where each grid location has a red, green, and blue value that are combined to create the color of the corresponding pixel. Two common raster formats are GeoTIFF and COG (Cloud Optimized GeoTIFF).\n",
    "\n",
    "We will load a GeoTIFF raster file of the area near Central Park in New York City. This TIFF is not an image file, but a Digital Elevation Model (DEM), where each value in the grid represents the elevation of that point. This file uses a one-foot resolution, so each value represents the elevation of 1 square foot (0.093 sqare meters) of the park."
   ]
  },
  {
   "cell_type": "code",
   "execution_count": null,
   "id": "b05f28ac-c98a-4188-ae26-d36c2eed50ab",
   "metadata": {},
   "outputs": [],
   "source": [
    "# URI to our raster dataset\n",
    "central_park_uri = 's3://wherobots-examples/data/onboarding_1/CentralPark.tif'\n",
    "\n",
    "# Here we can use the Sedona Spatial SQL functions to load the data in using the RS_FromPath function \n",
    "elevation = sedona.read\\\n",
    "                 .format(\"raster\")\\\n",
    "                 .option(\"tileWidth\", \"256\")\\\n",
    "                 .option(\"tileHeight\", \"256\")\\\n",
    "                 .load(central_park_uri)\n",
    "\n",
    "elevation.printSchema()"
   ]
  },
  {
   "cell_type": "markdown",
   "id": "28a38977-2504-4a50-8b0a-ca5f299bf5c5",
   "metadata": {},
   "source": [
    "If we had wanted to load the raster data using Spatial SQL instead of Python, we could have used syntax like this: \n",
    "\n",
    "```python\n",
    "elevation = sedona.sql(f'''SELECT RS_FromPath('{raster_path}') as rast''')\n",
    "```\n",
    "\n",
    "> Spatial SQL prefixes many function calls with either `RS_` (for \"raster\") or, as you'll see below, `ST_` (for \"spatial-temporal\")."
   ]
  },
  {
   "cell_type": "markdown",
   "id": "763f24d1-f824-4d57-a727-6ca55f785e10",
   "metadata": {},
   "source": [
    "# Writing SQL using temporary views \n",
    "\n",
    "The line of code below calls `createOrReplaceTempView()` to register our DataFrame as a temporary SQL view in Apache Spark. Temporary views allow you to interact with the DataFrame using SQL queries. For example, after creating the temporary view, you can run the following query to analyze the elevation data:\n",
    "\n",
    "```python\n",
    "result = spark.sql(\"SELECT * FROM elevation WHERE height > 1000\")\n",
    "result.show()\n",
    "```\n",
    "\n",
    "Temporary views only exist for the duration of the Spark session. Once the session ends, the view will no longer be available."
   ]
  },
  {
   "cell_type": "code",
   "execution_count": null,
   "id": "11d88e63-128e-4dc1-b3dc-79fe7f8ff9dc",
   "metadata": {},
   "outputs": [],
   "source": [
    "elevation.createOrReplaceTempView('elevation')"
   ]
  },
  {
   "cell_type": "markdown",
   "id": "fdb9a12f-a528-4ea3-90fc-6270e64fc3e8",
   "metadata": {},
   "source": [
    "# Querying with vector and raster data together\n",
    "\n",
    "A simple way to combine vector and raster data is to look up a raster value at a specific point. For example, if we wanted to get the elevation of [Strawberry Fields](https://en.wikipedia.org/wiki/Strawberry_Fields_(memorial)) in Central Park, we can write that in Spatial SQL:"
   ]
  },
  {
   "cell_type": "code",
   "execution_count": null,
   "id": "09fa25f5-359d-4812-865c-704edefd44f8",
   "metadata": {},
   "outputs": [],
   "source": [
    "# First we create the point geometry and then use the RS_Value function \n",
    "# to get the raster value for that specific point location\n",
    "\n",
    "strawberry_fields = sedona.sql('''\n",
    "SELECT\n",
    "    RS_Value(rast, ST_Point(-73.9751781, 40.7756813)) AS elevation_in_feet\n",
    "FROM\n",
    "    elevation \n",
    "''')\n",
    "\n",
    "# Then we filter using a where clause and call `.show()` on the DataFrame to run the query and show the results\n",
    "strawberry_fields.where(\"elevation_in_feet is not NULL\").show()"
   ]
  },
  {
   "cell_type": "markdown",
   "id": "325c51e2-6b38-4886-88c4-752f97194af3",
   "metadata": {},
   "source": [
    "Here's how that query works:\n",
    "\n",
    "- `RS_Value(rast, ST_Point(...))` retrieves the value (in this case, elevation) from the raster file at a specified point (the longitude and latitude of Strawberry Fields).\n",
    "- `AS elevation_in_feet` names the output column.\n",
    "- `FROM elevation` uses the temporary view we created."
   ]
  },
  {
   "cell_type": "markdown",
   "id": "b271c7ae-f5ca-4ba9-a891-da0dd3f0bf68",
   "metadata": {},
   "source": [
    "# Visualizing data on a map using SedonaKepler\n",
    "\n",
    "Kepler.gl is an open source map visualization tool that integrated into Wherobots as `SedonaKepler`. Here, we will use Kepler to show the `buildings` vector data we loaded previously. You can customize your map with Kepler.gl configuration settings that might start something like this:\n",
    "\n",
    "```json\n",
    "    \"mapStyle\": \"dark\",\n",
    "    \"layers\": [\n",
    "        {\n",
    "            \"type\": \"polygon\", \n",
    "            \"name\": \"NYC Buildings\", \n",
    "            \"colorBy\": \"category\", \n",
    "            \"colorColumn\": \"PRIM_ID\", \n",
    "            \"heightColumn\": \"height_val\", \n",
    "            \"heightScale\": 1\n",
    "        }\n",
    "    ]\n",
    "    ...\n",
    "```\n",
    "\n",
    "Instead of enumerating all the configuration here in this notebook, we built a `config.json` file that we will load into a dictionary called `map_config`, and then pass that dictionary as a parameter."
   ]
  },
  {
   "cell_type": "code",
   "execution_count": null,
   "id": "796e1e33-9adc-47a0-9989-e139cde35cb6",
   "metadata": {},
   "outputs": [],
   "source": [
    "import json\n",
    "from sedona.maps.SedonaKepler import SedonaKepler\n",
    "\n",
    "# Load our map configuration into a dictionary so it can be read by SedonaKepler\n",
    "with open('assets/conf/config.json') as f:\n",
    "    map_config = json.load(f)\n",
    "\n",
    "# Create the map with our configuration and the buildings DataFrame, then render the map\n",
    "map = SedonaKepler.create_map(config=map_config)\n",
    "SedonaKepler.add_df(map, buildings, 'NYC Buildings')\n",
    "map"
   ]
  },
  {
   "cell_type": "markdown",
   "id": "fd4b35f7-404f-4fbe-b935-2b8651810836",
   "metadata": {},
   "source": [
    "# Analyzing building elevations across Central Park\n",
    "\n",
    "Combining all the concepts we've covered so far, we will now calculate a zonal statistic, the average elevation for the buildings inside Central Park.\n",
    "\n",
    "> A **zonal statistic** is an aggregate of values (like a sum, average, count, or maximum) across a geographic region.\n",
    "\n",
    "First, we will get set up for the query."
   ]
  },
  {
   "cell_type": "code",
   "execution_count": null,
   "id": "e499b735-03a0-44f9-a95f-493987442203",
   "metadata": {},
   "outputs": [],
   "source": [
    "# Create our temporary view of the data\n",
    "buildings.createOrReplaceTempView('buildings')\n",
    "\n",
    "# Check the Spatial Reference ID (SRID) exists on the raster file\n",
    "sedona.sql('SELECT RS_SRID(rast) FROM elevation limit 1').show()"
   ]
  },
  {
   "cell_type": "markdown",
   "id": "d4380ffa-f75e-473b-9fb4-7e8e40989360",
   "metadata": {},
   "source": [
    "Next, we will do the actual analysis."
   ]
  },
  {
   "cell_type": "code",
   "execution_count": null,
   "id": "023170a6-0fab-4523-b3ae-40d739b11d56",
   "metadata": {},
   "outputs": [],
   "source": [
    "buildings_elevation = sedona.sql(f'''with a as (\n",
    "SELECT\n",
    "    buildings.PROP_ADDR as name,\n",
    "    buildings.geom,\n",
    "    avg(RS_ZonalStats(elevation.rast, ST_Transform(buildings.geom, 'epsg:4326','epsg:2263'), 1, 'mean', true)) as elevation\n",
    "FROM\n",
    "    buildings\n",
    "JOIN\n",
    "    elevation\n",
    "ON\n",
    "    RS_Intersects(elevation.rast, ST_Transform(buildings.geom, 'epsg:4326','epsg:2263'))\n",
    "GROUP BY\n",
    "    buildings.PROP_ADDR, buildings.geom)\n",
    "\n",
    "SELECT * FROM a WHERE elevation > 0\n",
    "''')\n",
    "\n",
    "buildings_elevation.show()"
   ]
  },
  {
   "cell_type": "markdown",
   "id": "3ca1078c-588a-426d-9390-e4355788bf06",
   "metadata": {},
   "source": [
    "Let's break down how that query works.\n",
    "\n",
    "**Inputs:**\n",
    "\n",
    "- `elevation` is raster data loaded from our Digital Elevation Model (DEM) GeoTIFF.\n",
    "- `buildings` is vector data of all the buildings in New York City, including their geometry (`geom`) and addresses (`PROP_ADDR`).\n",
    "\n",
    "**Coordinate transformation:** The building geometries are transformed from EPSG:4326 (geographic coordinates) to EPSG:2263 (New York State Plane coordinates) using `ST_Transform`, making the buildings use the same coordinates as the elevation raster.\n",
    "\n",
    "**Zonal stats calculation:** `RS_ZonalStats` computes the mean elevation for each building's geometry based on the DEM:\n",
    "  - **Raster Input**: `elevation.rast` Elevation raster values\n",
    "  - **Vector Geometry**: The shapes of the buildings\n",
    "  - **Band**: `1` tells Wherobots to use the first band (value) of the raster (in this case, the elevation).\n",
    "  - **Statistic**: `mean` calculates the average within the vector geometry.\n",
    "  - **Ignore NoData**: `true` ensures invalid or missing data in the raster is excluded.\n",
    "\n",
    "**Spatial join:** `RS_Intersects` ensures only raster values that intersect the buildings' geometry are used.\n",
    "\n",
    "**Filtering results:** Remove buildings with non-positive elevation values using `WHERE elevation > 0`.\n",
    "\n",
    "**Aggregation:** Elevations are grouped by building address (`PROP_ADDR`) and geometry to compute the average elevation for each building.\n",
    "\n",
    "**Output:** The resulting DataFrame, `buildings_elevation`, contains:\n",
    "- `name`: property address of the building\n",
    "- `geom`: building geometry\n",
    "- `elevation`: average elevation of the building footprint (in feet)"
   ]
  },
  {
   "cell_type": "code",
   "execution_count": null,
   "id": "2e92b835-93ca-4fa7-8aff-bd206e3425e0",
   "metadata": {},
   "outputs": [],
   "source": [
    "# Display a map of the query results\n",
    "\n",
    "with open('assets/conf/central_park_config.json') as f:\n",
    "    # Load the JSON data into a dictionary\n",
    "    park_config = json.load(f)\n",
    "\n",
    "map = SedonaKepler.create_map(config=park_config)\n",
    "SedonaKepler.add_df(map, buildings_elevation, 'NYC Buildings')\n",
    "\n",
    "map"
   ]
  },
  {
   "cell_type": "markdown",
   "id": "39f84092-d6e8-4e29-b9c7-090be5324820",
   "metadata": {},
   "source": [
    "# Next steps\n",
    "\n",
    "Congratulations on completing this notebook! You’ve learned how to:\n",
    "- Combine raster and vector data to derive meaningful insights about urban infrastructure. For example, it can be used for:\n",
    "  - Identifying buildings at risk of flooding based on elevation.\n",
    "  - Urban planning and construction in areas with varying terrain.\n",
    "  - Environmental impact studies within Central Park and surrounding areas.\n",
    "- Perform zonal statistics to derive meaningful insights from elevation and temperature datasets.\n",
    "- Use Apache Sedona SQL to manipulate and query spatial data efficiently.\n",
    "\n",
    "Here are some places you can go next with Wherobots:\n",
    "\n",
    "### 🛠️ Experiment with Different Data Sources\n",
    "- Use additional raster datasets, such as vegetation indices or precipitation maps, to enhance your analysis.\n",
    "- Incorporate demographic or socioeconomic vector datasets to explore spatial relationships.\n",
    "- Try quantifying health of crops and forests using [NDVI analysis](https://docs.wherobots.com/latest/api/wherobots-compute/sql/Raster-map-algebra/?h=ndvi#ndvi)\n",
    "- Use [Overture Maps data](https://docs.wherobots.com/latest/tutorials/opendata/introduction/?h=overture#open-data-catalogs) hosted and managed by Wherobots\n",
    "\n",
    "### 🔍 Try Advanced Apache Sedona Features\n",
    "- Explore Sedona’s spatial join capabilities to analyze relationships between multiple vector datasets.\n",
    "- Use Sedona’s advanced functions, like `ST_Buffer` or `ST_Within`, for proximity and containment analysis.\n",
    "- Check out our full function reference for [Apache Sedona here](https://docs.wherobots.com/latest/references/wherobotsdb/vector-data/Overview/)."
   ]
  }
 ],
 "metadata": {
  "kernelspec": {
   "display_name": "Python 3 (ipykernel)",
   "language": "python",
   "name": "python3"
  },
  "language_info": {
   "codemirror_mode": {
    "name": "ipython",
    "version": 3
   },
   "file_extension": ".py",
   "mimetype": "text/x-python",
   "name": "python",
   "nbconvert_exporter": "python",
   "pygments_lexer": "ipython3"
  }
 },
 "nbformat": 4,
 "nbformat_minor": 5
}
