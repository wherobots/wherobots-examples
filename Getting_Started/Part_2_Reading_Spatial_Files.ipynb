{
 "cells": [
  {
   "cell_type": "markdown",
   "id": "292f99de-7bfb-4b29-a162-b53c3765a612",
   "metadata": {},
   "source": [
    "# **Introduction 🌍**"
   ]
  },
  {
   "cell_type": "markdown",
   "id": "94c5afcb-bb91-4aea-a699-4c696d5c7f24",
   "metadata": {
    "jp-MarkdownHeadingCollapsed": true
   },
   "source": [
    "Welcome to this notebook on **Efficient Loading of Raster and Vector Data in Wherobots**. This guide is designed for users working in a hosted notebook environment with preconfigured tools and libraries, making it easier to focus on geospatial workflows without needing extensive setup.\n",
    "\n",
    "### Objectives 🎯\n",
    "\n",
    "In this notebook, you will:\n",
    "\n",
    "1. 🗺️ Understand how to work with vector and raster data types in Wherobots.\n",
    "2. ☁️ Learn how to load data from cloud storage and hosted environments.\n",
    "3. 📊 Prepare to manage geospatial datasets efficiently in the Wherobots ecosystem.\n",
    "\n",
    "By the end of this tutorial, you will have foundational knowledge to load, query, and manage geospatial data in Wherobots using a combination of **Apache Sedona** and **WherobotsDB**.\n",
    "\n",
    "### What is Wherobots? 🤖\n",
    "\n",
    "Wherobots is a **cloud-native spatial analytics platform** designed for large-scale geospatial data processing. 🚀 It offers:\n",
    "\n",
    "- **WherobotsDB**: A scalable geospatial database based on Apache Iceberg, but for gerospatial.\n",
    "- **Apache Sedona Integration**: High-performance library geospatial queries and visualizations.\n",
    "- **Out-of-Database Raster Support**: Handle massive raster datasets efficiently.\n",
    "- **GeoParquet Support**: Work with optimized, open-source vector data formats.\n",
    "\n",
    "---\n",
    "\n",
    "### Why Use a Hosted Environment? 🖥️\n",
    "\n",
    "A hosted notebook environment in Wherobots provides:\n",
    "\n",
    "- **Preconfigured Libraries**: Tools like Apache Sedona and the WherobotsDB compute environment are ready to use.\n",
    "- **Managed Authentication**: Seamless connection to Wherobots Cloud without manual setup.\n",
    "- **Integrated Storage**: Access to both managed storage and external S3 buckets for geospatial data.\n",
    "- **Scalability**: Optimized runtimes for small-scale experimentation to large-scale production workflows.\n",
    "\n",
    "---\n",
    "\n",
    "### Key Concepts 📚\n",
    "\n",
    "#### Vector Data\n",
    "- Represents discrete features like points, lines, and polygons.\n",
    "- Common formats:\n",
    "  - **GeoParquet**: Optimized for modern geospatial workflows.\n",
    "  - **Shapefile**: Legacy format for geospatial data.\n",
    "  - **GeoJSON**: Lightweight and human-readable.\n",
    "\n",
    "#### Raster Data\n",
    "- Represents continuous phenomena using a grid of cells (e.g., elevation, satellite imagery).\n",
    "- Common formats:\n",
    "  - **Cloud-Optimized GeoTIFF (COG)**: Designed for efficient cloud storage and access.\n",
    "  - **NetCDF**: Often used for multidimensional climate data.\n",
    "\n",
    "#### GeoParquet\n",
    "GeoParquet is an open-source format designed for modern vector data workflows:\n",
    "\n",
    "- **Advantages**:\n",
    "  - Highly compact and optimized.\n",
    "  - Native support for spatial indexing.\n",
    "  - Compatibility with large-scale distributed processing frameworks.\n",
    "\n",
    "---\n",
    "\n",
    "In the following sections, we will:\n",
    "1. Set up our hosted environment.\n",
    "2. Load vector data into Wherobots.\n",
    "3. Load raster data into Wherobots.\n",
    "4. Write both vector and raster data back to GeoParquet and cloud storage."
   ]
  },
  {
   "cell_type": "markdown",
   "id": "b99fb475-5731-4588-8a58-ba5a2c16c661",
   "metadata": {},
   "source": [
    "# **Section 2: Preconfigured Environment Setup 🚀**"
   ]
  },
  {
   "cell_type": "markdown",
   "id": "d816d8d9-2c58-49a9-bd14-165d690534df",
   "metadata": {},
   "source": [
    "## **Introduction**\n",
    "Before working with geospatial data in **Wherobots**, we need to initialize our **Sedona environment** and set up a **connection to S3 storage**. These steps ensure that our data processing workflows run efficiently within the **hosted notebook environment**.\n",
    "\n",
    "In this section, we will:\n",
    "1. **Initialize Apache Sedona** – The geospatial engine that powers spatial operations in Spark.\n",
    "2. **Connect to S3 storage** – The cloud storage system where our geospatial datasets are stored.\n",
    "\n",
    "---\n",
    "\n",
    "## **1️⃣ Initializing Apache Sedona**\n",
    "**Apache Sedona** is a spatial computing extension for **Apache Spark**. It allows us to efficiently load, transform, and analyze vector and raster data in **distributed computing environments**.\n",
    "\n",
    "### **🔹 Why do we need Sedona?**\n",
    "- Provides **Spatial SQL** capabilities (e.g., `ST_Intersects`, `ST_Within`).\n",
    "- Supports **vector** and **raster** data processing at scale.\n",
    "- Works seamlessly with **GeoParquet**, **GeoTIFF**, and other geospatial formats.\n",
    "\n",
    "### **🔹 Initializing Sedona in the Hosted Notebook**\n",
    "The following code initializes Sedona in our environment:\n",
    "\n",
    "```python\n",
    "# Import the Sedona library\n",
    "from sedona.spark import SedonaContext\n",
    "\n",
    "# Create the Sedona context (auto-configured for Wherobots)\n",
    "sedona = SedonaContext.builder().getOrCreate()\n",
    "```\n",
    "\n",
    "#### **🛠️ What’s Happening?**\n",
    "- `SedonaContext.builder()` **automatically detects** the Spark environment.\n",
    "- `.getOrCreate()` **ensures only one instance** of Sedona is created.\n",
    "- This setup **enables spatial functions** within Spark SQL.\n",
    "\n",
    "---\n",
    "\n",
    "## **2️⃣ Connecting to S3 Storage**\n",
    "Most geospatial datasets are **too large** to store locally, so we use **Amazon S3 (Simple Storage Service)** to manage and access spatial data efficiently.\n",
    "\n",
    "### **🔹 Why use S3 for geospatial data?**\n",
    "✅ Stores **large-scale** vector and raster datasets.  \n",
    "✅ Enables **cloud-based querying** without local downloads.  \n",
    "✅ Supports **Out-of-Database (Out-DB) rasters** for efficient processing.\n",
    "\n",
    "### **🔹 Verifying the S3 Connection**\n",
    "Let’s test if we can **list files** in an S3 bucket:\n",
    "\n",
    "```python\n",
    "# Example: List files in an S3 bucket\n",
    "s3_files = sedona.spark.read.format(\"binaryFile\").load(\"s3a://wherobots-public-data/overturemaps/\")\n",
    "s3_files.show(5, truncate=False)\n",
    "```\n",
    "\n",
    "🔍 **This command helps us:**\n",
    "- Verify our connection to **Wherobots' public S3 bucket** for the data in this tutorial.\n",
    "- Confirm that we can access spatial datasets stored in the cloud.\n",
    "\n",
    "---\n",
    "\n",
    "## **✅ Summary**\n",
    "- **Apache Sedona** is initialized to enable spatial computing in Spark.\n",
    "- **S3 Storage** is configured for reading **vector and raster** data from the cloud.\n",
    "- We verified the setup by **listing files** from an S3 bucket.\n",
    "\n",
    "With this setup, we are now ready to **load vector and raster data** into our notebook! 🚀🌍"
   ]
  },
  {
   "cell_type": "markdown",
   "id": "ecf54316-ae4b-4f08-9c76-1e0f0e4fd1cc",
   "metadata": {},
   "source": [
    "# ⌨️ **Section 2: Code**"
   ]
  },
  {
   "cell_type": "code",
   "execution_count": null,
   "id": "1f0196ee-387b-41db-96e0-7f06f04c528f",
   "metadata": {
    "execution": {
     "iopub.execute_input": "2025-03-06T06:26:49.411118Z",
     "iopub.status.busy": "2025-03-06T06:26:49.410809Z",
     "iopub.status.idle": "2025-03-06T06:27:30.128471Z",
     "shell.execute_reply": "2025-03-06T06:27:30.127701Z",
     "shell.execute_reply.started": "2025-03-06T06:26:49.411102Z"
    }
   },
   "outputs": [
    {
     "name": "stderr",
     "output_type": "stream",
     "text": [
      "Setting default log level to \"WARN\".\n",
      "To adjust logging level use sc.setLogLevel(newLevel). For SparkR, use setLogLevel(newLevel).\n",
      "                                                                                \r"
     ]
    }
   ],
   "source": [
    "# Step 1: Import necessary libraries and connect Apache Sedona to the Wherobots runtime\n",
    "from sedona.spark import SedonaContext\n",
    "\n",
    "config = SedonaContext.builder() \\\n",
    "    .getOrCreate()\n",
    "\n",
    "sedona = SedonaContext.create(config)"
   ]
  },
  {
   "cell_type": "code",
   "execution_count": 5,
   "id": "fbd6e948-3b5d-4c86-92a8-bc44254f0d52",
   "metadata": {
    "execution": {
     "iopub.execute_input": "2025-03-06T06:37:54.755311Z",
     "iopub.status.busy": "2025-03-06T06:37:54.755095Z",
     "iopub.status.idle": "2025-03-06T06:37:57.394333Z",
     "shell.execute_reply": "2025-03-06T06:37:57.393455Z",
     "shell.execute_reply.started": "2025-03-06T06:37:54.755295Z"
    }
   },
   "outputs": [
    {
     "name": "stdout",
     "output_type": "stream",
     "text": [
      "Files in s3a://wherobots-examples/data/onboarding_1/:\n"
     ]
    },
    {
     "name": "stderr",
     "output_type": "stream",
     "text": [
      "[Stage 6:=======================================>                   (2 + 1) / 3]\r"
     ]
    },
    {
     "name": "stdout",
     "output_type": "stream",
     "text": [
      "+-------------------------------------------------------------------+\n",
      "|file_name                                                          |\n",
      "+-------------------------------------------------------------------+\n",
      "|s3a://wherobots-examples/data/onboarding_1/CentralPark.tif         |\n",
      "|s3a://wherobots-examples/data/onboarding_1/nyc_buildings.parquet   |\n",
      "|s3a://wherobots-examples/data/onboarding_1/config.json             |\n",
      "|s3a://wherobots-examples/data/onboarding_1/central_park_config.json|\n",
      "+-------------------------------------------------------------------+\n",
      "\n"
     ]
    },
    {
     "name": "stderr",
     "output_type": "stream",
     "text": [
      "                                                                                \r"
     ]
    }
   ],
   "source": [
    "# Now read out all the files we will be looking at in the tutorial \n",
    "\n",
    "from pyspark.sql.functions import input_file_name\n",
    "\n",
    "s3_path = 's3a://wherobots-examples/data/onboarding_1/'\n",
    "\n",
    "try:\n",
    "    # List files in the S3 bucket (without loading full contents)\n",
    "    s3_files = sedona.read.format(\"binaryFile\").load(s3_path).select(input_file_name().alias(\"file_name\"))\n",
    "    # Show only file names\n",
    "    print(f\"Files in {s3_path}:\")\n",
    "    s3_files.show(truncate=False)\n",
    "    \n",
    "except Exception as e:\n",
    "    print(f\"Error accessing S3 path: {e}\")"
   ]
  },
  {
   "cell_type": "markdown",
   "id": "e0a6dd68-3be1-46eb-a753-b847579c6c27",
   "metadata": {},
   "source": [
    "# **Section 3: Loading Vector Data 🗺️**"
   ]
  },
  {
   "cell_type": "markdown",
   "id": "ef237bea-8a4e-4152-8cc0-4a61a10eab55",
   "metadata": {},
   "source": [
    "## **Introduction**\n",
    "**Vector data** represents real-world features using **points, lines, and polygons**. In Wherobots, we can load vector datasets from various formats, including **GeoParquet, GeoJSON, Shapefile, and CSV with geometry columns**.\n",
    "\n",
    "In this section, we will:\n",
    "1. **Understand vector data types and formats** in Wherobots.\n",
    "2. **Load vector datasets** from different sources like S3 and local storage.\n",
    "3. **Create a temporary view** to enable **SQL-based** spatial queries.\n",
    "\n",
    "---\n",
    "\n",
    "## **1️⃣ Understanding Vector Data Formats**\n",
    "Vector data is stored in multiple formats, each optimized for different use cases. Below are some common formats **supported in Wherobots**:\n",
    "\n",
    "| **Format**    | **Description** |\n",
    "|--------------|----------------|\n",
    "| **GeoParquet** 🏗️ | A modern, efficient format for vector data that supports indexing and partitioning. |\n",
    "| **GeoJSON** 📜 | A lightweight, human-readable format for spatial data on the web. |\n",
    "| **Shapefile** 📂 | A legacy format widely used in GIS applications (requires multiple files). |\n",
    "| **CSV with Geometry** 📊 | Tabular data containing WKT (Well-Known Text) geometries. |\n",
    "\n",
    "### **🛠️ Why Use GeoParquet?**\n",
    "✅ **Optimized for big data processing** (columnar format).  \n",
    "✅ **Supports partitioning and indexing** (faster spatial queries).  \n",
    "✅ **Seamless compatibility** with modern data lakes and cloud storage.  \n",
    "\n",
    "---\n",
    "\n",
    "## **2️⃣ Loading Vector Data from S3**\n",
    "Wherobots provides **pre-configured access** to **public datasets** stored in **S3 buckets**. Let’s load a **GeoParquet** file from S3:\n",
    "\n",
    "```python\n",
    "# Load vector data from S3 (GeoParquet format)\n",
    "vector_df = sedona.read.format(\"geoparquet\").load(\"s3a://wherobots-public-data/overturemaps/theme=buildings/type=building\")\n",
    "\n",
    "# Print the schema to inspect the structure of the data\n",
    "vector_df.printSchema()\n",
    "\n",
    "# Display the first few rows of vector data\n",
    "vector_df.show(5, truncate=False)\n",
    "```\n",
    "\n",
    "#### **🛠️ What’s Happening?**\n",
    "- **`format(\"geoparquet\")`** → Specifies that we are reading a **GeoParquet** file.\n",
    "- **`load(\"s3a://...\")`** → Loads the dataset **directly from S3** without downloading it locally.\n",
    "- **`.printSchema()`** → Displays the **columns** in our dataset.\n",
    "- **`.show(5, truncate=False)`** → Displays the first **five rows** of vector data.\n",
    "\n",
    "---\n",
    "\n",
    "## **3️⃣ Loading GeoJSON and Other Vector Formats**\n",
    "In addition to **GeoParquet**, we can load **GeoJSON, Shapefile, and CSV** vector datasets.\n",
    "\n",
    "### **🔹 Loading GeoJSON from Local Storage**\n",
    "GeoJSON is often used for **web-based mapping applications**.\n",
    "\n",
    "```python\n",
    "# Load a GeoJSON file from local managed storage\n",
    "geojson_df = sedona.read.format(\"json\").load(\"/data/shared/sample.geojson\")\n",
    "\n",
    "# Show first few rows\n",
    "geojson_df.show(5, truncate=False)\n",
    "```\n",
    "\n",
    "---\n",
    "\n",
    "### **🔹 Loading a Shapefile**\n",
    "Shapefiles consist of **multiple files** (`.shp`, `.dbf`, `.shx`), so we load **the directory containing them**.\n",
    "\n",
    "```python\n",
    "# Load a shapefile from local storage\n",
    "shapefile_df = sedona.read.format(\"shapefile\").load(\"/data/shared/shapefile_folder/\")\n",
    "\n",
    "# Show first few rows\n",
    "shapefile_df.show(5, truncate=False)\n",
    "```\n",
    "\n",
    "---\n",
    "\n",
    "### **🔹 Loading a CSV with a Geometry Column**\n",
    "CSV files can store **spatial data** using **WKT (Well-Known Text) geometries**.\n",
    "\n",
    "```python\n",
    "from pyspark.sql.functions import expr\n",
    "\n",
    "# Load CSV data with a geometry column\n",
    "csv_df = sedona.read.format(\"csv\").option(\"header\", \"true\").load(\"/data/shared/sample.csv\")\n",
    "\n",
    "# Convert WKT column into a proper geometry column\n",
    "vector_df = csv_df.withColumn(\"geometry\", expr(\"ST_GeomFromWKT(geometry_column)\"))\n",
    "\n",
    "# Show first few rows\n",
    "vector_df.show(5, truncate=False)\n",
    "```\n",
    "\n",
    "#### **🛠️ What’s Happening?**\n",
    "- **`option(\"header\", \"true\")`** → Ensures the first row is treated as column names.\n",
    "- **`ST_GeomFromWKT(geometry_column)`** → Converts **WKT text** into a proper **geometry object**.\n",
    "\n",
    "---\n",
    "\n",
    "## **4️⃣ Creating a Temporary SQL View**\n",
    "Once vector data is loaded, we **register it as a temporary view** so we can **query it using SQL**.\n",
    "\n",
    "```python\n",
    "# Register vector data as a temporary SQL view\n",
    "vector_df.createOrReplaceTempView(\"vector_data\")\n",
    "```\n",
    "\n",
    "### **🔹 Running a Spatial Query**\n",
    "We can now perform **SQL-based spatial analysis**:\n",
    "\n",
    "```sql\n",
    "-- Query all vector data where geometry intersects with a given polygon\n",
    "SELECT * FROM vector_data\n",
    "WHERE ST_Intersects(geometry, ST_GeomFromText('POLYGON((-122.5 37.5, -122.5 37.6, -122.4 37.6, -122.4 37.5, -122.5 37.5))'))\n",
    "```\n",
    "\n",
    "#### **🛠️ What’s Happening?**\n",
    "- **`ST_Intersects(geometry, ST_GeomFromText(...))`** → Checks if vector features **intersect** with a given **polygon**.\n",
    "- **This enables powerful spatial filtering** within large datasets.\n",
    "\n",
    "---\n",
    "\n",
    "## **✅ Summary**\n",
    "- **Vector data** represents **points, lines, and polygons**.\n",
    "- We loaded vector datasets from **S3 and local storage** in formats like **GeoParquet, GeoJSON, Shapefile, and CSV**.\n",
    "- We **converted WKT strings** into proper geometries for spatial queries.\n",
    "- Finally, we **registered our data as a SQL view** and ran **a spatial query**."
   ]
  },
  {
   "cell_type": "markdown",
   "id": "28ad1883-805b-41fd-9a4e-8e8829b521e0",
   "metadata": {},
   "source": [
    "# ⌨️ **Section 3: Code**"
   ]
  },
  {
   "cell_type": "code",
   "execution_count": 6,
   "id": "2defe704-f950-4e56-8e88-086bd711c05a",
   "metadata": {
    "execution": {
     "iopub.execute_input": "2025-03-06T06:38:16.400917Z",
     "iopub.status.busy": "2025-03-06T06:38:16.400713Z",
     "iopub.status.idle": "2025-03-06T06:38:18.131002Z",
     "shell.execute_reply": "2025-03-06T06:38:18.130618Z",
     "shell.execute_reply.started": "2025-03-06T06:38:16.400903Z"
    }
   },
   "outputs": [
    {
     "name": "stderr",
     "output_type": "stream",
     "text": [
      "                                                                                \r"
     ]
    }
   ],
   "source": [
    "geo_parquet_path = 's3://wherobots-examples/data/onboarding_1/nyc_buildings.parquet'\n",
    "\n",
    "# Load GeoParquet data into a Spark DataFrame\n",
    "vector_df = sedona.read.format(\"geoparquet\").load(geo_parquet_path)"
   ]
  },
  {
   "cell_type": "code",
   "execution_count": 7,
   "id": "c4e70dc7-a06a-4a3e-bf26-ef666c3dcded",
   "metadata": {
    "execution": {
     "iopub.execute_input": "2025-03-06T06:38:18.132037Z",
     "iopub.status.busy": "2025-03-06T06:38:18.131790Z",
     "iopub.status.idle": "2025-03-06T06:38:18.136139Z",
     "shell.execute_reply": "2025-03-06T06:38:18.135286Z",
     "shell.execute_reply.started": "2025-03-06T06:38:18.132022Z"
    }
   },
   "outputs": [
    {
     "name": "stdout",
     "output_type": "stream",
     "text": [
      "root\n",
      " |-- BUILD_ID: integer (nullable = true)\n",
      " |-- OCC_CLS: string (nullable = true)\n",
      " |-- PRIM_OCC: string (nullable = true)\n",
      " |-- SEC_OCC: string (nullable = true)\n",
      " |-- PROP_ADDR: string (nullable = true)\n",
      " |-- PROP_CITY: string (nullable = true)\n",
      " |-- PROP_ST: string (nullable = true)\n",
      " |-- PROP_ZIP: string (nullable = true)\n",
      " |-- OUTBLDG: string (nullable = true)\n",
      " |-- HEIGHT: float (nullable = true)\n",
      " |-- SQMETERS: float (nullable = true)\n",
      " |-- SQFEET: float (nullable = true)\n",
      " |-- H_ADJ_ELEV: float (nullable = true)\n",
      " |-- L_ADJ_ELEV: float (nullable = true)\n",
      " |-- FIPS: string (nullable = true)\n",
      " |-- CENSUSCODE: string (nullable = true)\n",
      " |-- PROD_DATE: timestamp (nullable = true)\n",
      " |-- SOURCE: string (nullable = true)\n",
      " |-- USNG: string (nullable = true)\n",
      " |-- LONGITUDE: double (nullable = true)\n",
      " |-- LATITUDE: double (nullable = true)\n",
      " |-- IMAGE_NAME: string (nullable = true)\n",
      " |-- IMAGE_DATE: timestamp (nullable = true)\n",
      " |-- VAL_METHOD: string (nullable = true)\n",
      " |-- REMARKS: string (nullable = true)\n",
      " |-- UUID: string (nullable = true)\n",
      " |-- Shape_Length: double (nullable = true)\n",
      " |-- Shape_Area: double (nullable = true)\n",
      " |-- geom: geometry (nullable = true)\n",
      " |-- height_val: float (nullable = true)\n",
      "\n"
     ]
    }
   ],
   "source": [
    "vector_df.printSchema()"
   ]
  },
  {
   "cell_type": "code",
   "execution_count": 31,
   "id": "45b85d85-3ba8-4d04-8fbc-75071c2db881",
   "metadata": {
    "execution": {
     "iopub.execute_input": "2025-03-06T06:42:37.782763Z",
     "iopub.status.busy": "2025-03-06T06:42:37.782547Z",
     "iopub.status.idle": "2025-03-06T06:42:38.704522Z",
     "shell.execute_reply": "2025-03-06T06:42:38.703871Z",
     "shell.execute_reply.started": "2025-03-06T06:42:37.782748Z"
    }
   },
   "outputs": [
    {
     "name": "stdout",
     "output_type": "stream",
     "text": [
      "+--------+----------+--------------------+-------+---------+---------+--------+--------+-------+------+---------+---------+----------+----------+-----+-----------+-------------------+------+------------------+------------------+------------------+-------------------+-------------------+----------+-------+--------------------+--------------------+--------------------+--------------------+----------+\n",
      "|BUILD_ID|   OCC_CLS|            PRIM_OCC|SEC_OCC|PROP_ADDR|PROP_CITY| PROP_ST|PROP_ZIP|OUTBLDG|HEIGHT| SQMETERS|   SQFEET|H_ADJ_ELEV|L_ADJ_ELEV| FIPS| CENSUSCODE|          PROD_DATE|SOURCE|              USNG|         LONGITUDE|          LATITUDE|         IMAGE_NAME|         IMAGE_DATE|VAL_METHOD|REMARKS|                UUID|        Shape_Length|          Shape_Area|                geom|height_val|\n",
      "+--------+----------+--------------------+-------+---------+---------+--------+--------+-------+------+---------+---------+----------+----------+-----+-----------+-------------------+------+------------------+------------------+------------------+-------------------+-------------------+----------+-------+--------------------+--------------------+--------------------+--------------------+----------+\n",
      "| 2080161|Commercial|Entertainment and...|   NULL|     NULL|     NULL|New York|    NULL|   NULL|  NULL| 72.02774| 775.2994|      NULL|      NULL|36061|36061029700|2020-05-19 00:00:00|  ORNL|18T WL 90669 25593|-73.92391443639734| 40.87638334960685|   10400100475C8E00|2019-02-19 00:00:00| Automated|   NULL|{69af3596-b213-4a...|3.530343033562468...|6.547198303382877E-9|MULTIPOLYGON (((-...|       0.0|\n",
      "| 2080159|Commercial|Entertainment and...|   NULL|     NULL|     NULL|New York|    NULL|   NULL|  NULL| 47.55031|511.82675|      NULL|      NULL|36061|36061029700|2020-05-19 00:00:00|  ORNL|18T WL 90646 25577|-73.92419939299305|40.876248250274166|   10400100475C8E00|2019-02-19 00:00:00| Automated|   NULL|{f07d031f-8f61-4a...|3.390452955846279...|5.892432883238539...|MULTIPOLYGON (((-...|       0.0|\n",
      "| 2080158|Commercial|Entertainment and...|   NULL|     NULL|     NULL|New York|    NULL|   NULL|  NULL| 159.3038|1714.7302|      NULL|      NULL|36061|36061029700|2020-05-19 00:00:00|  ORNL|18T WL 90656 25569|-73.92407382129933| 40.87619178252694|   10400100475C8E00|2019-02-19 00:00:00| Automated|   NULL|{b88aa3fa-36e1-40...|5.603520179524665E-4|1.505845859374145...|MULTIPOLYGON (((-...|       0.0|\n",
      "| 7776189|Commercial|Entertainment and...|   NULL|     NULL|     NULL|New York|    NULL|   NULL|  8.49| 351.4411|3782.8767|      NULL|      NULL|36061|36061029700|2013-08-15 00:00:00|   NGA|18T WL 90627 25556|-73.92441215839003|40.876054867162395|Li250-New York City|2013-08-15 00:00:00|Unverified|   NULL|{b1e35f06-f0dc-42...|8.468451995289287E-4|3.754381436836776E-8|MULTIPOLYGON (((-...|      8.49|\n",
      "| 7776214|Commercial|Entertainment and...|   NULL|     NULL|     NULL|New York|    NULL|   NULL| 10.49|445.49933|  4795.31|      NULL|      NULL|36061|36061029700|2013-08-15 00:00:00|   NGA|18T WL 90596 25557|-73.92479319239906| 40.87608655649839|Li250-New York City|2013-08-15 00:00:00|Unverified|   NULL|{29dc7a91-6d0e-47...|0.001027706703033...|4.759193302399767E-8|MULTIPOLYGON (((-...|     10.49|\n",
      "+--------+----------+--------------------+-------+---------+---------+--------+--------+-------+------+---------+---------+----------+----------+-----+-----------+-------------------+------+------------------+------------------+------------------+-------------------+-------------------+----------+-------+--------------------+--------------------+--------------------+--------------------+----------+\n",
      "only showing top 5 rows\n",
      "\n"
     ]
    },
    {
     "name": "stderr",
     "output_type": "stream",
     "text": [
      "                                                                                \r"
     ]
    }
   ],
   "source": [
    "vector_df.show(5)"
   ]
  },
  {
   "cell_type": "code",
   "execution_count": 32,
   "id": "f5800896-f2f4-4e94-823c-b4930e7512c4",
   "metadata": {
    "execution": {
     "iopub.execute_input": "2025-03-06T06:42:53.179255Z",
     "iopub.status.busy": "2025-03-06T06:42:53.178528Z",
     "iopub.status.idle": "2025-03-06T06:42:53.557177Z",
     "shell.execute_reply": "2025-03-06T06:42:53.556141Z",
     "shell.execute_reply.started": "2025-03-06T06:42:53.179231Z"
    }
   },
   "outputs": [
    {
     "name": "stdout",
     "output_type": "stream",
     "text": [
      "Loading GeoJSON data...\n"
     ]
    }
   ],
   "source": [
    "# Define the local path for GeoJSON data\n",
    "geojson_path = \"s3://wherobots-examples/data/onboarding_2/nyc_neighborhoods.geojson\"\n",
    "\n",
    "# Load GeoJSON data into a Spark DataFrame\n",
    "print(\"Loading GeoJSON data...\")\n",
    "geojson_df = sedona.read.format(\"geojson\").load(geojson_path)"
   ]
  },
  {
   "cell_type": "code",
   "execution_count": 33,
   "id": "a46e8179-ebfc-42cc-a7a6-a29fb944a773",
   "metadata": {
    "execution": {
     "iopub.execute_input": "2025-03-06T06:42:56.510657Z",
     "iopub.status.busy": "2025-03-06T06:42:56.510354Z",
     "iopub.status.idle": "2025-03-06T06:42:56.514703Z",
     "shell.execute_reply": "2025-03-06T06:42:56.514370Z",
     "shell.execute_reply.started": "2025-03-06T06:42:56.510642Z"
    }
   },
   "outputs": [
    {
     "name": "stdout",
     "output_type": "stream",
     "text": [
      "root\n",
      " |-- _corrupt_record: string (nullable = true)\n",
      " |-- geometry: geometry (nullable = true)\n",
      " |-- properties: struct (nullable = true)\n",
      " |    |-- X.id: string (nullable = true)\n",
      " |    |-- borough: string (nullable = true)\n",
      " |    |-- boroughCode: string (nullable = true)\n",
      " |    |-- neighborhood: string (nullable = true)\n",
      " |-- type: string (nullable = true)\n",
      "\n"
     ]
    }
   ],
   "source": [
    "geojson_df.printSchema()"
   ]
  },
  {
   "cell_type": "code",
   "execution_count": 34,
   "id": "95efb6ac-afba-4e2d-afac-686d98cb73b1",
   "metadata": {
    "execution": {
     "iopub.execute_input": "2025-03-06T06:42:58.464272Z",
     "iopub.status.busy": "2025-03-06T06:42:58.464061Z",
     "iopub.status.idle": "2025-03-06T06:42:58.810300Z",
     "shell.execute_reply": "2025-03-06T06:42:58.809586Z",
     "shell.execute_reply.started": "2025-03-06T06:42:58.464259Z"
    }
   },
   "outputs": [],
   "source": [
    "from pyspark.sql import functions as f \n",
    "\n",
    "geojson_df = sedona.read.format(\"geojson\") \\\n",
    "    .load(geojson_path) \\\n",
    "    .withColumn(\"borough\", f.expr(\"properties['borough']\")) \\\n",
    "    .withColumn(\"boroughCode\", f.expr(\"properties['boroughCode']\")) \\\n",
    "    .withColumn(\"neighborhood\", f.expr(\"properties['neighborhood']\")) \\\n",
    "    .drop(\"_corrupt_record\") \\\n",
    "    .drop(\"properties\") \\\n",
    "    .drop(\"type\") "
   ]
  },
  {
   "cell_type": "code",
   "execution_count": 35,
   "id": "1dac42ba-20c0-488b-96bf-ffa8fda51b43",
   "metadata": {
    "execution": {
     "iopub.execute_input": "2025-03-06T06:43:01.159652Z",
     "iopub.status.busy": "2025-03-06T06:43:01.159387Z",
     "iopub.status.idle": "2025-03-06T06:43:01.164921Z",
     "shell.execute_reply": "2025-03-06T06:43:01.164015Z",
     "shell.execute_reply.started": "2025-03-06T06:43:01.159636Z"
    }
   },
   "outputs": [
    {
     "name": "stdout",
     "output_type": "stream",
     "text": [
      "root\n",
      " |-- geometry: geometry (nullable = true)\n",
      " |-- borough: string (nullable = true)\n",
      " |-- boroughCode: string (nullable = true)\n",
      " |-- neighborhood: string (nullable = true)\n",
      "\n"
     ]
    }
   ],
   "source": [
    "geojson_df.printSchema()"
   ]
  },
  {
   "cell_type": "code",
   "execution_count": 36,
   "id": "c16cb46c-af6d-4ade-8eb6-70e431c6cef0",
   "metadata": {
    "execution": {
     "iopub.execute_input": "2025-03-06T06:43:03.948874Z",
     "iopub.status.busy": "2025-03-06T06:43:03.948656Z",
     "iopub.status.idle": "2025-03-06T06:43:04.302982Z",
     "shell.execute_reply": "2025-03-06T06:43:04.302461Z",
     "shell.execute_reply.started": "2025-03-06T06:43:03.948856Z"
    }
   },
   "outputs": [
    {
     "name": "stdout",
     "output_type": "stream",
     "text": [
      "Converting Lat/Long decimals in CSV data to geometry column...\n"
     ]
    }
   ],
   "source": [
    "print(\"Converting Lat/Long decimals in CSV data to geometry column...\")\n",
    "csv_path = \"s3://wherobots-examples/data/onboarding_2/311_Service_Requests_from_2010_to_Present_20240912.csv\"\n",
    "csv_df = sedona.read.format(\"csv\").option(\"header\", \"true\").load(csv_path)"
   ]
  },
  {
   "cell_type": "code",
   "execution_count": 37,
   "id": "d22ab448-7180-4e03-ba44-214c3cfdb6bd",
   "metadata": {
    "execution": {
     "iopub.execute_input": "2025-03-06T06:43:09.470094Z",
     "iopub.status.busy": "2025-03-06T06:43:09.469884Z",
     "iopub.status.idle": "2025-03-06T06:43:09.474705Z",
     "shell.execute_reply": "2025-03-06T06:43:09.473861Z",
     "shell.execute_reply.started": "2025-03-06T06:43:09.470079Z"
    }
   },
   "outputs": [
    {
     "name": "stdout",
     "output_type": "stream",
     "text": [
      "root\n",
      " |-- Unique Key: string (nullable = true)\n",
      " |-- Created Date: string (nullable = true)\n",
      " |-- Closed Date: string (nullable = true)\n",
      " |-- Agency: string (nullable = true)\n",
      " |-- Agency Name: string (nullable = true)\n",
      " |-- Complaint Type: string (nullable = true)\n",
      " |-- Descriptor: string (nullable = true)\n",
      " |-- Location Type: string (nullable = true)\n",
      " |-- Incident Zip: string (nullable = true)\n",
      " |-- Incident Address: string (nullable = true)\n",
      " |-- Street Name: string (nullable = true)\n",
      " |-- Cross Street 1: string (nullable = true)\n",
      " |-- Cross Street 2: string (nullable = true)\n",
      " |-- Intersection Street 1: string (nullable = true)\n",
      " |-- Intersection Street 2: string (nullable = true)\n",
      " |-- Address Type: string (nullable = true)\n",
      " |-- City: string (nullable = true)\n",
      " |-- Landmark: string (nullable = true)\n",
      " |-- Facility Type: string (nullable = true)\n",
      " |-- Status: string (nullable = true)\n",
      " |-- Due Date: string (nullable = true)\n",
      " |-- Resolution Description: string (nullable = true)\n",
      " |-- Resolution Action Updated Date: string (nullable = true)\n",
      " |-- Community Board: string (nullable = true)\n",
      " |-- BBL: string (nullable = true)\n",
      " |-- Borough: string (nullable = true)\n",
      " |-- X Coordinate (State Plane): string (nullable = true)\n",
      " |-- Y Coordinate (State Plane): string (nullable = true)\n",
      " |-- Open Data Channel Type: string (nullable = true)\n",
      " |-- Park Facility Name: string (nullable = true)\n",
      " |-- Park Borough: string (nullable = true)\n",
      " |-- Vehicle Type: string (nullable = true)\n",
      " |-- Taxi Company Borough: string (nullable = true)\n",
      " |-- Taxi Pick Up Location: string (nullable = true)\n",
      " |-- Bridge Highway Name: string (nullable = true)\n",
      " |-- Bridge Highway Direction: string (nullable = true)\n",
      " |-- Road Ramp: string (nullable = true)\n",
      " |-- Bridge Highway Segment: string (nullable = true)\n",
      " |-- Latitude: string (nullable = true)\n",
      " |-- Longitude: string (nullable = true)\n",
      " |-- Location: string (nullable = true)\n",
      "\n"
     ]
    }
   ],
   "source": [
    "csv_df.printSchema()"
   ]
  },
  {
   "cell_type": "code",
   "execution_count": 38,
   "id": "84fef6b6-ece0-4bb5-84e3-d6472a79260e",
   "metadata": {
    "execution": {
     "iopub.execute_input": "2025-03-06T06:43:13.432521Z",
     "iopub.status.busy": "2025-03-06T06:43:13.431926Z",
     "iopub.status.idle": "2025-03-06T06:43:13.730332Z",
     "shell.execute_reply": "2025-03-06T06:43:13.729714Z",
     "shell.execute_reply.started": "2025-03-06T06:43:13.432497Z"
    }
   },
   "outputs": [],
   "source": [
    "csv_df = sedona.read.format(\"csv\") \\\n",
    "    .option(\"header\", \"true\") \\\n",
    "    .load(csv_path) \\\n",
    "    .withColumn(\"geometry\", f.expr(\"ST_MakePoint(Longitude, Latitude, 4326)\"))"
   ]
  },
  {
   "cell_type": "code",
   "execution_count": 39,
   "id": "2865fc37-a52d-45a8-b490-ab38846d7e0c",
   "metadata": {
    "execution": {
     "iopub.execute_input": "2025-03-06T06:43:16.379762Z",
     "iopub.status.busy": "2025-03-06T06:43:16.379560Z",
     "iopub.status.idle": "2025-03-06T06:43:16.390959Z",
     "shell.execute_reply": "2025-03-06T06:43:16.390533Z",
     "shell.execute_reply.started": "2025-03-06T06:43:16.379748Z"
    }
   },
   "outputs": [],
   "source": [
    "csv_df.createOrReplaceTempView('csv_df')"
   ]
  },
  {
   "cell_type": "code",
   "execution_count": 40,
   "id": "d4464bf7-e154-4512-9d40-9324d57817d2",
   "metadata": {
    "execution": {
     "iopub.execute_input": "2025-03-06T06:43:18.629610Z",
     "iopub.status.busy": "2025-03-06T06:43:18.629417Z",
     "iopub.status.idle": "2025-03-06T06:43:18.643188Z",
     "shell.execute_reply": "2025-03-06T06:43:18.642668Z",
     "shell.execute_reply.started": "2025-03-06T06:43:18.629597Z"
    }
   },
   "outputs": [],
   "source": [
    "# Example 1: Filter points within a polygon\n",
    "polygon_wkt = \"POLYGON((-73.9945201121 40.7512166031, -73.9925054739 40.7512166031, -73.9925054739 40.7498572827, -73.9945201121 40.7498572827, -73.9945201121 40.7512166031))\"\n",
    "query = f\"\"\"\n",
    "SELECT * FROM csv_df\n",
    "WHERE ST_Intersects(geometry, ST_GeomFromText('{polygon_wkt}'))\n",
    "\"\"\"\n",
    "filtered_df = sedona.sql(query)"
   ]
  },
  {
   "cell_type": "code",
   "execution_count": 42,
   "id": "8dd01936-2a6c-47b6-a5da-ef028e99cde2",
   "metadata": {
    "execution": {
     "iopub.execute_input": "2025-03-06T06:43:49.228826Z",
     "iopub.status.busy": "2025-03-06T06:43:49.228615Z",
     "iopub.status.idle": "2025-03-06T06:43:50.761211Z",
     "shell.execute_reply": "2025-03-06T06:43:50.760165Z",
     "shell.execute_reply.started": "2025-03-06T06:43:49.228811Z"
    }
   },
   "outputs": [
    {
     "name": "stderr",
     "output_type": "stream",
     "text": [
      "[Stage 52:=====================================================>(287 + 1) / 288]\r"
     ]
    },
    {
     "name": "stdout",
     "output_type": "stream",
     "text": [
      "Number of filtered points within polygon: 711\n",
      "CPU times: user 3.76 ms, sys: 1.31 ms, total: 5.08 ms\n",
      "Wall time: 1.53 s\n"
     ]
    },
    {
     "name": "stderr",
     "output_type": "stream",
     "text": [
      "                                                                                \r"
     ]
    }
   ],
   "source": [
    "%%time\n",
    "# Show results\n",
    "print(f\"Number of filtered points within polygon: {filtered_df.count()}\")\n"
   ]
  },
  {
   "cell_type": "markdown",
   "id": "02c2301d-eb1b-49d4-82c8-1d68a5e7d315",
   "metadata": {},
   "source": [
    "# **Section 4: Loading Raster Data 🛰️**"
   ]
  },
  {
   "cell_type": "markdown",
   "id": "785ef3aa-dac6-4d71-a7d1-446acbfb3d8b",
   "metadata": {},
   "source": [
    "## **Introduction**\n",
    "Raster data represents **continuous spatial information** such as:\n",
    "- Satellite imagery 🛰️\n",
    "- Elevation models ⛰️\n",
    "- Climate data 🌦️\n",
    "\n",
    "Unlike vector data, which consists of **points, lines, and polygons**, raster data is stored as a **grid of pixels**, where each pixel represents a value (e.g., temperature, elevation).\n",
    "\n",
    "In this section, we will:\n",
    "1. **Understand raster data formats** supported in Wherobots.\n",
    "2. **Load raster datasets from S3 and local storage**.\n",
    "3. **Process raster data efficiently** using tiling and querying techniques.\n",
    "\n",
    "---\n",
    "\n",
    "## **1️⃣ Understanding Raster Data Formats**\n",
    "Raster datasets come in various formats, optimized for different workflows.\n",
    "\n",
    "| **Format**    | **Description** |\n",
    "|--------------|----------------|\n",
    "| **GeoTIFF** 🏞️ | A widely used raster format for geospatial imagery. |\n",
    "| **Cloud-Optimized GeoTIFF (COG)** ☁️ | A version of GeoTIFF optimized for fast cloud access. |\n",
    "| **NetCDF** 🌍 | Commonly used for scientific climate and weather data. |\n",
    "| **JPEG2000** 🖼️ | A compressed raster format with high quality. |\n",
    "| **HDF (Hierarchical Data Format)** 📦 | Used for large datasets in Earth science. |\n",
    "\n",
    "### **🔹 Why Use Cloud-Optimized GeoTIFF (COG)?**\n",
    "✅ **Faster access in cloud storage** (only reads necessary parts of the file).  \n",
    "✅ **Optimized for parallel processing** in big data environments.  \n",
    "✅ **Compatible with most GIS tools** like QGIS, GDAL, and Wherobots.  \n",
    "\n",
    "---\n",
    "\n",
    "## **2️⃣ Loading Raster Data from S3**\n",
    "Now that we have **verified the available files**, we can **load a Cloud-Optimized GeoTIFF (COG) from S3**.\n",
    "\n",
    "```python\n",
    "# Load a Cloud-Optimized GeoTIFF (COG) from S3\n",
    "raster_df = sedona.read.format(\"raster\").load(\"s3a://wherobots-public-data/satellite_imagery/sample.tif\")\n",
    "\n",
    "# Print schema\n",
    "raster_df.printSchema()\n",
    "\n",
    "# Show raster metadata\n",
    "raster_df.show(5, truncate=False)\n",
    "```\n",
    "\n",
    "### **🛠️ What’s Happening?**\n",
    "- **`format(\"raster\")`** → Loads the raw file **without reading** all pixel values.\n",
    "- **`RS_FromGeoTiff(content)`** → Converts raster content into a **structured raster object**.\n",
    "- **`printSchema()`** → Displays metadata about the raster dataset.\n",
    "\n",
    "---\n",
    "\n",
    "## **3️⃣ Loading Raster Data from Local Storage**\n",
    "If the raster dataset is stored in **local managed storage**, we can load it directly.\n",
    "\n",
    "```python\n",
    "# Load raster from local storage\n",
    "local_raster_df = sedona.read.format(\"raster\").load(\"/data/shared/sample.tif\")\n",
    "\n",
    "# Show raster metadata\n",
    "local_raster_df.show(5, truncate=False)\n",
    "```\n",
    "\n",
    "### **🛠️ What’s Happening?**\n",
    "- The **same method** is used as with S3, but the path is a local file (`/data/shared/...`).\n",
    "- The dataset is stored **within the Wherobots notebook environment**.\n",
    "\n",
    "---\n",
    "\n",
    "## **4️⃣ Optimizing Raster Data with Tiling**\n",
    "Large raster files **must be tiled** to improve performance.\n",
    "\n",
    "```python\n",
    "# Explode raster into tiles\n",
    "tiled_raster_df = raster_df.selectExpr(\"RS_Explode(rast) as tiles\")\n",
    "\n",
    "# Create a SQL view for tiled rasters\n",
    "tiled_raster_df.createOrReplaceTempView(\"tiled_raster_df\")\n",
    "\n",
    "# Show some tiles\n",
    "tiled_raster_df.show(5, truncate=False)\n",
    "```\n",
    "\n",
    "### **🛠️ What’s Happening?**\n",
    "- **`RS_Explode(rast)`** → Breaks the raster into **smaller, more manageable tiles**.\n",
    "- **Why?** → Tiled rasters allow us to **query specific areas** without reading the entire dataset.\n",
    "\n",
    "---\n",
    "\n",
    "## **5️⃣ Querying Raster Data**\n",
    "We can **extract pixel values** and perform **spatial queries** on raster datasets.\n",
    "\n",
    "### **Extracting Pixel Values at Specific Coordinates**\n",
    "```sql\n",
    "-- Query pixel value at a specific coordinate\n",
    "SELECT RS_PixelAsPoint(rast, 10, 15) AS pixel_point FROM raster_df;\n",
    "```\n",
    "🔹 Returns the **geographic coordinates** of a specific pixel.\n",
    "\n",
    "---\n",
    "\n",
    "### **Performing a Spatial Range Query**\n",
    "```sql\n",
    "-- Select rasters that intersect with a given polygon\n",
    "SELECT rast \n",
    "FROM raster_df \n",
    "WHERE RS_Intersects(rast, ST_GeomFromText('POLYGON((-122.5 37.5, -122.5 37.6, -122.4 37.6, -122.4 37.5, -122.5 37.5))'));\n",
    "```\n",
    "🔹 Returns only the **raster tiles** that intersect with the polygon.\n",
    "\n",
    "---\n",
    "\n",
    "## **✅ Summary**\n",
    "- **Raster data** represents continuous geographic information.\n",
    "- We **listed available raster files** in an S3 bucket.\n",
    "- We **loaded Cloud-Optimized GeoTIFF (COG) files** into Wherobots.\n",
    "- We **converted raw files into structured raster objects**.\n",
    "- We **tiled raster data** for efficient querying.\n",
    "- We **ran spatial SQL queries** to extract pixel values.\n"
   ]
  },
  {
   "cell_type": "markdown",
   "id": "c5ec3ef8-59af-4588-9d5e-5533da134913",
   "metadata": {},
   "source": [
    "# ⌨️ **Section 4 Code**"
   ]
  },
  {
   "cell_type": "code",
   "execution_count": 19,
   "id": "0d429c0d-7204-46eb-8c13-accc418d4475",
   "metadata": {
    "execution": {
     "iopub.execute_input": "2025-03-06T06:38:47.748216Z",
     "iopub.status.busy": "2025-03-06T06:38:47.747398Z",
     "iopub.status.idle": "2025-03-06T06:38:47.751053Z",
     "shell.execute_reply": "2025-03-06T06:38:47.750210Z",
     "shell.execute_reply.started": "2025-03-06T06:38:47.748193Z"
    }
   },
   "outputs": [],
   "source": [
    "# Define the file path for a sample raster dataset\n",
    "raster_file = \"s3a://io-10m-annual-lulc/15T_2023.tif\""
   ]
  },
  {
   "cell_type": "code",
   "execution_count": 23,
   "id": "56ea371f-af45-41fe-800c-aadb3a4080c9",
   "metadata": {
    "execution": {
     "iopub.execute_input": "2025-03-06T06:39:34.572798Z",
     "iopub.status.busy": "2025-03-06T06:39:34.572593Z",
     "iopub.status.idle": "2025-03-06T06:39:34.684410Z",
     "shell.execute_reply": "2025-03-06T06:39:34.684008Z",
     "shell.execute_reply.started": "2025-03-06T06:39:34.572785Z"
    }
   },
   "outputs": [],
   "source": [
    "# Load a Cloud-Optimized GeoTIFF (COG) from S3\n",
    "raster_df = sedona.read.format(\"raster\").load(raster_file)"
   ]
  },
  {
   "cell_type": "code",
   "execution_count": 24,
   "id": "771cebab-d678-43ab-b5c1-64a46cf6051b",
   "metadata": {
    "execution": {
     "iopub.execute_input": "2025-03-06T06:39:37.935554Z",
     "iopub.status.busy": "2025-03-06T06:39:37.935240Z",
     "iopub.status.idle": "2025-03-06T06:39:39.894582Z",
     "shell.execute_reply": "2025-03-06T06:39:39.894230Z",
     "shell.execute_reply.started": "2025-03-06T06:39:37.935539Z"
    }
   },
   "outputs": [
    {
     "name": "stderr",
     "output_type": "stream",
     "text": [
      "                                                                                \r"
     ]
    },
    {
     "name": "stdout",
     "output_type": "stream",
     "text": [
      "+--------------------+---+---+\n",
      "|                rast|  x|  y|\n",
      "+--------------------+---+---+\n",
      "|OutDbGridCoverage...| 28| 67|\n",
      "|OutDbGridCoverage...| 97| 16|\n",
      "|OutDbGridCoverage...| 91| 91|\n",
      "|OutDbGridCoverage...| 87|  3|\n",
      "|OutDbGridCoverage...| 26|107|\n",
      "|OutDbGridCoverage...| 36|144|\n",
      "|OutDbGridCoverage...| 68|154|\n",
      "|OutDbGridCoverage...| 53|119|\n",
      "|OutDbGridCoverage...| 95|169|\n",
      "|OutDbGridCoverage...| 38|161|\n",
      "|OutDbGridCoverage...| 99| 24|\n",
      "|OutDbGridCoverage...| 72|123|\n",
      "|OutDbGridCoverage...| 37|118|\n",
      "|OutDbGridCoverage...| 39|153|\n",
      "|OutDbGridCoverage...| 48|128|\n",
      "|OutDbGridCoverage...| 20|103|\n",
      "|OutDbGridCoverage...| 90|129|\n",
      "|OutDbGridCoverage...| 27| 86|\n",
      "|OutDbGridCoverage...| 14|112|\n",
      "|OutDbGridCoverage...| 76|134|\n",
      "+--------------------+---+---+\n",
      "only showing top 20 rows\n",
      "\n"
     ]
    }
   ],
   "source": [
    "raster_df.show()"
   ]
  },
  {
   "cell_type": "code",
   "execution_count": 25,
   "id": "451126fc-b990-4854-b462-5b1c06f5e40b",
   "metadata": {
    "execution": {
     "iopub.execute_input": "2025-03-06T06:39:41.575186Z",
     "iopub.status.busy": "2025-03-06T06:39:41.574925Z",
     "iopub.status.idle": "2025-03-06T06:39:41.583799Z",
     "shell.execute_reply": "2025-03-06T06:39:41.583316Z",
     "shell.execute_reply.started": "2025-03-06T06:39:41.575169Z"
    }
   },
   "outputs": [],
   "source": [
    "raster_df.createOrReplaceTempView('raster_df')"
   ]
  },
  {
   "cell_type": "code",
   "execution_count": 26,
   "id": "e2a12fc1-a8c0-47c9-9624-4d2a2c50f1fa",
   "metadata": {
    "execution": {
     "iopub.execute_input": "2025-03-06T06:39:47.779173Z",
     "iopub.status.busy": "2025-03-06T06:39:47.778380Z",
     "iopub.status.idle": "2025-03-06T06:39:47.781785Z",
     "shell.execute_reply": "2025-03-06T06:39:47.781397Z",
     "shell.execute_reply.started": "2025-03-06T06:39:47.779149Z"
    }
   },
   "outputs": [],
   "source": [
    "raster_df_tiled = raster_df"
   ]
  },
  {
   "cell_type": "markdown",
   "id": "11615753-6b49-4168-8247-ad09ac06500f",
   "metadata": {},
   "source": [
    "Below is the **point location** we are querying against the **raster dataframe**:\n",
    "\n",
    "![Query Area](https://i.ibb.co/W4K0Lg90/Clean-Shot-2025-02-05-at-12-46-59-2x.png)  "
   ]
  },
  {
   "cell_type": "code",
   "execution_count": 43,
   "id": "9aaf4796-7665-44b1-965c-7ddeeea2ceb0",
   "metadata": {
    "execution": {
     "iopub.execute_input": "2025-03-06T06:45:45.161961Z",
     "iopub.status.busy": "2025-03-06T06:45:45.161725Z",
     "iopub.status.idle": "2025-03-06T06:45:48.004681Z",
     "shell.execute_reply": "2025-03-06T06:45:48.004032Z",
     "shell.execute_reply.started": "2025-03-06T06:45:45.161946Z"
    }
   },
   "outputs": [
    {
     "name": "stderr",
     "output_type": "stream",
     "text": [
      "                                                                                \r"
     ]
    },
    {
     "name": "stdout",
     "output_type": "stream",
     "text": [
      "+-----------+\n",
      "|pixel_point|\n",
      "+-----------+\n",
      "|5.0        |\n",
      "+-----------+\n",
      "\n"
     ]
    }
   ],
   "source": [
    "# Querying pixel value using SQL\n",
    "query = \"\"\"\n",
    "SELECT RS_Value(rast, \n",
    "    ST_Transform(\n",
    "        ST_SetSRID(\n",
    "            ST_Point(-93.367556, 44.231003), \n",
    "        4326),\n",
    "    'epsg:4326', 'epsg:32615')\n",
    ") AS pixel_point FROM raster_df \n",
    "\"\"\"\n",
    "\n",
    "result_df = sedona.sql(query)\n",
    "result_df.where(\"pixel_point is not null\").show(truncate=False)"
   ]
  },
  {
   "cell_type": "code",
   "execution_count": null,
   "id": "9c2f2e38-40c8-45f4-8bcd-456d1602a46f",
   "metadata": {},
   "outputs": [],
   "source": []
  }
 ],
 "metadata": {
  "kernelspec": {
   "display_name": "Python 3 (ipykernel)",
   "language": "python",
   "name": "python3"
  },
  "language_info": {
   "codemirror_mode": {
    "name": "ipython",
    "version": 3
   },
   "file_extension": ".py",
   "mimetype": "text/x-python",
   "name": "python",
   "nbconvert_exporter": "python",
   "pygments_lexer": "ipython3",
   "version": "3.11.11"
  }
 },
 "nbformat": 4,
 "nbformat_minor": 5
}
