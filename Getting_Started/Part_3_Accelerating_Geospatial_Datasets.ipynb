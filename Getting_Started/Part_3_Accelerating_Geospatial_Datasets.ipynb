{
 "cells": [
  {
   "cell_type": "markdown",
   "id": "87799ae3-0d1a-4ba8-b8b8-8be64845f31b",
   "metadata": {
    "jp-MarkdownHeadingCollapsed": true
   },
   "source": [
    "# **Optimized Notebook – Performance Optimization & Exporting Data in WherobotsDB 🚀**"
   ]
  },
  {
   "cell_type": "markdown",
   "id": "503de501-f967-4fbb-91df-7b922dca66b0",
   "metadata": {},
   "source": [
    "This notebook **extracts, transforms, and loads (ETL)** large-scale **GDELT event data** into **WherobotsDB** before **exporting it as an optimized GeoParquet dataset**.\n",
    "\n",
    "## **🔹 Workflow Overview**\n",
    "1️⃣ **Create an optimized table in WherobotsDB** (Iceberg format).  \n",
    "2️⃣ **Organize data by GeoHash** for spatial indexing.  \n",
    "3️⃣ **Write the structured dataset** as a **GeoParquet file** for efficient querying.  \n",
    "\n",
    "---\n",
    "\n",
    "## **1️⃣ Creating an Optimized Iceberg Table for GDELT Data**\n",
    "To store geospatial data efficiently, we create an **Iceberg table in WherobotsDB**, ensuring the dataset is well-structured for **fast queries**.\n",
    "\n",
    "```python\n",
    "# Create an optimized Iceberg table in WherobotsDB\n",
    "sedona.sql(f'''\n",
    "CREATE OR REPLACE TABLE wherobots.{name}.gdelt AS \n",
    "SELECT *, \n",
    "ST_SetSRID(\n",
    "    ST_Point(ActionGeo_Long, ActionGeo_Lat),\n",
    "4326) as geometry\n",
    "FROM csv_df\n",
    "''')\n",
    "```\n",
    "\n",
    "### **🛠️ What’s Happening?**\n",
    "- **Converts CSV data (`csv_df`) into a structured Iceberg table.**\n",
    "- **Creates a spatial geometry** column (`ST_Point`) using latitude (`ActionGeo_Lat`) and longitude (`ActionGeo_Long`).\n",
    "- **Ensures proper geospatial reference system (EPSG:4326 - WGS 84).**\n",
    "\n",
    "---\n",
    "\n",
    "## **2️⃣ Organizing Data by GeoHash for Faster Queries**\n",
    "GeoHash **spatially indexes** the dataset, allowing faster **geospatial filtering**.\n",
    "\n",
    "```python\n",
    "# Organize data by GeoHash and compute bounding boxes (BBOX)\n",
    "gdelt = sedona.sql(f'''\n",
    "SELECT \n",
    "    *,\n",
    "    ST_GeoHash(geometry, 15) AS geohash,\n",
    "    struct(st_xmin(geometry) as xmin, st_ymin(geometry) as ymin, \n",
    "           st_xmax(geometry) as xmax, st_ymax(geometry) as ymax) as bbox\n",
    "FROM wherobots.{name}.gdelt\n",
    "''')\n",
    "```\n",
    "\n",
    "### **🛠️ What’s Happening?**\n",
    "- **`ST_GeoHash(geometry, 15)`** → Assigns a GeoHash (precision: 15) to each row.\n",
    "- **`bbox` struct** → Computes the **bounding box (BBOX)** for each event.\n",
    "\n",
    "---\n",
    "\n",
    "## **3️⃣ Writing Optimized GeoParquet for Efficient Queries**\n",
    "The **GeoParquet format** is ideal for storing spatial data in a compact and queryable format.\n",
    "\n",
    "```python\n",
    "%%time\n",
    "\n",
    "gdelt.repartitionByRange(10, \"geohash\") \\\n",
    "    .sortWithinPartitions(\"geohash\") \\\n",
    "    .drop(\"geohash15\") \\\n",
    "    .write \\\n",
    "    .format(\"geoparquet\") \\\n",
    "    .option(\"geoparquet.version\", \"1.1.0\") \\\n",
    "    .option(\"geoparquet.covering\", \"bbox\") \\\n",
    "    .option(\"geoparquet.crs\", projjson) \\\n",
    "    .save(user_uri + \"gdelt-snappy\", mode='overwrite', compression='snappy')\n",
    "```\n",
    "\n",
    "### **🛠️ What’s Happening?**\n",
    "- **Repartitions data into 10 spatially-organized partitions** using **GeoHash**.\n",
    "- **Sorts each partition by GeoHash** for better locality-based queries.\n",
    "- **Drops unnecessary fields (`geohash15`)** to optimize storage.\n",
    "- **Writes the final dataset in GeoParquet format** (`geoparquet.version = 1.1.0`).\n",
    "- **Includes bounding box (`bbox`) for efficient spatial filtering**.\n",
    "- **Uses the EPSG projection system (`projjson`)** for CRS compatibility.\n",
    "- **Saves the dataset in Snappy-compressed GeoParquet format**.\n",
    "\n",
    "---\n",
    "\n",
    "## **✅ Summary**\n",
    "✔️ **Created a structured Iceberg table in WherobotsDB** for **GDELT event data**.  \n",
    "✔️ **Added GeoHash and BBOX indexing** to **accelerate spatial queries**.  \n",
    "✔️ **Exported the optimized dataset** to **GeoParquet (Snappy compression)** for **fast external use**.  \n",
    "\n",
    "---\n",
    "\n",
    "### **Next Steps**\n",
    "- **Perform spatial queries on the GeoParquet dataset** in Spark or GIS tools.  \n",
    "- **Integrate the dataset into dashboards or mapping applications.**  "
   ]
  },
  {
   "cell_type": "markdown",
   "id": "a066dd7a-4f7b-457c-934e-c2867757cd5d",
   "metadata": {
    "jp-MarkdownHeadingCollapsed": true
   },
   "source": [
    "# ⌨️ **Step 1: Convert GDELT CSV data to Havasu table**"
   ]
  },
  {
   "cell_type": "code",
   "execution_count": null,
   "id": "4777dc09-52b7-4db1-8a8f-9a84d98d5dbf",
   "metadata": {},
   "outputs": [
    {
     "name": "stderr",
     "output_type": "stream",
     "text": [
      "25/02/06 01:45:01 WARN UDTRegistration: Cannot register UDT for org.geotools.coverage.grid.GridCoverage2D, which is already registered.\n",
      "25/02/06 01:45:01 WARN SimpleFunctionRegistry: The function rs_union_aggr replaced a previously registered function.\n",
      "25/02/06 01:45:01 WARN UDTRegistration: Cannot register UDT for org.locationtech.jts.geom.Geometry, which is already registered.\n",
      "25/02/06 01:45:01 WARN UDTRegistration: Cannot register UDT for org.locationtech.jts.index.SpatialIndex, which is already registered.\n",
      "25/02/06 01:45:01 WARN SimpleFunctionRegistry: The function st_union_aggr replaced a previously registered function.\n",
      "25/02/06 01:45:01 WARN SimpleFunctionRegistry: The function st_envelope_aggr replaced a previously registered function.\n",
      "25/02/06 01:45:01 WARN SimpleFunctionRegistry: The function st_intersection_aggr replaced a previously registered function.\n",
      "25/02/06 01:45:01 WARN SimpleFunctionRegistry: The function st_analyze_aggr replaced a previously registered function.\n"
     ]
    }
   ],
   "source": [
    "# Step 1: Import necessary libraries and connect Apache Sedona to the Wherobots runtime\n",
    "from sedona.spark import SedonaContext\n",
    "\n",
    "config = SedonaContext.builder() \\\n",
    "    .getOrCreate()\n",
    "\n",
    "sedona = SedonaContext.create(config)"
   ]
  },
  {
   "cell_type": "code",
   "execution_count": 51,
   "id": "aef09e5f-d74b-46f8-a00a-c8fbec2da4b2",
   "metadata": {},
   "outputs": [],
   "source": [
    "# Read over all of the different CSV files in the S3 bucket\n",
    "\n",
    "csv_path = 's3://gdelt-open-data/events/*.*.csv'"
   ]
  },
  {
   "cell_type": "code",
   "execution_count": 52,
   "id": "3d39fcbb-9284-4f99-8573-569c8d86d1c0",
   "metadata": {},
   "outputs": [
    {
     "name": "stderr",
     "output_type": "stream",
     "text": [
      "                                                                                \r"
     ]
    }
   ],
   "source": [
    "# Read the CSV with a tab delimited \n",
    "\n",
    "csv_df = sedona.read.format(\"csv\") \\\n",
    "    .option(\"delimiter\", \"\\\\t\") \\\n",
    "    .load(csv_path)"
   ]
  },
  {
   "cell_type": "code",
   "execution_count": 53,
   "id": "67e37e05-e190-4570-b748-a48b277b9daf",
   "metadata": {},
   "outputs": [],
   "source": [
    "# We have to attach the headers to the CSV from a TXT file 🫠\n",
    "import requests\n",
    "\n",
    "# Fetch the header file from the URL\n",
    "response = requests.get('https://gdeltproject.org/data/lookups/CSV.header.dailyupdates.txt')\n",
    "response.raise_for_status()  # ensure we notice bad responses\n",
    "\n",
    "# Assume the first line contains the header names and they're comma-separated\n",
    "header_line = response.text.splitlines()[0].strip()\n",
    "headers = header_line.split('\\t')"
   ]
  },
  {
   "cell_type": "code",
   "execution_count": 54,
   "id": "bac074a6-e142-49a3-8d99-e7af2dc13392",
   "metadata": {
    "scrolled": true
   },
   "outputs": [],
   "source": [
    "# Attach the headers\n",
    "csv_df = csv_df.toDF(*headers)"
   ]
  },
  {
   "cell_type": "code",
   "execution_count": 55,
   "id": "771e22d3-2639-4fd0-9893-b4178a08171f",
   "metadata": {
    "scrolled": true
   },
   "outputs": [
    {
     "name": "stdout",
     "output_type": "stream",
     "text": [
      "root\n",
      " |-- GLOBALEVENTID: string (nullable = true)\n",
      " |-- SQLDATE: string (nullable = true)\n",
      " |-- MonthYear: string (nullable = true)\n",
      " |-- Year: string (nullable = true)\n",
      " |-- FractionDate: string (nullable = true)\n",
      " |-- Actor1Code: string (nullable = true)\n",
      " |-- Actor1Name: string (nullable = true)\n",
      " |-- Actor1CountryCode: string (nullable = true)\n",
      " |-- Actor1KnownGroupCode: string (nullable = true)\n",
      " |-- Actor1EthnicCode: string (nullable = true)\n",
      " |-- Actor1Religion1Code: string (nullable = true)\n",
      " |-- Actor1Religion2Code: string (nullable = true)\n",
      " |-- Actor1Type1Code: string (nullable = true)\n",
      " |-- Actor1Type2Code: string (nullable = true)\n",
      " |-- Actor1Type3Code: string (nullable = true)\n",
      " |-- Actor2Code: string (nullable = true)\n",
      " |-- Actor2Name: string (nullable = true)\n",
      " |-- Actor2CountryCode: string (nullable = true)\n",
      " |-- Actor2KnownGroupCode: string (nullable = true)\n",
      " |-- Actor2EthnicCode: string (nullable = true)\n",
      " |-- Actor2Religion1Code: string (nullable = true)\n",
      " |-- Actor2Religion2Code: string (nullable = true)\n",
      " |-- Actor2Type1Code: string (nullable = true)\n",
      " |-- Actor2Type2Code: string (nullable = true)\n",
      " |-- Actor2Type3Code: string (nullable = true)\n",
      " |-- IsRootEvent: string (nullable = true)\n",
      " |-- EventCode: string (nullable = true)\n",
      " |-- EventBaseCode: string (nullable = true)\n",
      " |-- EventRootCode: string (nullable = true)\n",
      " |-- QuadClass: string (nullable = true)\n",
      " |-- GoldsteinScale: string (nullable = true)\n",
      " |-- NumMentions: string (nullable = true)\n",
      " |-- NumSources: string (nullable = true)\n",
      " |-- NumArticles: string (nullable = true)\n",
      " |-- AvgTone: string (nullable = true)\n",
      " |-- Actor1Geo_Type: string (nullable = true)\n",
      " |-- Actor1Geo_FullName: string (nullable = true)\n",
      " |-- Actor1Geo_CountryCode: string (nullable = true)\n",
      " |-- Actor1Geo_ADM1Code: string (nullable = true)\n",
      " |-- Actor1Geo_Lat: string (nullable = true)\n",
      " |-- Actor1Geo_Long: string (nullable = true)\n",
      " |-- Actor1Geo_FeatureID: string (nullable = true)\n",
      " |-- Actor2Geo_Type: string (nullable = true)\n",
      " |-- Actor2Geo_FullName: string (nullable = true)\n",
      " |-- Actor2Geo_CountryCode: string (nullable = true)\n",
      " |-- Actor2Geo_ADM1Code: string (nullable = true)\n",
      " |-- Actor2Geo_Lat: string (nullable = true)\n",
      " |-- Actor2Geo_Long: string (nullable = true)\n",
      " |-- Actor2Geo_FeatureID: string (nullable = true)\n",
      " |-- ActionGeo_Type: string (nullable = true)\n",
      " |-- ActionGeo_FullName: string (nullable = true)\n",
      " |-- ActionGeo_CountryCode: string (nullable = true)\n",
      " |-- ActionGeo_ADM1Code: string (nullable = true)\n",
      " |-- ActionGeo_Lat: string (nullable = true)\n",
      " |-- ActionGeo_Long: string (nullable = true)\n",
      " |-- ActionGeo_FeatureID: string (nullable = true)\n",
      " |-- DATEADDED: string (nullable = true)\n",
      " |-- SOURCEURL: string (nullable = true)\n",
      "\n"
     ]
    }
   ],
   "source": [
    "csv_df.printSchema()"
   ]
  },
  {
   "cell_type": "code",
   "execution_count": 56,
   "id": "a37aa8d7-f176-47b0-b004-dff7534bc8ba",
   "metadata": {},
   "outputs": [
    {
     "name": "stderr",
     "output_type": "stream",
     "text": [
      "                                                                                \r"
     ]
    },
    {
     "data": {
      "text/plain": [
       "383958288"
      ]
     },
     "execution_count": 56,
     "metadata": {},
     "output_type": "execute_result"
    }
   ],
   "source": [
    "# Count the total number of rows\n",
    "csv_df.count()"
   ]
  },
  {
   "cell_type": "code",
   "execution_count": 57,
   "id": "d21c477e-3088-4c79-8472-605d1660f0a3",
   "metadata": {},
   "outputs": [],
   "source": [
    "# Create a temporary view to create our table from the DataFrame\n",
    "csv_df.createOrReplaceTempView('csv_df')"
   ]
  },
  {
   "cell_type": "code",
   "execution_count": 60,
   "id": "be203bd6-60e3-4a05-b0d3-d366eb7e1467",
   "metadata": {},
   "outputs": [],
   "source": [
    "name = 'matt'"
   ]
  },
  {
   "cell_type": "code",
   "execution_count": null,
   "id": "fdf16889eda104c1",
   "metadata": {},
   "outputs": [],
   "source": [
    "# Create a Database\n",
    "sedona.sql(f'''\n",
    "CREATE DATABASE IF NOT EXISTS wherobots.{name}\n",
    "''')"
   ]
  },
  {
   "cell_type": "code",
   "execution_count": 73,
   "id": "090da2c8-b8b7-4f2f-9578-e4dc3dbf135b",
   "metadata": {},
   "outputs": [
    {
     "name": "stderr",
     "output_type": "stream",
     "text": [
      "                                                                                \r"
     ]
    },
    {
     "data": {
      "text/plain": [
       "DataFrame[]"
      ]
     },
     "execution_count": 73,
     "metadata": {},
     "output_type": "execute_result"
    }
   ],
   "source": [
    "# Create the Havasu table and create a geometry\n",
    "sedona.sql(f'''\n",
    "CREATE OR REPLACE TABLE wherobots.{name}.gdelt AS \n",
    "SELECT *, \n",
    "ST_SetSRID(\n",
    "    ST_Point(ActionGeo_Long, ActionGeo_Lat),\n",
    "4326) as geometry\n",
    "FROM csv_df\n",
    "''')"
   ]
  },
  {
   "cell_type": "code",
   "execution_count": 74,
   "id": "e8df1634-c2c5-445a-b625-607f61617934",
   "metadata": {},
   "outputs": [],
   "source": [
    "# Save the JSON file for the 4326 projection for the GeoParquet metadata\n",
    "\n",
    "projjson = '''{\n",
    "    \"$schema\": \"https://proj.org/schemas/v0.7/projjson.schema.json\",\n",
    "    \"type\": \"GeographicCRS\",\n",
    "    \"name\": \"WGS 84\",\n",
    "    \"datum_ensemble\": {\n",
    "        \"name\": \"World Geodetic System 1984 ensemble\",\n",
    "        \"members\": [\n",
    "            {\n",
    "                \"name\": \"World Geodetic System 1984 (Transit)\",\n",
    "                \"id\": {\n",
    "                    \"authority\": \"EPSG\",\n",
    "                    \"code\": 1166\n",
    "                }\n",
    "            },\n",
    "            {\n",
    "                \"name\": \"World Geodetic System 1984 (G730)\",\n",
    "                \"id\": {\n",
    "                    \"authority\": \"EPSG\",\n",
    "                    \"code\": 1152\n",
    "                }\n",
    "            },\n",
    "            {\n",
    "                \"name\": \"World Geodetic System 1984 (G873)\",\n",
    "                \"id\": {\n",
    "                    \"authority\": \"EPSG\",\n",
    "                    \"code\": 1153\n",
    "                }\n",
    "            },\n",
    "            {\n",
    "                \"name\": \"World Geodetic System 1984 (G1150)\",\n",
    "                \"id\": {\n",
    "                    \"authority\": \"EPSG\",\n",
    "                    \"code\": 1154\n",
    "                }\n",
    "            },\n",
    "            {\n",
    "                \"name\": \"World Geodetic System 1984 (G1674)\",\n",
    "                \"id\": {\n",
    "                    \"authority\": \"EPSG\",\n",
    "                    \"code\": 1155\n",
    "                }\n",
    "            },\n",
    "            {\n",
    "                \"name\": \"World Geodetic System 1984 (G1762)\",\n",
    "                \"id\": {\n",
    "                    \"authority\": \"EPSG\",\n",
    "                    \"code\": 1156\n",
    "                }\n",
    "            },\n",
    "            {\n",
    "                \"name\": \"World Geodetic System 1984 (G2139)\",\n",
    "                \"id\": {\n",
    "                    \"authority\": \"EPSG\",\n",
    "                    \"code\": 1309\n",
    "                }\n",
    "            }\n",
    "        ],\n",
    "        \"ellipsoid\": {\n",
    "            \"name\": \"WGS 84\",\n",
    "            \"semi_major_axis\": 6378137,\n",
    "            \"inverse_flattening\": 298.257223563\n",
    "        },\n",
    "        \"accuracy\": \"2.0\",\n",
    "        \"id\": {\n",
    "            \"authority\": \"EPSG\",\n",
    "            \"code\": 6326\n",
    "        }\n",
    "    },\n",
    "    \"coordinate_system\": {\n",
    "        \"subtype\": \"ellipsoidal\",\n",
    "        \"axis\": [\n",
    "            {\n",
    "                \"name\": \"Geodetic latitude\",\n",
    "                \"abbreviation\": \"Lat\",\n",
    "                \"direction\": \"north\",\n",
    "                \"unit\": \"degree\"\n",
    "            },\n",
    "            {\n",
    "                \"name\": \"Geodetic longitude\",\n",
    "                \"abbreviation\": \"Lon\",\n",
    "                \"direction\": \"east\",\n",
    "                \"unit\": \"degree\"\n",
    "            }\n",
    "        ]\n",
    "    },\n",
    "    \"scope\": \"Horizontal component of 3D system.\",\n",
    "    \"area\": \"World.\",\n",
    "    \"bbox\": {\n",
    "        \"south_latitude\": -90,\n",
    "        \"west_longitude\": -180,\n",
    "        \"north_latitude\": 90,\n",
    "        \"east_longitude\": 180\n",
    "    },\n",
    "    \"id\": {\n",
    "        \"authority\": \"EPSG\",\n",
    "        \"code\": 4326\n",
    "    }\n",
    "}'''"
   ]
  },
  {
   "cell_type": "code",
   "execution_count": 75,
   "id": "587febf6-5751-47c8-9915-1e6f3ce5409b",
   "metadata": {},
   "outputs": [],
   "source": [
    "import os\n",
    "user_uri = os.getenv(\"USER_S3_PATH\")"
   ]
  },
  {
   "cell_type": "code",
   "execution_count": 80,
   "id": "584f5a4a-c3da-481d-8478-73ecc1c059e2",
   "metadata": {},
   "outputs": [],
   "source": [
    "# Organize the table by the GeoHash for improved partitioning\n",
    "\n",
    "gdelt = sedona.sql(f'''SELECT \n",
    "*,\n",
    "ST_GeoHash(geometry, 15) AS geohash,\n",
    "struct(st_xmin(geometry) as xmin, st_ymin(geometry) as ymin, st_xmax(geometry) as xmax, st_ymax(geometry) as ymax) as bbox\n",
    "FROM wherobots.{name}.gdelt''')"
   ]
  },
  {
   "cell_type": "code",
   "execution_count": 84,
   "id": "39e7cc5d-23b5-4359-84d1-bcba410da18e",
   "metadata": {},
   "outputs": [
    {
     "name": "stderr",
     "output_type": "stream",
     "text": [
      "25/02/06 02:46:15 ERROR TaskSchedulerImpl: Lost executor 66 on 10.1.50.156: 308]\n",
      "The executor with id 66 exited with exit code -1(unexpected).\n",
      "\n",
      "\n",
      "\n",
      "The API gave the following container statuses:\n",
      "\n",
      "\n",
      "\t container name: spark-kubernetes-executor\n",
      "\t container image: 329898491045.dkr.ecr.us-west-2.amazonaws.com/wherobots-spark:v1.5.0-db-12565648598\n",
      "\t container state: running\n",
      "\t container started at: 2025-02-05T22:36:12Z\n",
      "      \n",
      "25/02/06 02:46:56 ERROR TaskSchedulerImpl: Lost executor 89 on 10.1.48.146:  30]\n",
      "The executor with id 89 exited with exit code -1(unexpected).\n",
      "\n",
      "\n",
      "\n",
      "The API gave the following container statuses:\n",
      "\n",
      "\n",
      "\t container name: spark-kubernetes-executor\n",
      "\t container image: 329898491045.dkr.ecr.us-west-2.amazonaws.com/wherobots-spark:v1.5.0-db-12565648598\n",
      "\t container state: running\n",
      "\t container started at: 2025-02-06T01:50:45Z\n",
      "      \n",
      "                                                                                \r"
     ]
    },
    {
     "name": "stdout",
     "output_type": "stream",
     "text": [
      "CPU times: user 79.2 ms, sys: 28.7 ms, total: 108 ms\n",
      "Wall time: 3min 52s\n"
     ]
    }
   ],
   "source": [
    "%%time\n",
    "\n",
    "gdelt.repartitionByRange(30, \"geohash\") \\\n",
    "    .sortWithinPartitions(\"geohash\") \\\n",
    "    .drop(\"geohash15\") \\\n",
    "    .write \\\n",
    "    .format(\"geoparquet\") \\\n",
    "    .option(\"geoparquet.version\", \"1.1.0\") \\\n",
    "    .option(\"geoparquet.covering\", \"bbox\") \\\n",
    "    .option(\"geoparquet.crs\", projjson) \\\n",
    "    .save(user_uri + \"gdelt-snappy\", mode='overwrite', compression='snappy')"
   ]
  }
 ],
 "metadata": {
  "kernelspec": {
   "display_name": "Python 3 (ipykernel)",
   "language": "python",
   "name": "python3"
  },
  "language_info": {
   "codemirror_mode": {
    "name": "ipython",
    "version": 3
   },
   "file_extension": ".py",
   "mimetype": "text/x-python",
   "name": "python",
   "nbconvert_exporter": "python",
   "pygments_lexer": "ipython3",
   "version": "3.10.11"
  }
 },
 "nbformat": 4,
 "nbformat_minor": 5
}
