{
 "cells": [
  {
   "cell_type": "markdown",
   "id": "9c5ea0f4-2b47-480d-b20d-c3796c60d6ea",
   "metadata": {},
   "source": [
    "![Wherobots logo](../assets/img/header-logo.png)\n",
    "\n",
    "# Spatial Joins in Wherobots\n",
    "\n",
    "This notebook will guide you through performing spatial joins in Wherobots using Python and the DataFrame API — giving you a hands-on understanding of how to combine datasets based on their spatial relationships.\n",
    "\n",
    "## What you will learn\n",
    "\n",
    "This notebook will teach you to:\n",
    "\n",
    "* Perform standard spatial joins — identifying features within other geometries\n",
    "* Execute nearest neighbor joins — finding the closest feature between datasets"
   ]
  },
  {
   "cell_type": "markdown",
   "id": "de243b07-516f-4e6d-bfa3-263785dc11b5",
   "metadata": {},
   "source": [
    "## Loading datasets for a spatial join\n",
    "\n",
    "Spatial joins use the relationship of two columns with `geometry` types, examining their relationship in space. For example, you could join line-shaped delivery route data with point coordinates of customer locations to optimize logistics, or join building polygons with flood zone polygons to analyze risk.\n",
    "\n",
    "In this example, we are going to combine data from two tables in the [Wherobots Open Data catalog](https://docs.wherobots.com/latest/tutorials/spatial-catalog/introduction/).\n",
    "\n",
    "* Polygons that are [administrative boundaries of US cities and towns from the Overture Maps Foundation](https://cloud.wherobots.com/data-hub?catalogId=2rk2zjbg7pl6f8lb7xkzv&namespace=overture_maps_foundation&table=divisions_division_area) (OMF)\n",
    "* Points that are [places of interest from Foursquare](https://cloud.wherobots.com/data-hub?catalogId=2rk2zjbg7pl6f8lb7xkzv&namespace=foursquare&table=places)\n",
    "\n",
    "We will start by running two SQL queries to find the localities (cities and towns) and Foursquare points of interest in the US that are not marked as closed. We will load them into Sedona DataFrames ([docs](https://docs.wherobots.com/latest/references/wherobotsdb/vector-data/DataFrameAPI/)) which will serve as the inputs for the spatial join operations in this notebook."
   ]
  },
  {
   "cell_type": "code",
   "execution_count": null,
   "id": "b7a50783-0a1a-41b3-801b-80ac4efd01d0",
   "metadata": {},
   "outputs": [],
   "source": [
    "from sedona.spark import *\n",
    "from pyspark.sql.functions import expr\n",
    "from pyspark.sql.functions import col\n",
    "\n",
    "config = SedonaContext.builder().getOrCreate()\n",
    "sedona = SedonaContext.create(config)"
   ]
  },
  {
   "cell_type": "code",
   "execution_count": null,
   "id": "2405e557-f963-40bd-adf6-7e91bd7ce47d",
   "metadata": {},
   "outputs": [],
   "source": [
    "query = '''\n",
    "SELECT \n",
    "    *\n",
    "FROM\n",
    "    wherobots_open_data.overture_maps_foundation.divisions_division_area\n",
    "WHERE\n",
    "    subtype = 'locality'\n",
    "    AND country = 'US'\n",
    "'''\n",
    "\n",
    "localities_df = sedona.sql(query)\n",
    "localities_df.show()"
   ]
  },
  {
   "cell_type": "code",
   "execution_count": null,
   "id": "d98ccb2a-191b-45d6-843c-830bdd39b42c",
   "metadata": {},
   "outputs": [],
   "source": [
    "query = '''\n",
    "SELECT\n",
    "    fsq_place_id,\n",
    "    name,\n",
    "    fsq_category_labels[0] as category,\n",
    "    region,\n",
    "    postcode,\n",
    "    geom\n",
    "FROM\n",
    "    wherobots_open_data.foursquare.places\n",
    "WHERE\n",
    "    date_closed IS NOT NULL\n",
    "    AND country = 'US'\n",
    "'''\n",
    "\n",
    "pois_df = sedona.sql(query)\n",
    "pois_df.show(truncate=False)"
   ]
  },
  {
   "cell_type": "markdown",
   "id": "6c3c634e-7922-4a7f-8b24-0e5fffe1399c",
   "metadata": {},
   "source": [
    "## Points within polygons with ST_Intersects\n",
    "\n",
    "With both datasets loaded, we can now join them based on their spatial relationship.\n",
    "In this case, we want to find which places of interest (points) fall within each administrative boundary (polygons).\n",
    "\n",
    "We use the `ST_Intersects` function to check if a point's geometry is inside or directly on a boundary's geometry.\n",
    "\n",
    "The spatial join keeps only the pairs of points and polygons where their geometries intersect, and the resulting points DataFrame will include columns for each administrative boundary that it intersects."
   ]
  },
  {
   "cell_type": "code",
   "execution_count": null,
   "id": "a03a1e0e-b270-497e-9876-482a0c8e552a",
   "metadata": {},
   "outputs": [],
   "source": [
    "pois_in_cities_df = pois_df.alias(\"p\") \\\n",
    "    .join(localities_df.alias(\"l\"), expr(\"ST_Intersects(l.geometry, p.geom)\"))\n",
    "\n",
    "pois_in_cities_df.show()"
   ]
  },
  {
   "cell_type": "markdown",
   "id": "0cd392cf-f46d-4262-b3d1-0f2318110f9f",
   "metadata": {},
   "source": [
    "## Spatial join and aggregate points within polygons\n",
    "\n",
    "After performing a spatial join, a common analysis is to count how many points fall within each polygon. We can perform this in a single operation by combining the spatial join with a `groupBy` and the `COUNT` aggregation.\n",
    "\n",
    "This query joins the polygons and points, groups the results by the polygon ID, and counts the matching points."
   ]
  },
  {
   "cell_type": "code",
   "execution_count": null,
   "id": "b9e923ef-c1a4-4723-b6bb-ed2e73eebe63",
   "metadata": {},
   "outputs": [],
   "source": [
    "pois_count_df = localities_df.alias(\"l\") \\\n",
    "    .join(pois_df.alias(\"p\"), expr(\"ST_Intersects(l.geometry, p.geom)\")) \\\n",
    "    .groupBy(\"l.id\") \\\n",
    "    .agg(expr(\"COUNT(*) as point_count\"))\n",
    "\n",
    "pois_count_df.show(10)"
   ]
  },
  {
   "cell_type": "markdown",
   "id": "b185ef0f",
   "metadata": {},
   "source": [
    "## Nearest-neighbor spatial join\n",
    "\n",
    "In some cases, you may want to find the closest feature from another dataset — such as identifying the nearest city for each point of interest.\n",
    "\n",
    "> A **nearest neighbor join** finds the closest points or polygons based on geographic proximity. ([Docs: K-Nearest Neighbor Joins](https://docs.wherobots.com/latest/references/wherobotsdb/vector-data/NearestNeighbourSearching/))\n",
    "\n",
    "Wherobots has two functions for finding nearest neighbors using a k-nearest-neighbors approach. `ST_KNN` returns the exact nearest neighbors, while `ST_AKNN` trades off some accuracy for speed by using approximate algorithms. In this case, we will join the point data to the polygons using `ST_KNN` to find the 4 polygons with centroids nearest to each point.\n",
    "\n",
    "We are passing four parameters to this function:\n",
    "- **R**: Table of query geometry, which are our points of interest\n",
    "- **S**: Tabke of object geometry, the centroids of the localities\n",
    "- **k**: The number of neighbors to find for each object in the query geometry\n",
    "- **use_sphere**: A boolean whether to use a spherical model instead of a planar distance model"
   ]
  },
  {
   "cell_type": "code",
   "execution_count": null,
   "id": "49740576-8005-47e0-86c9-796ef8ab4f7a",
   "metadata": {},
   "outputs": [],
   "source": [
    "knn_df = pois_df.alias(\"p\") \\\n",
    "    .join(\n",
    "        localities_df.alias(\"l\"),\n",
    "        expr(\"ST_KNN(p.geom, l.geometry, 4, false)\")\n",
    "    )"
   ]
  },
  {
   "cell_type": "code",
   "execution_count": null,
   "id": "6b1a93fd-c68e-4372-9ee6-fbf14fe5f4c3",
   "metadata": {},
   "outputs": [],
   "source": [
    "knn_result_df = knn_df.select(\n",
    "    expr(\"p.fsq_place_id\"),\n",
    "    expr(\"p.geom\"),\n",
    "    expr(\"l.id as locality_id\")\n",
    ")\n",
    "\n",
    "knn_result_df.show(10, truncate=False)"
   ]
  }
 ],
 "metadata": {
  "kernelspec": {
   "display_name": "Python 3 (ipykernel)",
   "language": "python",
   "name": "python3"
  },
  "language_info": {
   "codemirror_mode": {
    "name": "ipython",
    "version": 3
   },
   "file_extension": ".py",
   "mimetype": "text/x-python",
   "name": "python",
   "nbconvert_exporter": "python",
   "pygments_lexer": "ipython3"
  }
 },
 "nbformat": 4,
 "nbformat_minor": 5
}
