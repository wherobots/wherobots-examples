{
 "cells": [
  {
   "cell_type": "markdown",
   "id": "9c5ea0f4-2b47-480d-b20d-c3796c60d6ea",
   "metadata": {},
   "source": [
    "# Performing Spatial Joins in Wherobots\n",
    "\n",
    "This notebook will guide you through performing spatial joins in Wherobots using Python and the DataFrame API — giving you a hands-on understanding of how to combine datasets based on their spatial relationships.\n",
    "\n",
    "## What you will learn\n",
    "\n",
    "This notebook will teach you to:\n",
    "\n",
    "* Perform **standard spatial joins** — identifying features within other geometries\n",
    "* Execute **nearest neighbor joins** — finding the closest feature between datasets\n",
    "* Calculate **zonal statistics** — summarizing values within geographic zones\n",
    "* Apply optimization techniques like spatial partitioning with GeoHashes\n",
    "* Visualize join results using interactive tools\n",
    "\n",
    "> Spatial joins are a core operation in geospatial analysis, allowing you to merge datasets based on how their features relate in space.\n",
    "\n",
    "This notebook focuses on practical workflows and scalable processing with Wherobots and Apache Sedona.\n"
   ]
  },
  {
   "cell_type": "code",
   "execution_count": null,
   "id": "b7a50783-0a1a-41b3-801b-80ac4efd01d0",
   "metadata": {},
   "outputs": [],
   "source": [
    "from sedona.spark import SedonaContext\n",
    "from pyspark.sql.functions import expr\n",
    "from pyspark.sql.functions import col\n",
    "\n",
    "config = SedonaContext.builder().getOrCreate()\n",
    "sedona = SedonaContext.create(config)"
   ]
  },
  {
   "cell_type": "markdown",
   "id": "de243b07-516f-4e6d-bfa3-263785dc11b5",
   "metadata": {},
   "source": [
    "## Loading datasets for a spatial join\n",
    "\n",
    "To perform a spatial join, we need two datasets: a **polygon layer** and a **point layer**.\n",
    "\n",
    "In this example, we use publicly available datasets from the Wherobots Open Data Catalog:\n",
    "\n",
    "* **Polygon data** — Administrative boundaries from the Overture Maps Foundation\n",
    "* **Point data** — Places of interest from the Foursquare dataset\n",
    "\n",
    "> The polygon query selects US localities (like cities or towns) from the `divisions_division_area` table.\n",
    "> The points DataFrame loads all place records from the Foursquare dataset.\n",
    "\n",
    "These two DataFrames will serve as the inputs for the spatial join operations in this notebook."
   ]
  },
  {
   "cell_type": "code",
   "execution_count": null,
   "id": "2405e557-f963-40bd-adf6-7e91bd7ce47d",
   "metadata": {},
   "outputs": [],
   "source": [
    "query = '''\n",
    "SELECT \n",
    "    * \n",
    "FROM\n",
    "    wherobots_open_data.overture_maps_foundation.divisions_division_area\n",
    "WHERE\n",
    "    subtype = 'locality'\n",
    "    AND country = 'US'\n",
    "'''\n",
    "\n",
    "polygons_df = sedona.sql(query)\n",
    "points_df = sedona.table(\"wherobots_open_data.foursquare.places\")"
   ]
  },
  {
   "cell_type": "code",
   "execution_count": null,
   "id": "f2dd4c31-d612-4c9d-b3fe-b5f56c7a9d39",
   "metadata": {},
   "outputs": [],
   "source": [
    "print(\"Sample of the Polygon Dataset (Administrative Boundaries):\")\n",
    "polygons_df.show(5)"
   ]
  },
  {
   "cell_type": "code",
   "execution_count": null,
   "id": "d98ccb2a-191b-45d6-843c-830bdd39b42c",
   "metadata": {},
   "outputs": [],
   "source": [
    "print(\"Sample of the Points Dataset (Facilities):\")\n",
    "points_df.show(5, truncate=False)"
   ]
  },
  {
   "cell_type": "markdown",
   "id": "6c3c634e-7922-4a7f-8b24-0e5fffe1399c",
   "metadata": {},
   "source": [
    "## Performing a standard spatial join\n",
    "\n",
    "With both datasets loaded, we can now join them based on their spatial relationship.\n",
    "In this case, we want to find which facilities (points) fall within each administrative boundary (polygons).\n",
    "\n",
    "We use the `ST_Intersects` function to check if a facility's geometry intersects a boundary's geometry:\n",
    "\n",
    "> We use DataFrame aliases for clarity when joining.\n",
    "> The spatial join keeps only the pairs of points and polygons where their geometries intersect.\n",
    "\n",
    "The resulting points DataFrame will include columns for each administrative boundary that it intersects."
   ]
  },
  {
   "cell_type": "code",
   "execution_count": null,
   "id": "a03a1e0e-b270-497e-9876-482a0c8e552a",
   "metadata": {},
   "outputs": [],
   "source": [
    "facilities = points_df.alias(\"f\")\n",
    "admin_boundaries = polygons_df.alias(\"poly\")"
   ]
  },
  {
   "cell_type": "code",
   "execution_count": null,
   "id": "b9f217c5-4186-4d24-b0ba-b2918d68be56",
   "metadata": {},
   "outputs": [],
   "source": [
    "spatial_join_df = facilities.join(\n",
    "    admin_boundaries,\n",
    "    expr(\"ST_Intersects(poly.geometry, f.geom)\")\n",
    ")"
   ]
  },
  {
   "cell_type": "code",
   "execution_count": null,
   "id": "546f8310-f0c2-48a7-bc8e-227ad50e2eb7",
   "metadata": {},
   "outputs": [],
   "source": [
    "%%time\n",
    "spatial_join_df.count()"
   ]
  },
  {
   "cell_type": "code",
   "execution_count": null,
   "id": "ae8374cc-6ac0-4490-a521-e9b91b482737",
   "metadata": {},
   "outputs": [],
   "source": [
    "print(\"Standard Spatial Join Results (Facilities within Administrative Boundaries):\")\n",
    "spatial_join_df.show(1)"
   ]
  },
  {
   "cell_type": "markdown",
   "id": "0cd392cf-f46d-4262-b3d1-0f2318110f9f",
   "metadata": {},
   "source": [
    "## Spatial aggregate within polygons using a spatial join\n",
    "\n",
    "After performing a spatial join, a common analysis is to aggregate how many points fall within each polygon — for example, summarizing the number of facilities within each administrative boundary.\n",
    "\n",
    "We can perform this in a single operation by combining the spatial join with a `groupBy` and aggregation:\n",
    "\n",
    "> This query joins the polygons and points, groups the results by the polygon ID, and counts the matching points.\n",
    "> The result is a DataFrame showing each polygon and the number of points (facilities) within it.\n"
   ]
  },
  {
   "cell_type": "code",
   "execution_count": null,
   "id": "b9e923ef-c1a4-4723-b6bb-ed2e73eebe63",
   "metadata": {},
   "outputs": [],
   "source": [
    "points_count_efficient_df = polygons_df.alias(\"poly\") \\\n",
    "    .join(points_df.alias(\"f\"), expr(\"ST_Intersects(poly.geometry, f.geom)\")) \\\n",
    "    .groupBy(\"poly.id\") \\\n",
    "    .agg(expr(\"COUNT(*) as point_count\"))"
   ]
  },
  {
   "cell_type": "code",
   "execution_count": null,
   "id": "6318d418-4c06-49f3-a525-c9abab13c2ce",
   "metadata": {},
   "outputs": [],
   "source": [
    "print(\"🔹 Efficient Count of Points in Each Polygon:\")\n",
    "points_count_efficient_df.show(10)"
   ]
  },
  {
   "cell_type": "markdown",
   "id": "3bb62686-71a5-4367-9c6a-5aa4668e7116",
   "metadata": {},
   "source": [
    "## Performing a nearest neighbor spatial join\n",
    "\n",
    "In some cases, you may want to find the closest feature from another dataset — such as identifying the nearest administrative centroid for each facility.\n",
    "\n",
    "This is called a **nearest neighbor join**, and Wherobots supports it using the `ST_AKNN` function.\n",
    "\n",
    "We first calculate the centroids of the administrative boundaries.\n",
    "\n",
    "> The `ST_Centroid` function returns the geometric center of each polygon."
   ]
  },
  {
   "cell_type": "code",
   "execution_count": null,
   "id": "baa91705-5f56-4bd9-9050-23ff86081d4d",
   "metadata": {},
   "outputs": [],
   "source": [
    "centroids_df = polygons_df.selectExpr(\"id\", \"ST_Centroid(geometry) as centroid\")"
   ]
  },
  {
   "cell_type": "markdown",
   "id": "b185ef0f",
   "metadata": {},
   "source": [
    "## Running the approximate k-nearest neighbor (AKNN) join\n",
    "\n",
    "We join the points to the centroids using `ST_AKNN`, which performs an approximate k-nearest neighbor search.\n",
    "\n",
    "In this example, we retrieve the **4 nearest centroids** for each point:\n",
    "\n",
    "```python\n",
    "aknn_df = points_df.alias(\"q\").join(\n",
    "    centroids_df.alias(\"o\"),\n",
    "    expr(\"ST_AKNN(q.geom, o.centroid, 4, false)\")\n",
    ")\n",
    "```\n",
    "\n",
    "> The `ST_AKNN` function takes the query geometry, the object geometry, the number of neighbors (4), and a boolean for including ties.\n",
    "\n",
    "This join pairs each facility with its closest administrative centroids — useful for proximity analysis and clustering.\n"
   ]
  },
  {
   "cell_type": "code",
   "execution_count": null,
   "id": "49740576-8005-47e0-86c9-796ef8ab4f7a",
   "metadata": {},
   "outputs": [],
   "source": [
    "aknn_df = points_df.alias(\"q\").join(\n",
    "    centroids_df.alias(\"o\"),\n",
    "    expr(\"ST_AKNN(q.geom, o.centroid, 4, false)\")\n",
    ")"
   ]
  },
  {
   "cell_type": "code",
   "execution_count": null,
   "id": "6b1a93fd-c68e-4372-9ee6-fbf14fe5f4c3",
   "metadata": {},
   "outputs": [],
   "source": [
    "aknn_result_df = aknn_df.select(\n",
    "    expr(\"q.fsq_place_id as query_id\"),\n",
    "    expr(\"q.geom as query_geom\"),\n",
    "    expr(\"o.centroid as object_geom\")\n",
    ")"
   ]
  },
  {
   "cell_type": "code",
   "execution_count": null,
   "id": "39b86cb5-fc43-4f3c-b70e-e146e65550b8",
   "metadata": {},
   "outputs": [],
   "source": [
    "print(\"🔹 Nearest Neighbor Join using ST_AKNN:\")\n",
    "aknn_result_df.show(10, truncate=False)"
   ]
  },
  {
   "cell_type": "markdown",
   "id": "4bbe90ea-f341-4dff-b12e-7c1cba73bc7c",
   "metadata": {},
   "source": [
    "## Optimizing spatial joins with geohash partitioning\n",
    "\n",
    "When working with large datasets, spatial joins can be computationally expensive. By sorting on a spatial index — like **GeoHash** — you can improve join performance by reducing unnecessary comparisons.\n",
    "\n",
    "We start by creating a dedicated database schema to store the partitioned tables:\n",
    "\n",
    "We compute a **GeoHash** for each geometry, then sort the DataFrames by this key. This clusters spatially nearby features together in storage, improving partition alignment during joins.\n",
    "\n",
    "```python\n",
    "points_df = points_df.withColumn(\"geohash\", expr(\"ST_GeoHash(geom, 6)\"))\n",
    "polygons_df = polygons_df.withColumn(\"geohash\", expr(\"ST_GeoHash(geometry, 6)\"))\n",
    "\n",
    "from pyspark.sql.functions import col\n",
    "\n",
    "sorted_points = points_df.sort(col(\"geohash\")).drop(\"geohash\")\n",
    "sorted_polys = polygons_df.sort(col(\"geohash\")).drop(\"geohash\")\n",
    "```\n",
    "\n",
    "> GeoHash precision of **6** balances granularity and performance.\n",
    "\n",
    "Sorting without partitioning still improves join locality in distributed processing. Partitioning by spatial keys can significantly reduce join execution time on large datasets.\n"
   ]
  },
  {
   "cell_type": "code",
   "execution_count": null,
   "id": "43877613-167b-4d20-a381-4ee6fb9c7fb4",
   "metadata": {},
   "outputs": [],
   "source": [
    "database_name = 'joins'\n",
    "sedona.sql(f\"CREATE DATABASE IF NOT EXISTS wherobots.{database_name}\")"
   ]
  },
  {
   "cell_type": "code",
   "execution_count": null,
   "id": "88ffd712-ddd8-4795-86f0-bcd76849d0c5",
   "metadata": {},
   "outputs": [],
   "source": [
    "points_df = points_df.withColumn(\"geohash\", expr(\"ST_GeoHash(geom, 6)\"))\n",
    "polygons_df = polygons_df.withColumn(\"geohash\", expr(\"ST_GeoHash(geometry, 6)\"))"
   ]
  },
  {
   "cell_type": "code",
   "execution_count": null,
   "id": "dce495c7-1ad6-43ae-a9c1-1f60a0e52b3f",
   "metadata": {},
   "outputs": [],
   "source": [
    "sorted_points = points_df.sort(col(\"geohash\"))\\\n",
    "    .drop(\"geohash\")\n",
    "\n",
    "sorted_polys = polygons_df.sort(col(\"geohash\"))\\\n",
    "    .drop(\"geohash\")\n",
    "\n",
    "sorted_points.writeTo(f\"wherobots.{database_name}.points\").createOrReplace()\n",
    "sorted_polys.writeTo(f\"wherobots.{database_name}.polygons\").createOrReplace()\n",
    "\n",
    "print(\"DataFrames sorted by geohash for improved spatial join performance\")"
   ]
  },
  {
   "cell_type": "code",
   "execution_count": null,
   "id": "38e2474b-685d-428d-9e7f-a6bb781b4736",
   "metadata": {},
   "outputs": [],
   "source": [
    "# Alias the DataFrames for clarity\n",
    "facilities = sedona.table(f\"wherobots.{database_name}.points\").alias(\"f\")\n",
    "admin_boundaries = sedona.table(f\"wherobots.{database_name}.polygons\").alias(\"poly\")"
   ]
  },
  {
   "cell_type": "code",
   "execution_count": null,
   "id": "9221ffc5-0e8b-4cdb-b1a3-8fe20ebf4cb5",
   "metadata": {},
   "outputs": [],
   "source": [
    "spatial_join_df_partition = facilities.join(\n",
    "    admin_boundaries,\n",
    "    expr(\"ST_Intersects(poly.geometry, f.geom)\")\n",
    ")"
   ]
  },
  {
   "cell_type": "code",
   "execution_count": null,
   "id": "dcda8f45-62aa-4097-90b0-9515a0c786e0",
   "metadata": {},
   "outputs": [],
   "source": [
    "%%time\n",
    "spatial_join_df_partition.count()"
   ]
  },
  {
   "cell_type": "markdown",
   "id": "e4ca759b-fcb6-46b4-9a41-00b170fffc9b",
   "metadata": {},
   "source": [
    "# Visualizing spatial join results\n",
    "\n",
    "Wherobots includes tools for interactive spatial visualization.\n",
    "We’ll use **SedonaKepler** to explore the results of our spatial join directly in the notebook.\n",
    "\n",
    "> SedonaKepler creates an interactive map that lets you explore your joined data visually.\n"
   ]
  },
  {
   "cell_type": "code",
   "execution_count": null,
   "id": "042c4e70-1b0b-4a10-aa5f-5d20a4836174",
   "metadata": {},
   "outputs": [],
   "source": [
    "# Define the WKT polygon as a string\n",
    "wkt_polygon = \"POLYGON((-84.656729 33.983118, -84.109483 33.983118, -84.109483 33.562116, -84.656729 33.562116, -84.656729 33.983118))\""
   ]
  },
  {
   "cell_type": "code",
   "execution_count": null,
   "id": "d1985a0b-7d24-4661-a5cc-ed739ae9b1d7",
   "metadata": {},
   "outputs": [],
   "source": [
    "detailed_facilities_df = spatial_join_df.select(\n",
    "    \"f.fsq_place_id\",    # Unique facility identifier\n",
    "    \"f.name\",            # Facility name\n",
    "    \"f.address\",         # Facility address\n",
    "    \"f.locality\",        # Locality information\n",
    "    \"f.region\",          # Region name\n",
    "    \"f.postcode\",        # Postal code\n",
    "    \"f.admin_region\",    # Administrative region\n",
    "    \"f.post_town\",       # Post town\n",
    "    \"f.country\",         # Country name\n",
    "    \"f.geom\",            # Facility geometry\n",
    "    \"poly.names\"         # Additional name information\n",
    ").filter(\n",
    "    expr(f\"ST_Intersects(geometry, ST_GeomFromText('{wkt_polygon}'))\")\n",
    ").selectExpr(\"*\", \"names.primary\") \\\n",
    ".drop(\"names\")\n",
    "\n",
    "# Display the first few rows of the resulting DataFrame\n",
    "print(\"Detailed Facility Information from spatial_join_df:\")\n",
    "detailed_facilities_df.count()"
   ]
  },
  {
   "cell_type": "code",
   "execution_count": null,
   "id": "743f7520-deb2-46dc-af9e-1302de10638e",
   "metadata": {},
   "outputs": [],
   "source": [
    "from sedona.maps.SedonaKepler import SedonaKepler\n",
    "\n",
    "# Create an interactive map from the spatial join DataFrame.\n",
    "# The map will show facilities along with the administrative boundaries they fall within.\n",
    "kepler_map = SedonaKepler.create_map(df=detailed_facilities_df, name=\"Facilities_Within_Zones\")"
   ]
  },
  {
   "cell_type": "code",
   "execution_count": null,
   "id": "9b387254-f978-4dfd-a2da-26a462f32753",
   "metadata": {},
   "outputs": [],
   "source": [
    "kepler_map"
   ]
  },
  {
   "cell_type": "markdown",
   "id": "106427c7-e56c-40db-94f8-5f4a102a9076",
   "metadata": {},
   "source": [
    "## Visualizing zonal statistics with a choropleth map\n",
    "\n",
    "We can also visualize summary statistics using a **choropleth map**, which colors each zone based on a value — like an average measurement.\n",
    "\n",
    "> SedonaPyDeck creates a choropleth map that highlights differences between zones based on your data.\n"
   ]
  },
  {
   "cell_type": "code",
   "execution_count": null,
   "id": "ccd61967-7bf4-45bb-9050-9f46b891d10c",
   "metadata": {},
   "outputs": [],
   "source": [
    "points_count_efficient_df = polygons_df.alias(\"poly\") \\\n",
    "    .filter(\n",
    "        expr(f\"ST_Intersects(geometry, ST_GeomFromText('{wkt_polygon}'))\")\n",
    "    ) \\\n",
    "    .join(points_df.alias(\"f\"), expr(\"ST_Intersects(poly.geometry, f.geom)\")) \\\n",
    "    .groupBy(\"poly.id\", \"poly.geometry\") \\\n",
    "    .agg(expr(\"COUNT(*) as point_count\"))"
   ]
  },
  {
   "cell_type": "code",
   "execution_count": null,
   "id": "1c98e468-3b4e-4a19-8491-aba75cdf2dd3",
   "metadata": {},
   "outputs": [],
   "source": [
    "from sedona.maps.SedonaPyDeck import SedonaPyDeck\n",
    "\n",
    "# Create a choropleth map using the zonal statistics DataFrame.\n",
    "# The zones are colored based on the 'avg_measurement' column, highlighting variations across regions.\n",
    "\n",
    "choropleth_map = SedonaPyDeck.create_choropleth_map(\n",
    "    df=points_count_efficient_df,\n",
    "    plot_col=\"point_count\"  # This column drives the color intensity\n",
    ")\n",
    "\n",
    "# Display the choropleth map in your Jupyter Notebook\n",
    "choropleth_map.show()"
   ]
  }
 ],
 "metadata": {
  "kernelspec": {
   "display_name": "Python 3 (ipykernel)",
   "language": "python",
   "name": "python3"
  },
  "language_info": {
   "codemirror_mode": {
    "name": "ipython",
    "version": 3
   },
   "file_extension": ".py",
   "mimetype": "text/x-python",
   "name": "python",
   "nbconvert_exporter": "python",
   "pygments_lexer": "ipython3"
  }
 },
 "nbformat": 4,
 "nbformat_minor": 5
}
