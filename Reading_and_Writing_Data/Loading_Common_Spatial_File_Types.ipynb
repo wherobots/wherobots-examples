{
 "cells": [
  {
   "cell_type": "markdown",
   "id": "f68625d5-96ed-4760-b256-cf8320d0df6e",
   "metadata": {},
   "source": [
    "# Loading Geospatial Data with Wherobots\n",
    "\n",
    "## 📖 Introduction\n",
    "In this notebook, we will demonstrate how to load geospatial data into Wherobots using the following formats:\n",
    "\n",
    "1. **GeoParquet**\n",
    "2. **GeoJSON and Shapefiles**\n",
    "3. **Raster Data (GeoTIFF)**\n",
    "4. **Overture Maps Data**\n",
    "5. **Data from S3**\n",
    "\n",
    "Each section will walk through the necessary steps with annotated code and provide links to relevant Wherobots documentation.\n"
   ]
  },
  {
   "cell_type": "markdown",
   "id": "86231554-78ee-48af-b15d-8f8af35b5cbc",
   "metadata": {},
   "source": [
    "## 🗂 Step 1: Loading GeoParquet Files\n",
    "\n",
    "### What you'll learn:\n",
    "- How to load GeoParquet files into a DataFrame.\n",
    "- Perform basic spatial queries."
   ]
  },
  {
   "cell_type": "code",
   "execution_count": null,
   "id": "4b8a35c2-7767-489a-b0b2-c1f21c31d965",
   "metadata": {},
   "outputs": [],
   "source": [
    "# Import necessary libraries\n",
    "from sedona.spark import *\n",
    "from pyspark.sql import SparkSession"
   ]
  },
  {
   "cell_type": "code",
   "execution_count": null,
   "id": "a56cc531-a04b-450c-b390-60b00fc4018b",
   "metadata": {},
   "outputs": [],
   "source": [
    "# Initialize Sedona and Spark session\n",
    "config = SparkSession.builder \\\n",
    "    .appName(\"Dataset Loader\") \\\n",
    "    .getOrCreate()\n",
    "sedona = SedonaContext.create(config)"
   ]
  },
  {
   "cell_type": "code",
   "execution_count": null,
   "id": "f1d98faa-6334-4f1e-b61a-f6fbb95e04ed",
   "metadata": {},
   "outputs": [],
   "source": [
    "# Load GeoParquet data\n",
    "gdf = sedona.read.format(\"geoparquet\").load(\"s3://wherobots-examples/data/mini/es_cn.parquet\")"
   ]
  },
  {
   "cell_type": "code",
   "execution_count": null,
   "id": "d00e53f4-1f98-4b2c-9565-48ae49510f7a",
   "metadata": {},
   "outputs": [],
   "source": [
    "gdf.printSchema()"
   ]
  },
  {
   "cell_type": "markdown",
   "id": "fef54f08-3606-483e-8639-e9443c524e29",
   "metadata": {},
   "source": [
    "📄 **Documentation Reference**: [Loading GeoParquet](https://docs.wherobots.com/#geoparquet-loading)  "
   ]
  },
  {
   "cell_type": "markdown",
   "id": "8ca72a65-a152-4598-99eb-1702b48481f6",
   "metadata": {},
   "source": [
    "## 🌍 Step 2: Loading GeoJSON and Shapefiles\n",
    "\n",
    "### What you'll learn:\n",
    "- How to ingest GeoJSON and Shapefiles."
   ]
  },
  {
   "cell_type": "code",
   "execution_count": null,
   "id": "267c1d53-b6d6-444e-a8e2-bafcad689e35",
   "metadata": {},
   "outputs": [],
   "source": [
    "# Load GeoJSON file\n",
    "geojson_df = sedona.read.format(\"geojson\").load(\"s3://wherobots-examples/data/mini/2015_Tree_Census.geojson\")"
   ]
  },
  {
   "cell_type": "code",
   "execution_count": null,
   "id": "ac227690-0694-4575-a151-5a28b7f9ccb7",
   "metadata": {},
   "outputs": [],
   "source": [
    "geojson_df.printSchema()"
   ]
  },
  {
   "cell_type": "code",
   "execution_count": null,
   "id": "24cacf97-3517-4e6b-9120-72199803c98f",
   "metadata": {},
   "outputs": [],
   "source": [
    "import pyspark.sql.functions as f\n",
    "\n",
    "df = sedona.read.format(\"geojson\").load(\"s3://wherobots-examples/data/mini/2015_Tree_Census.geojson\") \\\n",
    "    .withColumn(\"address\", f.expr(\"properties['address']\")) \\\n",
    "    .withColumn(\"spc_common\", f.expr(\"properties['spc_common']\")) \\\n",
    "    .drop(\"properties\").drop(\"type\")\n",
    "\n",
    "df.printSchema()"
   ]
  },
  {
   "cell_type": "code",
   "execution_count": null,
   "id": "59ed79b6-76dd-4045-a7f0-d6b258d01a00",
   "metadata": {},
   "outputs": [],
   "source": [
    "# Load Shapefile\n",
    "shapefile_df = sedona.read.format(\"shapefile\").load(\"s3://wherobots-examples/data/mini/HurricaneSandy/geo_export_2ca210ed-d8b2-4fe6-81eb-53cc96311073.shp\")"
   ]
  },
  {
   "cell_type": "code",
   "execution_count": null,
   "id": "59728efd-638a-4449-9d46-5f1239fcb786",
   "metadata": {},
   "outputs": [],
   "source": [
    "# Inspect and perform a query\n",
    "shapefile_df.printSchema()"
   ]
  },
  {
   "cell_type": "markdown",
   "id": "94031647-3ad1-4d94-b5ba-31dbded9cc98",
   "metadata": {},
   "source": [
    "📄 **Documentation Reference**: [Ingesting GeoJSON](https://docs.wherobots.com/#geojson-loading)  "
   ]
  },
  {
   "cell_type": "markdown",
   "id": "7bd8ec2c-92a0-4989-8c0c-79eb1e9003ce",
   "metadata": {},
   "source": [
    "## 🖼️ Step 3: Loading Raster Data (GeoTIFF)\n",
    "\n",
    "### What you'll learn:\n",
    "- How to load raster datasets and inspect metadata.\n"
   ]
  },
  {
   "cell_type": "code",
   "execution_count": null,
   "id": "0867b6ba-bc70-4737-801d-672cda6d2de1",
   "metadata": {},
   "outputs": [],
   "source": [
    "# Load a GeoTIFF raster file\n",
    "raster_df = sedona.read.format(\"binaryFile\").load(\"s3://wherobots-examples/data/mini/NYC_3ft_Landcover.tif\")"
   ]
  },
  {
   "cell_type": "code",
   "execution_count": null,
   "id": "012e882b-08ec-4851-9f91-4d0034bdae08",
   "metadata": {},
   "outputs": [],
   "source": [
    "# Convert binary content to a raster object\n",
    "raster_df = raster_df.selectExpr(\"RS_FromGeoTiff(content) as raster\")"
   ]
  },
  {
   "cell_type": "markdown",
   "id": "90591236-c0f1-4363-b7f0-d02ed91ad442",
   "metadata": {},
   "source": [
    "📄 **Documentation Reference**: [Loading Raster Data](https://docs.wherobots.com/#raster-loading)  "
   ]
  },
  {
   "cell_type": "markdown",
   "id": "ef3be7bd-dc6f-4223-9658-80713ef7c33e",
   "metadata": {},
   "source": [
    "## 🗺️ Step 4: Loading Overture Maps Data\n",
    "\n",
    "### What you'll learn:\n",
    "- Load and query datasets provided by Overture Maps.\n"
   ]
  },
  {
   "cell_type": "code",
   "execution_count": null,
   "id": "434911d2-de1a-4936-9045-31ddc74808bd",
   "metadata": {},
   "outputs": [],
   "source": [
    "# Load Overture Maps building dataset\n",
    "buildings_df = sedona.read.format(\"iceberg\").load(\"wherobots_open_data.overture_maps_foundation.buildings_building\")"
   ]
  },
  {
   "cell_type": "code",
   "execution_count": null,
   "id": "424f9a3c-f7d4-4202-b678-f65303c455a0",
   "metadata": {},
   "outputs": [],
   "source": [
    "# Filter based on geometry (example: within a bounding box)\n",
    "bbox_wkt = '''POLYGON((-122.5 37.0, -122.5 37.5, -121.5 37.5, -121.5 37.0, -122.5 37.0))'''\n",
    "buildings_filtered = buildings_df.where(ST_Intersects(\"geometry\", f.expr(f'''ST_GeomFromText('{bbox_wkt}')''')))"
   ]
  },
  {
   "cell_type": "code",
   "execution_count": null,
   "id": "a74b4e22-6e42-4a2f-b792-6d86c6b50f66",
   "metadata": {},
   "outputs": [],
   "source": [
    "# Show results\n",
    "buildings_filtered.show()"
   ]
  },
  {
   "cell_type": "markdown",
   "id": "e38e86b3-30bb-4a39-9954-90e002d3737b",
   "metadata": {},
   "source": [
    "## 🔮 Next Steps\n",
    "\n",
    "In this notebook, we demonstrated how to:\n",
    "\n",
    "1. Load GeoParquet, GeoJSON, Shapefiles, and raster data into Wherobots.\n",
    "2. Query spatial data using basic spatial operations.\n",
    "3. Integrate datasets directly from S3 and Overture Maps.\n",
    "\n",
    "### What’s next?\n",
    "- Explore **spatial transformations** like buffering or intersecting geometries.\n",
    "- Perform **spatial joins** for more advanced analytics.\n",
    "- Visualize query results with **SedonaKepler** or **SedonaPyDeck**.\n",
    "\n",
    "For further details, check out the [Wherobots Documentation](https://docs.wherobots.com).\n"
   ]
  }
 ],
 "metadata": {
  "kernelspec": {
   "display_name": "Python 3 (ipykernel)",
   "language": "python",
   "name": "python3"
  },
  "language_info": {
   "codemirror_mode": {
    "name": "ipython",
    "version": 3
   },
   "file_extension": ".py",
   "mimetype": "text/x-python",
   "name": "python",
   "nbconvert_exporter": "python",
   "pygments_lexer": "ipython3"
  }
 },
 "nbformat": 4,
 "nbformat_minor": 5
}
