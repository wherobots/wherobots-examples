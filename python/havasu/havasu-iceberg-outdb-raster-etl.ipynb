{
 "cells": [
  {
   "cell_type": "markdown",
   "id": "55f5091e-8139-4e93-b19f-0749f0a06f92",
   "metadata": {},
   "source": [
    "![](https://wherobots.com/wp-content/uploads/2023/12/Inline-Blue_Black_onWhite@3x.png)\n",
    "\n",
    "# Havasu out-db Raster Example\n",
    "\n",
    "In this notebook, we'll demonstrate how to load a large GeoTIFF file stored on S3 as out-db raster, and split it into smaller tiles.\n",
    "\n",
    "We'll also show how to run RS_Value using a DataFrame of points on a large out-db raster. Read more about [Havasu](https://docs.wherobots.com/latest/references/havasu/introduction/), and [WherobotsDB Raster support](https://docs.wherobots.com/latest/references/havasu/raster/raster-overview/) in the documentation."
   ]
  },
  {
   "cell_type": "markdown",
   "id": "ebc2a17b-9878-4928-8b14-f9a26bac0c71",
   "metadata": {},
   "source": [
    "# Define Sedona context"
   ]
  },
  {
   "cell_type": "code",
   "execution_count": null,
   "id": "4f68934f-079f-4812-a293-a9789b2e092a",
   "metadata": {},
   "outputs": [],
   "source": [
    "from pyspark.sql import SparkSession\n",
    "from pyspark.sql.functions import expr, col, lit\n",
    "from sedona.spark import *"
   ]
  },
  {
   "cell_type": "code",
   "execution_count": null,
   "id": "3c1955df-5b3f-4c48-842a-644c07ae4ebf",
   "metadata": {},
   "outputs": [],
   "source": [
    "config = SedonaContext.builder().appName('havasu-iceberg-outdb-raster-etl')\\\n",
    "    .config(\"spark.hadoop.fs.s3a.bucket.wherobots-examples.aws.credentials.provider\",\"org.apache.hadoop.fs.s3a.AnonymousAWSCredentialsProvider\")\\\n",
    "    .getOrCreate()\n",
    "sedona = SedonaContext.create(config)"
   ]
  },
  {
   "cell_type": "markdown",
   "id": "50968218-9a9d-4844-962e-4fd488abf40f",
   "metadata": {},
   "source": [
    "# Load Raster\n",
    "\n",
    "We'll load the world population data, which contains estimated total number of people per grid-cell. The dataset is available to download in Geotiff format at a resolution of 30 arc (approximately 1km at the equator). The projection is Geographic Coordinate System, WGS84.\n",
    "\n",
    "The original data can be retrieved from [here](https://hub.worldpop.org/geodata/summary?id=24777)."
   ]
  },
  {
   "cell_type": "code",
   "execution_count": null,
   "id": "c07afe9c-0b2d-4e74-b0c5-cf2886ab0e83",
   "metadata": {},
   "outputs": [],
   "source": [
    "raster_df = sedona.sql(\"SELECT RS_FromPath('s3://wherobots-examples/data/ppp_2020_1km_Aggregated.tif') as rast\")\n",
    "raster_df.show(5)"
   ]
  },
  {
   "cell_type": "markdown",
   "id": "85dce265-a41d-478e-aa73-00004251d7d1",
   "metadata": {},
   "source": [
    "We can save this one large out-db raster as a Havasu table. The table will contain one row representing that large out-db raster."
   ]
  },
  {
   "cell_type": "code",
   "execution_count": null,
   "id": "1c1c1ddc-3996-409a-9893-3869ebebdcb4",
   "metadata": {},
   "outputs": [],
   "source": [
    "sedona.sql(\"CREATE NAMESPACE IF NOT EXISTS wherobots.test_db\")\n",
    "sedona.sql(\"DROP TABLE IF EXISTS wherobots.test_db.world_pop\")\n",
    "raster_df.writeTo(\"wherobots.test_db.world_pop\").create()"
   ]
  },
  {
   "cell_type": "code",
   "execution_count": null,
   "id": "2181ba8b-54e3-469b-a7cd-12d84b1dd48d",
   "metadata": {},
   "outputs": [],
   "source": [
    "sedona.sql(\"SELECT RS_Metadata(rast) meta FROM wherobots.test_db.world_pop\").show(5, False)"
   ]
  },
  {
   "cell_type": "markdown",
   "id": "4423a1a3-c705-4761-a7be-fe99acae5bf6",
   "metadata": {},
   "source": [
    "# Split raster into tiles\n",
    "\n",
    "Large rasters may not be suitable for performing raster processing tasks that reads all the pixel data. WherobotsDB provides `RS_TileExplode` function for splitting the large raster into smaller tiles. When the input raster is an out-db raster, the generated tiles are out-db rasters referencing different parts of the out-db raster file. This is a pure geo-referencing metadata operation so this is very fast."
   ]
  },
  {
   "cell_type": "code",
   "execution_count": null,
   "id": "a7525821-e93f-4abc-b009-6e9c99baffa3",
   "metadata": {},
   "outputs": [],
   "source": [
    "tile_df = sedona.sql(\"SELECT RS_TileExplode(rast, 256, 256) AS (x, y, tile) FROM wherobots.test_db.world_pop\")\n",
    "tile_df.show(5)"
   ]
  },
  {
   "cell_type": "markdown",
   "id": "46883296-30e1-4206-a5b9-bdaced97ec96",
   "metadata": {},
   "source": [
    "## Saving as out-db rasters"
   ]
  },
  {
   "cell_type": "code",
   "execution_count": null,
   "id": "ddaf15ad-1eeb-4692-9393-f55dd1c73ae8",
   "metadata": {},
   "outputs": [],
   "source": [
    "sedona.sql(\"DROP TABLE IF EXISTS wherobots.test_db.world_pop_tiles\")\n",
    "tile_df.writeTo(\"wherobots.test_db.world_pop_tiles\").create()"
   ]
  },
  {
   "cell_type": "code",
   "execution_count": null,
   "id": "8a947c4c-92a0-497e-97c5-e051446f8bb2",
   "metadata": {},
   "outputs": [],
   "source": [
    "sedona.table(\"wherobots.test_db.world_pop_tiles\").count()"
   ]
  },
  {
   "cell_type": "markdown",
   "id": "19c4ae33-8f38-4dbd-9a0c-040ad3b2e6da",
   "metadata": {},
   "source": [
    "## Saving tiles as in-db rasters\n",
    "\n",
    "WherobotsDB provides an `RS_AsInDb` function for converting out-db raster as in-db raster. It needs to fetch all the band data from the raster file. We manually repartition the out-db tile dataset to run this convertion with high parallelism."
   ]
  },
  {
   "cell_type": "code",
   "execution_count": null,
   "id": "0394bca9-df84-41c2-b840-006f5a2890f2",
   "metadata": {},
   "outputs": [],
   "source": [
    "indb_tile_df = tile_df.repartition(100).withColumn(\"tile\", expr(\"RS_AsInDb(tile)\"))\n",
    "indb_tile_df.show(5)"
   ]
  },
  {
   "cell_type": "code",
   "execution_count": null,
   "id": "652379d7-db98-4635-b7aa-f9d51198a8a2",
   "metadata": {},
   "outputs": [],
   "source": [
    "sedona.sql(\"DROP TABLE IF EXISTS wherobots.test_db.world_pop_indb_tiles\")\n",
    "indb_tile_df.writeTo(\"wherobots.test_db.world_pop_indb_tiles\").create()"
   ]
  },
  {
   "cell_type": "code",
   "execution_count": null,
   "id": "3d9374d8-6c8b-461d-9673-1120fa96f964",
   "metadata": {},
   "outputs": [],
   "source": [
    "sedona.table(\"wherobots.test_db.world_pop_indb_tiles\").count()"
   ]
  },
  {
   "cell_type": "markdown",
   "id": "f08a8115-acf7-4544-95a8-a52294f301a7",
   "metadata": {},
   "source": [
    "## Visualize the tile boundaries on a map"
   ]
  },
  {
   "cell_type": "code",
   "execution_count": null,
   "id": "7db9a72a-e068-48fc-b88e-6f6e32b8c90a",
   "metadata": {},
   "outputs": [],
   "source": [
    "sedona.table(\"wherobots.test_db.world_pop_indb_tiles\").show()\n",
    "tiledMap = SedonaKepler.create_map()\n",
    "SedonaKepler.add_df(tiledMap, sedona.table(\"wherobots.test_db.world_pop_indb_tiles\").withColumn(\"tile\", expr(\"RS_Envelope(tile)\")), name=\"tiles\")\n",
    "tiledMap"
   ]
  },
  {
   "cell_type": "markdown",
   "id": "9c27b6d3-b71d-49b2-b03a-ebbe5b3ca6f2",
   "metadata": {},
   "source": [
    "# Population of POIs\n",
    "\n",
    "We'll join the POI dataset with the population dataset to evaluate the population of POIs."
   ]
  },
  {
   "cell_type": "markdown",
   "id": "2f40ba2f-3de8-4cd0-a423-fbb03b89c420",
   "metadata": {},
   "source": [
    "## Load POI Dataset"
   ]
  },
  {
   "cell_type": "code",
   "execution_count": null,
   "id": "67747dda-c9c2-46ec-a05e-79fb3a14fcb9",
   "metadata": {},
   "outputs": [],
   "source": [
    "spatialRdd = ShapefileReader.readToGeometryRDD(sedona.sparkContext, \"s3://wherobots-examples/data/ne_50m_airports\")\n",
    "poi_df = Adapter.toDf(spatialRdd, sedona)\n",
    "poi_df.show(5)"
   ]
  },
  {
   "cell_type": "markdown",
   "id": "439abef2-110a-4f69-9816-55aa101ef112",
   "metadata": {},
   "source": [
    "## Joining POIs with out-db raster\n",
    "\n",
    "We can perform a catesian join with the single row large out-db raster table, and evaluates the population value on each point."
   ]
  },
  {
   "cell_type": "code",
   "execution_count": null,
   "id": "81cf563f-09e6-4aba-9f45-fd3793acd039",
   "metadata": {},
   "outputs": [],
   "source": [
    "res_df = poi_df.join(sedona.table(\"wherobots.test_db.world_pop\")).withColumn(\"pop\", expr(\"RS_Value(rast, geometry)\")).drop(\"rast\")\n",
    "res_df.show(5)\n",
    "res_df.where(\"pop > 100\").count()"
   ]
  },
  {
   "cell_type": "markdown",
   "id": "835a963a-632f-4b4e-afbc-2b770843228a",
   "metadata": {},
   "source": [
    "## Joining POIs with out-db tiles\n",
    "\n",
    "We run a spatial join using the POI and out-db raster tile dataset, and evaluates the population value on each point."
   ]
  },
  {
   "cell_type": "code",
   "execution_count": null,
   "id": "c25db656-3c63-40bf-b012-fb98e31a0dea",
   "metadata": {},
   "outputs": [],
   "source": [
    "res_df = poi_df.join(sedona.table(\"wherobots.test_db.world_pop_tiles\"), expr(\"RS_Intersects(tile, geometry)\")).withColumn(\"pop\", expr(\"RS_Value(tile, geometry)\")).drop(\"tile\")\n",
    "res_df.show(5)\n",
    "res_df.where(\"pop > 100\").count()"
   ]
  },
  {
   "cell_type": "markdown",
   "id": "65be6bc9-4305-4f85-b72c-9a8a83e7eb8d",
   "metadata": {},
   "source": [
    "## Joining POIs with in-db tiles"
   ]
  },
  {
   "cell_type": "code",
   "execution_count": null,
   "id": "9ca57eac-1206-4cca-8ead-10cec72ed548",
   "metadata": {},
   "outputs": [],
   "source": [
    "res_df = poi_df.join(sedona.table(\"wherobots.test_db.world_pop_indb_tiles\"), expr(\"RS_Intersects(tile, geometry)\")).withColumn(\"pop\", expr(\"RS_Value(tile, geometry)\")).drop(\"tile\")\n",
    "res_df.show(5)\n",
    "res_df.where(\"pop > 100\").count()"
   ]
  },
  {
   "cell_type": "code",
   "execution_count": null,
   "id": "e0eaf9b7-48a8-4708-bc2e-30828634d92f",
   "metadata": {},
   "outputs": [],
   "source": []
  }
 ],
 "metadata": {
  "kernelspec": {
   "display_name": "Python 3 (ipykernel)",
   "language": "python",
   "name": "python3"
  },
  "language_info": {
   "codemirror_mode": {
    "name": "ipython",
    "version": 3
   },
   "file_extension": ".py",
   "mimetype": "text/x-python",
   "name": "python",
   "nbconvert_exporter": "python",
   "pygments_lexer": "ipython3",
   "version": "3.10.11"
  }
 },
 "nbformat": 4,
 "nbformat_minor": 5
}
