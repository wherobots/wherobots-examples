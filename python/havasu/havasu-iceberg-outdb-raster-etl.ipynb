{
 "cells": [
  {
   "cell_type": "markdown",
   "id": "55f5091e-8139-4e93-b19f-0749f0a06f92",
   "metadata": {},
   "source": [
    "![](https://wherobots.com/wp-content/uploads/2023/12/Inline-Blue_Black_onWhite@3x.png)\n",
    "\n",
    "# Havasu out-db Raster Example\n",
    "\n",
    "In this notebook, we'll demonstrate how to load a large GeoTIFF file stored on S3 as out-db raster, and split it into smaller tiles.\n",
    "\n",
    "We'll also show how to run RS_Value using a DataFrame of points on a large out-db raster. Read more about [Havasu](https://docs.wherobots.com/latest/references/havasu/introduction/), and [WherobotsDB Raster support](https://docs.wherobots.com/latest/references/havasu/raster/raster-overview/) in the documentation."
   ]
  },
  {
   "cell_type": "markdown",
   "id": "ebc2a17b-9878-4928-8b14-f9a26bac0c71",
   "metadata": {},
   "source": [
    "# Define Sedona context"
   ]
  },
  {
   "cell_type": "code",
   "execution_count": 1,
   "id": "4f68934f-079f-4812-a293-a9789b2e092a",
   "metadata": {
    "execution": {
     "iopub.execute_input": "2025-02-04T07:49:04.145894Z",
     "iopub.status.busy": "2025-02-04T07:49:04.145450Z",
     "iopub.status.idle": "2025-02-04T07:49:04.773003Z",
     "shell.execute_reply": "2025-02-04T07:49:04.772429Z",
     "shell.execute_reply.started": "2025-02-04T07:49:04.145869Z"
    }
   },
   "outputs": [],
   "source": [
    "from pyspark.sql import SparkSession\n",
    "from pyspark.sql.functions import expr, col, lit\n",
    "from sedona.spark import *"
   ]
  },
  {
   "cell_type": "code",
   "execution_count": null,
   "id": "3c1955df-5b3f-4c48-842a-644c07ae4ebf",
   "metadata": {
    "execution": {
     "iopub.execute_input": "2025-02-04T07:49:06.146759Z",
     "iopub.status.busy": "2025-02-04T07:49:06.146419Z",
     "iopub.status.idle": "2025-02-04T07:49:35.486514Z",
     "shell.execute_reply": "2025-02-04T07:49:35.485616Z",
     "shell.execute_reply.started": "2025-02-04T07:49:06.146734Z"
    }
   },
   "outputs": [
    {
     "name": "stderr",
     "output_type": "stream",
     "text": [
      "Setting default log level to \"WARN\".\n",
      "To adjust logging level use sc.setLogLevel(newLevel). For SparkR, use setLogLevel(newLevel).\n",
      "                                                                                \r"
     ]
    }
   ],
   "source": [
    "config = SedonaContext.builder().appName('havasu-iceberg-outdb-raster-etl')\\\n",
    "    .getOrCreate()\n",
    "sedona = SedonaContext.create(config)"
   ]
  },
  {
   "cell_type": "markdown",
   "id": "50968218-9a9d-4844-962e-4fd488abf40f",
   "metadata": {},
   "source": [
    "# Load Raster\n",
    "\n",
    "We'll load the world population data, which contains estimated total number of people per grid-cell. The dataset is available to download in Geotiff format at a resolution of 30 arc (approximately 1km at the equator). The projection is Geographic Coordinate System, WGS84.\n",
    "\n",
    "The original data can be retrieved from [here](https://hub.worldpop.org/geodata/summary?id=24777)."
   ]
  },
  {
   "cell_type": "code",
   "execution_count": 62,
   "id": "c07afe9c-0b2d-4e74-b0c5-cf2886ab0e83",
   "metadata": {
    "execution": {
     "iopub.execute_input": "2025-02-04T08:20:52.401307Z",
     "iopub.status.busy": "2025-02-04T08:20:52.400974Z",
     "iopub.status.idle": "2025-02-04T08:20:52.472262Z",
     "shell.execute_reply": "2025-02-04T08:20:52.471542Z",
     "shell.execute_reply.started": "2025-02-04T08:20:52.401282Z"
    }
   },
   "outputs": [
    {
     "name": "stdout",
     "output_type": "stream",
     "text": [
      "+--------------------+\n",
      "|                rast|\n",
      "+--------------------+\n",
      "|LazyLoadOutDbGrid...|\n",
      "+--------------------+\n",
      "\n"
     ]
    }
   ],
   "source": [
    "raster_df = sedona.sql(\"SELECT RS_FromPath('s3://wherobots-examples/data/ppp_2020_1km_Aggregated.tif') as rast\")\n",
    "raster_df.show(5)"
   ]
  },
  {
   "cell_type": "markdown",
   "id": "85dce265-a41d-478e-aa73-00004251d7d1",
   "metadata": {},
   "source": [
    "We can save this one large out-db raster as a Havasu table. The table will contain one row representing that large out-db raster."
   ]
  },
  {
   "cell_type": "code",
   "execution_count": 63,
   "id": "1c1c1ddc-3996-409a-9893-3869ebebdcb4",
   "metadata": {
    "execution": {
     "iopub.execute_input": "2025-02-04T08:20:54.374634Z",
     "iopub.status.busy": "2025-02-04T08:20:54.374278Z",
     "iopub.status.idle": "2025-02-04T08:20:55.740672Z",
     "shell.execute_reply": "2025-02-04T08:20:55.740120Z",
     "shell.execute_reply.started": "2025-02-04T08:20:54.374609Z"
    }
   },
   "outputs": [],
   "source": [
    "sedona.sql(\"CREATE NAMESPACE IF NOT EXISTS wherobots.test_db\")\n",
    "sedona.sql(\"DROP TABLE IF EXISTS wherobots.test_db.world_pop\")\n",
    "raster_df.writeTo(\"wherobots.test_db.world_pop\").create()"
   ]
  },
  {
   "cell_type": "code",
   "execution_count": 64,
   "id": "2181ba8b-54e3-469b-a7cd-12d84b1dd48d",
   "metadata": {
    "execution": {
     "iopub.execute_input": "2025-02-04T08:20:57.372467Z",
     "iopub.status.busy": "2025-02-04T08:20:57.372139Z",
     "iopub.status.idle": "2025-02-04T08:20:57.932627Z",
     "shell.execute_reply": "2025-02-04T08:20:57.931232Z",
     "shell.execute_reply.started": "2025-02-04T08:20:57.372437Z"
    }
   },
   "outputs": [
    {
     "name": "stdout",
     "output_type": "stream",
     "text": [
      "+-----------------------------------------------------------------------------------------------------------+\n",
      "|meta                                                                                                       |\n",
      "+-----------------------------------------------------------------------------------------------------------+\n",
      "|{-180.001249265, 83.99958319871001, 43200, 18720, 0.0083333333, -0.0083333333, 0.0, 0.0, 4326, 1, 256, 256}|\n",
      "+-----------------------------------------------------------------------------------------------------------+\n",
      "\n"
     ]
    }
   ],
   "source": [
    "sedona.sql(\"SELECT RS_Metadata(rast) meta FROM wherobots.test_db.world_pop\").show(5, False)"
   ]
  },
  {
   "cell_type": "markdown",
   "id": "4423a1a3-c705-4761-a7be-fe99acae5bf6",
   "metadata": {},
   "source": [
    "# Split raster into tiles\n",
    "\n",
    "Large rasters may not be suitable for performing raster processing tasks that reads all the pixel data. WherobotsDB provides `RS_TileExplode` function for splitting the large raster into smaller tiles. When the input raster is an out-db raster, the generated tiles are out-db rasters referencing different parts of the out-db raster file. This is a pure geo-referencing metadata operation so this is very fast.\n",
    "\n",
    "The tiles generated by `RS_TileExplode` are within their original partition, so all the tiles are within one partition because the original DataFrame has only one row. This dataframe needs to be repartitioned to distribute the tiles to multiple executors, otherwise future processing on these tiles won't be parallelised."
   ]
  },
  {
   "cell_type": "code",
   "execution_count": 70,
   "id": "a7525821-e93f-4abc-b009-6e9c99baffa3",
   "metadata": {
    "execution": {
     "iopub.execute_input": "2025-02-04T08:26:44.965927Z",
     "iopub.status.busy": "2025-02-04T08:26:44.965601Z",
     "iopub.status.idle": "2025-02-04T08:26:45.512999Z",
     "shell.execute_reply": "2025-02-04T08:26:45.512448Z",
     "shell.execute_reply.started": "2025-02-04T08:26:44.965903Z"
    }
   },
   "outputs": [
    {
     "name": "stdout",
     "output_type": "stream",
     "text": [
      "+---+---+--------------------+\n",
      "|  x|  y|                tile|\n",
      "+---+---+--------------------+\n",
      "|150| 55|OutDbGridCoverage...|\n",
      "|139| 37|OutDbGridCoverage...|\n",
      "|146| 31|OutDbGridCoverage...|\n",
      "| 31| 14|OutDbGridCoverage...|\n",
      "|131|  2|OutDbGridCoverage...|\n",
      "+---+---+--------------------+\n",
      "only showing top 5 rows\n",
      "\n"
     ]
    }
   ],
   "source": [
    "tile_df = sedona.sql(\"SELECT RS_TileExplode(rast, 256, 256) AS (x, y, tile) FROM wherobots.test_db.world_pop\").repartition(16)\n",
    "tile_df.show(5)"
   ]
  },
  {
   "cell_type": "markdown",
   "id": "5b05ae39-c944-4e1e-adf3-613e416881e6",
   "metadata": {},
   "source": [
    "# Load raster as tiles (recommended)\n",
    "\n",
    "WherobotsDB provides `raster` data source for loading raster files and splitting the rasters into tiles using one line of code. The loaded tiles will also be repartitioned to all executors to distribute future raster processing workloads. Read more about [Raster loader](https://docs.wherobots.com/latest/references/wherobotsdb/raster-data/Raster-loader/#loading-raster-using-the-raster-loader) in the documentatin."
   ]
  },
  {
   "cell_type": "code",
   "execution_count": 66,
   "id": "6b74bb92-2b4a-43a6-91cf-977557bd29bd",
   "metadata": {
    "execution": {
     "iopub.execute_input": "2025-02-04T08:26:22.033922Z",
     "iopub.status.busy": "2025-02-04T08:26:22.033599Z",
     "iopub.status.idle": "2025-02-04T08:26:22.757027Z",
     "shell.execute_reply": "2025-02-04T08:26:22.756320Z",
     "shell.execute_reply.started": "2025-02-04T08:26:22.033900Z"
    }
   },
   "outputs": [
    {
     "name": "stdout",
     "output_type": "stream",
     "text": [
      "+--------------------+---+---+\n",
      "|                rast|  x|  y|\n",
      "+--------------------+---+---+\n",
      "|OutDbGridCoverage...| 22| 12|\n",
      "|OutDbGridCoverage...|140|  0|\n",
      "|OutDbGridCoverage...| 52| 62|\n",
      "|OutDbGridCoverage...|129| 37|\n",
      "|OutDbGridCoverage...| 83| 67|\n",
      "+--------------------+---+---+\n",
      "only showing top 5 rows\n",
      "\n"
     ]
    }
   ],
   "source": [
    "raster_df_tiled = sedona.read.format(\"raster\").option(\"tileWidth\", \"256\").option(\"tileHeight\", \"256\").load(\"s3://wherobots-examples/data/ppp_2020_1km_Aggregated.tif\")\n",
    "raster_df_tiled.show(5)"
   ]
  },
  {
   "cell_type": "markdown",
   "id": "c86efd92-c022-4faf-97db-f99ce5a577ec",
   "metadata": {},
   "source": [
    "We'll rename the raster column `rast` as `tile` before saving the DataFrame into Havasu table."
   ]
  },
  {
   "cell_type": "code",
   "execution_count": 67,
   "id": "66913a1f-5ef2-4af3-b332-3a4628d904d3",
   "metadata": {
    "execution": {
     "iopub.execute_input": "2025-02-04T08:26:24.967913Z",
     "iopub.status.busy": "2025-02-04T08:26:24.967593Z",
     "iopub.status.idle": "2025-02-04T08:26:24.977755Z",
     "shell.execute_reply": "2025-02-04T08:26:24.977120Z",
     "shell.execute_reply.started": "2025-02-04T08:26:24.967887Z"
    }
   },
   "outputs": [],
   "source": [
    "tile_df = raster_df_tiled.select(col(\"rast\").alias(\"tile\"), \"x\", \"y\")"
   ]
  },
  {
   "cell_type": "markdown",
   "id": "46883296-30e1-4206-a5b9-bdaced97ec96",
   "metadata": {},
   "source": [
    "## Saving as out-db rasters"
   ]
  },
  {
   "cell_type": "code",
   "execution_count": 71,
   "id": "ddaf15ad-1eeb-4692-9393-f55dd1c73ae8",
   "metadata": {
    "execution": {
     "iopub.execute_input": "2025-02-04T08:26:51.854638Z",
     "iopub.status.busy": "2025-02-04T08:26:51.854301Z",
     "iopub.status.idle": "2025-02-04T08:26:53.848805Z",
     "shell.execute_reply": "2025-02-04T08:26:53.848140Z",
     "shell.execute_reply.started": "2025-02-04T08:26:51.854611Z"
    }
   },
   "outputs": [
    {
     "name": "stderr",
     "output_type": "stream",
     "text": [
      "                                                                                \r"
     ]
    }
   ],
   "source": [
    "sedona.sql(\"DROP TABLE IF EXISTS wherobots.test_db.world_pop_tiles\")\n",
    "tile_df.writeTo(\"wherobots.test_db.world_pop_tiles\").create()"
   ]
  },
  {
   "cell_type": "code",
   "execution_count": 72,
   "id": "8a947c4c-92a0-497e-97c5-e051446f8bb2",
   "metadata": {
    "execution": {
     "iopub.execute_input": "2025-02-04T08:26:54.954105Z",
     "iopub.status.busy": "2025-02-04T08:26:54.953782Z",
     "iopub.status.idle": "2025-02-04T08:26:55.257164Z",
     "shell.execute_reply": "2025-02-04T08:26:55.256329Z",
     "shell.execute_reply.started": "2025-02-04T08:26:54.954081Z"
    }
   },
   "outputs": [
    {
     "data": {
      "text/plain": [
       "12506"
      ]
     },
     "execution_count": 72,
     "metadata": {},
     "output_type": "execute_result"
    }
   ],
   "source": [
    "sedona.table(\"wherobots.test_db.world_pop_tiles\").count()"
   ]
  },
  {
   "cell_type": "markdown",
   "id": "19c4ae33-8f38-4dbd-9a0c-040ad3b2e6da",
   "metadata": {},
   "source": [
    "## Saving tiles as in-db rasters\n",
    "\n",
    "WherobotsDB provides an `RS_AsInDb` function for converting out-db raster as in-db raster. It needs to fetch all the band data from the raster file. We manually repartition the out-db tile dataset to run this convertion with high parallelism."
   ]
  },
  {
   "cell_type": "code",
   "execution_count": 54,
   "id": "0394bca9-df84-41c2-b840-006f5a2890f2",
   "metadata": {
    "execution": {
     "iopub.execute_input": "2025-02-04T08:18:27.038386Z",
     "iopub.status.busy": "2025-02-04T08:18:27.038077Z",
     "iopub.status.idle": "2025-02-04T08:18:27.873996Z",
     "shell.execute_reply": "2025-02-04T08:18:27.873178Z",
     "shell.execute_reply.started": "2025-02-04T08:18:27.038362Z"
    }
   },
   "outputs": [
    {
     "name": "stdout",
     "output_type": "stream",
     "text": [
      "+--------------------+---+---+\n",
      "|                tile|  x|  y|\n",
      "+--------------------+---+---+\n",
      "|GridCoverage2D[\"g...| 22| 12|\n",
      "|GridCoverage2D[\"g...|140|  0|\n",
      "|GridCoverage2D[\"g...| 52| 62|\n",
      "|GridCoverage2D[\"g...|129| 37|\n",
      "|GridCoverage2D[\"g...| 83| 67|\n",
      "+--------------------+---+---+\n",
      "only showing top 5 rows\n",
      "\n"
     ]
    }
   ],
   "source": [
    "indb_tile_df = tile_df.withColumn(\"tile\", expr(\"RS_AsInDb(tile)\"))\n",
    "indb_tile_df.show(5)"
   ]
  },
  {
   "cell_type": "code",
   "execution_count": 55,
   "id": "652379d7-db98-4635-b7aa-f9d51198a8a2",
   "metadata": {
    "execution": {
     "iopub.execute_input": "2025-02-04T08:18:34.358419Z",
     "iopub.status.busy": "2025-02-04T08:18:34.358046Z",
     "iopub.status.idle": "2025-02-04T08:19:01.201442Z",
     "shell.execute_reply": "2025-02-04T08:19:01.200883Z",
     "shell.execute_reply.started": "2025-02-04T08:18:34.358380Z"
    }
   },
   "outputs": [
    {
     "name": "stderr",
     "output_type": "stream",
     "text": [
      "                                                                                \r"
     ]
    }
   ],
   "source": [
    "sedona.sql(\"DROP TABLE IF EXISTS wherobots.test_db.world_pop_indb_tiles\")\n",
    "indb_tile_df.writeTo(\"wherobots.test_db.world_pop_indb_tiles\").create()"
   ]
  },
  {
   "cell_type": "code",
   "execution_count": 56,
   "id": "3d9374d8-6c8b-461d-9673-1120fa96f964",
   "metadata": {
    "execution": {
     "iopub.execute_input": "2025-02-04T08:19:03.893418Z",
     "iopub.status.busy": "2025-02-04T08:19:03.893092Z",
     "iopub.status.idle": "2025-02-04T08:19:04.428377Z",
     "shell.execute_reply": "2025-02-04T08:19:04.427664Z",
     "shell.execute_reply.started": "2025-02-04T08:19:03.893392Z"
    }
   },
   "outputs": [
    {
     "data": {
      "text/plain": [
       "12506"
      ]
     },
     "execution_count": 56,
     "metadata": {},
     "output_type": "execute_result"
    }
   ],
   "source": [
    "sedona.table(\"wherobots.test_db.world_pop_indb_tiles\").count()"
   ]
  },
  {
   "cell_type": "markdown",
   "id": "f08a8115-acf7-4544-95a8-a52294f301a7",
   "metadata": {},
   "source": [
    "## Visualize the tile boundaries on a map"
   ]
  },
  {
   "cell_type": "code",
   "execution_count": 57,
   "id": "7db9a72a-e068-48fc-b88e-6f6e32b8c90a",
   "metadata": {
    "execution": {
     "iopub.execute_input": "2025-02-04T08:19:08.619474Z",
     "iopub.status.busy": "2025-02-04T08:19:08.619155Z",
     "iopub.status.idle": "2025-02-04T08:19:15.397455Z",
     "shell.execute_reply": "2025-02-04T08:19:15.396842Z",
     "shell.execute_reply.started": "2025-02-04T08:19:08.619448Z"
    }
   },
   "outputs": [
    {
     "name": "stderr",
     "output_type": "stream",
     "text": [
      "                                                                                \r"
     ]
    },
    {
     "name": "stdout",
     "output_type": "stream",
     "text": [
      "+--------------------+---+---+\n",
      "|                tile|  x|  y|\n",
      "+--------------------+---+---+\n",
      "|GridCoverage2D[\"h...| 11|  6|\n",
      "|GridCoverage2D[\"h...| 18| 37|\n",
      "|GridCoverage2D[\"h...| 98| 58|\n",
      "|GridCoverage2D[\"h...|124|  4|\n",
      "|GridCoverage2D[\"h...|123| 61|\n",
      "|GridCoverage2D[\"h...|139| 29|\n",
      "|GridCoverage2D[\"h...| 34| 64|\n",
      "|GridCoverage2D[\"h...|126| 47|\n",
      "|GridCoverage2D[\"h...| 62| 39|\n",
      "|GridCoverage2D[\"h...|116| 33|\n",
      "|GridCoverage2D[\"h...|127| 32|\n",
      "|GridCoverage2D[\"h...|102| 21|\n",
      "|GridCoverage2D[\"h...|124| 31|\n",
      "|GridCoverage2D[\"h...|122| 13|\n",
      "|GridCoverage2D[\"h...|109| 73|\n",
      "|GridCoverage2D[\"h...| 82| 66|\n",
      "|GridCoverage2D[\"h...| 38| 41|\n",
      "|GridCoverage2D[\"h...| 35| 31|\n",
      "|GridCoverage2D[\"h...|108| 44|\n",
      "|GridCoverage2D[\"h...|114| 53|\n",
      "+--------------------+---+---+\n",
      "only showing top 20 rows\n",
      "\n",
      "User Guide: https://docs.kepler.gl/docs/keplergl-jupyter\n"
     ]
    },
    {
     "name": "stderr",
     "output_type": "stream",
     "text": [
      "                                                                                \r"
     ]
    },
    {
     "data": {
      "application/vnd.jupyter.widget-view+json": {
       "model_id": "d99f90e2957d400a8056dd4510820aed",
       "version_major": 2,
       "version_minor": 0
      },
      "text/plain": [
       "KeplerGl(data={'tiles': {'index': [0, 1, 2, 3, 4, 5, 6, 7, 8, 9, 10, 11, 12, 13, 14, 15, 16, 17, 18, 19, 20, 2…"
      ]
     },
     "execution_count": 57,
     "metadata": {},
     "output_type": "execute_result"
    }
   ],
   "source": [
    "sedona.table(\"wherobots.test_db.world_pop_indb_tiles\").show()\n",
    "tiledMap = SedonaKepler.create_map()\n",
    "SedonaKepler.add_df(tiledMap, sedona.table(\"wherobots.test_db.world_pop_indb_tiles\").withColumn(\"tile\", expr(\"RS_Envelope(tile)\")), name=\"tiles\")\n",
    "tiledMap"
   ]
  },
  {
   "cell_type": "markdown",
   "id": "9c27b6d3-b71d-49b2-b03a-ebbe5b3ca6f2",
   "metadata": {},
   "source": [
    "# Population of POIs\n",
    "\n",
    "We'll join the POI dataset with the population dataset to evaluate the population of POIs."
   ]
  },
  {
   "cell_type": "markdown",
   "id": "2f40ba2f-3de8-4cd0-a423-fbb03b89c420",
   "metadata": {},
   "source": [
    "## Load POI Dataset"
   ]
  },
  {
   "cell_type": "code",
   "execution_count": 58,
   "id": "67747dda-c9c2-46ec-a05e-79fb3a14fcb9",
   "metadata": {
    "execution": {
     "iopub.execute_input": "2025-02-04T08:19:23.006117Z",
     "iopub.status.busy": "2025-02-04T08:19:23.005781Z",
     "iopub.status.idle": "2025-02-04T08:19:24.091316Z",
     "shell.execute_reply": "2025-02-04T08:19:24.090468Z",
     "shell.execute_reply.started": "2025-02-04T08:19:23.006091Z"
    }
   },
   "outputs": [
    {
     "name": "stdout",
     "output_type": "stream",
     "text": [
      "+--------------------+---------+----------+-----+----------------+------+--------+--------+---------+--------------------+---------+\n",
      "|            geometry|scalerank|featurecla| type|            name|abbrev|location|gps_code|iata_code|           wikipedia|natlscale|\n",
      "+--------------------+---------+----------+-----+----------------+------+--------+--------+---------+--------------------+---------+\n",
      "|POINT (113.935016...|        2|   Airport|major| Hong Kong Int'l|   HKG|terminal|    VHHH|      HKG|http://en.wikiped...|  150.000|\n",
      "|POINT (121.231370...|        2|   Airport|major|         Taoyuan|   TPE|terminal|    RCTP|      TPE|http://en.wikiped...|  150.000|\n",
      "|POINT (4.76437693...|        2|   Airport|major|        Schiphol|   AMS|terminal|    EHAM|      AMS|http://en.wikiped...|  150.000|\n",
      "|POINT (103.986413...|        2|   Airport|major|Singapore Changi|   SIN|terminal|    WSSS|      SIN|http://en.wikiped...|  150.000|\n",
      "|POINT (-0.4531566...|        2|   Airport|major| London Heathrow|   LHR| parking|    EGLL|      LHR|http://en.wikiped...|  150.000|\n",
      "+--------------------+---------+----------+-----+----------------+------+--------+--------+---------+--------------------+---------+\n",
      "only showing top 5 rows\n",
      "\n"
     ]
    }
   ],
   "source": [
    "spatialRdd = ShapefileReader.readToGeometryRDD(sedona.sparkContext, \"s3://wherobots-examples/data/ne_50m_airports\")\n",
    "poi_df = Adapter.toDf(spatialRdd, sedona)\n",
    "poi_df.show(5)"
   ]
  },
  {
   "cell_type": "markdown",
   "id": "439abef2-110a-4f69-9816-55aa101ef112",
   "metadata": {},
   "source": [
    "## Joining POIs with out-db raster\n",
    "\n",
    "We can perform a catesian join with the single row large out-db raster table, and evaluates the population value on each point."
   ]
  },
  {
   "cell_type": "code",
   "execution_count": 59,
   "id": "81cf563f-09e6-4aba-9f45-fd3793acd039",
   "metadata": {
    "execution": {
     "iopub.execute_input": "2025-02-04T08:19:25.779859Z",
     "iopub.status.busy": "2025-02-04T08:19:25.779519Z",
     "iopub.status.idle": "2025-02-04T08:19:35.014875Z",
     "shell.execute_reply": "2025-02-04T08:19:35.014038Z",
     "shell.execute_reply.started": "2025-02-04T08:19:25.779835Z"
    }
   },
   "outputs": [
    {
     "name": "stdout",
     "output_type": "stream",
     "text": [
      "+--------------------+---------+----------+-----+----------------+------+--------+--------+---------+--------------------+---------+------------------+\n",
      "|            geometry|scalerank|featurecla| type|            name|abbrev|location|gps_code|iata_code|           wikipedia|natlscale|               pop|\n",
      "+--------------------+---------+----------+-----+----------------+------+--------+--------+---------+--------------------+---------+------------------+\n",
      "|POINT (113.935016...|        2|   Airport|major| Hong Kong Int'l|   HKG|terminal|    VHHH|      HKG|http://en.wikiped...|  150.000| 1627.572998046875|\n",
      "|POINT (121.231370...|        2|   Airport|major|         Taoyuan|   TPE|terminal|    RCTP|      TPE|http://en.wikiped...|  150.000|1459.4176025390625|\n",
      "|POINT (4.76437693...|        2|   Airport|major|        Schiphol|   AMS|terminal|    EHAM|      AMS|http://en.wikiped...|  150.000|1093.3812255859375|\n",
      "|POINT (103.986413...|        2|   Airport|major|Singapore Changi|   SIN|terminal|    WSSS|      SIN|http://en.wikiped...|  150.000| 275.9463195800781|\n",
      "|POINT (-0.4531566...|        2|   Airport|major| London Heathrow|   LHR| parking|    EGLL|      LHR|http://en.wikiped...|  150.000| 53.41670227050781|\n",
      "+--------------------+---------+----------+-----+----------------+------+--------+--------+---------+--------------------+---------+------------------+\n",
      "only showing top 5 rows\n",
      "\n"
     ]
    },
    {
     "name": "stderr",
     "output_type": "stream",
     "text": [
      "                                                                                \r"
     ]
    },
    {
     "data": {
      "text/plain": [
       "204"
      ]
     },
     "execution_count": 59,
     "metadata": {},
     "output_type": "execute_result"
    }
   ],
   "source": [
    "res_df = poi_df.join(sedona.table(\"wherobots.test_db.world_pop\")).withColumn(\"pop\", expr(\"RS_Value(rast, geometry)\")).drop(\"rast\")\n",
    "res_df.show(5)\n",
    "res_df.where(\"pop > 100\").count()"
   ]
  },
  {
   "cell_type": "markdown",
   "id": "835a963a-632f-4b4e-afbc-2b770843228a",
   "metadata": {},
   "source": [
    "## Joining POIs with out-db tiles\n",
    "\n",
    "We run a spatial join using the POI and out-db raster tile dataset, and evaluates the population value on each point."
   ]
  },
  {
   "cell_type": "code",
   "execution_count": 60,
   "id": "c25db656-3c63-40bf-b012-fb98e31a0dea",
   "metadata": {
    "execution": {
     "iopub.execute_input": "2025-02-04T08:19:38.780618Z",
     "iopub.status.busy": "2025-02-04T08:19:38.780283Z",
     "iopub.status.idle": "2025-02-04T08:19:50.469306Z",
     "shell.execute_reply": "2025-02-04T08:19:50.468728Z",
     "shell.execute_reply.started": "2025-02-04T08:19:38.780594Z"
    }
   },
   "outputs": [
    {
     "name": "stderr",
     "output_type": "stream",
     "text": [
      "                                                                                \r"
     ]
    },
    {
     "name": "stdout",
     "output_type": "stream",
     "text": [
      "+--------------------+---------+----------+-----+----------------+------+--------+--------+---------+--------------------+---------+---+---+------------------+\n",
      "|            geometry|scalerank|featurecla| type|            name|abbrev|location|gps_code|iata_code|           wikipedia|natlscale|  x|  y|               pop|\n",
      "+--------------------+---------+----------+-----+----------------+------+--------+--------+---------+--------------------+---------+---+---+------------------+\n",
      "|POINT (113.935016...|        2|   Airport|major| Hong Kong Int'l|   HKG|terminal|    VHHH|      HKG|http://en.wikiped...|  150.000|137| 28| 1627.572998046875|\n",
      "|POINT (121.231370...|        2|   Airport|major|         Taoyuan|   TPE|terminal|    RCTP|      TPE|http://en.wikiped...|  150.000|141| 27|1459.4176025390625|\n",
      "|POINT (4.76437693...|        2|   Airport|major|        Schiphol|   AMS|terminal|    EHAM|      AMS|http://en.wikiped...|  150.000| 86| 14|1093.3812255859375|\n",
      "|POINT (103.986413...|        2|   Airport|major|Singapore Changi|   SIN|terminal|    WSSS|      SIN|http://en.wikiped...|  150.000|133| 38| 275.9463195800781|\n",
      "|POINT (-0.4531566...|        2|   Airport|major| London Heathrow|   LHR| parking|    EGLL|      LHR|http://en.wikiped...|  150.000| 84| 15| 53.41670227050781|\n",
      "+--------------------+---------+----------+-----+----------------+------+--------+--------+---------+--------------------+---------+---+---+------------------+\n",
      "only showing top 5 rows\n",
      "\n"
     ]
    },
    {
     "name": "stderr",
     "output_type": "stream",
     "text": [
      "                                                                                \r"
     ]
    },
    {
     "data": {
      "text/plain": [
       "204"
      ]
     },
     "execution_count": 60,
     "metadata": {},
     "output_type": "execute_result"
    }
   ],
   "source": [
    "res_df = poi_df.join(sedona.table(\"wherobots.test_db.world_pop_tiles\"), expr(\"RS_Intersects(tile, geometry)\")).withColumn(\"pop\", expr(\"RS_Value(tile, geometry)\")).drop(\"tile\")\n",
    "res_df.show(5)\n",
    "res_df.where(\"pop > 100\").count()"
   ]
  },
  {
   "cell_type": "markdown",
   "id": "65be6bc9-4305-4f85-b72c-9a8a83e7eb8d",
   "metadata": {},
   "source": [
    "## Joining POIs with in-db tiles"
   ]
  },
  {
   "cell_type": "code",
   "execution_count": 61,
   "id": "9ca57eac-1206-4cca-8ead-10cec72ed548",
   "metadata": {
    "execution": {
     "iopub.execute_input": "2025-02-04T08:19:53.598625Z",
     "iopub.status.busy": "2025-02-04T08:19:53.598283Z",
     "iopub.status.idle": "2025-02-04T08:20:03.725153Z",
     "shell.execute_reply": "2025-02-04T08:20:03.724446Z",
     "shell.execute_reply.started": "2025-02-04T08:19:53.598600Z"
    }
   },
   "outputs": [
    {
     "name": "stderr",
     "output_type": "stream",
     "text": [
      "                                                                                \r"
     ]
    },
    {
     "name": "stdout",
     "output_type": "stream",
     "text": [
      "+--------------------+---------+----------+-----+--------------------+------+--------+--------+---------+--------------------+---------+---+---+-----------------+\n",
      "|            geometry|scalerank|featurecla| type|                name|abbrev|location|gps_code|iata_code|           wikipedia|natlscale|  x|  y|              pop|\n",
      "+--------------------+---------+----------+-----+--------------------+------+--------+--------+---------+--------------------+---------+---+---+-----------------+\n",
      "|POINT (-64.702774...|        4|   Airport|  mid|       Bermuda Int'l|   BDA|terminal|    TXKF|      BDA|http://en.wikiped...|   50.000| 54| 24|685.7862548828125|\n",
      "|POINT (15.4465162...|        4|   Airport|  mid|Kinshasa N Djili ...|   FIH|terminal|    FZAA|      FIH|http://en.wikiped...|   50.000| 91| 41|994.3622436523438|\n",
      "|POINT (-97.226769...|        4|   Airport|major|      Winnipeg Int'l|   YWG|terminal|    CYWG|      YWG|http://en.wikiped...|   50.000| 38| 15|2.445089340209961|\n",
      "|POINT (80.1637759...|        4|   Airport|major|       Chennai Int'l|   MAA|terminal|    VOMM|      MAA|http://en.wikiped...|   50.000|121| 33|   11405.51171875|\n",
      "|POINT (18.5976565...|        2|   Airport|major|     Cape Town Int'l|   CPT|terminal|    FACT|      CPT|http://en.wikiped...|  150.000| 93| 55|              0.0|\n",
      "+--------------------+---------+----------+-----+--------------------+------+--------+--------+---------+--------------------+---------+---+---+-----------------+\n",
      "only showing top 5 rows\n",
      "\n"
     ]
    },
    {
     "name": "stderr",
     "output_type": "stream",
     "text": [
      "                                                                                \r"
     ]
    },
    {
     "data": {
      "text/plain": [
       "204"
      ]
     },
     "execution_count": 61,
     "metadata": {},
     "output_type": "execute_result"
    }
   ],
   "source": [
    "res_df = poi_df.join(sedona.table(\"wherobots.test_db.world_pop_indb_tiles\"), expr(\"RS_Intersects(tile, geometry)\")).withColumn(\"pop\", expr(\"RS_Value(tile, geometry)\")).drop(\"tile\")\n",
    "res_df.show(5)\n",
    "res_df.where(\"pop > 100\").count()"
   ]
  },
  {
   "cell_type": "code",
   "execution_count": null,
   "id": "e0eaf9b7-48a8-4708-bc2e-30828634d92f",
   "metadata": {},
   "outputs": [],
   "source": []
  }
 ],
 "metadata": {
  "kernelspec": {
   "display_name": "Python 3 (ipykernel)",
   "language": "python",
   "name": "python3"
  },
  "language_info": {
   "codemirror_mode": {
    "name": "ipython",
    "version": 3
   },
   "file_extension": ".py",
   "mimetype": "text/x-python",
   "name": "python",
   "nbconvert_exporter": "python",
   "pygments_lexer": "ipython3",
   "version": "3.11.11"
  }
 },
 "nbformat": 4,
 "nbformat_minor": 5
}
