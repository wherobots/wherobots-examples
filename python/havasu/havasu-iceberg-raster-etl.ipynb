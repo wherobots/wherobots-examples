{
 "cells": [
  {
   "cell_type": "markdown",
   "metadata": {},
   "source": [
    "![](https://wherobots.com/wp-content/uploads/2023/12/Inline-Blue_Black_onWhite@3x.png)\n",
    "\n",
    "# Havasu Raster ETL example\n",
    "\n",
    "In this example we demonstrate:\n",
    "\n",
    "* working with the EuroSAT raster dataset as Havasu tables\n",
    "* raster opertions \n",
    "* handling CRS transforms, and \n",
    "* benchmarking raster geometry operations\n",
    "\n",
    "\n",
    "Read more about [Havasu](https://docs.wherobots.com/latest/references/havasu/introduction/), and [WherobotsDB Raster support](https://docs.wherobots.com/latest/references/havasu/raster/raster-overview/) in the documentation."
   ]
  },
  {
   "cell_type": "markdown",
   "metadata": {},
   "source": [
    "# Launch Spark Job"
   ]
  },
  {
   "cell_type": "code",
   "execution_count": null,
   "metadata": {},
   "outputs": [],
   "source": [
    "from pyspark.sql import SparkSession\n",
    "from pyspark.sql.functions import expr, col\n",
    "from sedona.spark import *\n",
    "import geopandas as gpd"
   ]
  },
  {
   "cell_type": "markdown",
   "metadata": {},
   "source": [
    "# Define sedona context"
   ]
  },
  {
   "cell_type": "code",
   "execution_count": null,
   "metadata": {},
   "outputs": [],
   "source": [
    "config = SedonaContext.builder().appName('havasu-iceberg-raster-etl')\\\n",
    "    .getOrCreate()\n",
    "sedona = SedonaContext.create(config)"
   ]
  },
  {
   "cell_type": "markdown",
   "metadata": {},
   "source": [
    "# Load Raster Datasets"
   ]
  },
  {
   "cell_type": "markdown",
   "metadata": {},
   "source": [
    "## EuroSAT"
   ]
  },
  {
   "cell_type": "code",
   "execution_count": null,
   "metadata": {},
   "outputs": [],
   "source": [
    "eurosat_path = 's3://wherobots-examples/data/eurosat_small'\n",
    "df_binary = sedona.read.format(\"binaryFile\").option(\"pathGlobFilter\", \"*.tif\").option(\"recursiveFileLookup\", \"true\").load(eurosat_path)\n",
    "df_geotiff = df_binary.withColumn(\"rast\", expr(\"RS_FromGeoTiff(content)\")).withColumn(\"name\", expr(\"reverse(split(path, '/'))[0]\")).select(\"name\", \"length\", \"rast\")\n",
    "df_geotiff.show(5, False)"
   ]
  },
  {
   "cell_type": "markdown",
   "metadata": {},
   "source": [
    "# Save Raster Datasets to Havasu"
   ]
  },
  {
   "cell_type": "code",
   "execution_count": null,
   "metadata": {},
   "outputs": [],
   "source": [
    "sedona.sql(\"CREATE NAMESPACE IF NOT EXISTS wherobots.test_db\")\n",
    "sedona.sql(\"DROP TABLE IF EXISTS wherobots.test_db.eurosat_ms\")\n",
    "df_geotiff.coalesce(16).writeTo(\"wherobots.test_db.eurosat_ms\").create()"
   ]
  },
  {
   "cell_type": "markdown",
   "metadata": {},
   "source": [
    "## Save another copy of EuroSAT partitioned by SRID"
   ]
  },
  {
   "cell_type": "code",
   "execution_count": null,
   "metadata": {},
   "outputs": [],
   "source": [
    "sedona.sql(\"DROP TABLE IF EXISTS wherobots.test_db.eurosat_ms_srid\")\n",
    "df_rast_havasu = sedona.table(\"wherobots.test_db.eurosat_ms\")\n",
    "df_rast_havasu.withColumn(\"srid\", expr(\"RS_SRID(rast) as srid\"))\\\n",
    "    .sort('srid')\\\n",
    "    .write.format(\"havasu.iceberg\").partitionBy(\"srid\")\\\n",
    "    .saveAsTable(\"wherobots.test_db.eurosat_ms_srid\")"
   ]
  },
  {
   "cell_type": "markdown",
   "metadata": {},
   "source": [
    "## Reload Havasu Rasters"
   ]
  },
  {
   "cell_type": "code",
   "execution_count": null,
   "metadata": {},
   "outputs": [],
   "source": [
    "df_rast_havasu = sedona.table(\"wherobots.test_db.eurosat_ms\")\n",
    "df_rast_havasu_srid = sedona.table('wherobots.test_db.eurosat_ms_srid')"
   ]
  },
  {
   "cell_type": "markdown",
   "metadata": {},
   "source": [
    "# Test Raster Functions"
   ]
  },
  {
   "cell_type": "markdown",
   "metadata": {},
   "source": [
    "## Test Basic Raster Property Accessors"
   ]
  },
  {
   "cell_type": "code",
   "execution_count": null,
   "metadata": {},
   "outputs": [],
   "source": [
    "df_rast_havasu.selectExpr(\"name\", \"RS_Envelope(rast) as env\", \"RS_Metadata(rast) as meta\").show(5)"
   ]
  },
  {
   "cell_type": "markdown",
   "metadata": {},
   "source": [
    "## Test Pixel Data Accessors"
   ]
  },
  {
   "cell_type": "code",
   "execution_count": null,
   "metadata": {},
   "outputs": [],
   "source": [
    "df_rast_havasu.selectExpr(\"name\", \"RS_Value(rast, ST_Centroid(RS_Envelope(rast))) as centroid_val\").show(5, False)"
   ]
  },
  {
   "cell_type": "markdown",
   "metadata": {},
   "source": [
    "## Test Band Accessors"
   ]
  },
  {
   "cell_type": "code",
   "execution_count": null,
   "metadata": {},
   "outputs": [],
   "source": [
    "df_rast_havasu.selectExpr(\"name\", \"RS_BandAsArray(rast, 1) as band1\", \"RS_BandAsArray(rast, 2) as band2\", \"RS_BandAsArray(rast, 3) as band3\").show(5)"
   ]
  },
  {
   "cell_type": "markdown",
   "metadata": {},
   "source": [
    "## Test Preprocessing for DeepSatV2"
   ]
  },
  {
   "cell_type": "code",
   "execution_count": null,
   "metadata": {},
   "outputs": [],
   "source": [
    "df_extra_features = df_rast_havasu\\\n",
    "    .withColumn(\"band_red\", expr(\"RS_BandAsArray(rast, 4)\"))\\\n",
    "    .withColumn(\"band_green\", expr(\"RS_BandAsArray(rast, 3)\"))\\\n",
    "    .withColumn(\"band_nir\", expr(\"RS_BandAsArray(rast, 8)\"))\\\n",
    "    .withColumn(\"band_swir1\", expr(\"RS_BandAsArray(rast, 12)\"))\\\n",
    "    .withColumn(\"band_swir2\", expr(\"RS_BandAsArray(rast, 13)\"))\\\n",
    "    .withColumn(\"band_ndwi\", expr(\"RS_NormalizedDifference(band_green, band_nir)\"))\\\n",
    "    .withColumn(\"band_mndwi\", expr(\"RS_NormalizedDifference(band_green, band_swir1)\"))\\\n",
    "    .withColumn(\"band_ndmi\", expr(\"RS_NormalizedDifference(band_nir, band_swir1)\"))\\\n",
    "    .withColumn(\"band_ndvi\", expr(\"RS_NormalizedDifference(band_nir, band_red)\"))\\\n",
    "    .withColumn(\"band_awei\", expr(\"RS_Subtract(RS_MultiplyFactor(RS_Subtract(band_green, band_swir1), 4), RS_Add(RS_MultiplyFactor(band_nir, 0.25), RS_MultiplyFactor(band_swir2, 2.75)))\"))\\\n",
    "    .withColumn(\"band_builtup\", expr(\"RS_NormalizedDifference(band_swir1, band_nir)\"))\\\n",
    "    .withColumn(\"band_rvi\", expr(\"RS_Divide(band_nir, RS_LogicalOver(band_red, RS_Array(array_size(band_red), 1e-12)))\"))\\\n",
    "    .selectExpr(\"name\", \"RS_Mean(band_ndwi) as mean_ndwi\", \"RS_Mean(band_mndwi) as mean_mndwi\", \"RS_Mean(band_ndmi) as mean_ndmi\", \"RS_Mean(band_ndvi) as mean_ndvi\", \"RS_Mean(band_awei) as mean_awei\", \"RS_Mean(band_builtup) as mean_builtup\", \"RS_Mean(band_rvi) as mean_rvi\")\n",
    "df_extra_features.show(5)"
   ]
  },
  {
   "cell_type": "code",
   "execution_count": null,
   "metadata": {},
   "outputs": [],
   "source": [
    "df_extra_features = df_rast_havasu\\\n",
    "    .withColumn(\"ndvi\", expr(\"RS_MapAlgebra(rast, 'd', 'out = (rast[3] - rast[7]) / (rast[3] + rast[7]);', null)\"))\\\n",
    "    .withColumn(\"awei\", expr(\"RS_MapAlgebra(rast, 'd', 'out = (0.25 * rast[7] + 2.75 * rast[12]) - 4 * (rast[11] - rast[2]);', null)\"))\\\n",
    "    .withColumn(\"rvi\", expr(\"RS_MapAlgebra(rast, 'd', 'out = rast[7] / max(rast[3], 0.000001);', null)\"))\\\n",
    "    .withColumn(\"mean_ndvi\", expr(\"RS_Mean(RS_BandAsArray(ndvi, 1))\"))\\\n",
    "    .withColumn(\"mean_awei\", expr(\"RS_Mean(RS_BandAsArray(awei, 1))\"))\\\n",
    "    .withColumn(\"mean_rvi\", expr(\"RS_Mean(RS_BandAsArray(rvi, 1))\"))\n",
    "df_extra_features.show(5)"
   ]
  },
  {
   "cell_type": "code",
   "execution_count": null,
   "metadata": {},
   "outputs": [],
   "source": [
    "df_extra_features.where(\"mean_awei > 0.5\").count()"
   ]
  },
  {
   "cell_type": "markdown",
   "metadata": {},
   "source": [
    "# Data Visualization"
   ]
  },
  {
   "cell_type": "markdown",
   "metadata": {},
   "source": [
    "We'll visualize the bounding boxes of the rasters in EuroSAT. Here we can see the importance of handling the CRS of rasters properly.\n",
    "\n",
    "* `df_rast_env` contains envelopes of rasters in EuroSAT\n",
    "* `df_rast_env_srid` contains envelopes of rasters in EuroSAT transformed to CRS:4326 (EPSG:4326 in lon-lat axis order)"
   ]
  },
  {
   "cell_type": "code",
   "execution_count": null,
   "metadata": {},
   "outputs": [],
   "source": [
    "df_rast_env = df_rast_havasu.selectExpr('name', \"RS_Envelope(rast) as env\", \"RS_SRID(rast) as srid\")\n",
    "\n",
    "df_rast_env_4326 = df_rast_havasu.selectExpr('name', \"RS_Envelope(rast) as env\", \"RS_SRID(rast) as srid\")\\\n",
    "    .withColumn(\"env_4326\", expr(\"ST_Transform(env, concat('epsg:', srid), 'epsg:4326')\"))\\\n",
    "    .select(\"name\", \"env_4326\", \"srid\")"
   ]
  },
  {
   "cell_type": "markdown",
   "metadata": {},
   "source": [
    "Now let's plot the datasets. We plot the transformed envelopes of the rasters, and color the geometries by the original SRID of the rasters. We know that the CRS of the rasters are in UTM, so they appears to be grouped by vertical stripes."
   ]
  },
  {
   "cell_type": "code",
   "execution_count": null,
   "metadata": {},
   "outputs": [],
   "source": [
    "rasterMap_4326 = SedonaKepler.create_map()\n",
    "SedonaKepler.add_df(rasterMap_4326, df_rast_env_4326, name=\"raster-bounds\")\n",
    "rasterMap_4326"
   ]
  },
  {
   "cell_type": "markdown",
   "metadata": {},
   "source": [
    "You can see that the rasters in `df_rast_env` are not plotted correctly because the rasters are in various UTM CRS, and it is not meaningful to plot rasters in different CRS together.\n",
    "\n",
    "The reason why plotting the envelopes of rasters without considering their CRS results in a long stripe is that the CRS of the rasters are in UTM, and rasters in different UTM zones have the same coordinate range since they share the same false easting and northing."
   ]
  },
  {
   "cell_type": "code",
   "execution_count": null,
   "metadata": {},
   "outputs": [],
   "source": [
    "gdf_rast_env = df_rast_env.toPandas()\n",
    "gdf_rast_env = gpd.GeoDataFrame(gdf_rast_env, geometry='env')\n",
    "gdf_rast_env['boundary'] = gdf_rast_env.boundary\n",
    "gdf_rast_env.set_geometry('boundary', inplace=True)\n",
    "gdf_rast_env.plot(column='srid')"
   ]
  },
  {
   "cell_type": "markdown",
   "metadata": {},
   "source": [
    "# Use a better partitioner for faster range query"
   ]
  },
  {
   "cell_type": "markdown",
   "metadata": {},
   "source": [
    "Now let's use the H3 cell ID of the centroid of the raster in EPSG:4326 to partition the dataset. This will result in a better partitioning scheme for range query."
   ]
  },
  {
   "cell_type": "code",
   "execution_count": null,
   "metadata": {},
   "outputs": [],
   "source": [
    "df_rast_havasu_h3 = df_rast_havasu\\\n",
    "    .withColumn(\"centroid\", expr(\"ST_Transform(ST_Centroid(RS_Envelope(rast)), concat('epsg:', RS_SRID(rast)), 'epsg:4326')\"))\\\n",
    "    .withColumn(\"h3_cell_id\", expr(\"array_max(ST_H3CellIDs(centroid, 1, false))\"))"
   ]
  },
  {
   "cell_type": "markdown",
   "metadata": {},
   "source": [
    "If we plot the centroid of rasters using different colors for different H3 cell IDs, we can see that the rasters are partitioned into different H3 cells."
   ]
  },
  {
   "cell_type": "code",
   "execution_count": null,
   "metadata": {},
   "outputs": [],
   "source": [
    "gdf_rast_havasu_h3 = gpd.GeoDataFrame(df_rast_havasu_h3.select(\"centroid\", \"h3_cell_id\").toPandas(), geometry='centroid', crs='EPSG:4326')\n",
    "gdf_rast_havasu_h3.plot(column='h3_cell_id', cmap='flag', markersize=1)"
   ]
  },
  {
   "cell_type": "markdown",
   "metadata": {},
   "source": [
    "Now let's save the dataset partitioned by H3 cell ID and reload it."
   ]
  },
  {
   "cell_type": "code",
   "execution_count": null,
   "metadata": {},
   "outputs": [],
   "source": [
    "sedona.sql(\"DROP TABLE IF EXISTS wherobots.test_db.eurosat_ms_h3\")\n",
    "df_rast_havasu_h3.sort(\"h3_cell_id\").write.format(\"havasu.iceberg\").partitionBy(\"h3_cell_id\").saveAsTable(\"wherobots.test_db.eurosat_ms_h3\")"
   ]
  },
  {
   "cell_type": "code",
   "execution_count": null,
   "metadata": {},
   "outputs": [],
   "source": [
    "df_rast_havasu_h3 = sedona.table('wherobots.test_db.eurosat_ms_h3')"
   ]
  },
  {
   "cell_type": "markdown",
   "metadata": {},
   "source": [
    "# Benchmarking Raster Functions"
   ]
  },
  {
   "cell_type": "markdown",
   "metadata": {},
   "source": [
    "This is just a simple benchmark running on EuroSAT dataset. It could give the user a rough idea of how havasu in-db raster performs compared to GeoTiff when processing lots of tiny raster images."
   ]
  },
  {
   "cell_type": "code",
   "execution_count": null,
   "metadata": {},
   "outputs": [],
   "source": [
    "import time\n",
    "\n",
    "def benchmark_query(df_dict, bench_func, num_runs=1):\n",
    "    cost_dict = {}\n",
    "    for name, df in df_dict.items():\n",
    "        print(f\"Running benchmark for {name}\")\n",
    "        cost_dict[name] = []\n",
    "        for i in range(1, num_runs + 1):\n",
    "            print(f\"Run #{i} for {name}\")\n",
    "            start = time.time()\n",
    "            result = bench_func(df)\n",
    "            end = time.time()\n",
    "            cost = end - start\n",
    "            print(f\"Run #{i} for {name} took {cost} seconds, result: {result}\")\n",
    "            cost_dict[name].append(cost)\n",
    "    # print summary\n",
    "    for name, costs in cost_dict.items():\n",
    "        print(f\"Summary for {name} - runs: {len(costs)}, mean: {sum(costs)/len(costs)}, min: {min(costs)}, max: {max(costs)}\")\n",
    "    return cost_dict"
   ]
  },
  {
   "cell_type": "code",
   "execution_count": null,
   "metadata": {},
   "outputs": [],
   "source": [
    "df_dict = {\n",
    "    'havasu': df_rast_havasu,\n",
    "    'havasu_srid': df_rast_havasu_srid,\n",
    "    'havasu_h3': df_rast_havasu_h3,\n",
    "    'geotiff': df_geotiff\n",
    "}"
   ]
  },
  {
   "cell_type": "markdown",
   "metadata": {},
   "source": [
    "## Scanning the entire dataset and extract basic raster properties"
   ]
  },
  {
   "cell_type": "code",
   "execution_count": null,
   "metadata": {},
   "outputs": [],
   "source": [
    "def bench_func(df):\n",
    "    return df.withColumn(\"num_bands\", expr(\"RS_NumBands(rast)\")).where(\"num_bands IS NOT NULL\").count()\n",
    "\n",
    "benchmark_query(df_dict, bench_func, num_runs=1)"
   ]
  },
  {
   "cell_type": "markdown",
   "metadata": {},
   "source": [
    "## Scanning the entire dataset and extract bands"
   ]
  },
  {
   "cell_type": "code",
   "execution_count": null,
   "metadata": {},
   "outputs": [],
   "source": [
    "def bench_func(df):\n",
    "    return df.selectExpr(\"name\", \"RS_BandAsArray(rast, 1) as band1\", \"RS_BandAsArray(rast, 2) as band2\")\\\n",
    "        .selectExpr(\"RS_NormalizedDifference(band1, band2) as band_nd\")\\\n",
    "        .where(\"array_size(band_nd) > 0\")\\\n",
    "        .count()\n",
    "\n",
    "benchmark_query(df_dict, bench_func, num_runs=1)"
   ]
  },
  {
   "cell_type": "markdown",
   "metadata": {},
   "source": [
    "## Scanning the entire dataset and extract pixel values"
   ]
  },
  {
   "cell_type": "code",
   "execution_count": null,
   "metadata": {},
   "outputs": [],
   "source": [
    "def bench_func(df):\n",
    "    return df.selectExpr(\"RS_Value(rast, ST_Centroid(RS_Envelope(rast))) as centroid_val\")\\\n",
    "        .where(\"centroid_val IS NOT NULL\")\\\n",
    "        .count()\n",
    "    \n",
    "benchmark_query(df_dict, bench_func, num_runs=1)"
   ]
  },
  {
   "cell_type": "markdown",
   "metadata": {},
   "source": [
    "## Range query"
   ]
  },
  {
   "cell_type": "markdown",
   "metadata": {},
   "source": [
    "We run several range queries on the EuroSAT dataset using the following query windows. The query windows were specified as rectangles in EPSG:4326."
   ]
  },
  {
   "cell_type": "code",
   "execution_count": null,
   "metadata": {},
   "outputs": [],
   "source": [
    "query_windows = {\n",
    "    'spain_madrid': 'ST_SetSRID(ST_PolygonFromEnvelope(-4.7803,39.5882, -2.7782,40.9276), 4326)',\n",
    "    'cesko_praha': 'ST_SetSRID(ST_PolygonFromEnvelope(13.2747,49.2297, 16.3189,51.0516), 4326)',\n",
    "    'france_paris': 'ST_SetSRID(ST_PolygonFromEnvelope(1.299,48.156, 3.566,49.575), 4326)',\n",
    "}"
   ]
  },
  {
   "cell_type": "code",
   "execution_count": null,
   "metadata": {},
   "outputs": [],
   "source": [
    "def bench_query_func(df, qw_expr):\n",
    "    return df.where(f\"RS_Intersects(rast, {qw_expr})\").count()\n",
    "\n",
    "for qw_name, qw_exr in query_windows.items():\n",
    "    print(f\"Running benchmark using query window {qw_name}\")\n",
    "    benchmark_query(df_dict, lambda df: bench_query_func(df, qw_exr), num_runs=1)"
   ]
  },
  {
   "cell_type": "code",
   "execution_count": null,
   "metadata": {},
   "outputs": [],
   "source": []
  }
 ],
 "metadata": {
  "kernelspec": {
   "display_name": "Python 3 (ipykernel)",
   "language": "python",
   "name": "python3"
  },
  "language_info": {
   "codemirror_mode": {
    "name": "ipython",
    "version": 3
   },
   "file_extension": ".py",
   "mimetype": "text/x-python",
   "name": "python",
   "nbconvert_exporter": "python",
   "pygments_lexer": "ipython3",
   "version": "3.10.11"
  }
 },
 "nbformat": 4,
 "nbformat_minor": 4
}
