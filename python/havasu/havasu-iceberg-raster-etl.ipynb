{
 "cells": [
  {
   "cell_type": "markdown",
   "metadata": {},
   "source": [
    "![](https://wherobots.com/wp-content/uploads/2023/12/Inline-Blue_Black_onWhite@3x.png)\n",
    "\n",
    "# Havasu Raster ETL example\n",
    "\n",
    "In this example we demonstrate:\n",
    "\n",
    "* working with the EuroSAT raster dataset as Havasu tables\n",
    "* raster opertions \n",
    "* handling CRS transforms, and \n",
    "* benchmarking raster geometry operations\n",
    "\n",
    "\n",
    "Read more about [Havasu](https://docs.wherobots.com/latest/references/havasu/introduction/), and [WherobotsDB Raster support](https://docs.wherobots.com/latest/references/havasu/raster/raster-overview/) in the documentation."
   ]
  },
  {
   "cell_type": "markdown",
   "metadata": {},
   "source": [
    "# Launch Spark Job"
   ]
  },
  {
   "cell_type": "code",
   "execution_count": 28,
   "metadata": {},
   "outputs": [],
   "source": [
    "from pyspark.sql import SparkSession\n",
    "from pyspark.sql.functions import expr, col\n",
    "from sedona.spark import *\n",
    "import geopandas as gpd"
   ]
  },
  {
   "cell_type": "markdown",
   "metadata": {},
   "source": [
    "# Define sedona context"
   ]
  },
  {
   "cell_type": "code",
   "execution_count": 2,
   "metadata": {},
   "outputs": [
    {
     "name": "stderr",
     "output_type": "stream",
     "text": [
      "Warning: Ignoring non-Spark config property: fs.s3a.aws.credentials.provider\n",
      "23/10/13 06:26:19 WARN NativeCodeLoader: Unable to load native-hadoop library for your platform... using builtin-java classes where applicable\n",
      "Setting default log level to \"WARN\".\n",
      "To adjust logging level use sc.setLogLevel(newLevel). For SparkR, use setLogLevel(newLevel).\n",
      "23/10/13 06:26:22 WARN MetricsConfig: Cannot locate configuration: tried hadoop-metrics2-s3a-file-system.properties,hadoop-metrics2.properties\n",
      "23/10/13 06:26:23 WARN S3ABlockOutputStream: Application invoked the Syncable API against stream writing to pvoaenkhn3/spark-logs/spark-252601722a3e4a238860d399d6d7b915.inprogress. This is unsupported\n"
     ]
    }
   ],
   "source": [
    "config = SedonaContext.builder().appName('havasu-iceberg-raster-etl')\\\n",
    "    .config(\"spark.hadoop.fs.s3a.bucket.wherobots-examples.aws.credentials.provider\",\"org.apache.hadoop.fs.s3a.AnonymousAWSCredentialsProvider\")\\\n",
    "    .getOrCreate()\n",
    "sedona = SedonaContext.create(config)"
   ]
  },
  {
   "cell_type": "markdown",
   "metadata": {},
   "source": [
    "# Load Raster Datasets"
   ]
  },
  {
   "cell_type": "markdown",
   "metadata": {},
   "source": [
    "## EuroSAT"
   ]
  },
  {
   "cell_type": "code",
   "execution_count": 31,
   "metadata": {},
   "outputs": [
    {
     "name": "stdout",
     "output_type": "stream",
     "text": [
      "+-----------------+------+---------------------------------------------------------------------------------------------------------------------------------------------------------------------------------------------------+\n",
      "|name             |length|rast                                                                                                                                                                                               |\n",
      "+-----------------+------+---------------------------------------------------------------------------------------------------------------------------------------------------------------------------------------------------+\n",
      "|AnnualCrop_1.tif |107244|GridCoverage2D[\"\", GeneralEnvelope[(624602.2348443292, 4876646.4119986), (625242.6000851067, 4877286.033637)], DefaultProjectedCRS[\"WGS 84 / UTM zone 35N\"]]\\n└ Image=RenderedImageAdapter[]\\n     |\n",
      "|AnnualCrop_10.tif|107244|GridCoverage2D[\"\", GeneralEnvelope[(600895.0021822372, 4326629.904506601), (601535.0190696092, 4327269.855440698)], DefaultProjectedCRS[\"WGS 84 / UTM zone 30N\"]]\\n└ Image=RenderedImageAdapter[]\\n|\n",
      "|AnnualCrop_11.tif|107244|GridCoverage2D[\"\", GeneralEnvelope[(499983.561707, 5572656.981119086), (500624.1524388803, 5573298.11984326)], DefaultProjectedCRS[\"WGS 84 / UTM zone 31N\"]]\\n└ Image=RenderedImageAdapter[]\\n     |\n",
      "|AnnualCrop_12.tif|107244|GridCoverage2D[\"\", GeneralEnvelope[(577311.3713245124, 4829760.81485602), (577950.9735523309, 4830400.12070767)], DefaultProjectedCRS[\"WGS 84 / UTM zone 35N\"]]\\n└ Image=RenderedImageAdapter[]\\n  |\n",
      "|AnnualCrop_13.tif|107244|GridCoverage2D[\"\", GeneralEnvelope[(595596.768651201, 5411665.789138958), (596237.4418156077, 5412305.989125625)], DefaultProjectedCRS[\"WGS 84 / UTM zone 31N\"]]\\n└ Image=RenderedImageAdapter[]\\n |\n",
      "+-----------------+------+---------------------------------------------------------------------------------------------------------------------------------------------------------------------------------------------------+\n",
      "only showing top 5 rows\n",
      "\n"
     ]
    },
    {
     "name": "stderr",
     "output_type": "stream",
     "text": [
      "                                                                                \r"
     ]
    }
   ],
   "source": [
    "eurosat_path = 's3://wherobots-examples/data/eurosat_small'\n",
    "df_binary = sedona.read.format(\"binaryFile\").option(\"pathGlobFilter\", \"*.tif\").option(\"recursiveFileLookup\", \"true\").load(eurosat_path)\n",
    "df_geotiff = df_binary.withColumn(\"rast\", expr(\"RS_FromGeoTiff(content)\")).withColumn(\"name\", expr(\"reverse(split(path, '/'))[0]\")).select(\"name\", \"length\", \"rast\")\n",
    "df_geotiff.show(5, False)"
   ]
  },
  {
   "cell_type": "markdown",
   "metadata": {},
   "source": [
    "# Save Raster Datasets to Havasu"
   ]
  },
  {
   "cell_type": "code",
   "execution_count": 32,
   "metadata": {},
   "outputs": [
    {
     "name": "stderr",
     "output_type": "stream",
     "text": [
      "                                                                                \r"
     ]
    }
   ],
   "source": [
    "sedona.sql(\"CREATE NAMESPACE IF NOT EXISTS wherobots.test_db\")\n",
    "sedona.sql(\"DROP TABLE IF EXISTS wherobots.test_db.eurosat_ms\")\n",
    "df_geotiff.coalesce(16).writeTo(\"wherobots.test_db.eurosat_ms\").create()"
   ]
  },
  {
   "cell_type": "markdown",
   "metadata": {},
   "source": [
    "## Save another copy of EuroSAT partitioned by SRID"
   ]
  },
  {
   "cell_type": "code",
   "execution_count": 33,
   "metadata": {},
   "outputs": [
    {
     "name": "stderr",
     "output_type": "stream",
     "text": [
      "                                                                                \r"
     ]
    }
   ],
   "source": [
    "sedona.sql(\"DROP TABLE IF EXISTS wherobots.test_db.eurosat_ms_srid\")\n",
    "df_rast_havasu = sedona.table(\"wherobots.test_db.eurosat_ms\")\n",
    "df_rast_havasu.withColumn(\"srid\", expr(\"RS_SRID(rast) as srid\"))\\\n",
    "    .sort('srid')\\\n",
    "    .write.format(\"havasu.iceberg\").partitionBy(\"srid\")\\\n",
    "    .saveAsTable(\"wherobots.test_db.eurosat_ms_srid\")"
   ]
  },
  {
   "cell_type": "markdown",
   "metadata": {},
   "source": [
    "## Reload Havasu Rasters"
   ]
  },
  {
   "cell_type": "code",
   "execution_count": 34,
   "metadata": {},
   "outputs": [],
   "source": [
    "df_rast_havasu = sedona.table(\"wherobots.test_db.eurosat_ms\")\n",
    "df_rast_havasu_srid = sedona.table('wherobots.test_db.eurosat_ms_srid')"
   ]
  },
  {
   "cell_type": "markdown",
   "metadata": {},
   "source": [
    "# Test Raster Functions"
   ]
  },
  {
   "cell_type": "markdown",
   "metadata": {},
   "source": [
    "## Test Basic Raster Property Accessors"
   ]
  },
  {
   "cell_type": "code",
   "execution_count": 35,
   "metadata": {},
   "outputs": [
    {
     "name": "stdout",
     "output_type": "stream",
     "text": [
      "+-----------------+--------------------+--------------------+\n",
      "|             name|                 env|                meta|\n",
      "+-----------------+--------------------+--------------------+\n",
      "| AnnualCrop_1.tif|POLYGON ((624602....|[624602.234844329...|\n",
      "|AnnualCrop_10.tif|POLYGON ((600895....|[600895.002182237...|\n",
      "|AnnualCrop_11.tif|POLYGON ((499983....|[499983.561707, 5...|\n",
      "|AnnualCrop_12.tif|POLYGON ((577311....|[577311.371324512...|\n",
      "|AnnualCrop_13.tif|POLYGON ((595596....|[595596.768651201...|\n",
      "+-----------------+--------------------+--------------------+\n",
      "only showing top 5 rows\n",
      "\n"
     ]
    }
   ],
   "source": [
    "df_rast_havasu.selectExpr(\"name\", \"RS_Envelope(rast) as env\", \"RS_Metadata(rast) as meta\").show(5)"
   ]
  },
  {
   "cell_type": "markdown",
   "metadata": {},
   "source": [
    "## Test Pixel Data Accessors"
   ]
  },
  {
   "cell_type": "code",
   "execution_count": 36,
   "metadata": {},
   "outputs": [
    {
     "name": "stdout",
     "output_type": "stream",
     "text": [
      "+-----------------+------------+\n",
      "|name             |centroid_val|\n",
      "+-----------------+------------+\n",
      "|AnnualCrop_1.tif |1343.0      |\n",
      "|AnnualCrop_10.tif|1113.0      |\n",
      "|AnnualCrop_11.tif|1776.0      |\n",
      "|AnnualCrop_12.tif|1202.0      |\n",
      "|AnnualCrop_13.tif|1364.0      |\n",
      "+-----------------+------------+\n",
      "only showing top 5 rows\n",
      "\n"
     ]
    }
   ],
   "source": [
    "df_rast_havasu.selectExpr(\"name\", \"RS_Value(rast, ST_Centroid(RS_Envelope(rast))) as centroid_val\").show(5, False)"
   ]
  },
  {
   "cell_type": "markdown",
   "metadata": {},
   "source": [
    "## Test Band Accessors"
   ]
  },
  {
   "cell_type": "code",
   "execution_count": 37,
   "metadata": {},
   "outputs": [
    {
     "name": "stdout",
     "output_type": "stream",
     "text": [
      "+-----------------+--------------------+--------------------+--------------------+\n",
      "|             name|               band1|               band2|               band3|\n",
      "+-----------------+--------------------+--------------------+--------------------+\n",
      "| AnnualCrop_1.tif|[1420.0, 1420.0, ...|[1291.0, 1291.0, ...|[1291.0, 1291.0, ...|\n",
      "|AnnualCrop_10.tif|[1133.0, 1133.0, ...|[902.0, 902.0, 90...|[1046.0, 1046.0, ...|\n",
      "|AnnualCrop_11.tif|[1773.0, 1773.0, ...|[1325.0, 1325.0, ...|[901.0, 901.0, 87...|\n",
      "|AnnualCrop_12.tif|[1388.0, 1388.0, ...|[1311.0, 1311.0, ...|[1360.0, 1360.0, ...|\n",
      "|AnnualCrop_13.tif|[1650.0, 1650.0, ...|[1745.0, 1745.0, ...|[1833.0, 1833.0, ...|\n",
      "+-----------------+--------------------+--------------------+--------------------+\n",
      "only showing top 5 rows\n",
      "\n"
     ]
    }
   ],
   "source": [
    "df_rast_havasu.selectExpr(\"name\", \"RS_BandAsArray(rast, 1) as band1\", \"RS_BandAsArray(rast, 2) as band2\", \"RS_BandAsArray(rast, 3) as band3\").show(5)"
   ]
  },
  {
   "cell_type": "markdown",
   "metadata": {},
   "source": [
    "## Test Preprocessing for DeepSatV2"
   ]
  },
  {
   "cell_type": "code",
   "execution_count": 38,
   "metadata": {},
   "outputs": [
    {
     "name": "stdout",
     "output_type": "stream",
     "text": [
      "+-----------------+----------------+-----------------+-----------------+-----------------+-----------------+-----------------+----------------+\n",
      "|             name|       mean_ndwi|       mean_mndwi|        mean_ndmi|        mean_ndvi|        mean_awei|     mean_builtup|        mean_rvi|\n",
      "+-----------------+----------------+-----------------+-----------------+-----------------+-----------------+-----------------+----------------+\n",
      "| AnnualCrop_1.tif|0.24019287109375|  0.3056591796875|   0.068935546875|-0.18885009765625|2276.625732421875|-0.06893310546875| 1.5046044921875|\n",
      "|AnnualCrop_10.tif|0.53470947265625|-0.03570068359375|-0.47993408203125|-0.56128662109375|11558.86083984375|  0.4799365234375|5.65989990234375|\n",
      "|AnnualCrop_11.tif|  0.158486328125|-0.17229248046875| -0.3105517578125|   -0.22107421875|6362.411376953125| 0.31055908203125|  1.869560546875|\n",
      "|AnnualCrop_12.tif|   0.42466796875| 0.01308837890625|   -0.40275390625| -0.5088330078125|8556.160217285156|  0.4027587890625| 3.4891455078125|\n",
      "|AnnualCrop_13.tif| 0.3910205078125| 0.10231201171875|-0.28474365234375|-0.39878662109375|9309.597717285156|    0.28474609375|  3.078212890625|\n",
      "+-----------------+----------------+-----------------+-----------------+-----------------+-----------------+-----------------+----------------+\n",
      "only showing top 5 rows\n",
      "\n"
     ]
    }
   ],
   "source": [
    "df_extra_features = df_rast_havasu\\\n",
    "    .withColumn(\"band_red\", expr(\"RS_BandAsArray(rast, 4)\"))\\\n",
    "    .withColumn(\"band_green\", expr(\"RS_BandAsArray(rast, 3)\"))\\\n",
    "    .withColumn(\"band_nir\", expr(\"RS_BandAsArray(rast, 8)\"))\\\n",
    "    .withColumn(\"band_swir1\", expr(\"RS_BandAsArray(rast, 12)\"))\\\n",
    "    .withColumn(\"band_swir2\", expr(\"RS_BandAsArray(rast, 13)\"))\\\n",
    "    .withColumn(\"band_ndwi\", expr(\"RS_NormalizedDifference(band_green, band_nir)\"))\\\n",
    "    .withColumn(\"band_mndwi\", expr(\"RS_NormalizedDifference(band_green, band_swir1)\"))\\\n",
    "    .withColumn(\"band_ndmi\", expr(\"RS_NormalizedDifference(band_nir, band_swir1)\"))\\\n",
    "    .withColumn(\"band_ndvi\", expr(\"RS_NormalizedDifference(band_nir, band_red)\"))\\\n",
    "    .withColumn(\"band_awei\", expr(\"RS_Subtract(RS_MultiplyFactor(RS_Subtract(band_green, band_swir1), 4), RS_Add(RS_MultiplyFactor(band_nir, 0.25), RS_MultiplyFactor(band_swir2, 2.75)))\"))\\\n",
    "    .withColumn(\"band_builtup\", expr(\"RS_NormalizedDifference(band_swir1, band_nir)\"))\\\n",
    "    .withColumn(\"band_rvi\", expr(\"RS_Divide(band_nir, RS_LogicalOver(band_red, RS_Array(array_size(band_red), 1e-12)))\"))\\\n",
    "    .selectExpr(\"name\", \"RS_Mean(band_ndwi) as mean_ndwi\", \"RS_Mean(band_mndwi) as mean_mndwi\", \"RS_Mean(band_ndmi) as mean_ndmi\", \"RS_Mean(band_ndvi) as mean_ndvi\", \"RS_Mean(band_awei) as mean_awei\", \"RS_Mean(band_builtup) as mean_builtup\", \"RS_Mean(band_rvi) as mean_rvi\")\n",
    "df_extra_features.show(5)"
   ]
  },
  {
   "cell_type": "code",
   "execution_count": 39,
   "metadata": {},
   "outputs": [
    {
     "name": "stdout",
     "output_type": "stream",
     "text": [
      "+-----------------+------+--------------------+--------------------+--------------------+--------------------+--------------------+-----------------+------------------+\n",
      "|             name|length|                rast|                ndvi|                awei|                 rvi|           mean_ndvi|        mean_awei|          mean_rvi|\n",
      "+-----------------+------+--------------------+--------------------+--------------------+--------------------+--------------------+-----------------+------------------+\n",
      "| AnnualCrop_1.tif|107244|GridCoverage2D[\"\"...|GridCoverage2D[\"\"...|GridCoverage2D[\"\"...|GridCoverage2D[\"\"...|-0.18884719739670083|2276.625732421875|1.5045622201750313|\n",
      "|AnnualCrop_10.tif|107244|GridCoverage2D[\"\"...|GridCoverage2D[\"\"...|GridCoverage2D[\"\"...|GridCoverage2D[\"\"...| -0.5613203012338317|11558.86083984375| 5.659844075934628|\n",
      "|AnnualCrop_11.tif|107244|GridCoverage2D[\"\"...|GridCoverage2D[\"\"...|GridCoverage2D[\"\"...|GridCoverage2D[\"\"...|-0.22102594667106096|6362.411376953125|1.8695720899424275|\n",
      "|AnnualCrop_12.tif|107244|GridCoverage2D[\"\"...|GridCoverage2D[\"\"...|GridCoverage2D[\"\"...|GridCoverage2D[\"\"...| -0.5087304511721737|8556.160217285156|3.4891323388875173|\n",
      "|AnnualCrop_13.tif|107244|GridCoverage2D[\"\"...|GridCoverage2D[\"\"...|GridCoverage2D[\"\"...|GridCoverage2D[\"\"...| -0.3987507694364977|9309.597717285156|3.0782643901580866|\n",
      "+-----------------+------+--------------------+--------------------+--------------------+--------------------+--------------------+-----------------+------------------+\n",
      "only showing top 5 rows\n",
      "\n"
     ]
    }
   ],
   "source": [
    "df_extra_features = df_rast_havasu\\\n",
    "    .withColumn(\"ndvi\", expr(\"RS_MapAlgebra(rast, 'd', 'out = (rast[3] - rast[7]) / (rast[3] + rast[7]);', null)\"))\\\n",
    "    .withColumn(\"awei\", expr(\"RS_MapAlgebra(rast, 'd', 'out = (0.25 * rast[7] + 2.75 * rast[12]) - 4 * (rast[11] - rast[2]);', null)\"))\\\n",
    "    .withColumn(\"rvi\", expr(\"RS_MapAlgebra(rast, 'd', 'out = rast[7] / max(rast[3], 0.000001);', null)\"))\\\n",
    "    .withColumn(\"mean_ndvi\", expr(\"RS_Mean(RS_BandAsArray(ndvi, 1))\"))\\\n",
    "    .withColumn(\"mean_awei\", expr(\"RS_Mean(RS_BandAsArray(awei, 1))\"))\\\n",
    "    .withColumn(\"mean_rvi\", expr(\"RS_Mean(RS_BandAsArray(rvi, 1))\"))\n",
    "df_extra_features.show(5)"
   ]
  },
  {
   "cell_type": "code",
   "execution_count": 40,
   "metadata": {},
   "outputs": [
    {
     "name": "stderr",
     "output_type": "stream",
     "text": [
      "                                                                                \r"
     ]
    },
    {
     "data": {
      "text/plain": [
       "200"
      ]
     },
     "execution_count": 40,
     "metadata": {},
     "output_type": "execute_result"
    }
   ],
   "source": [
    "df_extra_features.where(\"mean_awei > 0.5\").count()"
   ]
  },
  {
   "cell_type": "markdown",
   "metadata": {},
   "source": [
    "# Data Visualization"
   ]
  },
  {
   "cell_type": "markdown",
   "metadata": {},
   "source": [
    "We'll visualize the bounding boxes of the rasters in EuroSAT. Here we can see the importance of handling the CRS of rasters properly.\n",
    "\n",
    "* `df_rast_env` contains envelopes of rasters in EuroSAT\n",
    "* `df_rast_env_srid` contains envelopes of rasters in EuroSAT transformed to CRS:4326 (EPSG:4326 in lon-lat axis order)"
   ]
  },
  {
   "cell_type": "code",
   "execution_count": 41,
   "metadata": {},
   "outputs": [],
   "source": [
    "df_rast_env = df_rast_havasu.selectExpr('name', \"RS_Envelope(rast) as env\", \"RS_SRID(rast) as srid\")\n",
    "\n",
    "df_rast_env_4326 = df_rast_havasu.selectExpr('name', \"RS_Envelope(rast) as env\", \"RS_SRID(rast) as srid\")\\\n",
    "    .withColumn(\"env_4326\", expr(\"ST_Transform(env, concat('epsg:', srid), 'epsg:4326')\"))\\\n",
    "    .select(\"name\", \"env_4326\", \"srid\")"
   ]
  },
  {
   "cell_type": "markdown",
   "metadata": {},
   "source": [
    "Now let's plot the datasets. We plot the transformed envelopes of the rasters, and color the geometries by the original SRID of the rasters. We know that the CRS of the rasters are in UTM, so they appears to be grouped by vertical stripes."
   ]
  },
  {
   "cell_type": "code",
   "execution_count": 42,
   "metadata": {},
   "outputs": [
    {
     "name": "stdout",
     "output_type": "stream",
     "text": [
      "User Guide: https://docs.kepler.gl/docs/keplergl-jupyter\n"
     ]
    },
    {
     "name": "stderr",
     "output_type": "stream",
     "text": [
      "                                                                                \r"
     ]
    },
    {
     "data": {
      "application/vnd.jupyter.widget-view+json": {
       "model_id": "5408183b0d0f454b8b6c2dba9c313247",
       "version_major": 2,
       "version_minor": 0
      },
      "text/plain": [
       "KeplerGl(data={'raster-bounds': {'index': [0, 1, 2, 3, 4, 5, 6, 7, 8, 9, 10, 11, 12, 13, 14, 15, 16, 17, 18, 1…"
      ]
     },
     "metadata": {},
     "output_type": "display_data"
    }
   ],
   "source": [
    "rasterMap_4326 = SedonaKepler.create_map()\n",
    "SedonaKepler.add_df(rasterMap_4326, df_rast_env_4326, name=\"raster-bounds\")\n",
    "rasterMap_4326"
   ]
  },
  {
   "cell_type": "markdown",
   "metadata": {},
   "source": [
    "You can see that the rasters in `df_rast_env` are not plotted correctly because the rasters are in various UTM CRS, and it is not meaningful to plot rasters in different CRS together.\n",
    "\n",
    "The reason why plotting the envelopes of rasters without considering their CRS results in a long stripe is that the CRS of the rasters are in UTM, and rasters in different UTM zones have the same coordinate range since they share the same false easting and northing."
   ]
  },
  {
   "cell_type": "code",
   "execution_count": 43,
   "metadata": {},
   "outputs": [
    {
     "name": "stderr",
     "output_type": "stream",
     "text": [
      "                                                                                \r"
     ]
    },
    {
     "data": {
      "text/plain": [
       "<Axes: >"
      ]
     },
     "execution_count": 43,
     "metadata": {},
     "output_type": "execute_result"
    },
    {
     "data": {
      "image/png": "[encoded data removed]",
      "text/plain": [
       "<Figure size 640x480 with 1 Axes>"
      ]
     },
     "metadata": {},
     "output_type": "display_data"
    }
   ],
   "source": [
    "gdf_rast_env = df_rast_env.toPandas()\n",
    "gdf_rast_env = gpd.GeoDataFrame(gdf_rast_env, geometry='env')\n",
    "gdf_rast_env['boundary'] = gdf_rast_env.boundary\n",
    "gdf_rast_env.set_geometry('boundary', inplace=True)\n",
    "gdf_rast_env.plot(column='srid')"
   ]
  },
  {
   "cell_type": "markdown",
   "metadata": {},
   "source": [
    "# Use a better partitioner for faster range query"
   ]
  },
  {
   "cell_type": "markdown",
   "metadata": {},
   "source": [
    "Now let's use the H3 cell ID of the centroid of the raster in EPSG:4326 to partition the dataset. This will result in a better partitioning scheme for range query."
   ]
  },
  {
   "cell_type": "code",
   "execution_count": 45,
   "metadata": {},
   "outputs": [],
   "source": [
    "df_rast_havasu_h3 = df_rast_havasu\\\n",
    "    .withColumn(\"centroid\", expr(\"ST_Transform(ST_Centroid(RS_Envelope(rast)), concat('epsg:', RS_SRID(rast)), 'epsg:4326')\"))\\\n",
    "    .withColumn(\"h3_cell_id\", expr(\"array_max(ST_H3CellIDs(centroid, 1, false))\"))"
   ]
  },
  {
   "cell_type": "markdown",
   "metadata": {},
   "source": [
    "If we plot the centroid of rasters using different colors for different H3 cell IDs, we can see that the rasters are partitioned into different H3 cells."
   ]
  },
  {
   "cell_type": "code",
   "execution_count": 46,
   "metadata": {},
   "outputs": [
    {
     "name": "stderr",
     "output_type": "stream",
     "text": [
      "                                                                                \r"
     ]
    },
    {
     "data": {
      "text/plain": [
       "<Axes: >"
      ]
     },
     "execution_count": 46,
     "metadata": {},
     "output_type": "execute_result"
    },
    {
     "data": {
      "image/png": "[encoded data removed]",
      "text/plain": [
       "<Figure size 640x480 with 1 Axes>"
      ]
     },
     "metadata": {},
     "output_type": "display_data"
    }
   ],
   "source": [
    "gdf_rast_havasu_h3 = gpd.GeoDataFrame(df_rast_havasu_h3.select(\"centroid\", \"h3_cell_id\").toPandas(), geometry='centroid', crs='EPSG:4326')\n",
    "gdf_rast_havasu_h3.plot(column='h3_cell_id', cmap='flag', markersize=1)"
   ]
  },
  {
   "cell_type": "markdown",
   "metadata": {},
   "source": [
    "Now let's save the dataset partitioned by H3 cell ID and reload it."
   ]
  },
  {
   "cell_type": "code",
   "execution_count": 47,
   "metadata": {},
   "outputs": [
    {
     "name": "stderr",
     "output_type": "stream",
     "text": [
      "                                                                                \r"
     ]
    }
   ],
   "source": [
    "sedona.sql(\"DROP TABLE IF EXISTS wherobots.test_db.eurosat_ms_h3\")\n",
    "df_rast_havasu_h3.sort(\"h3_cell_id\").write.format(\"havasu.iceberg\").partitionBy(\"h3_cell_id\").saveAsTable(\"wherobots.test_db.eurosat_ms_h3\")"
   ]
  },
  {
   "cell_type": "code",
   "execution_count": 48,
   "metadata": {},
   "outputs": [],
   "source": [
    "df_rast_havasu_h3 = sedona.table('wherobots.test_db.eurosat_ms_h3')"
   ]
  },
  {
   "cell_type": "markdown",
   "metadata": {},
   "source": [
    "# Benchmarking Raster Functions"
   ]
  },
  {
   "cell_type": "markdown",
   "metadata": {},
   "source": [
    "This is just a simple benchmark running on EuroSAT dataset. It could give the user a rough idea of how havasu in-db raster performs compared to GeoTiff when processing lots of tiny raster images."
   ]
  },
  {
   "cell_type": "code",
   "execution_count": 49,
   "metadata": {},
   "outputs": [],
   "source": [
    "import time\n",
    "\n",
    "def benchmark_query(df_dict, bench_func, num_runs=1):\n",
    "    cost_dict = {}\n",
    "    for name, df in df_dict.items():\n",
    "        print(f\"Running benchmark for {name}\")\n",
    "        cost_dict[name] = []\n",
    "        for i in range(1, num_runs + 1):\n",
    "            print(f\"Run #{i} for {name}\")\n",
    "            start = time.time()\n",
    "            result = bench_func(df)\n",
    "            end = time.time()\n",
    "            cost = end - start\n",
    "            print(f\"Run #{i} for {name} took {cost} seconds, result: {result}\")\n",
    "            cost_dict[name].append(cost)\n",
    "    # print summary\n",
    "    for name, costs in cost_dict.items():\n",
    "        print(f\"Summary for {name} - runs: {len(costs)}, mean: {sum(costs)/len(costs)}, min: {min(costs)}, max: {max(costs)}\")\n",
    "    return cost_dict"
   ]
  },
  {
   "cell_type": "code",
   "execution_count": 50,
   "metadata": {},
   "outputs": [],
   "source": [
    "df_dict = {\n",
    "    'havasu': df_rast_havasu,\n",
    "    'havasu_srid': df_rast_havasu_srid,\n",
    "    'havasu_h3': df_rast_havasu_h3,\n",
    "    'geotiff': df_geotiff\n",
    "}"
   ]
  },
  {
   "cell_type": "markdown",
   "metadata": {},
   "source": [
    "## Scanning the entire dataset and extract basic raster properties"
   ]
  },
  {
   "cell_type": "code",
   "execution_count": 51,
   "metadata": {},
   "outputs": [
    {
     "name": "stdout",
     "output_type": "stream",
     "text": [
      "Running benchmark for havasu\n",
      "Run #1 for havasu\n"
     ]
    },
    {
     "name": "stderr",
     "output_type": "stream",
     "text": [
      "                                                                                \r"
     ]
    },
    {
     "name": "stdout",
     "output_type": "stream",
     "text": [
      "Run #1 for havasu took 1.2383785247802734 seconds, result: 200\n",
      "Running benchmark for havasu_srid\n",
      "Run #1 for havasu_srid\n"
     ]
    },
    {
     "name": "stderr",
     "output_type": "stream",
     "text": [
      "                                                                                \r"
     ]
    },
    {
     "name": "stdout",
     "output_type": "stream",
     "text": [
      "Run #1 for havasu_srid took 2.4093034267425537 seconds, result: 200\n",
      "Running benchmark for havasu_h3\n",
      "Run #1 for havasu_h3\n"
     ]
    },
    {
     "name": "stderr",
     "output_type": "stream",
     "text": [
      "                                                                                \r"
     ]
    },
    {
     "name": "stdout",
     "output_type": "stream",
     "text": [
      "Run #1 for havasu_h3 took 2.278440475463867 seconds, result: 200\n",
      "Running benchmark for geotiff\n",
      "Run #1 for geotiff\n"
     ]
    },
    {
     "name": "stderr",
     "output_type": "stream",
     "text": [
      "[Stage 70:=================================================>        (6 + 1) / 7]\r"
     ]
    },
    {
     "name": "stdout",
     "output_type": "stream",
     "text": [
      "Run #1 for geotiff took 23.893847465515137 seconds, result: 200\n",
      "Summary for havasu - runs: 1, mean: 1.2383785247802734, min: 1.2383785247802734, max: 1.2383785247802734\n",
      "Summary for havasu_srid - runs: 1, mean: 2.4093034267425537, min: 2.4093034267425537, max: 2.4093034267425537\n",
      "Summary for havasu_h3 - runs: 1, mean: 2.278440475463867, min: 2.278440475463867, max: 2.278440475463867\n",
      "Summary for geotiff - runs: 1, mean: 23.893847465515137, min: 23.893847465515137, max: 23.893847465515137\n"
     ]
    },
    {
     "name": "stderr",
     "output_type": "stream",
     "text": [
      "                                                                                \r"
     ]
    },
    {
     "data": {
      "text/plain": [
       "{'havasu': [1.2383785247802734],\n",
       " 'havasu_srid': [2.4093034267425537],\n",
       " 'havasu_h3': [2.278440475463867],\n",
       " 'geotiff': [23.893847465515137]}"
      ]
     },
     "execution_count": 51,
     "metadata": {},
     "output_type": "execute_result"
    }
   ],
   "source": [
    "def bench_func(df):\n",
    "    return df.withColumn(\"num_bands\", expr(\"RS_NumBands(rast)\")).where(\"num_bands IS NOT NULL\").count()\n",
    "\n",
    "benchmark_query(df_dict, bench_func, num_runs=1)"
   ]
  },
  {
   "cell_type": "markdown",
   "metadata": {},
   "source": [
    "## Scanning the entire dataset and extract bands"
   ]
  },
  {
   "cell_type": "code",
   "execution_count": 52,
   "metadata": {},
   "outputs": [
    {
     "name": "stdout",
     "output_type": "stream",
     "text": [
      "Running benchmark for havasu\n",
      "Run #1 for havasu\n"
     ]
    },
    {
     "name": "stderr",
     "output_type": "stream",
     "text": [
      "                                                                                \r"
     ]
    },
    {
     "name": "stdout",
     "output_type": "stream",
     "text": [
      "Run #1 for havasu took 1.517106056213379 seconds, result: 200\n",
      "Running benchmark for havasu_srid\n",
      "Run #1 for havasu_srid\n"
     ]
    },
    {
     "name": "stderr",
     "output_type": "stream",
     "text": [
      "                                                                                \r"
     ]
    },
    {
     "name": "stdout",
     "output_type": "stream",
     "text": [
      "Run #1 for havasu_srid took 2.2840769290924072 seconds, result: 200\n",
      "Running benchmark for havasu_h3\n",
      "Run #1 for havasu_h3\n"
     ]
    },
    {
     "name": "stderr",
     "output_type": "stream",
     "text": [
      "                                                                                \r"
     ]
    },
    {
     "name": "stdout",
     "output_type": "stream",
     "text": [
      "Run #1 for havasu_h3 took 2.2571442127227783 seconds, result: 200\n",
      "Running benchmark for geotiff\n",
      "Run #1 for geotiff\n"
     ]
    },
    {
     "name": "stderr",
     "output_type": "stream",
     "text": [
      "[Stage 76:=================================================>        (6 + 1) / 7]\r"
     ]
    },
    {
     "name": "stdout",
     "output_type": "stream",
     "text": [
      "Run #1 for geotiff took 16.517739295959473 seconds, result: 200\n",
      "Summary for havasu - runs: 1, mean: 1.517106056213379, min: 1.517106056213379, max: 1.517106056213379\n",
      "Summary for havasu_srid - runs: 1, mean: 2.2840769290924072, min: 2.2840769290924072, max: 2.2840769290924072\n",
      "Summary for havasu_h3 - runs: 1, mean: 2.2571442127227783, min: 2.2571442127227783, max: 2.2571442127227783\n",
      "Summary for geotiff - runs: 1, mean: 16.517739295959473, min: 16.517739295959473, max: 16.517739295959473\n"
     ]
    },
    {
     "name": "stderr",
     "output_type": "stream",
     "text": [
      "                                                                                \r"
     ]
    },
    {
     "data": {
      "text/plain": [
       "{'havasu': [1.517106056213379],\n",
       " 'havasu_srid': [2.2840769290924072],\n",
       " 'havasu_h3': [2.2571442127227783],\n",
       " 'geotiff': [16.517739295959473]}"
      ]
     },
     "execution_count": 52,
     "metadata": {},
     "output_type": "execute_result"
    }
   ],
   "source": [
    "def bench_func(df):\n",
    "    return df.selectExpr(\"name\", \"RS_BandAsArray(rast, 1) as band1\", \"RS_BandAsArray(rast, 2) as band2\")\\\n",
    "        .selectExpr(\"RS_NormalizedDifference(band1, band2) as band_nd\")\\\n",
    "        .where(\"array_size(band_nd) > 0\")\\\n",
    "        .count()\n",
    "\n",
    "benchmark_query(df_dict, bench_func, num_runs=1)"
   ]
  },
  {
   "cell_type": "markdown",
   "metadata": {},
   "source": [
    "## Scanning the entire dataset and extract pixel values"
   ]
  },
  {
   "cell_type": "code",
   "execution_count": 53,
   "metadata": {},
   "outputs": [
    {
     "name": "stdout",
     "output_type": "stream",
     "text": [
      "Running benchmark for havasu\n",
      "Run #1 for havasu\n"
     ]
    },
    {
     "name": "stderr",
     "output_type": "stream",
     "text": [
      "                                                                                \r"
     ]
    },
    {
     "name": "stdout",
     "output_type": "stream",
     "text": [
      "Run #1 for havasu took 1.3494784832000732 seconds, result: 200\n",
      "Running benchmark for havasu_srid\n",
      "Run #1 for havasu_srid\n"
     ]
    },
    {
     "name": "stderr",
     "output_type": "stream",
     "text": [
      "                                                                                \r"
     ]
    },
    {
     "name": "stdout",
     "output_type": "stream",
     "text": [
      "Run #1 for havasu_srid took 1.4471850395202637 seconds, result: 200\n",
      "Running benchmark for havasu_h3\n",
      "Run #1 for havasu_h3\n"
     ]
    },
    {
     "name": "stderr",
     "output_type": "stream",
     "text": [
      "                                                                                \r"
     ]
    },
    {
     "name": "stdout",
     "output_type": "stream",
     "text": [
      "Run #1 for havasu_h3 took 2.0529072284698486 seconds, result: 200\n",
      "Running benchmark for geotiff\n",
      "Run #1 for geotiff\n"
     ]
    },
    {
     "name": "stderr",
     "output_type": "stream",
     "text": [
      "[Stage 82:=================================================>        (6 + 1) / 7]\r"
     ]
    },
    {
     "name": "stdout",
     "output_type": "stream",
     "text": [
      "Run #1 for geotiff took 11.425729274749756 seconds, result: 200\n",
      "Summary for havasu - runs: 1, mean: 1.3494784832000732, min: 1.3494784832000732, max: 1.3494784832000732\n",
      "Summary for havasu_srid - runs: 1, mean: 1.4471850395202637, min: 1.4471850395202637, max: 1.4471850395202637\n",
      "Summary for havasu_h3 - runs: 1, mean: 2.0529072284698486, min: 2.0529072284698486, max: 2.0529072284698486\n",
      "Summary for geotiff - runs: 1, mean: 11.425729274749756, min: 11.425729274749756, max: 11.425729274749756\n"
     ]
    },
    {
     "name": "stderr",
     "output_type": "stream",
     "text": [
      "                                                                                \r"
     ]
    },
    {
     "data": {
      "text/plain": [
       "{'havasu': [1.3494784832000732],\n",
       " 'havasu_srid': [1.4471850395202637],\n",
       " 'havasu_h3': [2.0529072284698486],\n",
       " 'geotiff': [11.425729274749756]}"
      ]
     },
     "execution_count": 53,
     "metadata": {},
     "output_type": "execute_result"
    }
   ],
   "source": [
    "def bench_func(df):\n",
    "    return df.selectExpr(\"RS_Value(rast, ST_Centroid(RS_Envelope(rast))) as centroid_val\")\\\n",
    "        .where(\"centroid_val IS NOT NULL\")\\\n",
    "        .count()\n",
    "    \n",
    "benchmark_query(df_dict, bench_func, num_runs=1)"
   ]
  },
  {
   "cell_type": "markdown",
   "metadata": {},
   "source": [
    "## Range query"
   ]
  },
  {
   "cell_type": "markdown",
   "metadata": {},
   "source": [
    "We run several range queries on the EuroSAT dataset using the following query windows. The query windows were specified as rectangles in EPSG:4326."
   ]
  },
  {
   "cell_type": "code",
   "execution_count": 54,
   "metadata": {},
   "outputs": [],
   "source": [
    "query_windows = {\n",
    "    'spain_madrid': 'ST_SetSRID(ST_PolygonFromEnvelope(-4.7803,39.5882, -2.7782,40.9276), 4326)',\n",
    "    'cesko_praha': 'ST_SetSRID(ST_PolygonFromEnvelope(13.2747,49.2297, 16.3189,51.0516), 4326)',\n",
    "    'france_paris': 'ST_SetSRID(ST_PolygonFromEnvelope(1.299,48.156, 3.566,49.575), 4326)',\n",
    "}"
   ]
  },
  {
   "cell_type": "code",
   "execution_count": 55,
   "metadata": {},
   "outputs": [
    {
     "name": "stdout",
     "output_type": "stream",
     "text": [
      "Running benchmark using query window spain_madrid\n",
      "Running benchmark for havasu\n",
      "Run #1 for havasu\n"
     ]
    },
    {
     "name": "stderr",
     "output_type": "stream",
     "text": [
      "                                                                                \r"
     ]
    },
    {
     "name": "stdout",
     "output_type": "stream",
     "text": [
      "Run #1 for havasu took 1.1232705116271973 seconds, result: 1\n",
      "Running benchmark for havasu_srid\n",
      "Run #1 for havasu_srid\n",
      "Run #1 for havasu_srid took 0.4072136878967285 seconds, result: 1\n",
      "Running benchmark for havasu_h3\n",
      "Run #1 for havasu_h3\n",
      "Run #1 for havasu_h3 took 0.3614509105682373 seconds, result: 1\n",
      "Running benchmark for geotiff\n",
      "Run #1 for geotiff\n"
     ]
    },
    {
     "name": "stderr",
     "output_type": "stream",
     "text": [
      "                                                                                \r"
     ]
    },
    {
     "name": "stdout",
     "output_type": "stream",
     "text": [
      "Run #1 for geotiff took 10.502366542816162 seconds, result: 1\n",
      "Summary for havasu - runs: 1, mean: 1.1232705116271973, min: 1.1232705116271973, max: 1.1232705116271973\n",
      "Summary for havasu_srid - runs: 1, mean: 0.4072136878967285, min: 0.4072136878967285, max: 0.4072136878967285\n",
      "Summary for havasu_h3 - runs: 1, mean: 0.3614509105682373, min: 0.3614509105682373, max: 0.3614509105682373\n",
      "Summary for geotiff - runs: 1, mean: 10.502366542816162, min: 10.502366542816162, max: 10.502366542816162\n",
      "Running benchmark using query window cesko_praha\n",
      "Running benchmark for havasu\n",
      "Run #1 for havasu\n"
     ]
    },
    {
     "name": "stderr",
     "output_type": "stream",
     "text": [
      "                                                                                \r"
     ]
    },
    {
     "name": "stdout",
     "output_type": "stream",
     "text": [
      "Run #1 for havasu took 1.198798656463623 seconds, result: 3\n",
      "Running benchmark for havasu_srid\n",
      "Run #1 for havasu_srid\n",
      "Run #1 for havasu_srid took 0.25706958770751953 seconds, result: 3\n",
      "Running benchmark for havasu_h3\n",
      "Run #1 for havasu_h3\n",
      "Run #1 for havasu_h3 took 0.28501081466674805 seconds, result: 3\n",
      "Running benchmark for geotiff\n",
      "Run #1 for geotiff\n"
     ]
    },
    {
     "name": "stderr",
     "output_type": "stream",
     "text": [
      "                                                                                \r"
     ]
    },
    {
     "name": "stdout",
     "output_type": "stream",
     "text": [
      "Run #1 for geotiff took 9.114201307296753 seconds, result: 3\n",
      "Summary for havasu - runs: 1, mean: 1.198798656463623, min: 1.198798656463623, max: 1.198798656463623\n",
      "Summary for havasu_srid - runs: 1, mean: 0.25706958770751953, min: 0.25706958770751953, max: 0.25706958770751953\n",
      "Summary for havasu_h3 - runs: 1, mean: 0.28501081466674805, min: 0.28501081466674805, max: 0.28501081466674805\n",
      "Summary for geotiff - runs: 1, mean: 9.114201307296753, min: 9.114201307296753, max: 9.114201307296753\n",
      "Running benchmark using query window france_paris\n",
      "Running benchmark for havasu\n",
      "Run #1 for havasu\n"
     ]
    },
    {
     "name": "stderr",
     "output_type": "stream",
     "text": [
      "                                                                                \r"
     ]
    },
    {
     "name": "stdout",
     "output_type": "stream",
     "text": [
      "Run #1 for havasu took 1.0251774787902832 seconds, result: 5\n",
      "Running benchmark for havasu_srid\n",
      "Run #1 for havasu_srid\n",
      "Run #1 for havasu_srid took 0.31498003005981445 seconds, result: 5\n",
      "Running benchmark for havasu_h3\n",
      "Run #1 for havasu_h3\n",
      "Run #1 for havasu_h3 took 0.31872129440307617 seconds, result: 5\n",
      "Running benchmark for geotiff\n",
      "Run #1 for geotiff\n"
     ]
    },
    {
     "name": "stderr",
     "output_type": "stream",
     "text": [
      "[Stage 100:================================================>        (6 + 1) / 7]\r"
     ]
    },
    {
     "name": "stdout",
     "output_type": "stream",
     "text": [
      "Run #1 for geotiff took 8.38875150680542 seconds, result: 5\n",
      "Summary for havasu - runs: 1, mean: 1.0251774787902832, min: 1.0251774787902832, max: 1.0251774787902832\n",
      "Summary for havasu_srid - runs: 1, mean: 0.31498003005981445, min: 0.31498003005981445, max: 0.31498003005981445\n",
      "Summary for havasu_h3 - runs: 1, mean: 0.31872129440307617, min: 0.31872129440307617, max: 0.31872129440307617\n",
      "Summary for geotiff - runs: 1, mean: 8.38875150680542, min: 8.38875150680542, max: 8.38875150680542\n"
     ]
    },
    {
     "name": "stderr",
     "output_type": "stream",
     "text": [
      "                                                                                \r"
     ]
    }
   ],
   "source": [
    "def bench_query_func(df, qw_expr):\n",
    "    return df.where(f\"RS_Intersects(rast, {qw_expr})\").count()\n",
    "\n",
    "for qw_name, qw_exr in query_windows.items():\n",
    "    print(f\"Running benchmark using query window {qw_name}\")\n",
    "    benchmark_query(df_dict, lambda df: bench_query_func(df, qw_exr), num_runs=1)"
   ]
  },
  {
   "cell_type": "code",
   "execution_count": null,
   "metadata": {},
   "outputs": [],
   "source": []
  }
 ],
 "metadata": {
  "kernelspec": {
   "display_name": "Python 3 (ipykernel)",
   "language": "python",
   "name": "python3"
  },
  "language_info": {
   "codemirror_mode": {
    "name": "ipython",
    "version": 3
   },
   "file_extension": ".py",
   "mimetype": "text/x-python",
   "name": "python",
   "nbconvert_exporter": "python",
   "pygments_lexer": "ipython3",
   "version": "3.10.11"
  }
 },
 "nbformat": 4,
 "nbformat_minor": 4
}
