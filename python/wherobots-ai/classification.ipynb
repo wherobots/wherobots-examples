{
 "cells": [
  {
   "cell_type": "markdown",
   "id": "a37fe0da",
   "metadata": {},
   "source": [
    "![](https://wherobots.com/wp-content/uploads/2023/12/Inline-Blue_Black_onWhite@3x.png)\n",
    "\n",
    "## Wherobots Inference - Scene Classification \n",
    "\n",
    "This example demonstrates query inference using a classification model with Wherobots Inference to identify land cover in satellite imagery. We will use a machine-learning model from [torchgeo](torchgeo)<sup>1</sup> trained using imagery from the European Space Agency’s Sentinel-2 satellites.\n",
    "\n",
    "**Note: This notebook requires the Wherobots Inference functionality to be enabled and a GPU runtime selected in Wherobots Cloud. Please [contact us](https://wherobots.com/contact/) to enable these features.**\n"
   ]
  },
  {
   "cell_type": "markdown",
   "id": "74fec939-6e1a-486a-93ec-d6ac7a7b9aaa",
   "metadata": {},
   "source": [
    "### 1: Set up the Wherobots Context"
   ]
  },
  {
   "cell_type": "code",
   "execution_count": null,
   "id": "b62b5997",
   "metadata": {},
   "outputs": [],
   "source": [
    "import warnings\n",
    "warnings.filterwarnings('ignore')\n",
    "\n",
    "from wherobots.inference.data.io import read_raster_table\n",
    "from sedona.spark import SedonaContext\n",
    "from pyspark.sql.functions import expr\n",
    "\n",
    "config = SedonaContext.builder().appName('classification-batch-inference')\\\n",
    "    .getOrCreate()\n",
    "\n",
    "sedona = SedonaContext.create(config)"
   ]
  },
  {
   "cell_type": "markdown",
   "id": "c654ce00-87ec-4200-88ac-feac99575490",
   "metadata": {},
   "source": [
    "### 2: Load satellite imagery\n",
    "\n",
    "Next, we load the satellite imagery that we will be running inference over. These GeoTiff images are loaded as *out-db* rasters in WherobotsDB, where each row represents a different scene."
   ]
  },
  {
   "cell_type": "code",
   "execution_count": null,
   "id": "b28958d4-67a7-4d97-81a2-400476abc304",
   "metadata": {},
   "outputs": [],
   "source": [
    "tif_folder_path = 's3a://wherobots-examples/data/eurosat_small'\n",
    "files_df = read_raster_table(tif_folder_path, sedona)\n",
    "df_raster_input = files_df.withColumn(\n",
    "        \"outdb_raster\", expr(\"RS_FromPath(path)\")\n",
    "    )\n",
    "df_raster_input.cache().show(truncate=False)\n",
    "print(df_raster_input.count())"
   ]
  },
  {
   "cell_type": "markdown",
   "id": "37e55013-053f-4de6-b88f-1ca0b31a0ada",
   "metadata": {},
   "source": [
    "### 3: Run prediction with sedona.sql apis\n",
    "\n",
    "To run predictions we will specify the model we wish to use. Some models are pre-loaded and made available in Wherobots Cloud. We can also load our own models. Predictions can be run using Wherobot's Spatial SQL functions, in this case `RS_CLASSIFY`.\n",
    "\n",
    "Here we generate 200 predictions using `RS_CLASSIFY`."
   ]
  },
  {
   "cell_type": "code",
   "execution_count": null,
   "id": "7f647116-0022-4234-b5ef-64c09fcf20f7",
   "metadata": {},
   "outputs": [],
   "source": [
    "#%%time\n",
    "df_raster_input.createOrReplaceTempView(\"df_raster_input\")\n",
    "model_id = 'landcover-eurosat-sentinel2'\n",
    "predictions_df = sedona.sql(f\"SELECT name, outdb_raster, RS_CLASSIFY('{model_id}', outdb_raster) AS preds FROM df_raster_input\")\n",
    "predictions_df.cache().show(truncate=False)\n",
    "predictions_df.createOrReplaceTempView(\"predictions_df\")"
   ]
  },
  {
   "cell_type": "markdown",
   "id": "f4d002a0-954d-48ef-bf2c-a9c7f61a6aa5",
   "metadata": {},
   "source": [
    "From the prediction result, we can retrieve the most confidence classification label and it's probability score."
   ]
  },
  {
   "cell_type": "code",
   "execution_count": null,
   "id": "0b3747b1-7445-4842-994b-fa6252c48efc",
   "metadata": {},
   "outputs": [],
   "source": [
    "max_predictions_df = sedona.sql(f\"SELECT name, outdb_raster, RS_MAX_CONFIDENCE(preds).max_confidence_label, RS_MAX_CONFIDENCE(preds).max_confidence_score FROM predictions_df\")\n",
    "max_predictions_df.show(20, truncate=False)"
   ]
  },
  {
   "cell_type": "markdown",
   "id": "2952aaa1-9479-4bc5-98bc-461bc604bf48",
   "metadata": {},
   "source": [
    "### wherobots.inference Python API\n",
    "\n",
    "If you prefer python, wherobots.inference offers a module for registering the SQL inference functions as python functions. Below we run the same inference as before with `RS_CLASSIFY`."
   ]
  },
  {
   "cell_type": "code",
   "execution_count": null,
   "id": "e745a6da-d2ca-4cc0-9151-b49df3b32a7e",
   "metadata": {
    "scrolled": true
   },
   "outputs": [],
   "source": [
    "from wherobots.inference.engine.register import create_single_label_classification_udfs\n",
    "rs_classify, rs_max_confidence = create_single_label_classification_udfs(batch_size = 10, sedona=sedona)\n",
    "df_predictions = df_raster_input.withColumn(\"preds\", rs_classify(model_id, 'outdb_raster'))\n",
    "df_predictions.show(1)"
   ]
  },
  {
   "cell_type": "code",
   "execution_count": null,
   "id": "8bf00ab1-dcd2-4aab-b607-f4514cb41772",
   "metadata": {},
   "outputs": [],
   "source": [
    "from pyspark.sql.functions import col\n",
    "\n",
    "df_max_predictions = df_predictions.withColumn(\"max_confidence_temp\", rs_max_confidence(col(\"preds\"))) \\\n",
    "                            .withColumn(\"max_confidence_label\", col(\"max_confidence_temp.max_confidence_label\")) \\\n",
    "                            .withColumn(\"max_confidence_score\", col(\"max_confidence_temp.max_confidence_score\")) \\\n",
    "                            .drop(\"max_confidence_temp\", \"preds\")\n",
    "df_max_predictions.show(2, truncate=False)"
   ]
  },
  {
   "cell_type": "markdown",
   "id": "9681ff0e-e0b3-4bd3-8e26-ae7a8a001d0a",
   "metadata": {},
   "source": [
    "We can write the label and score results to parquet to refer to them later."
   ]
  },
  {
   "cell_type": "code",
   "execution_count": null,
   "id": "5b1cf7f1-c2a2-4e08-8cec-12987fc1bb31",
   "metadata": {},
   "outputs": [],
   "source": [
    "output_path = \"./results.parquet\"\n",
    "df_predictions.select([\"preds\"]).write.parquet(output_path, mode=\"overwrite\")"
   ]
  },
  {
   "cell_type": "markdown",
   "id": "75ebc15f-babf-415c-aa9c-8287d292aa41",
   "metadata": {},
   "source": [
    "### Visualize the model predictions and source imagery"
   ]
  },
  {
   "cell_type": "code",
   "execution_count": null,
   "id": "a7bfe76a-49c1-416b-b439-bfb789d85d1a",
   "metadata": {},
   "outputs": [],
   "source": [
    "df_rast = sedona.read.format(\"binaryFile\").option(\"pathGlobFilter\", \"*.tif\").option(\"recursiveFileLookup\", \"true\").load(tif_folder_path).selectExpr(\"RS_FromGeoTiff(content) as raster\")"
   ]
  },
  {
   "cell_type": "code",
   "execution_count": null,
   "id": "7a689d2b-7b85-41cd-9966-555628fed051",
   "metadata": {},
   "outputs": [],
   "source": [
    "htmlDF = df_max_predictions.selectExpr(\"RS_Band(outdb_raster, Array(4, 3, 2)) as image_raster\", \"name\", \"max_confidence_label\")\\\n",
    "    .selectExpr(\"RS_NormalizeAll(image_raster, 1, 65535, True) as image_raster\", \"name\", \"max_confidence_label\")\\\n",
    "    .selectExpr(\"RS_AsImage(image_raster, 500) as image_raster\", \"name\", \"max_confidence_label\")"
   ]
  },
  {
   "cell_type": "code",
   "execution_count": null,
   "id": "6cb347a6-53c0-49cb-8e9c-99ee9f4461a5",
   "metadata": {},
   "outputs": [],
   "source": [
    "from sedona.raster_utils.SedonaUtils import SedonaUtils\n",
    "from pyspark.sql.functions import rand\n",
    "SedonaUtils.display_image(htmlDF.orderBy(rand()).limit(3))"
   ]
  },
  {
   "cell_type": "markdown",
   "id": "a610ceda-ad17-44b3-9a27-f7d30087f168",
   "metadata": {},
   "source": [
    "### References\n",
    "\n",
    "1. Stewart, A. J., Robinson, C., Corley, I. A., Ortiz, A., Lavista Ferres, J. M., & Banerjee, A. (2022). [TorchGeo: Deep Learning With Geospatial Data](https://dl.acm.org/doi/10.1145/3557915.3560953). In *Proceedings of the 30th International Conference on Advances in Geographic Information Systems* (pp. 1-12). Association for Computing Machinery. https://doi.org/10.1145/3557915.3560953\n"
   ]
  }
 ],
 "metadata": {
  "kernelspec": {
   "display_name": "Python 3 (ipykernel)",
   "language": "python",
   "name": "python3"
  },
  "language_info": {
   "codemirror_mode": {
    "name": "ipython",
    "version": 3
   },
   "file_extension": ".py",
   "mimetype": "text/x-python",
   "name": "python",
   "nbconvert_exporter": "python",
   "pygments_lexer": "ipython3",
   "version": "3.10.12"
  }
 },
 "nbformat": 4,
 "nbformat_minor": 5
}
