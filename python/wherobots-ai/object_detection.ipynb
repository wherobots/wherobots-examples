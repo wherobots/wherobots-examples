{
 "cells": [
  {
   "cell_type": "markdown",
   "id": "a37fe0da",
   "metadata": {},
   "source": [
    "![](https://wherobots.com/wp-content/uploads/2023/12/Inline-Blue_Black_onWhite@3x.png)\n",
    "\n",
    "## Wherobots Inference - Object Detection\n",
    "\n",
    "This example demonstrates query inference using an object detection model with Wherobots Inference to identify marine infrastruture (offshore wind farms and platforms) in satellite imagery. We will use a machine-learning model from [Satlas](https://satlas.allen.ai/ai) <sup>1</sup> which was trained using imagery from the European Space Agency’s Sentinel-2 satellites.\n",
    "\n",
    "**Note: This notebook requires the Wherobots Inference functionality to be enabled and a GPU runtime selected in Wherobots Cloud. Please [contact us](https://wherobots.com/contact/) to enable these features.**\n"
   ]
  },
  {
   "cell_type": "markdown",
   "id": "a757e8aa",
   "metadata": {},
   "source": [
    "### Step 1: Set Up The WherobotsDB Context\n",
    "\n",
    "Here we configure WherobotsDB to enable access to the necessary cloud object storage buckets with sample data and to enable the WherobotsAI features in WherobotsDB. "
   ]
  },
  {
   "cell_type": "code",
   "execution_count": null,
   "id": "b62b5997",
   "metadata": {},
   "outputs": [],
   "source": [
    "import warnings\n",
    "warnings.filterwarnings('ignore')\n",
    "\n",
    "from wherobots.inference.data.io import read_raster_table\n",
    "from sedona.spark import SedonaContext\n",
    "from pyspark.sql.functions import expr\n",
    "\n",
    "config = SedonaContext.builder().appName('object-detection-batch-inference')\\\n",
    "    .getOrCreate()\n",
    "\n",
    "sedona = SedonaContext.create(config)"
   ]
  },
  {
   "cell_type": "markdown",
   "id": "c654ce00-87ec-4200-88ac-feac99575490",
   "metadata": {},
   "source": [
    "### 2: Load Satellite Imagery\n",
    "\n",
    "Next, we load the satellite imagery that we will be running inference over. These GeoTiff images are loaded as *out-db* rasters in WherobotsDB, where each row represents a different scene."
   ]
  },
  {
   "cell_type": "code",
   "execution_count": null,
   "id": "b28958d4-67a7-4d97-81a2-400476abc304",
   "metadata": {},
   "outputs": [],
   "source": [
    "tif_folder_path = 's3://wherobots-benchmark-prod/data/ml/satlas-offshore-wind-scenes/'\n",
    "files_df = read_raster_table(tif_folder_path, sedona, limit=1000)\n",
    "df_raster_input = files_df.withColumn(\n",
    "        \"outdb_raster\", expr(\"RS_FromPath(path)\")\n",
    "    )"
   ]
  },
  {
   "cell_type": "code",
   "execution_count": null,
   "id": "0f3872c8",
   "metadata": {
    "scrolled": true
   },
   "outputs": [],
   "source": [
    "#%%time\n",
    "df_raster_input.show(truncate=False)"
   ]
  },
  {
   "cell_type": "markdown",
   "id": "37e55013-053f-4de6-b88f-1ca0b31a0ada",
   "metadata": {},
   "source": [
    "### 3: Run Predictions And Visualize Results\n",
    "\n",
    "To run predictions we will specify the model we wish to use. Some models are pre-loaded and made available in Wherobots Cloud. We can also load our own models. Predictions can be run using Wherobot's Spatial SQL functions, in this case `RS_DETECT_BBOXES`.\n",
    "\n",
    "Here we generate 100 predictions using `RS_DETECT_BBOXES`."
   ]
  },
  {
   "cell_type": "code",
   "execution_count": null,
   "id": "7f647116-0022-4234-b5ef-64c09fcf20f7",
   "metadata": {
    "scrolled": true
   },
   "outputs": [],
   "source": [
    "df_raster_input.createOrReplaceTempView(\"df_raster_input\")\n",
    "model_id = 'marine-satlas-sentinel2'\n",
    "sedona.sql(f\"\"\"\n",
    " CREATE TEMP VIEW detect_fields AS (\n",
    "    SELECT\n",
    "    outdb_raster,\n",
    "    RS_DETECT_BBOXES('{model_id}', outdb_raster) AS detect_result\n",
    "  FROM\n",
    "    df_raster_input)\n",
    "\"\"\")\n",
    "\n",
    "predictions_df = sedona.sql(f\"\"\"\n",
    "SELECT\n",
    "  outdb_raster,\n",
    "  detect_result.*\n",
    "FROM detect_fields\n",
    "\"\"\")\n",
    "\n",
    "predictions_df.cache().show()\n",
    "\n",
    "predictions_df.createOrReplaceTempView(\"predictions_df\")"
   ]
  },
  {
   "cell_type": "markdown",
   "id": "d3a6faba-b760-46cf-80c4-7ee69a42d44b",
   "metadata": {},
   "source": [
    "Since we ran inference across many country coastlines all over the world, many scenes don't contain wind farms and don't have positive detections. Now that we've generated predictions using our model over our satellite imagery, we can filter the geometries by confidence score and by the integer label representing offshore wind farms, `2`, to locate predicted offshore wind farms. "
   ]
  },
  {
   "cell_type": "code",
   "execution_count": null,
   "id": "c604a6a0-412a-4f61-9f1a-f4c58ee42427",
   "metadata": {},
   "outputs": [],
   "source": [
    "from pyspark.sql.functions import expr, explode, array_contains, col\n",
    "\n",
    "# Filter the DataFrame\n",
    "filtered_predictions_df = predictions_df.filter(\n",
    "    # Filter out rows where none of the 'confidence_scores' are above the threshold\n",
    "    (expr(f\"array_min(transform(confidence_scores, x -> x < .65))\") == False) &\n",
    "    # Filter out rows where 'labels' does not contain the label\n",
    "    (array_contains(col('labels'), 2))\n",
    ")\n",
    "\n",
    "filtered_predictions_df.cache().show()"
   ]
  },
  {
   "cell_type": "markdown",
   "id": "0666348a-ca17-47a5-a4f8-c94068f49c9c",
   "metadata": {},
   "source": [
    "The final steps are to use `explode` to make each bounding box detection its own row and then to convert our string column representing a geometry into a `GeometryType` column so that we can plot it with `SedonaKepler`."
   ]
  },
  {
   "cell_type": "code",
   "execution_count": null,
   "id": "872afe97-0342-454e-af4d-59bb0798ba40",
   "metadata": {},
   "outputs": [],
   "source": [
    "# Explode the 'bboxes_wkt' column\n",
    "df_exploded = filtered_predictions_df.select(\"outdb_raster\", explode(filtered_predictions_df.bboxes_wkt).alias(\"bboxes_wkt\"), \"confidence_scores\", \"labels\")\n",
    "\n",
    "# Apply the 'ST_GeomFromWkt' function\n",
    "df_exploded = df_exploded.withColumn(\"geom\", expr(\"ST_GeomFromWkt(bboxes_wkt)\")).drop(\"bboxes_wkt\")"
   ]
  },
  {
   "cell_type": "code",
   "execution_count": null,
   "id": "e99f7b1c-ebaa-42f9-9f54-771d0f2cf298",
   "metadata": {},
   "outputs": [],
   "source": [
    "df_exploded.show()"
   ]
  },
  {
   "cell_type": "markdown",
   "id": "1f59fa97-f4f7-4cd9-85f8-9732f614ded7",
   "metadata": {},
   "source": [
    "Zoom into the coasts of China or the Netherlands to spot some detected wind farms!"
   ]
  },
  {
   "cell_type": "code",
   "execution_count": null,
   "id": "c8ca987b-7bf7-40e8-98bb-7baee0171ac4",
   "metadata": {},
   "outputs": [],
   "source": [
    "from sedona.maps.SedonaKepler import SedonaKepler\n",
    "config = {\n",
    "    'version': 'v1',\n",
    "    'config': {\n",
    "        'mapStyle': {\n",
    "            'styleType': 'light',\n",
    "            'topLayerGroups': {},\n",
    "            'visibleLayerGroups': {},\n",
    "            'mapStyles': {}\n",
    "        }\n",
    "    }\n",
    "}\n",
    "map = SedonaKepler.create_map(config=config)\n",
    "\n",
    "SedonaKepler.add_df(map, df=df_exploded.drop(\"outdb_raster\"), name=\"Wind Farm Detections\")\n",
    "map"
   ]
  },
  {
   "cell_type": "markdown",
   "id": "2952aaa1-9479-4bc5-98bc-461bc604bf48",
   "metadata": {},
   "source": [
    "### wherobots.inference Python API\n",
    "\n",
    "If you prefer python, wherobots.inference offers a module for registering the SQL inference functions as python functions. Below we run the same inference as before with `RS_DETECT_BBOXES`."
   ]
  },
  {
   "cell_type": "code",
   "execution_count": null,
   "id": "3e631a91-6837-4bfe-a50f-6968eaac6933",
   "metadata": {},
   "outputs": [],
   "source": [
    "from wherobots.inference.engine.register import create_object_detection_udfs\n",
    "from pyspark.sql.functions import col\n",
    "rs_detect, rs_threshold_geoms =  create_object_detection_udfs(batch_size = 1, sedona=sedona)\n",
    "df = df_raster_input.withColumn(\"detect_result\", rs_detect(model_id, col(\"outdb_raster\"))).select(\n",
    "                               \"outdb_raster\",\n",
    "                               col(\"detect_result.bboxes_wkt\").alias(\"bboxes_wkt\"),\n",
    "                               col(\"detect_result.confidence_scores\").alias(\"confidence_scores\"),\n",
    "                               col(\"detect_result.labels\").alias(\"labels\")\n",
    "                           )\n",
    "df.show()"
   ]
  }
 ],
 "metadata": {
  "kernelspec": {
   "display_name": "Python 3 (ipykernel)",
   "language": "python",
   "name": "python3"
  },
  "language_info": {
   "codemirror_mode": {
    "name": "ipython",
    "version": 3
   },
   "file_extension": ".py",
   "mimetype": "text/x-python",
   "name": "python",
   "nbconvert_exporter": "python",
   "pygments_lexer": "ipython3",
   "version": "3.10.12"
  }
 },
 "nbformat": 4,
 "nbformat_minor": 5
}
