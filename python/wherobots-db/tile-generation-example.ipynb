{
 "cells": [
  {
   "cell_type": "markdown",
   "id": "5240b24e-7c77-4a2a-8191-fda9f2fd6e47",
   "metadata": {},
   "source": [
    "![](https://wherobots.com/wp-content/uploads/2023/12/Inline-Blue_Black_onWhite@3x.png)\n",
    "\n",
    "# Introduction to `VTiles` for WherobotsDB\n",
    "\n",
    "In this notebook we will create PMTiles vector tiles for rendering maps using building and road data from the Overture Maps dataset in the Wherobots Open Data Catalog."
   ]
  },
  {
   "cell_type": "markdown",
   "id": "971dd764-b70a-4e0d-80a2-434c682ed2e3",
   "metadata": {
    "tags": []
   },
   "source": [
    "## Introduction To Vector Tiles\n",
    "\n",
    "Vector tiles provide performant rendering of map data for large vector feature datasets across large regions and zoom\n",
    "levels. Here’s why, and when, they should be used:\n",
    "\n",
    "* Vector tiles are designed for use in web maps, mobile apps, and desktop GIS software.\n",
    "* WherobotsDB makes it easy and affordable to generate vector tiles at a planetary scale.\n",
    "* By rendering vector tiles directly, the interactive map experience is more responsive and scalable for large datasets\n",
    "  than rendering feature formats (e.g., GeoJSON) directly and allows developers to customize the display, which is\n",
    "  otherwise impossible with raster tiles."
   ]
  },
  {
   "cell_type": "markdown",
   "id": "eb344c65-62dd-42f5-bb73-eb4bdf18fb5e",
   "metadata": {},
   "source": [
    "## How To Generate Vector Tiles"
   ]
  },
  {
   "cell_type": "markdown",
   "id": "a9540d21-0205-4ed3-9b40-6b859a1f445c",
   "metadata": {},
   "source": [
    "### Start a Sedona Session\n",
    "\n",
    "As always, begin by starting a Sedona context"
   ]
  },
  {
   "cell_type": "code",
   "execution_count": null,
   "id": "37a8ae86-c364-4d65-8b7b-402dd75150c4",
   "metadata": {},
   "outputs": [],
   "source": [
    "from sedona.spark import *\n",
    "\n",
    "config = SedonaContext.builder().master(\"local[*]\").getOrCreate()\n",
    "sedona = SedonaContext.create(config)\n"
   ]
  },
  {
   "cell_type": "markdown",
   "id": "d3bf7649-2a35-43bb-9cb8-690426e2ad72",
   "metadata": {},
   "source": [
    "### Load Feature Data\n",
    "\n",
    "Create a Spatial DataFrame with a geometry column and a layer column. The geometry column contains the features to render in the\n",
    "map. The layer column is a string that describes the grouping the feature should be in. Records within the same layer\n",
    "can be styled together, independently of other layers. In this case example features that represent buildings are in the buildings layer and those representing roads are in the roads layer.\n",
    "\n",
    "The first cell that follows gives some variable to control where we generate tiles for. The default is a small town in Washington: Issaquah."
   ]
  },
  {
   "cell_type": "code",
   "execution_count": null,
   "id": "0dc8503c-5143-454f-b04d-cb8c4b4630f1",
   "metadata": {},
   "outputs": [],
   "source": [
    "from sedona.sql.st_constructors import ST_GeomFromText\n",
    "from sedona.sql.st_predicates import ST_Intersects\n",
    "import pyspark.sql.functions as f\n",
    "\n",
    "# Set to False to generate tiles for the entire dataset, True to generate only for region_wkt area\n",
    "filter = True\n",
    "region_wkt = \"POLYGON ((-122.097931 47.538528, -122.048836 47.566566, -121.981888 47.510012, -122.057076 47.506302, -122.097931 47.538528))\"\n",
    "filter_expression = ST_Intersects(f.col(\"geometry\"), ST_GeomFromText(f.lit(region_wkt)))"
   ]
  },
  {
   "cell_type": "markdown",
   "id": "0750695b-fa80-4ab9-8e42-fc5ce81d3f15",
   "metadata": {},
   "source": [
    "Next, we create the buildings Spatial DataFrame using the Overture buildings table from the Wherobots Open Data Catalog."
   ]
  },
  {
   "cell_type": "code",
   "execution_count": null,
   "id": "d57b9c15-bf60-47b7-8b20-37be6c581af3",
   "metadata": {},
   "outputs": [],
   "source": [
    "import pyspark.sql.functions as f\n",
    "\n",
    "buildings_df = (\n",
    "    sedona.table(\"wherobots_open_data.overture_2024_02_15.buildings_building\")\n",
    "    .select(\n",
    "        f.col(\"geometry\"),\n",
    "        f.lit(\"buildings\").alias(\"layer\"),\n",
    "        f.element_at(f.col(\"sources\"), 1).dataset.alias(\"source\")\n",
    "    )\n",
    ")\n",
    "\n",
    "buildings_df.show()"
   ]
  },
  {
   "cell_type": "markdown",
   "id": "b46ac292-26c3-4370-8d0f-68c47931101a",
   "metadata": {},
   "source": [
    "Next, we create a Spatial DataFrame for our road features using the Overture transportation segment table."
   ]
  },
  {
   "cell_type": "code",
   "execution_count": null,
   "id": "153238ce-9922-49bd-9868-75bbb787430a",
   "metadata": {},
   "outputs": [],
   "source": [
    "roads_df = (\n",
    "    sedona.table(\"wherobots_open_data.overture_2024_02_15.transportation_segment\")\n",
    "    .select(\n",
    "        f.col(\"geometry\"),\n",
    "        f.lit(\"roads\").alias(\"layer\"),\n",
    "        f.element_at(f.col(\"sources\"), 1).dataset.alias(\"source\")\n",
    "    )\n",
    ")\n",
    "\n",
    "roads_df.show()"
   ]
  },
  {
   "cell_type": "markdown",
   "id": "36e0319e-f3cf-4148-97e3-94045e375e25",
   "metadata": {},
   "source": [
    "Next, we prepare a single spatial DataFrame combining our roads and buildings features."
   ]
  },
  {
   "cell_type": "code",
   "execution_count": null,
   "id": "177c4d70-6fab-496b-8b3d-6bdfcd15df18",
   "metadata": {},
   "outputs": [],
   "source": [
    "features_df = roads_df.union(buildings_df)\n",
    "\n",
    "if filter: \n",
    "    features_df = features_df.filter(ST_Intersects(f.col(\"geometry\"), ST_GeomFromText(f.lit(region_wkt))))\n",
    "\n",
    "features_df.count()\n"
   ]
  },
  {
   "cell_type": "markdown",
   "id": "a2c7de7c-e705-45f1-829c-43114475e5d2",
   "metadata": {},
   "source": [
    "### Create Tiles as a PMTiles Archive\n",
    "\n",
    "Once we have the Spatial DataFrame ready for tile generation, we can use the `vtiles.generate_pmtiles` method to create a PMTiles archive. PMTiles is a performant, simple, and optimized format for storing vector tiles.\n",
    "\n",
    "Wherobots will automatically handle the details for you. However, if you need more control, a `GenerationConfig` object can optionally be provided as an argument to control which tiles are created and their contents. A `PMTilesConfig` object can optionally be provided to control the header information of the PMTiles Archive.\n",
    "\n"
   ]
  },
  {
   "cell_type": "code",
   "execution_count": null,
   "id": "ee1a466c-f88b-41c0-b3e8-dd125c117a77",
   "metadata": {},
   "outputs": [],
   "source": [
    "from wherobots import vtiles\n",
    "import os\n",
    "\n",
    "full_tiles_path = os.getenv(\"USER_S3_PATH\") + \"tiles.pmtiles\"\n",
    "vtiles.generate_pmtiles(features_df, full_tiles_path)\n"
   ]
  },
  {
   "cell_type": "markdown",
   "id": "90900351-42f6-455d-99c6-7b502ca02fa5",
   "metadata": {},
   "source": [
    "## Visualizing Vector Tiles with leafmap\n",
    "\n",
    "We’ve made it easy to use [leafmap](https://leafmap.org/) to visualize the vector tiles we just generated. Leafmap\n",
    "is a popular geospatial visualization tool for Jupyter notebooks. We offer a function that makes it easy to use leafmap.\n",
    "This function creates a signed URL, styles the tiles, and returns a Leafmap object. The function can be used as follows:\n"
   ]
  },
  {
   "cell_type": "code",
   "execution_count": null,
   "id": "5453b658-9f38-4bdd-9f44-bdda96ab6681",
   "metadata": {
    "scrolled": true
   },
   "outputs": [],
   "source": [
    "vtiles.show_pmtiles(full_tiles_path)"
   ]
  },
  {
   "cell_type": "markdown",
   "id": "6d61fea1-ebd6-4b8b-a974-7a93d7c5de42",
   "metadata": {},
   "source": [
    "## Quick Generation of Tiles\n",
    "\n",
    "Sometimes you want to quickly visualize a massive dataset. To achieve this goal, WherobotsDB provides a function for\n",
    "quickly generating, saving, and displaying tiles. When testing this function it completed 100 million features in\n",
    "less than 5 minutes on a Wherobots Cloud Cairo runtime. This is accomplished by limiting the features processed to 100 million and\n",
    "generating fewer zoom levels at a higher resolution. At high zooms, the low precision from the low maximum zoom may be\n",
    "evident.\n",
    "\n",
    "The Scala/Java API exposes the `getQuickConfig` method which provides the same `GenerationConfig`. This can be passed to\n",
    "the `vtiles.generate` or `vtiles.generatePMTiles` methods for the same tile generation functionality.\n",
    "\n",
    "This feature can be used as follows:"
   ]
  },
  {
   "cell_type": "code",
   "execution_count": null,
   "id": "23a7b83a-d52f-4a2f-8239-24b64350b8fd",
   "metadata": {},
   "outputs": [],
   "source": [
    "sample_tiles_path = os.getenv(\"USER_S3_PATH\") + \"sampleTiles.pmtiles\"\n",
    "vtiles.generate_quick_pmtiles(features_df, sample_tiles_path)"
   ]
  },
  {
   "cell_type": "markdown",
   "id": "0f8e7982-26e1-4faa-805e-d274c2af39d5",
   "metadata": {},
   "source": [
    "As a comprehensive map application toolbox, WherobotsDB provides many off-the-shelf scalable tools. In this\n",
    "tutorial, we just focus on a minimum example. Detailed explanation of each tool can be found\n",
    "in [the documentation](https://docs.wherobots.com/latest/references/wherobotsdb/vector-data/Overview/)."
   ]
  }
 ],
 "metadata": {
  "kernelspec": {
   "display_name": "Python 3 (ipykernel)",
   "language": "python",
   "name": "python3"
  },
  "language_info": {
   "codemirror_mode": {
    "name": "ipython",
    "version": 3
   },
   "file_extension": ".py",
   "mimetype": "text/x-python",
   "name": "python",
   "nbconvert_exporter": "python",
   "pygments_lexer": "ipython3",
   "version": "3.11.11"
  }
 },
 "nbformat": 4,
 "nbformat_minor": 5
}
