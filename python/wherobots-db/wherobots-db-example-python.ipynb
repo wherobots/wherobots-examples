{
 "cells": [
  {
   "cell_type": "markdown",
   "id": "9fd0e81c-4774-47c9-94da-5b6bd8ff144e",
   "metadata": {},
   "source": [
    "![](https://wherobots.com/wp-content/uploads/2023/12/Inline-Blue_Black_onWhite@3x.png)\n",
    "\n",
    "# WherobotsDB Basic Examples\n",
    "\n",
    "In this notebook we will explore some basic getting started functionality with WherobotsDB, including:\n",
    "\n",
    "* configuring WherobotsDB to access S3 buckets\n",
    "* loading Shapefile data to Spatial DataFrames\n",
    "* performing a spatial join using SQL\n",
    "* visualizing geospatial data\n",
    "* writing results as GeoParquet"
   ]
  },
  {
   "cell_type": "markdown",
   "id": "36a07fb3-4239-4d49-9bf9-0db047e4948a",
   "metadata": {},
   "source": [
    "## Configuring WherobotsDB\n",
    "\n",
    "First, we import Python dependencies and then configure WherobotsDB to access the public `wherobots-examples` AWS S3 bucket using anonymous credentials. You can read more about configuring file access in the [documentation.](https://docs.wherobots.com/latest/references/havasu/configuration/cross-account/?h=s3)"
   ]
  },
  {
   "cell_type": "code",
   "execution_count": null,
   "id": "8f061462-8ca0-4a26-ac84-eab58da27e1f",
   "metadata": {},
   "outputs": [],
   "source": [
    "from sedona.spark import *\n",
    "from pyspark.sql.functions import desc\n",
    "import os"
   ]
  },
  {
   "cell_type": "code",
   "execution_count": null,
   "id": "d9a0ca5e-0c8c-4abc-9f5e-bb9143e14621",
   "metadata": {},
   "outputs": [],
   "source": [
    "config = SedonaContext.builder().appName('sedona-example-python')\\\n",
    "    .config('spark.hadoop.fs.s3a.bucket.wherobots-examples.aws.credentials.provider','org.apache.hadoop.fs.s3a.AnonymousAWSCredentialsProvider')\\\n",
    "    .getOrCreate()\n",
    "sedona = SedonaContext.create(config)\n",
    "sc = sedona.sparkContext"
   ]
  },
  {
   "cell_type": "markdown",
   "id": "4caaf9bc-c073-4869-a9a4-eb7ac2546d3b",
   "metadata": {},
   "source": [
    "## Loading Shapefiles\n",
    "\n",
    "We'll load two Shapefiles into two Spatial DataFrames, then perform a spatial join. WherobotsDB can work with a large variety of spatial file formats including CSV, Shapefile, GeoParquet, GeoJson, and PostGIS. See [the documentation](https://docs.wherobots.com/latest/tutorials/sedonadb/vector-data/vector-load/) for more examples of loading data from different formats."
   ]
  },
  {
   "cell_type": "code",
   "execution_count": null,
   "id": "c9534ce5-b7f1-45b9-bc80-f32b0d6bf468",
   "metadata": {},
   "outputs": [],
   "source": [
    "# Read the countries shapefiles from S3\n",
    "s3BucketName = 'wherobots-examples'\n",
    "countries = ShapefileReader.readToGeometryRDD(sc, 's3://%s/data/ne_50m_admin_0_countries_lakes/' % s3BucketName)\n",
    "# Convert the Spatial RDD to a Spatial DataFrame using the Adapter\n",
    "countries_df = Adapter.toDf(countries, sedona)\n",
    "countries_df.createOrReplaceTempView(\"country\")\n",
    "countries_df.printSchema()"
   ]
  },
  {
   "cell_type": "code",
   "execution_count": null,
   "id": "c2b47b60-b73f-4d94-8f11-16706afde242",
   "metadata": {},
   "outputs": [],
   "source": [
    "# Read the airports shapefiles from S3\n",
    "airports = ShapefileReader.readToGeometryRDD(sc, 's3://%s/data/ne_50m_airports/' % s3BucketName)\n",
    "# Convert the Spatial RDD to a Spatial DataFrame using the Adapter\n",
    "airports_df = Adapter.toDf(airports, sedona)\n",
    "airports_df.createOrReplaceTempView(\"airport\")\n",
    "airports_df.printSchema()"
   ]
  },
  {
   "cell_type": "markdown",
   "id": "5b9408aa-102c-40c2-b00b-b90f022b334a",
   "metadata": {},
   "source": [
    "## Spatial Join Query\n",
    "\n",
    "Now that we've loaded the data, let's perform a spatial join using the [`ST_Contains` spatial predicate function](https://docs.wherobots.com/latest/references/sedonadb/vector-data/Predicate/?h=st_contains#st_contains). We will join countries and airports using airports located within the geometry of each country."
   ]
  },
  {
   "cell_type": "code",
   "execution_count": null,
   "id": "f6634c32-0a8b-414b-9d14-c50ccfbfd10a",
   "metadata": {},
   "outputs": [],
   "source": [
    "# Run a spatial join query to find airports in each country\n",
    "result = sedona.sql('SELECT c.geometry as country_geom, c.NAME_EN, a.geometry as airport_geom, a.name FROM country c, airport a WHERE ST_Contains(c.geometry, a.geometry)')\n",
    "# Aggregate the results to find the number of airports in each country\n",
    "aggregateResult = result.groupBy('NAME_EN', 'country_geom').count()\n",
    "aggregateResult.orderBy(desc('count')).show()"
   ]
  },
  {
   "cell_type": "markdown",
   "id": "0cd3bb66-ac9c-430f-aa97-cf6286562f17",
   "metadata": {},
   "source": [
    "## Visualize Results\n",
    "\n",
    "Next, we will visualize the result of our spatial join operation using [SedonaKepler.](https://docs.wherobots.com/latest/tutorials/sedonadb/vector-data/vector-visualize/?h=sedonakepler#sedonakepler)"
   ]
  },
  {
   "cell_type": "code",
   "execution_count": null,
   "id": "aa9a6720-a453-4e5c-9afe-2497c16107ee",
   "metadata": {
    "scrolled": true
   },
   "outputs": [],
   "source": [
    "# Visualize results using SedonaKepler\n",
    "result_map = SedonaKepler.create_map(df=aggregateResult, name='Airport_Count')\n",
    "result_map"
   ]
  },
  {
   "cell_type": "markdown",
   "id": "da2a1a0f-4e4a-4e39-a364-71097a651c84",
   "metadata": {},
   "source": [
    "## Write Results To GeoParquet\n",
    "\n",
    "SedonaDB supports writing data to a number of spatial formats. Here we write the results of our analysis using the GeoParquet format. See [the documentation](https://docs.wherobots.com/latest/tutorials/sedonadb/vector-data/vector-save/) for more examples of saving vector data."
   ]
  },
  {
   "cell_type": "code",
   "execution_count": null,
   "id": "d4dd5a05-91bc-4df7-9b47-25b684089cfd",
   "metadata": {},
   "outputs": [],
   "source": [
    "# Write the results to a GeoParquet file\n",
    "aggregateResult.write.format('geoparquet').mode('overwrite').save(os.getenv(\"USER_S3_PATH\") + 'airport_country.parquet')"
   ]
  }
 ],
 "metadata": {
  "kernelspec": {
   "display_name": "Python 3 (ipykernel)",
   "language": "python",
   "name": "python3"
  },
  "language_info": {
   "codemirror_mode": {
    "name": "ipython",
    "version": 3
   },
   "file_extension": ".py",
   "mimetype": "text/x-python",
   "name": "python",
   "nbconvert_exporter": "python",
   "pygments_lexer": "ipython3",
   "version": "3.10.11"
  }
 },
 "nbformat": 4,
 "nbformat_minor": 5
}
