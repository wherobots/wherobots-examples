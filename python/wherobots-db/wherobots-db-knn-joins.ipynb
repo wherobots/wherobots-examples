{
 "cells": [
  {
   "cell_type": "markdown",
   "id": "8482b9b9-03f6-4517-bffa-7fb2c7ce4200",
   "metadata": {},
   "source": [
    "![](https://wherobots.com/wp-content/uploads/2023/12/Inline-Blue_Black_onWhite@3x.png)\n",
    "\n",
    "# Introduction to `KNN Join` for WherobotsDB\n",
    "\n",
    "In this notebook we will demostrate how to perform k-Nearest Neighbors (kNN) joins in WherobotsDB.\n"
   ]
  },
  {
   "cell_type": "markdown",
   "id": "5d3f646f-53dc-4594-a240-099971d0c9ed",
   "metadata": {},
   "source": [
    "A geospatial k-Nearest Neighbors (kNN) join is a specialized form of the kNN join that specifically deals with geospatial data. This method involves identifying the k-nearest neighbors for a given spatial point or region based on geographic proximity, typically using spatial coordinates and a suitable distance metric like Euclidean or great-circle distance.\n",
    "\n",
    "**Approximate kNN Join**\n",
    "\n",
    "The Z-order based approximate algorithm leverages the properties of Z-order (or Morton order) encoding to efficiently process k-nearest neighbors (kNN) joins in spatial databases. This method maps multidimensional data to one dimension while preserving locality to a certain extent. Here, we outline the algorithm and discuss its application and efficiency in spatial join operations.\n",
    "    \n",
    "\n",
    "**Exact kNN Join**\n",
    "\n",
    "The method uses quad-tree partitioning strategy as a start point. It partitions the dataset $R$ into balanced partitions using the quad-tree strategy, preserving spatial locality. The method then builds an R-tree over a random sample of another dataset $S$ and uses distance bounds to ensure efficient local kNN joins. By calculating distance bounds and using circle range queries, the method ensures that the subsets $S_i$, containing all necessary points for accurate kNN results. The final union of local join results provides the complete kNN join result for the datasets $R$ and $S$.\n"
   ]
  },
  {
   "cell_type": "markdown",
   "id": "800c74bb-7414-4c4d-a835-95b7389ca5bf",
   "metadata": {},
   "source": [
    "## Initial Configuration"
   ]
  },
  {
   "cell_type": "code",
   "execution_count": null,
   "id": "f65a4406-ac0c-4196-868f-c288ca6dff29",
   "metadata": {},
   "outputs": [],
   "source": [
    "from sedona.spark import *\n",
    "\n",
    "# spark.conf.set(\"sedona.join.optimizationmode\", \"all\")\n",
    "config = SedonaContext.builder().getOrCreate()\n",
    "sedona = SedonaContext.create(config)\n"
   ]
  },
  {
   "cell_type": "markdown",
   "id": "12a04d5f-e7e6-41d5-942a-e353938af27c",
   "metadata": {},
   "source": [
    "# Define Inputs\n",
    " - Queries: This table contains the objects for which you want to find the nearest neighbors.\n",
    " - Objects: This table contains the objects that are potential neighbors to the objects in the Queries table."
   ]
  },
  {
   "cell_type": "markdown",
   "id": "883c61af-623f-4d59-a619-1a2f687f26f1",
   "metadata": {},
   "source": [
    "### Queries Table\n",
    "\n",
    "This table contains the objects for which you want to find the nearest neighbors."
   ]
  },
  {
   "cell_type": "code",
   "execution_count": null,
   "id": "b6150bb0-edc9-4bc3-adce-e746b0cc60de",
   "metadata": {},
   "outputs": [],
   "source": [
    "from pyspark.sql.functions import col\n",
    "from pyspark.sql.functions import monotonically_increasing_id, col\n",
    "\n",
    "# load data\n",
    "queries_df = sedona.table(\"wherobots_pro_data.nyc_taxi.yellow_2009_2010\").select(col(\"pickup_location\").alias(\"geometry\"))\n",
    "queries_df = queries_df.withColumn(\"id\", monotonically_increasing_id())\n",
    "\n",
    "queries_df = queries_df.sample(0.001)\n",
    "queries_df = queries_df.repartition(100)\n",
    "\n",
    "queries_df.createOrReplaceTempView(\"queries\")\n",
    "\n",
    "print(queries_df.rdd.getNumPartitions())\n",
    "print(queries_df.count())\n"
   ]
  },
  {
   "cell_type": "markdown",
   "id": "f802b1ac-0c1a-48c4-be92-ca689d850da5",
   "metadata": {},
   "source": [
    "### Objects Table\n",
    "\n",
    "This table contains the objects that are potential neighbors to the objects in the Queries table.\n"
   ]
  },
  {
   "cell_type": "code",
   "execution_count": null,
   "id": "bc1ba678-1687-4003-ae42-03bffec2a481",
   "metadata": {},
   "outputs": [],
   "source": [
    "# Load objects table\n",
    "objects_df = sedona.table(\"wherobots_open_data.overture_2024_02_15.transportation_connector\")\n",
    "\n",
    "objects_df = objects_df.sample(0.001)\n",
    "objects_df = objects_df.repartition(200)\n",
    "\n",
    "objects_df.createOrReplaceTempView(\"objects\")\n",
    "\n",
    "print(objects_df.rdd.getNumPartitions())\n",
    "print(objects_df.count())\n"
   ]
  },
  {
   "cell_type": "markdown",
   "id": "4c548a6b-58e6-4099-a61b-2c8ea91ab1d7",
   "metadata": {},
   "source": [
    "## Approximate and Exaxct KNN Join (AKNN)\n",
    "\n",
    "Approximate K-Nearest Neighbors (KNN) Join is a method used to find the nearest neighbors of objects in a high-dimensional space more efficiently than the exact KNN Join. \n",
    "\n",
    "The spatial SQL below demonstrates the new SQL syntax for performing approximate KNN on the Wherobots platform."
   ]
  },
  {
   "cell_type": "code",
   "execution_count": null,
   "id": "96c242b5-a96b-4239-a52d-d872cc8d3bfd",
   "metadata": {},
   "outputs": [],
   "source": [
    "# make sure this config is set before executing the knn join\n",
    "sedona.conf.set(\"spark.sql.autoBroadcastJoinThreshold\", -1)\n",
    "\n",
    "aknn_join_df = sedona.sql(\"\"\"\n",
    "SELECT\n",
    "    QUERIES.GEOMETRY AS QUERIES_GEOM,\n",
    "    QUERIES.ID AS QID,\n",
    "    OBJECTS.GEOMETRY AS OBJECTS_GEOM,\n",
    "    ST_DISTANCESPHERE(QUERIES.GEOMETRY, OBJECTS.GEOMETRY) AS DISTANCE,\n",
    "    ST_MakeLine(QUERIES.GEOMETRY, OBJECTS.GEOMETRY) AS LINE\n",
    "FROM QUERIES\n",
    "JOIN OBJECTS ON ST_AKNN(QUERIES.GEOMETRY, OBJECTS.GEOMETRY, 4, FALSE)\n",
    "\"\"\")\n"
   ]
  },
  {
   "cell_type": "code",
   "execution_count": null,
   "id": "44ed3a36-b453-4214-84ab-36a4608530c3",
   "metadata": {},
   "outputs": [],
   "source": [
    "%%time\n",
    "\n",
    "# cache for further queries and visualization\n",
    "aknn_join_df.cache()\n",
    "\n",
    "total_count = aknn_join_df.count()\n",
    "print(total_count)\n"
   ]
  },
  {
   "cell_type": "code",
   "execution_count": null,
   "id": "21b10e71-97ae-49a5-82c1-a5e741caf4ce",
   "metadata": {},
   "outputs": [],
   "source": [
    "# Number of unique QIDs needed\n",
    "N = 8\n",
    "\n",
    "# Select N unique QID rows\n",
    "unique_qid_df = aknn_join_df.dropDuplicates([\"QID\"]).limit(N)\n",
    "\n",
    "# Perform an inner join to get all rows from join_df that have QIDs in unique_qid_df\n",
    "related_rows_df = aknn_join_df.join(unique_qid_df, on=\"QID\", how=\"inner\").select(aknn_join_df[\"*\"])\n",
    "\n",
    "unique_qid_df.cache()\n",
    "related_rows_df.cache()\n",
    "\n",
    "related_rows_df.count()"
   ]
  },
  {
   "cell_type": "code",
   "execution_count": null,
   "id": "f6746d8b-db99-4a8f-b22a-402b2b21dab7",
   "metadata": {},
   "outputs": [],
   "source": [
    "# create map for the results\n",
    "map_view = SedonaKepler.create_map(unique_qid_df.select('QUERIES_GEOM'), name=\"TAXI\")\n",
    "SedonaKepler.add_df(map_view, df=related_rows_df.select('OBJECTS_GEOM', 'DISTANCE').withColumnRenamed(\"OBJECTS_GEOM\", \"geometry\"), name=\"TRANSPORTATION HUB\")\n",
    "map_view\n"
   ]
  },
  {
   "cell_type": "code",
   "execution_count": null,
   "id": "3b7e3fa2-12a3-43d0-baf9-1dd41c74c7cb",
   "metadata": {},
   "outputs": [],
   "source": [
    "# create map for the results\n",
    "map_view = SedonaKepler.create_map(unique_qid_df.select('QUERIES_GEOM'), name=\"TAXI\")\n",
    "SedonaKepler.add_df(map_view, df=related_rows_df.select('OBJECTS_GEOM', 'DISTANCE').withColumnRenamed(\"OBJECTS_GEOM\", \"geometry\"), name=\"TRANSPORTATION HUB\")\n",
    "SedonaKepler.add_df(map_view, df=related_rows_df.select('LINE', 'DISTANCE').withColumnRenamed(\"LINE\", \"geometry\"), name=\"KNN LINES\")\n",
    "map_view\n"
   ]
  },
  {
   "cell_type": "code",
   "execution_count": null,
   "id": "12ff2d5f-6d54-4008-8a90-a0b95f5a107b",
   "metadata": {
    "editable": true,
    "slideshow": {
     "slide_type": ""
    },
    "tags": []
   },
   "outputs": [],
   "source": [
    "# join_df.show()\n",
    "\n",
    "# Number of unique QIDs needed\n",
    "N = 100\n",
    "\n",
    "# Select N unique QID rows\n",
    "unique_qid_df = aknn_join_df.dropDuplicates([\"QID\"]).limit(N)\n",
    "\n",
    "# Perform an inner join to get all rows from join_df that have QIDs in unique_qid_df\n",
    "related_rows_df = aknn_join_df.join(unique_qid_df, on=\"QID\", how=\"inner\").select(aknn_join_df[\"*\"])\n",
    "\n",
    "unique_qid_df.cache()\n",
    "related_rows_df.cache()\n",
    "\n",
    "# create map for the results\n",
    "map_view_more = SedonaKepler.create_map(unique_qid_df.select('QUERIES_GEOM'), name=\"TAXI\")\n",
    "SedonaKepler.add_df(map_view_more, df=related_rows_df.select('OBJECTS_GEOM', 'DISTANCE').withColumnRenamed(\"OBJECTS_GEOM\", \"geometry\"), name=\"TRANSPORTATION HUB\")\n",
    "map_view_more\n"
   ]
  }
 ],
 "metadata": {
  "kernelspec": {
   "display_name": "Python 3 (ipykernel)",
   "language": "python",
   "name": "python3"
  },
  "language_info": {
   "codemirror_mode": {
    "name": "ipython",
    "version": 3
   },
   "file_extension": ".py",
   "mimetype": "text/x-python",
   "name": "python",
   "nbconvert_exporter": "python",
   "pygments_lexer": "ipython3",
   "version": "3.10.11"
  }
 },
 "nbformat": 4,
 "nbformat_minor": 5
}
