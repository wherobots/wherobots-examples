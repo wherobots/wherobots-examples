{
 "cells": [
  {
   "cell_type": "markdown",
   "id": "f68625d5-96ed-4760-b256-cf8320d0df6e",
   "metadata": {},
   "source": [
    "# Loading Geospatial Data with Wherobots\n",
    "\n",
    "## 📖 Introduction\n",
    "In this notebook, we will demonstrate how to load geospatial data into Wherobots using the following formats:\n",
    "\n",
    "1. **GeoParquet**\n",
    "2. **GeoJSON and Shapefiles**\n",
    "3. **Raster Data (GeoTIFF)**\n",
    "4. **Overture Maps Data**\n",
    "5. **Data from S3**\n",
    "\n",
    "Each section will walk through the necessary steps with annotated code and provide links to relevant Wherobots documentation.\n"
   ]
  },
  {
   "cell_type": "markdown",
   "id": "86231554-78ee-48af-b15d-8f8af35b5cbc",
   "metadata": {},
   "source": [
    "## 🗂 Step 1: Loading GeoParquet Files\n",
    "\n",
    "### What you'll learn:\n",
    "- How to load GeoParquet files into a DataFrame.\n",
    "- Perform basic spatial queries."
   ]
  },
  {
   "cell_type": "code",
   "execution_count": 31,
   "id": "4b8a35c2-7767-489a-b0b2-c1f21c31d965",
   "metadata": {
    "execution": {
     "iopub.execute_input": "2025-03-07T16:21:07.789305Z",
     "iopub.status.busy": "2025-03-07T16:21:07.789105Z",
     "iopub.status.idle": "2025-03-07T16:21:07.792386Z",
     "shell.execute_reply": "2025-03-07T16:21:07.792059Z",
     "shell.execute_reply.started": "2025-03-07T16:21:07.789291Z"
    }
   },
   "outputs": [],
   "source": [
    "# Import necessary libraries\n",
    "from sedona.sql.st_predicates import ST_Intersects\n",
    "from sedona.sql.st_constructors import ST_GeomFromText\n",
    "from sedona.spark import SedonaContext\n",
    "from pyspark.sql import SparkSession"
   ]
  },
  {
   "cell_type": "code",
   "execution_count": 2,
   "id": "a56cc531-a04b-450c-b390-60b00fc4018b",
   "metadata": {
    "execution": {
     "iopub.execute_input": "2025-03-07T16:09:17.238247Z",
     "iopub.status.busy": "2025-03-07T16:09:17.238032Z",
     "iopub.status.idle": "2025-03-07T16:09:41.182469Z",
     "shell.execute_reply": "2025-03-07T16:09:41.181646Z",
     "shell.execute_reply.started": "2025-03-07T16:09:17.238231Z"
    }
   },
   "outputs": [
    {
     "name": "stderr",
     "output_type": "stream",
     "text": [
      "Setting default log level to \"WARN\".\n",
      "To adjust logging level use sc.setLogLevel(newLevel). For SparkR, use setLogLevel(newLevel).\n",
      "                                                                                \r"
     ]
    }
   ],
   "source": [
    "# Initialize Sedona and Spark session\n",
    "config = SparkSession.builder \\\n",
    "    .appName(\"Dataset Loader\") \\\n",
    "    .getOrCreate()\n",
    "sedona = SedonaContext.create(config)"
   ]
  },
  {
   "cell_type": "code",
   "execution_count": 3,
   "id": "f1d98faa-6334-4f1e-b61a-f6fbb95e04ed",
   "metadata": {
    "execution": {
     "iopub.execute_input": "2025-03-07T16:09:41.185538Z",
     "iopub.status.busy": "2025-03-07T16:09:41.185380Z",
     "iopub.status.idle": "2025-03-07T16:09:43.441805Z",
     "shell.execute_reply": "2025-03-07T16:09:43.441239Z",
     "shell.execute_reply.started": "2025-03-07T16:09:41.185522Z"
    }
   },
   "outputs": [
    {
     "name": "stderr",
     "output_type": "stream",
     "text": [
      "                                                                                \r"
     ]
    }
   ],
   "source": [
    "# Load GeoParquet data\n",
    "gdf = sedona.read.format(\"geoparquet\").load(\"s3://wherobots-examples/data/mini/es_cn.parquet\")"
   ]
  },
  {
   "cell_type": "code",
   "execution_count": 4,
   "id": "d00e53f4-1f98-4b2c-9565-48ae49510f7a",
   "metadata": {
    "execution": {
     "iopub.execute_input": "2025-03-07T16:09:43.443049Z",
     "iopub.status.busy": "2025-03-07T16:09:43.442903Z",
     "iopub.status.idle": "2025-03-07T16:09:43.447953Z",
     "shell.execute_reply": "2025-03-07T16:09:43.447443Z",
     "shell.execute_reply.started": "2025-03-07T16:09:43.443034Z"
    }
   },
   "outputs": [
    {
     "name": "stdout",
     "output_type": "stream",
     "text": [
      "root\n",
      " |-- id: string (nullable = true)\n",
      " |-- geometry: geometry (nullable = true)\n",
      " |-- determination_datetime: timestamp (nullable = true)\n",
      " |-- admin_island: string (nullable = true)\n",
      " |-- crop:code: string (nullable = true)\n",
      " |-- crop:name: string (nullable = true)\n",
      " |-- area: float (nullable = true)\n",
      " |-- admin:country_code: string (nullable = true)\n",
      " |-- admin:subdivision_code: string (nullable = true)\n",
      " |-- crop:code_list: string (nullable = true)\n",
      " |-- bbox: struct (nullable = true)\n",
      " |    |-- xmin: double (nullable = true)\n",
      " |    |-- ymin: double (nullable = true)\n",
      " |    |-- xmax: double (nullable = true)\n",
      " |    |-- ymax: double (nullable = true)\n",
      "\n"
     ]
    }
   ],
   "source": [
    "gdf.printSchema()"
   ]
  },
  {
   "cell_type": "markdown",
   "id": "fef54f08-3606-483e-8639-e9443c524e29",
   "metadata": {},
   "source": [
    "📄 **Documentation Reference**: [Loading GeoParquet](https://docs.wherobots.com/#geoparquet-loading)  "
   ]
  },
  {
   "cell_type": "markdown",
   "id": "8ca72a65-a152-4598-99eb-1702b48481f6",
   "metadata": {},
   "source": [
    "## 🌍 Step 2: Loading GeoJSON and Shapefiles\n",
    "\n",
    "### What you'll learn:\n",
    "- How to ingest GeoJSON and Shapefiles."
   ]
  },
  {
   "cell_type": "code",
   "execution_count": 5,
   "id": "267c1d53-b6d6-444e-a8e2-bafcad689e35",
   "metadata": {
    "execution": {
     "iopub.execute_input": "2025-03-07T16:09:43.448990Z",
     "iopub.status.busy": "2025-03-07T16:09:43.448625Z",
     "iopub.status.idle": "2025-03-07T16:09:52.317628Z",
     "shell.execute_reply": "2025-03-07T16:09:52.316976Z",
     "shell.execute_reply.started": "2025-03-07T16:09:43.448970Z"
    }
   },
   "outputs": [
    {
     "name": "stderr",
     "output_type": "stream",
     "text": [
      "                                                                                \r"
     ]
    }
   ],
   "source": [
    "# Load GeoJSON file\n",
    "geojson_df = sedona.read.format(\"geojson\").load(\"s3://wherobots-examples/data/mini/2015_Tree_Census.geojson\")"
   ]
  },
  {
   "cell_type": "code",
   "execution_count": 6,
   "id": "ac227690-0694-4575-a151-5a28b7f9ccb7",
   "metadata": {
    "execution": {
     "iopub.execute_input": "2025-03-07T16:09:52.318493Z",
     "iopub.status.busy": "2025-03-07T16:09:52.318307Z",
     "iopub.status.idle": "2025-03-07T16:09:52.323283Z",
     "shell.execute_reply": "2025-03-07T16:09:52.322792Z",
     "shell.execute_reply.started": "2025-03-07T16:09:52.318479Z"
    }
   },
   "outputs": [
    {
     "name": "stdout",
     "output_type": "stream",
     "text": [
      "root\n",
      " |-- _corrupt_record: string (nullable = true)\n",
      " |-- geometry: geometry (nullable = true)\n",
      " |-- properties: struct (nullable = true)\n",
      " |    |-- address: string (nullable = true)\n",
      " |    |-- block_id: string (nullable = true)\n",
      " |    |-- boro_ct: string (nullable = true)\n",
      " |    |-- borocode: string (nullable = true)\n",
      " |    |-- boroname: string (nullable = true)\n",
      " |    |-- brnch_ligh: string (nullable = true)\n",
      " |    |-- brnch_othe: string (nullable = true)\n",
      " |    |-- brnch_shoe: string (nullable = true)\n",
      " |    |-- cb_num: string (nullable = true)\n",
      " |    |-- cncldist: string (nullable = true)\n",
      " |    |-- created_at: string (nullable = true)\n",
      " |    |-- curb_loc: string (nullable = true)\n",
      " |    |-- guards: string (nullable = true)\n",
      " |    |-- health: string (nullable = true)\n",
      " |    |-- latitude: string (nullable = true)\n",
      " |    |-- longitude: string (nullable = true)\n",
      " |    |-- nta: string (nullable = true)\n",
      " |    |-- nta_name: string (nullable = true)\n",
      " |    |-- problems: string (nullable = true)\n",
      " |    |-- root_grate: string (nullable = true)\n",
      " |    |-- root_other: string (nullable = true)\n",
      " |    |-- root_stone: string (nullable = true)\n",
      " |    |-- sidewalk: string (nullable = true)\n",
      " |    |-- spc_common: string (nullable = true)\n",
      " |    |-- spc_latin: string (nullable = true)\n",
      " |    |-- st_assem: string (nullable = true)\n",
      " |    |-- st_senate: string (nullable = true)\n",
      " |    |-- state: string (nullable = true)\n",
      " |    |-- status: string (nullable = true)\n",
      " |    |-- steward: string (nullable = true)\n",
      " |    |-- stump_diam: string (nullable = true)\n",
      " |    |-- tree_dbh: string (nullable = true)\n",
      " |    |-- tree_id: string (nullable = true)\n",
      " |    |-- trnk_light: string (nullable = true)\n",
      " |    |-- trnk_other: string (nullable = true)\n",
      " |    |-- trnk_wire: string (nullable = true)\n",
      " |    |-- user_type: string (nullable = true)\n",
      " |    |-- x_sp: string (nullable = true)\n",
      " |    |-- y_sp: string (nullable = true)\n",
      " |    |-- zip_city: string (nullable = true)\n",
      " |    |-- zipcode: string (nullable = true)\n",
      " |-- type: string (nullable = true)\n",
      "\n"
     ]
    }
   ],
   "source": [
    "geojson_df.printSchema()"
   ]
  },
  {
   "cell_type": "code",
   "execution_count": 7,
   "id": "24cacf97-3517-4e6b-9120-72199803c98f",
   "metadata": {
    "execution": {
     "iopub.execute_input": "2025-03-07T16:09:52.324047Z",
     "iopub.status.busy": "2025-03-07T16:09:52.323881Z",
     "iopub.status.idle": "2025-03-07T16:10:00.329160Z",
     "shell.execute_reply": "2025-03-07T16:10:00.328810Z",
     "shell.execute_reply.started": "2025-03-07T16:09:52.324034Z"
    }
   },
   "outputs": [
    {
     "name": "stderr",
     "output_type": "stream",
     "text": [
      "[Stage 5:====================================================>    (11 + 1) / 12]\r"
     ]
    },
    {
     "name": "stdout",
     "output_type": "stream",
     "text": [
      "root\n",
      " |-- _corrupt_record: string (nullable = true)\n",
      " |-- geometry: geometry (nullable = true)\n",
      " |-- address: string (nullable = true)\n",
      " |-- spc_common: string (nullable = true)\n",
      "\n"
     ]
    },
    {
     "name": "stderr",
     "output_type": "stream",
     "text": [
      "                                                                                \r"
     ]
    }
   ],
   "source": [
    "import pyspark.sql.functions as f\n",
    "\n",
    "df = sedona.read.format(\"geojson\").load(\"s3://wherobots-examples/data/mini/2015_Tree_Census.geojson\") \\\n",
    "    .withColumn(\"address\", f.expr(\"properties['address']\")) \\\n",
    "    .withColumn(\"spc_common\", f.expr(\"properties['spc_common']\")) \\\n",
    "    .drop(\"properties\").drop(\"type\")\n",
    "\n",
    "df.printSchema()"
   ]
  },
  {
   "cell_type": "code",
   "execution_count": 8,
   "id": "59ed79b6-76dd-4045-a7f0-d6b258d01a00",
   "metadata": {
    "execution": {
     "iopub.execute_input": "2025-03-07T16:10:00.329891Z",
     "iopub.status.busy": "2025-03-07T16:10:00.329725Z",
     "iopub.status.idle": "2025-03-07T16:10:00.810961Z",
     "shell.execute_reply": "2025-03-07T16:10:00.810562Z",
     "shell.execute_reply.started": "2025-03-07T16:10:00.329876Z"
    }
   },
   "outputs": [],
   "source": [
    "# Load Shapefile\n",
    "shapefile_df = sedona.read.format(\"shapefile\").load(\"s3://wherobots-examples/data/mini/HurricaneSandy/geo_export_2ca210ed-d8b2-4fe6-81eb-53cc96311073.shp\")"
   ]
  },
  {
   "cell_type": "code",
   "execution_count": 9,
   "id": "59728efd-638a-4449-9d46-5f1239fcb786",
   "metadata": {
    "execution": {
     "iopub.execute_input": "2025-03-07T16:10:00.811945Z",
     "iopub.status.busy": "2025-03-07T16:10:00.811656Z",
     "iopub.status.idle": "2025-03-07T16:10:00.816066Z",
     "shell.execute_reply": "2025-03-07T16:10:00.815656Z",
     "shell.execute_reply.started": "2025-03-07T16:10:00.811925Z"
    }
   },
   "outputs": [
    {
     "name": "stdout",
     "output_type": "stream",
     "text": [
      "root\n",
      " |-- geometry: geometry (nullable = true)\n",
      " |-- comments: string (nullable = true)\n",
      " |-- state: string (nullable = true)\n",
      " |-- demsource: string (nullable = true)\n",
      " |-- id: decimal(33,31) (nullable = true)\n",
      " |-- status: string (nullable = true)\n",
      " |-- sourcedata: string (nullable = true)\n",
      " |-- verified: string (nullable = true)\n",
      "\n"
     ]
    }
   ],
   "source": [
    "# Inspect and perform a query\n",
    "shapefile_df.printSchema()"
   ]
  },
  {
   "cell_type": "markdown",
   "id": "94031647-3ad1-4d94-b5ba-31dbded9cc98",
   "metadata": {},
   "source": [
    "📄 **Documentation Reference**: [Ingesting GeoJSON](https://docs.wherobots.com/#geojson-loading)  "
   ]
  },
  {
   "cell_type": "markdown",
   "id": "7bd8ec2c-92a0-4989-8c0c-79eb1e9003ce",
   "metadata": {},
   "source": [
    "## 🖼️ Step 3: Loading Raster Data (GeoTIFF)\n",
    "\n",
    "### What you'll learn:\n",
    "- How to load raster datasets and inspect metadata.\n"
   ]
  },
  {
   "cell_type": "code",
   "execution_count": 10,
   "id": "0867b6ba-bc70-4737-801d-672cda6d2de1",
   "metadata": {
    "execution": {
     "iopub.execute_input": "2025-03-07T16:10:00.816818Z",
     "iopub.status.busy": "2025-03-07T16:10:00.816643Z",
     "iopub.status.idle": "2025-03-07T16:10:00.952233Z",
     "shell.execute_reply": "2025-03-07T16:10:00.951744Z",
     "shell.execute_reply.started": "2025-03-07T16:10:00.816801Z"
    }
   },
   "outputs": [],
   "source": [
    "# Load a GeoTIFF raster file\n",
    "raster_df = sedona.read.format(\"binaryFile\").load(\"s3://wherobots-examples/data/mini/NYC_3ft_Landcover.tif\")"
   ]
  },
  {
   "cell_type": "code",
   "execution_count": 11,
   "id": "012e882b-08ec-4851-9f91-4d0034bdae08",
   "metadata": {
    "execution": {
     "iopub.execute_input": "2025-03-07T16:10:00.953661Z",
     "iopub.status.busy": "2025-03-07T16:10:00.953430Z",
     "iopub.status.idle": "2025-03-07T16:10:01.028255Z",
     "shell.execute_reply": "2025-03-07T16:10:01.027685Z",
     "shell.execute_reply.started": "2025-03-07T16:10:00.953648Z"
    }
   },
   "outputs": [],
   "source": [
    "# Convert binary content to a raster object\n",
    "raster_df = raster_df.selectExpr(\"RS_FromGeoTiff(content) as raster\")"
   ]
  },
  {
   "cell_type": "markdown",
   "id": "90591236-c0f1-4363-b7f0-d02ed91ad442",
   "metadata": {},
   "source": [
    "📄 **Documentation Reference**: [Loading Raster Data](https://docs.wherobots.com/#raster-loading)  "
   ]
  },
  {
   "cell_type": "markdown",
   "id": "ef3be7bd-dc6f-4223-9658-80713ef7c33e",
   "metadata": {},
   "source": [
    "## 🗺️ Step 4: Loading Overture Maps Data\n",
    "\n",
    "### What you'll learn:\n",
    "- Load and query datasets provided by Overture Maps.\n"
   ]
  },
  {
   "cell_type": "code",
   "execution_count": 15,
   "id": "434911d2-de1a-4936-9045-31ddc74808bd",
   "metadata": {
    "execution": {
     "iopub.execute_input": "2025-03-07T16:13:28.948088Z",
     "iopub.status.busy": "2025-03-07T16:13:28.947862Z",
     "iopub.status.idle": "2025-03-07T16:13:30.502992Z",
     "shell.execute_reply": "2025-03-07T16:13:30.502603Z",
     "shell.execute_reply.started": "2025-03-07T16:13:28.948074Z"
    }
   },
   "outputs": [],
   "source": [
    "# Load Overture Maps building dataset\n",
    "buildings_df = sedona.read.format(\"iceberg\").load(\"wherobots_open_data.overture.buildings_building\")"
   ]
  },
  {
   "cell_type": "code",
   "execution_count": 34,
   "id": "424f9a3c-f7d4-4202-b678-f65303c455a0",
   "metadata": {
    "execution": {
     "iopub.execute_input": "2025-03-07T16:21:47.122170Z",
     "iopub.status.busy": "2025-03-07T16:21:47.121961Z",
     "iopub.status.idle": "2025-03-07T16:21:47.136445Z",
     "shell.execute_reply": "2025-03-07T16:21:47.135843Z",
     "shell.execute_reply.started": "2025-03-07T16:21:47.122155Z"
    }
   },
   "outputs": [],
   "source": [
    "# Filter based on geometry (example: within a bounding box)\n",
    "bbox_wkt = '''POLYGON((-122.5 37.0, -122.5 37.5, -121.5 37.5, -121.5 37.0, -122.5 37.0))'''\n",
    "buildings_filtered = buildings_df.where(ST_Intersects(\"geometry\", f.expr(f'''ST_GeomFromText('{bbox_wkt}')''')))"
   ]
  },
  {
   "cell_type": "code",
   "execution_count": 35,
   "id": "a74b4e22-6e42-4a2f-b792-6d86c6b50f66",
   "metadata": {
    "execution": {
     "iopub.execute_input": "2025-03-07T16:21:48.224977Z",
     "iopub.status.busy": "2025-03-07T16:21:48.224762Z",
     "iopub.status.idle": "2025-03-07T16:21:51.624700Z",
     "shell.execute_reply": "2025-03-07T16:21:51.624045Z",
     "shell.execute_reply.started": "2025-03-07T16:21:48.224962Z"
    }
   },
   "outputs": [
    {
     "name": "stderr",
     "output_type": "stream",
     "text": [
      "[Stage 8:>                                                          (0 + 1) / 1]\r"
     ]
    },
    {
     "name": "stdout",
     "output_type": "stream",
     "text": [
      "+--------------------+--------------------+-------+-----+-----+------+---------+-----------+--------------------+--------------------+--------------------+-------+\n",
      "|                  id|          updatetime|version|names|level|height|numfloors|      class|             sources|                bbox|            geometry|geohash|\n",
      "+--------------------+--------------------+-------+-----+-----+------+---------+-----------+--------------------+--------------------+--------------------+-------+\n",
      "|tmp_7733393231353...|2016-01-18T20:36:...|      0|   {}| NULL|   2.4|     NULL|       NULL|[{dataset -> USGS...|{-122.1369756, -1...|POLYGON ((-122.13...|     9q|\n",
      "|tmp_7731303530363...|2022-04-10T04:52:...|      0|   {}| NULL|  NULL|     NULL|residential|[{dataset -> Open...|{-122.1396009, -1...|POLYGON ((-122.13...|     9q|\n",
      "|tmp_7733373936373...|2021-10-02T19:44:...|      0|   {}| NULL|   3.6|     NULL|       NULL|[{dataset -> Open...|{-121.8066009, -1...|POLYGON ((-121.80...|     9q|\n",
      "|tmp_7733383238373...|2015-11-26T15:12:...|      0|   {}| NULL|  NULL|     NULL|       NULL|[{dataset -> Open...|{-122.2115413, -1...|POLYGON ((-122.21...|     9q|\n",
      "|tmp_7733393032363...|2016-01-08T18:03:...|      0|   {}| NULL|   4.0|     NULL|       NULL|[{dataset -> USGS...|{-122.0189285, -1...|POLYGON ((-122.01...|     9q|\n",
      "|tmp_7733353937303...|2021-10-02T19:44:...|      0|   {}| NULL|   4.1|     NULL|       NULL|[{dataset -> Open...|{-121.8013576, -1...|POLYGON ((-121.80...|     9q|\n",
      "|tmp_7733343038343...|2015-04-27T08:16:...|      0|   {}| NULL|   4.1|     NULL|       NULL|[{dataset -> USGS...|{-121.549742, -12...|POLYGON ((-121.54...|     9q|\n",
      "|tmp_7733363238313...|2022-06-12T04:43:...|      0|   {}| NULL|  6.41|     NULL|residential|[{dataset -> Open...|{-121.8049453, -1...|POLYGON ((-121.80...|     9q|\n",
      "|tmp_7739353431303...|2021-06-14T01:00:...|      0|   {}| NULL|  2.65|     NULL|       NULL|[{dataset -> Open...|{-121.8103125, -1...|POLYGON ((-121.81...|     9q|\n",
      "|tmp_7732353634343...|2020-10-30T02:13:...|      0|   {}| NULL|   4.4|        1|residential|[{dataset -> USGS...|{-122.0558462, -1...|POLYGON ((-122.05...|     9q|\n",
      "|tmp_7739303639353...|2021-02-14T02:20:...|      0|   {}| NULL|  4.92|     NULL|       NULL|[{dataset -> Open...|{-121.9062614, -1...|POLYGON ((-121.90...|     9q|\n",
      "|tmp_3538303432313...|2023-07-01T07:00:...|      0|   {}| NULL|   7.8|     NULL|       NULL|[{dataset -> USGS...|{-122.0043632, -1...|POLYGON ((-122.00...|     9q|\n",
      "|tmp_7738303437393...|2020-05-17T02:55:...|      0|   {}| NULL|  3.89|     NULL|       NULL|[{dataset -> Open...|{-122.0269517, -1...|POLYGON ((-122.02...|     9q|\n",
      "|tmp_7739313930313...|2021-03-19T04:25:...|      0|   {}| NULL|  3.36|     NULL|       NULL|[{dataset -> Open...|{-121.8794212, -1...|POLYGON ((-121.87...|     9q|\n",
      "|tmp_7738333433373...|2020-08-06T01:23:...|      0|   {}| NULL|  4.29|     NULL|       NULL|[{dataset -> Open...|{-121.9918305, -1...|POLYGON ((-121.99...|     9q|\n",
      "|tmp_7732333932353...|2013-09-25T17:31:...|      0|   {}| NULL|  NULL|     NULL|       NULL|[{dataset -> Open...|{-122.1968669, -1...|POLYGON ((-122.19...|     9q|\n",
      "|tmp_7733383238393...|2015-11-26T17:07:...|      0|   {}| NULL|   7.2|     NULL|       NULL|[{dataset -> USGS...|{-122.1817277, -1...|POLYGON ((-122.18...|     9q|\n",
      "|tmp_7733393134303...|2016-01-14T16:17:...|      0|   {}| NULL|   5.0|     NULL|       NULL|[{dataset -> USGS...|{-121.9938749, -1...|POLYGON ((-121.99...|     9q|\n",
      "|tmp_3537383835303...|2023-07-01T07:00:...|      0|   {}| NULL|  NULL|     NULL|       NULL|[{dataset -> Micr...|{-122.1612029, -1...|POLYGON ((-122.16...|     9q|\n",
      "|tmp_3538333836373...|2023-07-01T07:00:...|      0|   {}| NULL|   2.5|     NULL|       NULL|[{dataset -> USGS...|{-121.659981, -12...|POLYGON ((-121.65...|     9q|\n",
      "+--------------------+--------------------+-------+-----+-----+------+---------+-----------+--------------------+--------------------+--------------------+-------+\n",
      "only showing top 20 rows\n",
      "\n"
     ]
    },
    {
     "name": "stderr",
     "output_type": "stream",
     "text": [
      "                                                                                \r"
     ]
    }
   ],
   "source": [
    "# Show results\n",
    "buildings_filtered.show()"
   ]
  },
  {
   "cell_type": "markdown",
   "id": "e38e86b3-30bb-4a39-9954-90e002d3737b",
   "metadata": {},
   "source": [
    "## 🔮 Next Steps\n",
    "\n",
    "In this notebook, we demonstrated how to:\n",
    "\n",
    "1. Load GeoParquet, GeoJSON, Shapefiles, and raster data into Wherobots.\n",
    "2. Query spatial data using basic spatial operations.\n",
    "3. Integrate datasets directly from S3 and Overture Maps.\n",
    "\n",
    "### What’s next?\n",
    "- Explore **spatial transformations** like buffering or intersecting geometries.\n",
    "- Perform **spatial joins** for more advanced analytics.\n",
    "- Visualize query results with **SedonaKepler** or **SedonaPyDeck**.\n",
    "\n",
    "For further details, check out the [Wherobots Documentation](https://docs.wherobots.com).\n"
   ]
  }
 ],
 "metadata": {
  "kernelspec": {
   "display_name": "Python 3 (ipykernel)",
   "language": "python",
   "name": "python3"
  },
  "language_info": {
   "codemirror_mode": {
    "name": "ipython",
    "version": 3
   },
   "file_extension": ".py",
   "mimetype": "text/x-python",
   "name": "python",
   "nbconvert_exporter": "python",
   "pygments_lexer": "ipython3",
   "version": "3.11.11"
  }
 },
 "nbformat": 4,
 "nbformat_minor": 5
}
