{
 "cells": [
  {
   "cell_type": "markdown",
   "id": "246055dd-6c4d-4a3c-8ed5-e4569c9c399d",
   "metadata": {},
   "source": [
    "![Wherobots logo](./assets/img/header-logo.png)\n",
    "\n",
    "# Introducing Wherobots\n",
    "\n",
    "This notebook will get you hands-on with geospatial analysis in Wherobots using scala. Using Scala in Wherobots notebooks is similar to python, but with a few key differences we will highlight here."
   ]
  },
  {
   "cell_type": "markdown",
   "id": "b99929d65cb487c",
   "metadata": {},
   "source": [
    "# Set up your Sedona context\n",
    "\n",
    "A `SedonaContext` connects your code to the Wherobots Cloud compute environment where your queries can run fast and efficiently.\n",
    "\n",
    "First, you set up the `config` for your compute environment, then use that configuration to launch the `sedona` context. We’ll use the default configuration in this notebook, but you can learn about configuring the context in our [documentation](https://docs.wherobots.com/latest/develop/notebook-management/notebook-instance-management/)."
   ]
  },
  {
   "cell_type": "code",
   "execution_count": null,
   "id": "d9a0ca5e-0c8c-4abc-9f5e-bb9143e14621",
   "metadata": {},
   "outputs": [],
   "source": [
    "import org.apache.sedona.spark.SedonaContext\n",
    "\n",
    "val config = SedonaContext.builder().getOrCreate()\n",
    "val sedona = SedonaContext.create(config)"
   ]
  },
  {
   "cell_type": "markdown",
   "id": "a23a92a367ac7422",
   "metadata": {},
   "source": [
    "# Reading Data\n",
    "\n",
    "Reading data in Wherobots looks similar to the spark code you are used to. We have a few readers that are specific to geospatial data, such as `geoparquet` and `geojson`.\n",
    "\n",
    "> **GeoParquet** is an open, efficient format for storing geospatial data, perfect for large-scale geospatial workflows. ([Docs: Loading GeoParquet](https://docs.wherobots.com/latest/tutorials/wherobotsdb/vector-data/vector-load/?h=read+geopar#load-geoparquet))"
   ]
  },
  {
   "cell_type": "code",
   "execution_count": null,
   "id": "f9a5bc06585c854c",
   "metadata": {},
   "outputs": [],
   "source": [
    "// URI of sample data in an S3 bucket\n",
    "val geoparquet_uri = \"s3://wherobots-examples/data/onboarding_1/nyc_buildings.parquet\"\n",
    "\n",
    "// Load from S3 into a Sedona DataFrame\n",
    "val buildings = sedona.read.format(\"geoparquet\").load(geoparquet_uri)\n",
    "\n",
    "buildings.printSchema()"
   ]
  },
  {
   "cell_type": "markdown",
   "id": "688b544f59605483",
   "metadata": {},
   "source": [
    "# Importing ST Functions\n",
    "Wherobots in scala supports a full dataframe interface. You can use sql queries or the dataframe API to work with your data. Below is an example of importing the ST functions you will use to work with your data.\n",
    "\n",
    "Full documentation about the Dataframe API is available in the [Wherobots documentation](https://docs.wherobots.com/latest/references/wherobotsdb/vector-data/DataFrameAPI/).\n"
   ]
  },
  {
   "cell_type": "code",
   "execution_count": null,
   "id": "32c484872802ce37",
   "metadata": {},
   "outputs": [],
   "source": [
    "import org.apache.spark.sql.sedona_sql.expressions.st_constructors.ST_MakePoint\n",
    "import org.apache.spark.sql.functions.lit\n",
    "\n",
    "buildings.withColumn(\"geom2\", ST_MakePoint(lit(1.2), lit(3.4)))\n",
    "  .select(\"geom\")\n",
    "  .show(5, false)"
   ]
  }
 ],
 "metadata": {
  "kernelspec": {
   "display_name": "Scala",
   "language": "scala",
   "name": "scala"
  },
  "language_info": {
   "codemirror_mode": "text/x-scala",
   "file_extension": ".sc",
   "mimetype": "text/x-scala",
   "name": "scala",
   "nbconvert_exporter": "script"
  }
 },
 "nbformat": 4,
 "nbformat_minor": 5
}
