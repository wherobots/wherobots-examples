{
 "cells": [
  {
   "cell_type": "markdown",
   "id": "5240b24e-7c77-4a2a-8191-fda9f2fd6e47",
   "metadata": {},
   "source": [
    "![](https://wherobots.com/wp-content/uploads/2023/12/Inline-Blue_Black_onWhite@3x.png)\n",
    "\n",
    "# Introduction to `VTiles` for WherobotsDB\n",
    "\n",
    "In this notebook we will create PMTiles vector tiles for rendering maps using building and road data from the Overture Maps dataset in the Wherobots Open Data Catalog."
   ]
  },
  {
   "cell_type": "markdown",
   "id": "971dd764-b70a-4e0d-80a2-434c682ed2e3",
   "metadata": {
    "tags": []
   },
   "source": [
    "## Introduction To Vector Tiles\n",
    "\n",
    "Vector tiles provide performant rendering of map data for large vector feature datasets across large regions and zoom\n",
    "levels. Here’s why, and when, they should be used:\n",
    "\n",
    "* Vector tiles are designed for use in web maps, mobile apps, and desktop GIS software.\n",
    "* WherobotsDB makes it easy and affordable to generate vector tiles at a planetary scale.\n",
    "* By rendering vector tiles directly, the interactive map experience is more responsive and scalable for large datasets\n",
    "  than rendering feature formats (e.g., GeoJSON) directly and allows developers to customize the display, which is\n",
    "  otherwise impossible with raster tiles."
   ]
  },
  {
   "cell_type": "markdown",
   "id": "eb344c65-62dd-42f5-bb73-eb4bdf18fb5e",
   "metadata": {},
   "source": [
    "## How To Generate Vector Tiles"
   ]
  },
  {
   "cell_type": "markdown",
   "id": "a9540d21-0205-4ed3-9b40-6b859a1f445c",
   "metadata": {},
   "source": [
    "### Start a Sedona Session\n",
    "\n",
    "As always, begin by starting a Sedona context"
   ]
  },
  {
   "cell_type": "code",
   "execution_count": null,
   "id": "37a8ae86-c364-4d65-8b7b-402dd75150c4",
   "metadata": {},
   "outputs": [],
   "source": [
    "import org.apache.sedona.spark.SedonaContext\n",
    "\n",
    "val config = SedonaContext.builder().getOrCreate()\n",
    "val sedona = SedonaContext.create(config)"
   ]
  },
  {
   "cell_type": "markdown",
   "id": "d3bf7649-2a35-43bb-9cb8-690426e2ad72",
   "metadata": {},
   "source": [
    "### Load Feature Data\n",
    "\n",
    "Create a Spatial DataFrame with a geometry column and a layer column. The geometry column contains the features to render in the\n",
    "map. The layer column is a string that describes the grouping the feature should be in. Records within the same layer\n",
    "can be styled together, independently of other layers. In this case example features that represent buildings are in the buildings layer and those representing roads are in the roads layer.\n",
    "\n",
    "The first cell that follows gives some variable to control where we generate tiles for. The default is a small town in Washington: Issaquah."
   ]
  },
  {
   "cell_type": "code",
   "execution_count": null,
   "id": "86cf7fd1-1f6c-4836-81e8-bde0b67b9ce0",
   "metadata": {},
   "outputs": [],
   "source": [
    "import org.apache.spark.sql.sedona_sql.expressions.st_constructors.ST_GeomFromText\n",
    "import org.apache.spark.sql.sedona_sql.expressions.st_predicates.ST_Intersects\n",
    "import org.apache.spark.sql.functions.{lit, col}\n",
    "\n",
    "// Set to False to generate tiles for the entire dataset, true to generate only for regionWkt area\n",
    "val filter = true\n",
    "val regionWkt = \"POLYGON ((-122.097931 47.538528, -122.048836 47.566566, -121.981888 47.510012, -122.057076 47.506302, -122.097931 47.538528))\"\n",
    "val filterExpression = ST_Intersects(col(\"geometry\"), ST_GeomFromText(lit(regionWkt)))"
   ]
  },
  {
   "cell_type": "markdown",
   "id": "c075a394",
   "metadata": {
    "vscode": {
     "languageId": "plaintext"
    }
   },
   "source": [
    "Next, we create the buildings Spatial DataFrame using the Overture buildings table from the Wherobots Open Data Catalog."
   ]
  },
  {
   "cell_type": "code",
   "execution_count": null,
   "id": "d57b9c15-bf60-47b7-8b20-37be6c581af3",
   "metadata": {},
   "outputs": [],
   "source": [
    "import org.apache.spark.sql.functions.element_at\n",
    "\n",
    "val buildingsDf = sedona.table(\"wherobots_open_data.overture_2024_02_15.buildings_building\")\n",
    "  .select(\n",
    "    col(\"geometry\"),\n",
    "    lit(\"buildings\").alias(\"layer\"),\n",
    "    element_at(col(\"sources\"), 1)(\"dataset\").alias(\"source\")\n",
    "  )\n",
    "\n",
    "buildingsDf.show()"
   ]
  },
  {
   "cell_type": "markdown",
   "id": "8e3ebc59",
   "metadata": {
    "vscode": {
     "languageId": "plaintext"
    }
   },
   "source": [
    "Next, we create a Spatial DataFrame for our road features using the Overture transportation segment table."
   ]
  },
  {
   "cell_type": "code",
   "execution_count": null,
   "id": "153238ce-9922-49bd-9868-75bbb787430a",
   "metadata": {},
   "outputs": [],
   "source": [
    "val roadsDf = sedona.table(\"wherobots_open_data.overture_2024_02_15.transportation_segment\")\n",
    "  .select(\n",
    "    col(\"geometry\"),\n",
    "    lit(\"roads\").alias(\"layer\"),\n",
    "    element_at(col(\"sources\"), 1)(\"dataset\").alias(\"source\")\n",
    "  )\n",
    "\n",
    "roadsDf.show()"
   ]
  },
  {
   "cell_type": "markdown",
   "id": "89d88540",
   "metadata": {},
   "source": [
    "Next, we prepare a single spatial DataFrame combining our roads and buildings features."
   ]
  },
  {
   "cell_type": "code",
   "execution_count": null,
   "id": "177c4d70-6fab-496b-8b3d-6bdfcd15df18",
   "metadata": {},
   "outputs": [],
   "source": [
    "var featuresDf = roadsDf.union(buildingsDf)\n",
    "\n",
    "featuresDf = if (filter) featuresDf.filter(filterExpression) else featuresDf\n",
    "\n",
    "featuresDf.count()"
   ]
  },
  {
   "cell_type": "markdown",
   "id": "a2c7de7c-e705-45f1-829c-43114475e5d2",
   "metadata": {},
   "source": [
    "### Create DataFrame of Tiles\n",
    "\n",
    "Once we have the Spatial DataFrame ready for tile generation, we can use the `VTiles.generate` method to create a DataFrame containing the encoded tiles. A `GenerationConfig` object can optionally be provided as a second argument if a non-default configuration is desired."
   ]
  },
  {
   "cell_type": "code",
   "execution_count": null,
   "id": "ee1a466c-f88b-41c0-b3e8-dd125c117a77",
   "metadata": {},
   "outputs": [],
   "source": [
    "import com.wherobots.VTiles\n",
    "\n",
    "val tilesDf = VTiles.generate(featuresDf)\n",
    "\n",
    "tilesDf.show(3, 150, true)"
   ]
  },
  {
   "cell_type": "markdown",
   "id": "e0f026cd-34df-4620-b2bb-f7bc95dfac39",
   "metadata": {},
   "source": [
    "### Write Tiles to File Storage\n",
    "\n",
    "WherobotsDB creates vector tiles in the PMTiles format by default. The PMTiles format is a performant, simple, and\n",
    "optimized format for creating vector tiles and provides an interface for configuration through a `PMTilesConfig` object.\n",
    "In this example, we leverage a WherobotsDB feature to configure the archive directly from the feature DataFrame used to\n",
    "generated the tiles:"
   ]
  },
  {
   "cell_type": "code",
   "execution_count": null,
   "id": "48866b66-5fd3-4fda-9e42-226c5b24f159",
   "metadata": {},
   "outputs": [],
   "source": [
    "val fullTilesPath = sys.env(\"USER_S3_PATH\") + \"tiles.pmtiles\"\n",
    "VTiles.writePMTiles(tilesDf, fullTilesPath, featuresDf = Some(featuresDf))"
   ]
  },
  {
   "cell_type": "markdown",
   "id": "6d61fea1-ebd6-4b8b-a974-7a93d7c5de42",
   "metadata": {},
   "source": [
    "## Quick Generation of Tiles\n",
    "\n",
    "Sometimes you want to quickly visualize a massive dataset. To achieve this goal, WherobotsDB provides functionality for\n",
    "quickly generating and saving tiles. When testing this function it completed 100 million features in\n",
    "less than 5 minutes on a Wherobots Cloud Cairo runtime. This is accomplished by limiting the features processed to 100 million and\n",
    "generating fewer zoom levels at a higher resolution. At high zooms, the low precision from the low maximum zoom may be\n",
    "evident.\n",
    "\n",
    "The Scala/Java API exposes the `getQuickConfig` method which can be passed to\n",
    "the `vtiles.generate` or `vtiles.generatePMTiles` methods for the same tile generation functionality.\n",
    "\n",
    "This feature can be used as follows:"
   ]
  },
  {
   "cell_type": "code",
   "execution_count": null,
   "id": "23a7b83a-d52f-4a2f-8239-24b64350b8fd",
   "metadata": {},
   "outputs": [],
   "source": [
    "val SampleTilesPath = sys.env(\"USER_S3_PATH\") + \"sampleTiles.pmtiles\"\n",
    "VTiles.generatePMTiles(featuresDf, SampleTilesPath, VTiles.getQuickConfig)"
   ]
  },
  {
   "cell_type": "markdown",
   "id": "0f8e7982-26e1-4faa-805e-d274c2af39d5",
   "metadata": {},
   "source": [
    "As a comprehensive map application toolbox, WherobotsDB provides many off-the-shelf scalable tools. In this\n",
    "tutorial, we just focus on a minimum example. Detailed explanation of each tool can be found\n",
    "in [the documentation](https://docs.wherobots.com/latest/references/wherobotsdb/vector-data/Overview/)."
   ]
  }
 ],
 "metadata": {
  "kernelspec": {
   "display_name": "Scala",
   "language": "scala",
   "name": "spylon-kernel"
  },
  "language_info": {
   "codemirror_mode": "text/x-scala",
   "file_extension": ".scala",
   "help_links": [
    {
     "text": "MetaKernel Magics",
     "url": "https://metakernel.readthedocs.io/en/latest/source/README.html"
    }
   ],
   "mimetype": "text/x-scala",
   "name": "scala",
   "pygments_lexer": "scala",
   "version": "0.4.1"
  }
 },
 "nbformat": 4,
 "nbformat_minor": 5
}
