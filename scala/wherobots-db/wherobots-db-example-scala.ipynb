{
 "cells": [
  {
   "cell_type": "markdown",
   "id": "246055dd-6c4d-4a3c-8ed5-e4569c9c399d",
   "metadata": {},
   "source": [
    "![](https://wherobots.com/wp-content/uploads/2023/12/Inline-Blue_Black_onWhite@3x.png)\n",
    "\n",
    "# WherobotsDB Example Notebook - Scala\n",
    "\n",
    "This notebook demonstrates loading Shapefile data, performing a spatial join operation and writing the results as GeoParquet. \n",
    "\n",
    "First, we import Python dependencies and then configure WherobotsDB to access the public `wherobots-examples` AWS S3 bucket. You can read more about configuring file access in the [documentation.](https://docs.wherobots.com/latest/references/havasu/configuration/cross-account/?h=s3)"
   ]
  },
  {
   "cell_type": "code",
   "execution_count": null,
   "id": "dddd6f1f-c6ad-4f48-82ae-46d4e8573b8f",
   "metadata": {},
   "outputs": [],
   "source": [
    "%%init_spark"
   ]
  },
  {
   "cell_type": "code",
   "execution_count": null,
   "id": "8f061462-8ca0-4a26-ac84-eab58da27e1f",
   "metadata": {},
   "outputs": [],
   "source": [
    "import org.apache.sedona.core.formatMapper.shapefileParser.ShapefileReader\n",
    "import org.apache.sedona.spark.SedonaContext\n",
    "import org.apache.sedona.sql.utils.Adapter\n",
    "import org.apache.spark.sql.SaveMode\n",
    "import org.apache.spark.sql.functions.desc"
   ]
  },
  {
   "cell_type": "code",
   "execution_count": null,
   "id": "d9a0ca5e-0c8c-4abc-9f5e-bb9143e14621",
   "metadata": {},
   "outputs": [],
   "source": [
    "val sedona = SedonaContext.create(spark)\n",
    "val sc = sedona.sparkContext"
   ]
  },
  {
   "cell_type": "code",
   "execution_count": null,
   "id": "c9534ce5-b7f1-45b9-bc80-f32b0d6bf468",
   "metadata": {},
   "outputs": [],
   "source": [
    "// Read the countries shapefiles from S3\n",
    "val s3BucketName = \"wherobots-examples\"\n",
    "val countries = ShapefileReader.readToGeometryRDD(sc, s\"s3://$s3BucketName/data/ne_50m_admin_0_countries_lakes/\")\n",
    "// Convert the Spatial RDD to a Spatial DataFrame using the Adapter\n",
    "val countries_df = Adapter.toDf(countries, sedona)\n",
    "countries_df.createOrReplaceTempView(\"country\")\n",
    "countries_df.printSchema()\n",
    "\n",
    "// countries_df.write.format(\"havasu.iceberg\").saveAsTable(\"my_catalog.test_db.country\")"
   ]
  },
  {
   "cell_type": "code",
   "execution_count": null,
   "id": "c2b47b60-b73f-4d94-8f11-16706afde242",
   "metadata": {},
   "outputs": [],
   "source": [
    "// Read the airports shapefiles from S3\n",
    "val airports = ShapefileReader.readToGeometryRDD(sc, s\"s3://$s3BucketName/data/ne_50m_airports/\")\n",
    "// Convert the Spatial RDD to a Spatial DataFrame using the Adapter\n",
    "val airports_df = Adapter.toDf(airports, sedona)\n",
    "airports_df.createOrReplaceTempView(\"airport\")\n",
    "airports_df.printSchema()"
   ]
  },
  {
   "cell_type": "code",
   "execution_count": null,
   "id": "f6634c32-0a8b-414b-9d14-c50ccfbfd10a",
   "metadata": {},
   "outputs": [],
   "source": [
    "// Run a spatial join query to find airports in each country\n",
    "val result = sedona.sql(\"SELECT c.geometry as country_geom, c.NAME_EN, a.geometry as airport_geom, a.name FROM country c, airport a WHERE ST_Contains(c.geometry, a.geometry)\")\n",
    "// Aggregate the results to find the number of airports in each country\n",
    "val aggregateResult = result.groupBy(\"NAME_EN\", \"country_geom\").count()\n",
    "aggregateResult.orderBy(desc(\"count\")).show()"
   ]
  },
  {
   "cell_type": "code",
   "execution_count": null,
   "id": "d4dd5a05-91bc-4df7-9b47-25b684089cfd",
   "metadata": {},
   "outputs": [],
   "source": [
    "// Write the results to a GeoParquet file\n",
    "aggregateResult.write.format(\"geoparquet\").mode(SaveMode.Overwrite).save(sys.env(\"USER_S3_PATH\") + \"airport_country.parquet\")"
   ]
  }
 ],
 "metadata": {
  "kernelspec": {
   "display_name": "Scala",
   "language": "scala",
   "name": "spylon-kernel"
  },
  "language_info": {
   "codemirror_mode": "text/x-scala",
   "file_extension": ".scala",
   "help_links": [
    {
     "text": "MetaKernel Magics",
     "url": "https://metakernel.readthedocs.io/en/latest/source/README.html"
    }
   ],
   "mimetype": "text/x-scala",
   "name": "scala",
   "pygments_lexer": "scala",
   "version": "0.4.1"
  }
 },
 "nbformat": 4,
 "nbformat_minor": 5
}
